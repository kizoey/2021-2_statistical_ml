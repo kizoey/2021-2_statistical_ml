{
 "cells": [
  {
   "cell_type": "code",
   "execution_count": 23,
   "metadata": {},
   "outputs": [],
   "source": [
    "import pandas as pd\n",
    "import numpy as np\n",
    "import warnings\n",
    "warnings.filterwarnings('ignore')"
   ]
  },
  {
   "cell_type": "markdown",
   "metadata": {},
   "source": [
    "#### bike rentals 데이터셋 활용"
   ]
  },
  {
   "cell_type": "code",
   "execution_count": 22,
   "metadata": {},
   "outputs": [],
   "source": [
    "# Download bike_rentals_cleaned dataset\n",
    "df_bikes = pd.read_csv('bike_rentals_cleaned.csv')\n",
    "\n",
    "X_bikes = df_bikes.iloc[:,:-1]\n",
    "y_bikes = df_bikes.iloc[:,-1]"
   ]
  },
  {
   "cell_type": "markdown",
   "metadata": {},
   "source": [
    "### DecisionTree Regressor"
   ]
  },
  {
   "cell_type": "code",
   "execution_count": 2,
   "metadata": {},
   "outputs": [],
   "source": [
    "from sklearn.tree import DecisionTreeRegressor\n",
    "from sklearn.model_selection import GridSearchCV, cross_val_score, RandomizedSearchCV\n",
    "from sklearn.model_selection import KFold, StratifiedKFold"
   ]
  },
  {
   "cell_type": "code",
   "execution_count": 3,
   "metadata": {},
   "outputs": [
    {
     "name": "stdout",
     "output_type": "stream",
     "text": [
      "RMSE mean: 1229.31\n"
     ]
    }
   ],
   "source": [
    "tree_reg = DecisionTreeRegressor(random_state=2)\n",
    "\n",
    "scores = cross_val_score(tree_reg, X_bikes, y_bikes, scoring='neg_mean_squared_error', cv=5)\n",
    "rmse = np.sqrt(-scores)\n",
    "print('RMSE mean: %0.2f' % (rmse.mean()))"
   ]
  },
  {
   "cell_type": "code",
   "execution_count": 7,
   "metadata": {},
   "outputs": [],
   "source": [
    "# GridSearchCV (cv=5)\n",
    "def grid_search(model, params):\n",
    "    grid_reg = GridSearchCV(model, params, scoring='neg_mean_squared_error', cv=5, n_jobs=-1)\n",
    "    grid_reg.fit(X_bikes, y_bikes)\n",
    "\n",
    "    best_params = grid_reg.best_params_\n",
    "    best_score=grid_reg.best_score_\n",
    "    rmse=np.sqrt(-best_score)\n",
    "    print(\"Best params:\", best_params) \n",
    "    print('bestscore',rmse.round(2))"
   ]
  },
  {
   "cell_type": "code",
   "execution_count": 8,
   "metadata": {},
   "outputs": [
    {
     "name": "stdout",
     "output_type": "stream",
     "text": [
      "Best params: {'min_weight_fraction_leaf': 0.0025}\n",
      "bestscore 1253.19\n"
     ]
    }
   ],
   "source": [
    "# Hyperparameter의 범위를 좁힘\n",
    "model=DecisionTreeRegressor(random_state=1)\n",
    "parms={'min_weight_fraction_leaf':[0.0, 0.0025, 0.005, 0.0075, 0.01]}  # 노드 생성시의 최소 가중치\n",
    "grid_search(model=model,params=parms)"
   ]
  },
  {
   "cell_type": "code",
   "execution_count": 12,
   "metadata": {},
   "outputs": [
    {
     "name": "stdout",
     "output_type": "stream",
     "text": [
      "Best params: {'min_samples_split': 5}\n",
      "bestscore 1234.18\n"
     ]
    }
   ],
   "source": [
    "model=DecisionTreeRegressor(random_state=1)\n",
    "parms={'min_samples_split':[2, 3, 4, 5, 6, 8, 10]}  # 노드 생성시 필요한 최소한 샘플 데이터 수\n",
    "grid_search(model=model,params=parms)"
   ]
  },
  {
   "cell_type": "code",
   "execution_count": 13,
   "metadata": {},
   "outputs": [
    {
     "name": "stdout",
     "output_type": "stream",
     "text": [
      "Best params: {'max_depth': None}\n",
      "bestscore 1258.77\n"
     ]
    }
   ],
   "source": [
    "model=DecisionTreeRegressor(random_state=1)\n",
    "parms={'max_depth':[None, 2,4,6,8,10,20,40]}  # 트리의 최대 높이\n",
    "grid_search(model=model,params=parms)"
   ]
  },
  {
   "cell_type": "code",
   "execution_count": 14,
   "metadata": {},
   "outputs": [
    {
     "name": "stdout",
     "output_type": "stream",
     "text": [
      "DecisionTreeRegressor(max_depth=25, min_samples_split=6,\n",
      "                      min_weight_fraction_leaf=0.0025, random_state=1)\n",
      "Training score 921.57\n",
      "Test score: 789.089\n"
     ]
    }
   ],
   "source": [
    "from sklearn.model_selection import train_test_split\n",
    "\n",
    "X_train,X_test,y_train,y_test=train_test_split(X_bikes,y_bikes)\n",
    "\n",
    "# Randomized CV\n",
    "parm_all={'max_depth':[15,20,25],\n",
    "          'min_samples_split':[4,5,6],\n",
    "          'min_weight_fraction_leaf':[0.0015, 0.0025,0.003]}\n",
    "rand_dtc = RandomizedSearchCV(DecisionTreeRegressor(random_state=1), \n",
    "                              param_distributions=parm_all, \n",
    "                              n_iter=10,  # 10개의 조합을 생성한 뒤 최고점 가져오기\n",
    "                              scoring='neg_mean_squared_error', \n",
    "                              cv=5, n_jobs=-1, random_state=2)\n",
    "rand_dtc.fit(X_train,y_train)\n",
    "print(rand_dtc.best_estimator_)\n",
    "print('Training score',np.sqrt(-rand_dtc.best_score_).round(2))\n",
    "\n",
    "\n",
    "best_model = rand_dtc.best_estimator_\n",
    "y_pred = best_model.predict(X_test)\n",
    "\n",
    "from sklearn.metrics import mean_squared_error\n",
    "rmse_test = mean_squared_error(y_test, y_pred)**0.5\n",
    "print('Test score: {:.3f}'.format(rmse_test))"
   ]
  },
  {
   "cell_type": "code",
   "execution_count": 15,
   "metadata": {},
   "outputs": [
    {
     "name": "stdout",
     "output_type": "stream",
     "text": [
      "RMSE: 870.462, +/-68.600\n"
     ]
    }
   ],
   "source": [
    "from sklearn.model_selection import KFold, StratifiedKFold\n",
    "\n",
    "# inner CV와 outer CV 정의\n",
    "inner_cv=KFold(n_splits=3,shuffle=True,random_state=0)\n",
    "out_cv=KFold(n_splits=5,shuffle=True,random_state=0)\n",
    "\n",
    "parm_all={'max_depth':[15,20,25],\n",
    "          'min_samples_split':[4,5,6],\n",
    "          'min_weight_fraction_leaf':[0.0015, 0.0025,0.003]}\n",
    "rand_dtc = RandomizedSearchCV(DecisionTreeRegressor(random_state=1), \n",
    "                              param_distributions=parm_all, \n",
    "                              n_iter=10, \n",
    "                              scoring='neg_mean_squared_error', \n",
    "                              cv=inner_cv, n_jobs=-1, random_state=2)\n",
    "scores=cross_val_score(rand_dtc,X_bikes,y_bikes,scoring='neg_mean_squared_error',cv=out_cv)    \n",
    "\n",
    "rmse=np.sqrt(-scores)\n",
    "print(\"RMSE: %.3f, +/-%.3f\" %(np.mean(rmse),np.std(rmse)))"
   ]
  },
  {
   "cell_type": "markdown",
   "metadata": {},
   "source": [
    "### RandomForest Regressor"
   ]
  },
  {
   "cell_type": "code",
   "execution_count": 16,
   "metadata": {},
   "outputs": [
    {
     "name": "stdout",
     "output_type": "stream",
     "text": [
      "RMSE mean: 1006.17\n"
     ]
    }
   ],
   "source": [
    "from sklearn.ensemble import RandomForestRegressor  # bagging의 한 종류\n",
    "rf = RandomForestRegressor(random_state=2, n_jobs=-1)\n",
    "\n",
    "scores = cross_val_score(rf, X_bikes, y_bikes, scoring='neg_mean_squared_error', cv=5)\n",
    "\n",
    "# Take square root of the scores\n",
    "rmse = np.sqrt(-scores)\n",
    "\n",
    "# Display mean score\n",
    "print('RMSE mean: %0.2f' % (rmse.mean()))"
   ]
  },
  {
   "cell_type": "code",
   "execution_count": 17,
   "metadata": {},
   "outputs": [
    {
     "name": "stdout",
     "output_type": "stream",
     "text": [
      "Best params: {'n_estimators': 50}\n",
      "bestscore 1002.37\n"
     ]
    }
   ],
   "source": [
    "parms={'n_estimators':[50, 100, 200, 300, 500]}  # bootstrap 샘플 개수 (default=100)\n",
    "grid_search(rf,parms)"
   ]
  },
  {
   "cell_type": "code",
   "execution_count": 18,
   "metadata": {},
   "outputs": [
    {
     "name": "stdout",
     "output_type": "stream",
     "text": [
      "Best params: {'min_weight_fraction_leaf': 0.0}\n",
      "bestscore 1027.79\n"
     ]
    }
   ],
   "source": [
    "parms={'min_weight_fraction_leaf':[0.0, 0.0025, 0.005, 0.0075, 0.01, 0.05]}\n",
    "grid_search(rf,parms)"
   ]
  },
  {
   "cell_type": "code",
   "execution_count": 19,
   "metadata": {},
   "outputs": [
    {
     "name": "stdout",
     "output_type": "stream",
     "text": [
      "Best params: {'min_samples_split': 2}\n",
      "bestscore 1027.79\n"
     ]
    }
   ],
   "source": [
    "parms={'min_samples_split':[2, 3, 4, 5, 6, 8, 10]}  # 분할시 최소 노드의 수\n",
    "grid_search(rf,parms)"
   ]
  },
  {
   "cell_type": "code",
   "execution_count": 20,
   "metadata": {},
   "outputs": [
    {
     "name": "stdout",
     "output_type": "stream",
     "text": [
      "Best params: {'max_features': 0.4}\n",
      "bestscore 944.03\n"
     ]
    }
   ],
   "source": [
    "parms={'max_features':['auto', 0.8, 0.7, 0.6, 0.5, 0.4]}  # 각 노드 분할시 최대 몇개의 변수 사용 (auto=모두 사용, 0.8=80%만 사용)\n",
    "grid_search(rf,parms)"
   ]
  },
  {
   "cell_type": "code",
   "execution_count": 21,
   "metadata": {},
   "outputs": [
    {
     "name": "stdout",
     "output_type": "stream",
     "text": [
      "Best params: {'max_depth': None}\n",
      "bestscore 1027.79\n"
     ]
    }
   ],
   "source": [
    "parms={'max_depth':[None,2, 4, 6, 8, 10, 20]}\n",
    "grid_search(rf,parms)"
   ]
  },
  {
   "cell_type": "code",
   "execution_count": 24,
   "metadata": {},
   "outputs": [],
   "source": [
    "def randomized_search_reg(model,params, cv=10,runs=10):\n",
    "    rand_reg = RandomizedSearchCV(model, params, n_iter=runs, scoring='neg_mean_squared_error', \n",
    "                                  cv=10, n_jobs=-1, random_state=2)\n",
    "    \n",
    "    rand_reg.fit(X_train, y_train)\n",
    "\n",
    "    best_model = rand_reg.best_estimator_\n",
    "    best_params = rand_reg.best_params_\n",
    "\n",
    "    print(\"Best params:\", best_params)\n",
    "    \n",
    "    best_score = np.sqrt(-rand_reg.best_score_)\n",
    "    print(\"Training score: {:.3f}\".format(best_score))\n",
    "    return best_model"
   ]
  },
  {
   "cell_type": "code",
   "execution_count": 27,
   "metadata": {},
   "outputs": [
    {
     "name": "stdout",
     "output_type": "stream",
     "text": [
      "Best params: {'n_estimators': 300, 'min_samples_split': 4, 'max_features': 0.5, 'max_depth': None}\n",
      "Training score: 655.719\n",
      "Test score: 723.939\n"
     ]
    }
   ],
   "source": [
    "rf=RandomForestRegressor(random_state=2, n_jobs=-1)\n",
    "cv=KFold(n_splits=3,shuffle=True,random_state=0)\n",
    "\n",
    "params={'n_estimators':[50,100,200,300],\n",
    "        'max_features':['auto',0.4,0.5,0.6],\n",
    "        'min_samples_split':[4,5,6,7],\n",
    "        'max_depth':[None,2,4,6]}\n",
    "best_model=randomized_search_reg(rf,params,cv=cv,runs=20)\n",
    "\n",
    "y_pred = best_model.predict(X_test)\n",
    "\n",
    "from sklearn.metrics import mean_squared_error\n",
    "rmse_test = mean_squared_error(y_test, y_pred)**0.5\n",
    "print('Test score: {:.3f}'.format(rmse_test))"
   ]
  },
  {
   "cell_type": "code",
   "execution_count": 28,
   "metadata": {},
   "outputs": [
    {
     "name": "stdout",
     "output_type": "stream",
     "text": [
      "RMSE: 642.191, +/-80.626\n"
     ]
    }
   ],
   "source": [
    "from sklearn.model_selection import KFold, StratifiedKFold\n",
    "\n",
    "inner_cv=KFold(n_splits=3,shuffle=True,random_state=0)\n",
    "out_cv=KFold(n_splits=5,shuffle=True,random_state=0)\n",
    "\n",
    "parm_all={'n_estimators':[50,100,200],\n",
    "          'max_features':['auto',0.4,0.5,0.6],\n",
    "          'min_samples_split':[4,5,6,7],\n",
    "          'max_depth':[None,2,4,6]}\n",
    "rand_rf = RandomizedSearchCV(RandomForestRegressor(random_state=2, n_jobs=-1), \n",
    "                             param_distributions=parm_all, \n",
    "                             n_iter=20, \n",
    "                             scoring='neg_mean_squared_error', \n",
    "                             cv=inner_cv, n_jobs=-1, random_state=2)\n",
    "scores=cross_val_score(rand_rf,X_bikes,y_bikes,scoring='neg_mean_squared_error',cv=out_cv)    \n",
    "\n",
    "rmse=np.sqrt(-scores)\n",
    "print(\"RMSE: %.3f, +/-%.3f\" %(np.mean(rmse),np.std(rmse)))"
   ]
  },
  {
   "cell_type": "markdown",
   "metadata": {},
   "source": [
    "### GradientBoosting Regressor"
   ]
  },
  {
   "cell_type": "code",
   "execution_count": 23,
   "metadata": {},
   "outputs": [
    {
     "name": "stdout",
     "output_type": "stream",
     "text": [
      "RMSE mean: 940.25\n"
     ]
    }
   ],
   "source": [
    "from sklearn.ensemble import GradientBoostingRegressor\n",
    "gb_r =  GradientBoostingRegressor(random_state=2)\n",
    "\n",
    "scores = cross_val_score(gb_r, X_bikes, y_bikes, scoring='neg_mean_squared_error', cv=5)\n",
    "# Take square root of the scores\n",
    "rmse = np.sqrt(-scores)\n",
    "\n",
    "# Display mean score\n",
    "print('RMSE mean: %0.2f' % (rmse.mean()))"
   ]
  },
  {
   "cell_type": "code",
   "execution_count": 24,
   "metadata": {},
   "outputs": [
    {
     "name": "stdout",
     "output_type": "stream",
     "text": [
      "Best params: {'learning_rate': 0.2}\n",
      "bestscore 949.82\n"
     ]
    }
   ],
   "source": [
    "parms={'learning_rate': [0.001, 0.01, 0.05, 0.1, 0.15, 0.2, 0.3, 0.5, 1.0]}  # 학습률\n",
    "grid_search(gb_r,parms)"
   ]
  },
  {
   "cell_type": "code",
   "execution_count": 25,
   "metadata": {},
   "outputs": [
    {
     "name": "stdout",
     "output_type": "stream",
     "text": [
      "Best params: {'n_estimators': 100}\n",
      "bestscore 973.96\n"
     ]
    }
   ],
   "source": [
    "parms={'n_estimators':[100,300, 500, 1000]}\n",
    "grid_search(gb_r,parms)"
   ]
  },
  {
   "cell_type": "code",
   "execution_count": 26,
   "metadata": {},
   "outputs": [
    {
     "name": "stdout",
     "output_type": "stream",
     "text": [
      "Best params: {'subsample': 0.7}\n",
      "bestscore 915.24\n"
     ]
    }
   ],
   "source": [
    "parms={'subsample':[1, 0.9, 0.8, 0.7, 0.6, 0.5]}  # 과대적합을 막기 위해서 사용함\n",
    "grid_search(gb_r,parms)"
   ]
  },
  {
   "cell_type": "code",
   "execution_count": 27,
   "metadata": {},
   "outputs": [
    {
     "name": "stdout",
     "output_type": "stream",
     "text": [
      "Best params: {'max_depth': 2}\n",
      "bestscore 919.25\n"
     ]
    }
   ],
   "source": [
    "parms={'max_depth':[None, 1, 2, 3, 4]}\n",
    "grid_search(gb_r,parms)"
   ]
  },
  {
   "cell_type": "code",
   "execution_count": 28,
   "metadata": {},
   "outputs": [
    {
     "name": "stdout",
     "output_type": "stream",
     "text": [
      "Best params: {'subsample': 0.7, 'n_estimators': 200, 'max_depth': 2, 'learning_rate': 0.1}\n",
      "Training score: 644.829\n",
      "Test score: 597.990\n"
     ]
    }
   ],
   "source": [
    "gb_r=GradientBoostingRegressor(random_state=2)\n",
    "cv=KFold(n_splits=3,shuffle=True,random_state=0)\n",
    "\n",
    "params={'n_estimators':[50,100,200],\n",
    "        'subsample':[0.65,0.7,0.75],\n",
    "        'learning_rate':[0.1,0,2,0.25],\n",
    "        'max_depth':[1,2,3]}\n",
    "best_model=randomized_search_reg(gb_r,params,cv=cv,runs=20)\n",
    "y_pred = best_model.predict(X_test)\n",
    "\n",
    "from sklearn.metrics import mean_squared_error\n",
    "rmse_test = mean_squared_error(y_test, y_pred)**0.5\n",
    "print('Test score: {:.3f}'.format(rmse_test))"
   ]
  },
  {
   "cell_type": "code",
   "execution_count": 29,
   "metadata": {},
   "outputs": [
    {
     "name": "stdout",
     "output_type": "stream",
     "text": [
      "RMSE: 621.252, +/-43.696\n"
     ]
    }
   ],
   "source": [
    "from sklearn.model_selection import KFold, StratifiedKFold\n",
    "\n",
    "inner_cv=KFold(n_splits=3,shuffle=True,random_state=0)\n",
    "out_cv=KFold(n_splits=5,shuffle=True,random_state=0)\n",
    "\n",
    "parm_all={'n_estimators':[50,100,200],\n",
    "          'subsample':[0.65,0.7,0.75],\n",
    "          'learning_rate':[0.1,0,2,0.25],\n",
    "          'max_depth':[1,2,3]}\n",
    "rand_rf = RandomizedSearchCV(GradientBoostingRegressor(random_state=2), \n",
    "                             param_distributions=parm_all, \n",
    "                             n_iter=20, \n",
    "                             scoring='neg_mean_squared_error', \n",
    "                             cv=inner_cv, n_jobs=-1, random_state=2)\n",
    "scores=cross_val_score(rand_rf,X_bikes,y_bikes,scoring='neg_mean_squared_error',cv=out_cv)    \n",
    "\n",
    "rmse=np.sqrt(-scores)\n",
    "print(\"RMSE: %.3f, +/-%.3f\" %(np.mean(rmse),np.std(rmse)))"
   ]
  },
  {
   "cell_type": "markdown",
   "metadata": {},
   "source": [
    "#### heart disease 데이터셋 활용"
   ]
  },
  {
   "cell_type": "code",
   "execution_count": 12,
   "metadata": {},
   "outputs": [
    {
     "data": {
      "text/html": [
       "<div>\n",
       "<style scoped>\n",
       "    .dataframe tbody tr th:only-of-type {\n",
       "        vertical-align: middle;\n",
       "    }\n",
       "\n",
       "    .dataframe tbody tr th {\n",
       "        vertical-align: top;\n",
       "    }\n",
       "\n",
       "    .dataframe thead th {\n",
       "        text-align: right;\n",
       "    }\n",
       "</style>\n",
       "<table border=\"1\" class=\"dataframe\">\n",
       "  <thead>\n",
       "    <tr style=\"text-align: right;\">\n",
       "      <th></th>\n",
       "      <th>age</th>\n",
       "      <th>sex</th>\n",
       "      <th>cp</th>\n",
       "      <th>trestbps</th>\n",
       "      <th>chol</th>\n",
       "      <th>fbs</th>\n",
       "      <th>restecg</th>\n",
       "      <th>thalach</th>\n",
       "      <th>exang</th>\n",
       "      <th>oldpeak</th>\n",
       "      <th>slope</th>\n",
       "      <th>ca</th>\n",
       "      <th>thal</th>\n",
       "      <th>target</th>\n",
       "    </tr>\n",
       "  </thead>\n",
       "  <tbody>\n",
       "    <tr>\n",
       "      <th>0</th>\n",
       "      <td>63</td>\n",
       "      <td>1</td>\n",
       "      <td>3</td>\n",
       "      <td>145</td>\n",
       "      <td>233</td>\n",
       "      <td>1</td>\n",
       "      <td>0</td>\n",
       "      <td>150</td>\n",
       "      <td>0</td>\n",
       "      <td>2.3</td>\n",
       "      <td>0</td>\n",
       "      <td>0</td>\n",
       "      <td>1</td>\n",
       "      <td>1</td>\n",
       "    </tr>\n",
       "    <tr>\n",
       "      <th>1</th>\n",
       "      <td>37</td>\n",
       "      <td>1</td>\n",
       "      <td>2</td>\n",
       "      <td>130</td>\n",
       "      <td>250</td>\n",
       "      <td>0</td>\n",
       "      <td>1</td>\n",
       "      <td>187</td>\n",
       "      <td>0</td>\n",
       "      <td>3.5</td>\n",
       "      <td>0</td>\n",
       "      <td>0</td>\n",
       "      <td>2</td>\n",
       "      <td>1</td>\n",
       "    </tr>\n",
       "    <tr>\n",
       "      <th>2</th>\n",
       "      <td>41</td>\n",
       "      <td>0</td>\n",
       "      <td>1</td>\n",
       "      <td>130</td>\n",
       "      <td>204</td>\n",
       "      <td>0</td>\n",
       "      <td>0</td>\n",
       "      <td>172</td>\n",
       "      <td>0</td>\n",
       "      <td>1.4</td>\n",
       "      <td>2</td>\n",
       "      <td>0</td>\n",
       "      <td>2</td>\n",
       "      <td>1</td>\n",
       "    </tr>\n",
       "    <tr>\n",
       "      <th>3</th>\n",
       "      <td>56</td>\n",
       "      <td>1</td>\n",
       "      <td>1</td>\n",
       "      <td>120</td>\n",
       "      <td>236</td>\n",
       "      <td>0</td>\n",
       "      <td>1</td>\n",
       "      <td>178</td>\n",
       "      <td>0</td>\n",
       "      <td>0.8</td>\n",
       "      <td>2</td>\n",
       "      <td>0</td>\n",
       "      <td>2</td>\n",
       "      <td>1</td>\n",
       "    </tr>\n",
       "    <tr>\n",
       "      <th>4</th>\n",
       "      <td>57</td>\n",
       "      <td>0</td>\n",
       "      <td>0</td>\n",
       "      <td>120</td>\n",
       "      <td>354</td>\n",
       "      <td>0</td>\n",
       "      <td>1</td>\n",
       "      <td>163</td>\n",
       "      <td>1</td>\n",
       "      <td>0.6</td>\n",
       "      <td>2</td>\n",
       "      <td>0</td>\n",
       "      <td>2</td>\n",
       "      <td>1</td>\n",
       "    </tr>\n",
       "  </tbody>\n",
       "</table>\n",
       "</div>"
      ],
      "text/plain": [
       "   age  sex  cp  trestbps  chol  fbs  restecg  thalach  exang  oldpeak  slope  \\\n",
       "0   63    1   3       145   233    1        0      150      0      2.3      0   \n",
       "1   37    1   2       130   250    0        1      187      0      3.5      0   \n",
       "2   41    0   1       130   204    0        0      172      0      1.4      2   \n",
       "3   56    1   1       120   236    0        1      178      0      0.8      2   \n",
       "4   57    0   0       120   354    0        1      163      1      0.6      2   \n",
       "\n",
       "   ca  thal  target  \n",
       "0   0     1       1  \n",
       "1   0     2       1  \n",
       "2   0     2       1  \n",
       "3   0     2       1  \n",
       "4   0     2       1  "
      ]
     },
     "execution_count": 12,
     "metadata": {},
     "output_type": "execute_result"
    }
   ],
   "source": [
    "# Upload heart.csv to dataFrame\n",
    "df_heart = pd.read_csv('heart_disease.csv')\n",
    "\n",
    "# Show first five rows\n",
    "df_heart.head()"
   ]
  },
  {
   "cell_type": "code",
   "execution_count": 13,
   "metadata": {},
   "outputs": [
    {
     "name": "stdout",
     "output_type": "stream",
     "text": [
      "<class 'pandas.core.frame.DataFrame'>\n",
      "RangeIndex: 303 entries, 0 to 302\n",
      "Data columns (total 14 columns):\n",
      " #   Column    Non-Null Count  Dtype  \n",
      "---  ------    --------------  -----  \n",
      " 0   age       303 non-null    int64  \n",
      " 1   sex       303 non-null    int64  \n",
      " 2   cp        303 non-null    int64  \n",
      " 3   trestbps  303 non-null    int64  \n",
      " 4   chol      303 non-null    int64  \n",
      " 5   fbs       303 non-null    int64  \n",
      " 6   restecg   303 non-null    int64  \n",
      " 7   thalach   303 non-null    int64  \n",
      " 8   exang     303 non-null    int64  \n",
      " 9   oldpeak   303 non-null    float64\n",
      " 10  slope     303 non-null    int64  \n",
      " 11  ca        303 non-null    int64  \n",
      " 12  thal      303 non-null    int64  \n",
      " 13  target    303 non-null    int64  \n",
      "dtypes: float64(1), int64(13)\n",
      "memory usage: 33.3 KB\n"
     ]
    }
   ],
   "source": [
    "df_heart.info()"
   ]
  },
  {
   "cell_type": "code",
   "execution_count": 32,
   "metadata": {},
   "outputs": [],
   "source": [
    "# split data into X and y\n",
    "X = df_heart.iloc[:,:-1]\n",
    "y = df_heart.iloc[:,-1]"
   ]
  },
  {
   "cell_type": "markdown",
   "metadata": {},
   "source": [
    "### DecisionTree/RandomForest/GradientBoosting Classifier"
   ]
  },
  {
   "cell_type": "code",
   "execution_count": 33,
   "metadata": {},
   "outputs": [],
   "source": [
    "from sklearn.tree import DecisionTreeClassifier\n",
    "from sklearn.ensemble import RandomForestClassifier,GradientBoostingClassifier\n",
    "from sklearn.model_selection import GridSearchCV, cross_val_score, RandomizedSearchCV\n",
    "from sklearn.model_selection import KFold, StratifiedKFold"
   ]
  },
  {
   "cell_type": "code",
   "execution_count": 34,
   "metadata": {},
   "outputs": [
    {
     "name": "stdout",
     "output_type": "stream",
     "text": [
      "Accuracy: [0.7  0.76 0.72]\n",
      "Accuracy mean: 0.73\n"
     ]
    }
   ],
   "source": [
    "# Initialize Decision Tree Classifier\n",
    "model = DecisionTreeClassifier(random_state=2)\n",
    "cv=StratifiedKFold(n_splits=3,shuffle=True,random_state=0)\n",
    "\n",
    "scores = cross_val_score(model, X, y, cv=cv)\n",
    "\n",
    "print('Accuracy:', np.round(scores, 2))\n",
    "print('Accuracy mean: %0.2f' % (scores.mean()))"
   ]
  },
  {
   "cell_type": "code",
   "execution_count": 35,
   "metadata": {},
   "outputs": [
    {
     "name": "stdout",
     "output_type": "stream",
     "text": [
      "Accuracy: [0.77 0.88 0.81]\n",
      "Accuracy mean: 0.82\n"
     ]
    }
   ],
   "source": [
    "# Initialize Random Forest Classifier\n",
    "model = RandomForestClassifier(random_state=2)\n",
    "cv=StratifiedKFold(n_splits=3,shuffle=True,random_state=0)\n",
    "\n",
    "scores = cross_val_score(model, X, y, cv=cv)\n",
    "\n",
    "print('Accuracy:', np.round(scores, 2))\n",
    "print('Accuracy mean: %0.2f' % (scores.mean()))"
   ]
  },
  {
   "cell_type": "code",
   "execution_count": 36,
   "metadata": {},
   "outputs": [
    {
     "name": "stdout",
     "output_type": "stream",
     "text": [
      "Accuracy: [0.78 0.82 0.77]\n",
      "Accuracy mean: 0.79\n"
     ]
    }
   ],
   "source": [
    "# Initialize Gradient Boosting Classifier\n",
    "model = GradientBoostingClassifier(random_state=2)\n",
    "cv=StratifiedKFold(n_splits=3,shuffle=True,random_state=0)\n",
    "\n",
    "scores = cross_val_score(model, X, y, cv=cv)\n",
    "\n",
    "print('Accuracy:', np.round(scores, 2))\n",
    "print('Accuracy mean: %0.2f' % (scores.mean()))"
   ]
  }
 ],
 "metadata": {
  "kernelspec": {
   "display_name": "Python 3 (ipykernel)",
   "language": "python",
   "name": "python3"
  },
  "language_info": {
   "codemirror_mode": {
    "name": "ipython",
    "version": 3
   },
   "file_extension": ".py",
   "mimetype": "text/x-python",
   "name": "python",
   "nbconvert_exporter": "python",
   "pygments_lexer": "ipython3",
   "version": "3.8.2"
  }
 },
 "nbformat": 4,
 "nbformat_minor": 2
}
