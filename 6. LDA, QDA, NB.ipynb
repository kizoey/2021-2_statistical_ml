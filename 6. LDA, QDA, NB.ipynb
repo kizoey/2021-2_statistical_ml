{
 "cells": [
  {
   "cell_type": "code",
   "execution_count": 23,
   "metadata": {},
   "outputs": [],
   "source": [
    "import numpy as np\n",
    "import matplotlib.pyplot as plt\n",
    "import seaborn as sns\n",
    "\n",
    "from sklearn.preprocessing import LabelEncoder\n",
    "from sklearn.model_selection import train_test_split \n",
    "from sklearn.preprocessing import StandardScaler \n",
    "from sklearn.metrics import accuracy_score\n",
    "from sklearn.metrics import confusion_matrix"
   ]
  },
  {
   "cell_type": "code",
   "execution_count": 6,
   "metadata": {},
   "outputs": [],
   "source": [
    "# Iris data 불러오기\n",
    "iris=sns.load_dataset('iris') # iris라는 변수명으로 Iris data를 download\n",
    "X=iris.drop('species',axis=1) # 'species'열을 drop하고 특성변수 X를 정의\n",
    "y=iris['species'] # 'species'열을 label y를 정의\n",
    "\n",
    "# Label encoding (0/1으로 변환)\n",
    "classle=LabelEncoder() \n",
    "y=classle.fit_transform(iris['species'].values) # species 열의 문자형을 범주형 값으로 전환\n",
    "\n",
    "# train/test로 분리\n",
    "X_train,X_test,y_train,y_test=train_test_split(X,y, test_size=0.3, random_state=123, stratify=y)\n",
    "\n",
    "# Scaling\n",
    "sc=StandardScaler()\n",
    "sc.fit(X_train)\n",
    "X_train_std=sc.transform(X_train)\n",
    "X_test_std=sc.transform(X_test)"
   ]
  },
  {
   "cell_type": "code",
   "execution_count": 7,
   "metadata": {},
   "outputs": [
    {
     "data": {
      "text/html": [
       "<div>\n",
       "<style scoped>\n",
       "    .dataframe tbody tr th:only-of-type {\n",
       "        vertical-align: middle;\n",
       "    }\n",
       "\n",
       "    .dataframe tbody tr th {\n",
       "        vertical-align: top;\n",
       "    }\n",
       "\n",
       "    .dataframe thead th {\n",
       "        text-align: right;\n",
       "    }\n",
       "</style>\n",
       "<table border=\"1\" class=\"dataframe\">\n",
       "  <thead>\n",
       "    <tr style=\"text-align: right;\">\n",
       "      <th></th>\n",
       "      <th>sepal_length</th>\n",
       "      <th>sepal_width</th>\n",
       "      <th>petal_length</th>\n",
       "      <th>petal_width</th>\n",
       "    </tr>\n",
       "  </thead>\n",
       "  <tbody>\n",
       "    <tr>\n",
       "      <th>0</th>\n",
       "      <td>5.1</td>\n",
       "      <td>3.5</td>\n",
       "      <td>1.4</td>\n",
       "      <td>0.2</td>\n",
       "    </tr>\n",
       "    <tr>\n",
       "      <th>1</th>\n",
       "      <td>4.9</td>\n",
       "      <td>3.0</td>\n",
       "      <td>1.4</td>\n",
       "      <td>0.2</td>\n",
       "    </tr>\n",
       "    <tr>\n",
       "      <th>2</th>\n",
       "      <td>4.7</td>\n",
       "      <td>3.2</td>\n",
       "      <td>1.3</td>\n",
       "      <td>0.2</td>\n",
       "    </tr>\n",
       "    <tr>\n",
       "      <th>3</th>\n",
       "      <td>4.6</td>\n",
       "      <td>3.1</td>\n",
       "      <td>1.5</td>\n",
       "      <td>0.2</td>\n",
       "    </tr>\n",
       "    <tr>\n",
       "      <th>4</th>\n",
       "      <td>5.0</td>\n",
       "      <td>3.6</td>\n",
       "      <td>1.4</td>\n",
       "      <td>0.2</td>\n",
       "    </tr>\n",
       "  </tbody>\n",
       "</table>\n",
       "</div>"
      ],
      "text/plain": [
       "   sepal_length  sepal_width  petal_length  petal_width\n",
       "0           5.1          3.5           1.4          0.2\n",
       "1           4.9          3.0           1.4          0.2\n",
       "2           4.7          3.2           1.3          0.2\n",
       "3           4.6          3.1           1.5          0.2\n",
       "4           5.0          3.6           1.4          0.2"
      ]
     },
     "execution_count": 7,
     "metadata": {},
     "output_type": "execute_result"
    }
   ],
   "source": [
    "X.head()"
   ]
  },
  {
   "cell_type": "markdown",
   "metadata": {},
   "source": [
    "### LDA (linear discriminant analysis)"
   ]
  },
  {
   "cell_type": "code",
   "execution_count": 10,
   "metadata": {},
   "outputs": [
    {
     "name": "stdout",
     "output_type": "stream",
     "text": [
      "0.9714285714285714\n",
      "0.9777777777777777\n"
     ]
    }
   ],
   "source": [
    "# Iris data에 대한 LDA 적합\n",
    "from sklearn.discriminant_analysis import LinearDiscriminantAnalysis\n",
    "\n",
    "cld=LinearDiscriminantAnalysis(store_covariance=True) # 아래 속성이 잘 작동하기 위해서 store_covariance=True로 설정\n",
    "cld.fit(X_train, y_train)  # LDA 적합\n",
    "y_train_pred=cld.predict(X_train)\n",
    "y_test_pred=cld.predict(X_test)\n",
    "\n",
    "print(accuracy_score(y_train, y_train_pred)) # train data에 대한 accuracy\n",
    "print(accuracy_score(y_test, y_test_pred)) # test data에 대한 accuracy"
   ]
  },
  {
   "cell_type": "code",
   "execution_count": 12,
   "metadata": {
    "scrolled": true
   },
   "outputs": [
    {
     "name": "stdout",
     "output_type": "stream",
     "text": [
      "[[15  0  0]\n",
      " [ 0 14  1]\n",
      " [ 0  0 15]]\n"
     ]
    }
   ],
   "source": [
    "# 분류 결과\n",
    "print(confusion_matrix(y_test, y_test_pred))  # 각 행은 setosa, versicolor, virginica"
   ]
  },
  {
   "cell_type": "markdown",
   "metadata": {},
   "source": [
    "LDA의 각 판별식을 구하기 위한 특성변수의 각 클래스별\n",
    "- 평균추정치 (means_)\n",
    "- 전체 평균추정치 (xbar_)\n",
    "- 분산추정치 (covariance_)\n",
    "- 클래스별 판별식의 bias (intercept_)\n",
    "- 계수추정치 (coef_)\n",
    "<br>를 계산할 수 있다."
   ]
  },
  {
   "cell_type": "code",
   "execution_count": 13,
   "metadata": {},
   "outputs": [
    {
     "name": "stdout",
     "output_type": "stream",
     "text": [
      "[[5.04285714 3.43428571 1.48857143 0.26571429]\n",
      " [5.89714286 2.76       4.22857143 1.3       ]\n",
      " [6.51714286 2.92857143 5.49142857 2.00285714]]\n",
      "[5.81904762 3.04095238 3.73619048 1.18952381]\n",
      "[[0.24214422 0.09216599 0.13204898 0.03123537]\n",
      " [0.09216599 0.11137415 0.05049796 0.03388844]\n",
      " [0.13204898 0.05049796 0.15023129 0.03387755]\n",
      " [0.03123537 0.03388844 0.03387755 0.04198639]]\n",
      "[ -7.59067635  -5.09049202 -43.13606185]\n",
      "[[  3.76019999  15.13062424 -17.99406267 -21.86481204]\n",
      " [ -0.91185753  -4.90401617   4.9041086    3.23562397]\n",
      " [ -2.84834246 -10.22660807  13.08995407  18.62918807]]\n"
     ]
    }
   ],
   "source": [
    "# cld: classification linear discriminant\n",
    "print(cld.means_)  # means: 속성 (1번째 class의 mean)\n",
    "print(cld.xbar_)  # 전체에 대한 mean\n",
    "print(cld.covariance_)  # covariance\n",
    "print(cld.intercept_)  # intercept\n",
    "print(cld.coef_)  # coefficient"
   ]
  },
  {
   "cell_type": "code",
   "execution_count": 15,
   "metadata": {},
   "outputs": [
    {
     "name": "stdout",
     "output_type": "stream",
     "text": [
      "[[1.37493315e-32 5.86839618e-01 4.13160382e-01]\n",
      " [4.87880054e-42 4.08368248e-04 9.99591632e-01]\n",
      " [1.49908347e-19 9.99998532e-01 1.46841688e-06]\n",
      " [2.45317549e-24 9.97417042e-01 2.58295753e-03]\n",
      " [1.76506456e-50 1.80298359e-07 9.99999820e-01]]\n"
     ]
    }
   ],
   "source": [
    "# 확률 추정\n",
    "print(cld.predict_proba(X_test[:5])) "
   ]
  },
  {
   "cell_type": "markdown",
   "metadata": {},
   "source": [
    "### QDA (quadratic discriminant analysis)"
   ]
  },
  {
   "cell_type": "code",
   "execution_count": 16,
   "metadata": {},
   "outputs": [
    {
     "name": "stdout",
     "output_type": "stream",
     "text": [
      "0.9809523809523809\n",
      "0.9777777777777777\n"
     ]
    }
   ],
   "source": [
    "from sklearn.discriminant_analysis import QuadraticDiscriminantAnalysis\n",
    "\n",
    "cqd=QuadraticDiscriminantAnalysis(store_covariance=True)\n",
    "cqd.fit(X_train, y_train) # QDA 적합\n",
    "y_train_pred=cqd.predict(X_train)\n",
    "y_test_pred=cqd.predict(X_test)\n",
    "\n",
    "print(accuracy_score(y_train, y_train_pred)) # train data에 대한 accuracy\n",
    "print(accuracy_score(y_test, y_test_pred)) # test data에 대한 accuracy"
   ]
  },
  {
   "cell_type": "code",
   "execution_count": 17,
   "metadata": {},
   "outputs": [
    {
     "name": "stdout",
     "output_type": "stream",
     "text": [
      "[[5.04285714 3.43428571 1.48857143 0.26571429]\n",
      " [5.89714286 2.76       4.22857143 1.3       ]\n",
      " [6.51714286 2.92857143 5.49142857 2.00285714]]\n",
      "[array([[0.13605042, 0.11084034, 0.0105042 , 0.01239496],\n",
      "       [0.11084034, 0.14467227, 0.01716807, 0.01444538],\n",
      "       [0.0105042 , 0.01716807, 0.03280672, 0.0072437 ],\n",
      "       [0.01239496, 0.01444538, 0.0072437 , 0.01290756]]), array([[0.22793277, 0.07635294, 0.13596639, 0.03647059],\n",
      "       [0.07635294, 0.09364706, 0.07852941, 0.04058824],\n",
      "       [0.13596639, 0.07852941, 0.18268908, 0.06      ],\n",
      "       [0.03647059, 0.04058824, 0.06      , 0.03647059]]), array([[0.38381513, 0.09743697, 0.26132773, 0.04759664],\n",
      "       [0.09743697, 0.10563025, 0.0602521 , 0.04962185],\n",
      "       [0.26132773, 0.0602521 , 0.24845378, 0.03737815],\n",
      "       [0.04759664, 0.04962185, 0.03737815, 0.08028571]])]\n"
     ]
    }
   ],
   "source": [
    "print(cqd.means_)\n",
    "print(cqd.covariance_)"
   ]
  },
  {
   "cell_type": "code",
   "execution_count": 18,
   "metadata": {},
   "outputs": [
    {
     "name": "stdout",
     "output_type": "stream",
     "text": [
      "[[15  0  0]\n",
      " [ 0 14  1]\n",
      " [ 0  0 15]]\n"
     ]
    }
   ],
   "source": [
    "# 분류 결과\n",
    "# versicolor 1개가 virgnica로 잘못 분류되는 것을 알 수 있다.\n",
    "print(confusion_matrix(y_test, y_test_pred))"
   ]
  },
  {
   "cell_type": "markdown",
   "metadata": {},
   "source": [
    "### NB (Naive Bayes, 나이브 베이즈)"
   ]
  },
  {
   "cell_type": "code",
   "execution_count": 20,
   "metadata": {},
   "outputs": [
    {
     "name": "stdout",
     "output_type": "stream",
     "text": [
      "[[0 0 0 1 2 0 1 2 1 4 4 2 0 0 3 0 4 4 0 3]\n",
      " [1 3 4 4 2 1 0 0 3 3 4 0 0 3 1 0 2 1 4 3]\n",
      " [0 1 0 2 1 1 1 2 1 3 4 0 1 2 1 3 3 2 1 3]\n",
      " [3 4 2 4 4 4 1 2 1 3 2 1 2 2 2 4 0 0 0 1]\n",
      " [2 1 4 2 4 3 1 4 4 1 0 2 3 2 3 4 2 1 1 0]\n",
      " [0 2 4 1 1 2 1 0 0 1 0 1 2 4 3 2 1 2 4 4]]\n"
     ]
    }
   ],
   "source": [
    "# 다항베이즈모형 적용을 위한 인위적인 자료 생성\n",
    "X=np.random.randint(5, size=(6,20))  # 1~5로 이뤄진 6 by 20 행렬\n",
    "y=np.array([1,2,3,4,5,6])\n",
    "print(X)"
   ]
  },
  {
   "cell_type": "code",
   "execution_count": 21,
   "metadata": {},
   "outputs": [
    {
     "name": "stdout",
     "output_type": "stream",
     "text": [
      "[2]\n"
     ]
    }
   ],
   "source": [
    "from sklearn.naive_bayes import MultinomialNB  # 다항베이즈모형\n",
    "\n",
    "mnb=MultinomialNB()\n",
    "mnb.fit(X, y)\n",
    "print(mnb.predict(X[1:2,]))"
   ]
  },
  {
   "cell_type": "code",
   "execution_count": 22,
   "metadata": {},
   "outputs": [
    {
     "name": "stdout",
     "output_type": "stream",
     "text": [
      "(1797, 8, 8)\n"
     ]
    }
   ],
   "source": [
    "# Digits 데이터 (1797명이 쓴 0~9를 식별)\n",
    "from sklearn.datasets import load_digits\n",
    "digits=load_digits()\n",
    "print(digits.images.shape) # 8 by 8 pixel로 이루어짐"
   ]
  },
  {
   "cell_type": "code",
   "execution_count": 24,
   "metadata": {},
   "outputs": [
    {
     "data": {
      "image/png": "[encoded data removed]",
      "text/plain": [
       "<Figure size 1296x576 with 100 Axes>"
      ]
     },
     "metadata": {},
     "output_type": "display_data"
    }
   ],
   "source": [
    "fig, axes=plt.subplots(10, 10, figsize=(18, 8), subplot_kw={'xticks':[], 'yticks':[]}, gridspec_kw=dict(hspace=0.1, wspace=0.1))\n",
    "for i, ax in enumerate(axes.flat):\n",
    "    ax.imshow(digits.images[i], cmap='binary', interpolation='nearest')\n",
    "    ax.text(0.05, 0.05, str(digits.target[i]), transform=ax.transAxes, color='green')"
   ]
  },
  {
   "cell_type": "code",
   "execution_count": 25,
   "metadata": {},
   "outputs": [
    {
     "name": "stdout",
     "output_type": "stream",
     "text": [
      "(1797, 64)\n",
      "(1797,)\n"
     ]
    }
   ],
   "source": [
    "X=digits.data\n",
    "y=digits.target\n",
    "print(X.shape)\n",
    "print(y.shape)"
   ]
  },
  {
   "cell_type": "code",
   "execution_count": 26,
   "metadata": {},
   "outputs": [
    {
     "name": "stdout",
     "output_type": "stream",
     "text": [
      "0.8333333333333334\n"
     ]
    }
   ],
   "source": [
    "# 손글씨 데이터에 대한 정규단순베이즈모형 적합\n",
    "X_train, X_test, y_train, y_test=train_test_split(X,y, test_size=0.25,random_state=0)\n",
    "\n",
    "from sklearn.naive_bayes import GaussianNB\n",
    "\n",
    "gnb=GaussianNB()\n",
    "gnb.fit(X_train, y_train)\n",
    "y_test_pred=gnb.predict(X_test)\n",
    "\n",
    "print(accuracy_score(y_test, y_test_pred))"
   ]
  },
  {
   "cell_type": "code",
   "execution_count": 27,
   "metadata": {},
   "outputs": [
    {
     "name": "stdout",
     "output_type": "stream",
     "text": [
      "[[37  0  0  0  0  0  0  0  0  0]\n",
      " [ 0 39  0  0  0  0  0  0  4  0]\n",
      " [ 0  7 20  2  0  0  0  0 15  0]\n",
      " [ 0  0  0 39  0  0  0  1  5  0]\n",
      " [ 0  1  0  0 31  0  0  6  0  0]\n",
      " [ 0  1  0  1  0 43  0  3  0  0]\n",
      " [ 0  0  1  0  0  0 51  0  0  0]\n",
      " [ 0  0  0  0  1  0  0 47  0  0]\n",
      " [ 0  6  0  1  0  1  0  2 38  0]\n",
      " [ 0  2  0  4  1  0  0  3  7 30]]\n"
     ]
    }
   ],
   "source": [
    "# 분류 결과\n",
    "# 대각행렬: 정확하게 분류된 결과를 보여주고, 나머지 행렬: 오분류 결과를 보여준다.\n",
    "mat=confusion_matrix(y_test, y_test_pred)\n",
    "print(mat)"
   ]
  },
  {
   "cell_type": "code",
   "execution_count": 28,
   "metadata": {},
   "outputs": [
    {
     "data": {
      "text/plain": [
       "Text(91.68, 0.5, 'True values')"
      ]
     },
     "execution_count": 28,
     "metadata": {},
     "output_type": "execute_result"
    },
    {
     "data": {
      "image/png": "[encoded data removed]",
      "text/plain": [
       "<Figure size 432x288 with 1 Axes>"
      ]
     },
     "metadata": {
      "needs_background": "light"
     },
     "output_type": "display_data"
    }
   ],
   "source": [
    "# 행렬 heatmap으로 표현\n",
    "sns.heatmap(mat, square=True, annot=True, cbar=False)\n",
    "plt.xlabel('predicted')\n",
    "plt.ylabel('True values')"
   ]
  },
  {
   "cell_type": "markdown",
   "metadata": {},
   "source": [
    "단순베이즈모형은 매우 단순한 분류방법이기에 보다 정교한 모형인 SVD나 RF와 같은 모델을 사용하여 분류 정밀도를 높일 수 있다."
   ]
  }
 ],
 "metadata": {
  "kernelspec": {
   "display_name": "Python 3 (ipykernel)",
   "language": "python",
   "name": "python3"
  },
  "language_info": {
   "codemirror_mode": {
    "name": "ipython",
    "version": 3
   },
   "file_extension": ".py",
   "mimetype": "text/x-python",
   "name": "python",
   "nbconvert_exporter": "python",
   "pygments_lexer": "ipython3",
   "version": "3.8.10"
  }
 },
 "nbformat": 4,
 "nbformat_minor": 2
}
