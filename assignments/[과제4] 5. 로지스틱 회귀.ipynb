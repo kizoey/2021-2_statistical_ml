{
 "cells": [
  {
   "cell_type": "markdown",
   "id": "8ace263a",
   "metadata": {},
   "source": [
    "## [통계적머신러닝] 과제4\n",
    "통계학과 2019150419 기다연<br>\n",
    "2021.10.12"
   ]
  },
  {
   "cell_type": "code",
   "execution_count": 58,
   "id": "3b29e92f",
   "metadata": {},
   "outputs": [],
   "source": [
    "import seaborn as sns\n",
    "import numpy as np\n",
    "from sklearn.preprocessing import LabelEncoder\n",
    "from sklearn.preprocessing import StandardScaler\n",
    "from sklearn.model_selection import train_test_split\n",
    "from sklearn.metrics import accuracy_score\n",
    "from sklearn.metrics import confusion_matrix"
   ]
  },
  {
   "cell_type": "markdown",
   "id": "af91cf82",
   "metadata": {},
   "source": [
    "### 문제1.\n",
    "iris 데이터에 logistic regression을 적용하되, multi_class = 'ovr'과 'multinomial'을 적용한 후, 추정된 sigmoid 함수와 softmax 함수를 제시하고 해석하라. (intercept와 coefficient 제시 후 해석)"
   ]
  },
  {
   "cell_type": "code",
   "execution_count": 59,
   "id": "3a9fa9b6",
   "metadata": {},
   "outputs": [],
   "source": [
    "# 데이터 불러오기\n",
    "iris = sns.load_dataset('iris')\n",
    "X = iris.drop('species', axis=1)\n",
    "y = iris['species']"
   ]
  },
  {
   "cell_type": "code",
   "execution_count": 60,
   "id": "14a38c72",
   "metadata": {},
   "outputs": [
    {
     "data": {
      "text/html": [
       "<div>\n",
       "<style scoped>\n",
       "    .dataframe tbody tr th:only-of-type {\n",
       "        vertical-align: middle;\n",
       "    }\n",
       "\n",
       "    .dataframe tbody tr th {\n",
       "        vertical-align: top;\n",
       "    }\n",
       "\n",
       "    .dataframe thead th {\n",
       "        text-align: right;\n",
       "    }\n",
       "</style>\n",
       "<table border=\"1\" class=\"dataframe\">\n",
       "  <thead>\n",
       "    <tr style=\"text-align: right;\">\n",
       "      <th></th>\n",
       "      <th>sepal_length</th>\n",
       "      <th>sepal_width</th>\n",
       "      <th>petal_length</th>\n",
       "      <th>petal_width</th>\n",
       "      <th>species</th>\n",
       "    </tr>\n",
       "  </thead>\n",
       "  <tbody>\n",
       "    <tr>\n",
       "      <th>0</th>\n",
       "      <td>5.1</td>\n",
       "      <td>3.5</td>\n",
       "      <td>1.4</td>\n",
       "      <td>0.2</td>\n",
       "      <td>setosa</td>\n",
       "    </tr>\n",
       "    <tr>\n",
       "      <th>1</th>\n",
       "      <td>4.9</td>\n",
       "      <td>3.0</td>\n",
       "      <td>1.4</td>\n",
       "      <td>0.2</td>\n",
       "      <td>setosa</td>\n",
       "    </tr>\n",
       "    <tr>\n",
       "      <th>2</th>\n",
       "      <td>4.7</td>\n",
       "      <td>3.2</td>\n",
       "      <td>1.3</td>\n",
       "      <td>0.2</td>\n",
       "      <td>setosa</td>\n",
       "    </tr>\n",
       "    <tr>\n",
       "      <th>3</th>\n",
       "      <td>4.6</td>\n",
       "      <td>3.1</td>\n",
       "      <td>1.5</td>\n",
       "      <td>0.2</td>\n",
       "      <td>setosa</td>\n",
       "    </tr>\n",
       "    <tr>\n",
       "      <th>4</th>\n",
       "      <td>5.0</td>\n",
       "      <td>3.6</td>\n",
       "      <td>1.4</td>\n",
       "      <td>0.2</td>\n",
       "      <td>setosa</td>\n",
       "    </tr>\n",
       "  </tbody>\n",
       "</table>\n",
       "</div>"
      ],
      "text/plain": [
       "   sepal_length  sepal_width  petal_length  petal_width species\n",
       "0           5.1          3.5           1.4          0.2  setosa\n",
       "1           4.9          3.0           1.4          0.2  setosa\n",
       "2           4.7          3.2           1.3          0.2  setosa\n",
       "3           4.6          3.1           1.5          0.2  setosa\n",
       "4           5.0          3.6           1.4          0.2  setosa"
      ]
     },
     "execution_count": 60,
     "metadata": {},
     "output_type": "execute_result"
    }
   ],
   "source": [
    "iris.head(5)"
   ]
  },
  {
   "cell_type": "code",
   "execution_count": 61,
   "id": "b49a5868",
   "metadata": {},
   "outputs": [
    {
     "name": "stdout",
     "output_type": "stream",
     "text": [
      "[0 1 2]\n"
     ]
    }
   ],
   "source": [
    "# y data를 범주형으로 변환\n",
    "classle = LabelEncoder()\n",
    "y = classle.fit_transform(iris['species'].values) # species 열의 문자열을 categorical 값으로 전환\n",
    "print(np.unique(y))"
   ]
  },
  {
   "cell_type": "code",
   "execution_count": 62,
   "id": "8dc2b66e",
   "metadata": {},
   "outputs": [],
   "source": [
    "# 전체 data를 training set과 test set으로 split\n",
    "X_train, X_test, y_train, y_test = train_test_split(X, y, test_size=0.3, random_state=1, stratify=y)"
   ]
  },
  {
   "cell_type": "code",
   "execution_count": 63,
   "id": "081bba77",
   "metadata": {},
   "outputs": [
    {
     "name": "stdout",
     "output_type": "stream",
     "text": [
      "(105, 4) (45, 4) (105,) (45,)\n"
     ]
    }
   ],
   "source": [
    "print(X_train.shape, X_test.shape, y_train.shape, y_test.shape)"
   ]
  },
  {
   "cell_type": "code",
   "execution_count": 64,
   "id": "e1270852",
   "metadata": {},
   "outputs": [],
   "source": [
    "# 표준화\n",
    "sc = StandardScaler()\n",
    "sc.fit(X_train)\n",
    "X_train_std = sc.transform(X_train)\n",
    "X_test_std = sc.transform(X_test)"
   ]
  },
  {
   "cell_type": "markdown",
   "id": "5ee6db45",
   "metadata": {},
   "source": [
    "### One-Versus-Rest (OVR)\n",
    "- OVR(=OVA, 일대다 전략) : One-Versus-Rest, One-Versus-All\n",
    "- 한 분류에 대한 다른 분류의 이진 분류를 클래스 개수만큼 반복하는 기법\n",
    "- 이진 분류 = sigmoid 함수 사용"
   ]
  },
  {
   "cell_type": "code",
   "execution_count": 65,
   "id": "8a372521",
   "metadata": {},
   "outputs": [],
   "source": [
    "from sklearn.linear_model import LogisticRegression\n",
    "\n",
    "Logit = LogisticRegression(C=1e2, random_state=1, multi_class='ovr')\n",
    "ovr_model = Logit.fit(X_train_std, y_train)\n",
    "y_train_pred = Logit.predict(X_train_std)\n",
    "y_test_pred = Logit.predict(X_test_std)"
   ]
  },
  {
   "cell_type": "code",
   "execution_count": 66,
   "id": "34920159",
   "metadata": {},
   "outputs": [
    {
     "name": "stdout",
     "output_type": "stream",
     "text": [
      "[[-2.27467146  2.04221619 -4.01937844 -3.46372044]\n",
      " [-1.2777746  -0.93618002  3.53177076 -2.24098008]\n",
      " [-0.31117851 -2.10556199  9.51791722  8.48747802]]\n"
     ]
    }
   ],
   "source": [
    "print(ovr_model.coef_)"
   ]
  },
  {
   "cell_type": "code",
   "execution_count": 67,
   "id": "8d12a813",
   "metadata": {},
   "outputs": [
    {
     "name": "stdout",
     "output_type": "stream",
     "text": [
      "[ -5.43052179  -1.03374577 -12.21594409]\n"
     ]
    }
   ],
   "source": [
    "print(ovr_model.intercept_)"
   ]
  },
  {
   "cell_type": "code",
   "execution_count": 68,
   "id": "44b33ba1",
   "metadata": {},
   "outputs": [
    {
     "data": {
      "text/html": [
       "<div>\n",
       "<style scoped>\n",
       "    .dataframe tbody tr th:only-of-type {\n",
       "        vertical-align: middle;\n",
       "    }\n",
       "\n",
       "    .dataframe tbody tr th {\n",
       "        vertical-align: top;\n",
       "    }\n",
       "\n",
       "    .dataframe thead th {\n",
       "        text-align: right;\n",
       "    }\n",
       "</style>\n",
       "<table border=\"1\" class=\"dataframe\">\n",
       "  <thead>\n",
       "    <tr style=\"text-align: right;\">\n",
       "      <th></th>\n",
       "      <th>sepal_length</th>\n",
       "      <th>sepal_width</th>\n",
       "      <th>petal_length</th>\n",
       "      <th>petal_width</th>\n",
       "    </tr>\n",
       "  </thead>\n",
       "  <tbody>\n",
       "    <tr>\n",
       "      <th>148</th>\n",
       "      <td>6.2</td>\n",
       "      <td>3.4</td>\n",
       "      <td>5.4</td>\n",
       "      <td>2.3</td>\n",
       "    </tr>\n",
       "    <tr>\n",
       "      <th>5</th>\n",
       "      <td>5.4</td>\n",
       "      <td>3.9</td>\n",
       "      <td>1.7</td>\n",
       "      <td>0.4</td>\n",
       "    </tr>\n",
       "    <tr>\n",
       "      <th>6</th>\n",
       "      <td>4.6</td>\n",
       "      <td>3.4</td>\n",
       "      <td>1.4</td>\n",
       "      <td>0.3</td>\n",
       "    </tr>\n",
       "    <tr>\n",
       "      <th>106</th>\n",
       "      <td>4.9</td>\n",
       "      <td>2.5</td>\n",
       "      <td>4.5</td>\n",
       "      <td>1.7</td>\n",
       "    </tr>\n",
       "    <tr>\n",
       "      <th>75</th>\n",
       "      <td>6.6</td>\n",
       "      <td>3.0</td>\n",
       "      <td>4.4</td>\n",
       "      <td>1.4</td>\n",
       "    </tr>\n",
       "  </tbody>\n",
       "</table>\n",
       "</div>"
      ],
      "text/plain": [
       "     sepal_length  sepal_width  petal_length  petal_width\n",
       "148           6.2          3.4           5.4          2.3\n",
       "5             5.4          3.9           1.7          0.4\n",
       "6             4.6          3.4           1.4          0.3\n",
       "106           4.9          2.5           4.5          1.7\n",
       "75            6.6          3.0           4.4          1.4"
      ]
     },
     "execution_count": 68,
     "metadata": {},
     "output_type": "execute_result"
    }
   ],
   "source": [
    "X_test.head()"
   ]
  },
  {
   "cell_type": "code",
   "execution_count": 69,
   "id": "153c57b8",
   "metadata": {},
   "outputs": [],
   "source": [
    "# sigmoid 함수 생성 위해 변수 numpy array로 변환\n",
    "x11 = np.array(X_test['sepal_length'].tolist())\n",
    "x22 = np.array(X_test['sepal_width'].tolist())\n",
    "x33 = np.array(X_test['petal_length'].tolist())\n",
    "x44 = np.array(X_test['petal_width'].tolist())"
   ]
  },
  {
   "cell_type": "code",
   "execution_count": 70,
   "id": "d9d9b484",
   "metadata": {},
   "outputs": [],
   "source": [
    "# 회귀 방정식 생성 (intercept, coefficient 사용)\n",
    "def reg(x1, x2, x3, x4):\n",
    "    y1 = -5.43052179 -2.27467146*x1 + 2.04221619*x2 -4.01937844*x3 -3.46372044 *x4\n",
    "    y2 = -1.03374577 -1.2777746*x1 -0.93618002*x2 +3.53177076*x3 -2.24098008*x4\n",
    "    y3 = -12.21594409 -0.31117851*x1 -2.10556199*x2 +9.517917222*x3 +8.48747802*x4\n",
    "    return(y1, y2, y3)"
   ]
  },
  {
   "cell_type": "code",
   "execution_count": 71,
   "id": "7a87136a",
   "metadata": {},
   "outputs": [
    {
     "data": {
      "text/plain": [
       "(array([-42.26115038, -17.96753606, -15.61672141, -35.4463992 ,\n",
       "        -36.85117861, -34.1681627 , -45.11237184, -38.32339286,\n",
       "        -42.35820999, -16.35978468, -16.82495371, -39.10902027,\n",
       "        -15.83652317, -28.40276238, -15.6787926 , -39.32230751,\n",
       "        -43.26027173, -35.32481704, -35.85215605, -41.91744648,\n",
       "        -46.44218631, -16.19579809, -36.87442413, -39.07287187,\n",
       "        -34.03892427, -37.45466993, -27.79403356, -45.50126535,\n",
       "        -18.16536019, -40.31494172, -16.52915934, -16.20346347,\n",
       "        -34.12690913, -33.82446791, -47.66997746, -44.15203349,\n",
       "        -15.19793552, -17.80098011, -16.76963728, -38.55841749,\n",
       "        -45.46767718, -39.45796167, -38.18240243, -16.58215579,\n",
       "        -16.62098146]),\n",
       " array([ 1.77834756, -6.47721243, -5.82233596,  2.44801092,  0.12682104,\n",
       "        -0.23566595,  4.51522062,  1.51595397,  2.72133361, -7.88992073,\n",
       "        -8.03498897,  1.63520169, -4.87459302, -0.12780993, -5.41100195,\n",
       "         1.47121043,  0.10522812,  1.53367471,  0.3469149 ,  1.73542706,\n",
       "         3.21690383, -5.25522285, -0.09457442,  2.01312898,  1.2031935 ,\n",
       "         0.84063463, -1.76061209,  1.84441348, -6.39300367,  2.5193826 ,\n",
       "        -5.14743872, -6.33074325,  1.12611355,  0.99908882,  5.13996924,\n",
       "         2.1875279 , -5.94470833, -5.02852163, -5.60709832,  0.48800643,\n",
       "         2.13067257,  2.59711076,  0.92409065, -5.75617071, -5.12344124]),\n",
       " array([49.61379083, -2.53254932, -4.93494849, 38.25471637, 33.17489678,\n",
       "        29.09568374, 50.91663524, 36.7843573 , 46.67866559, -6.33971621,\n",
       "        -5.58226731, 41.48443585, -4.66867959, 21.10253729, -5.36258389,\n",
       "        37.34094036, 47.1722593 , 35.28661481, 31.64714916, 45.91283522,\n",
       "        53.23741797, -5.852455  , 32.93322273, 43.75863311, 31.36541264,\n",
       "        37.18945251, 18.82311802, 54.22162854, -0.82014924, 45.31097558,\n",
       "        -3.94234854, -6.14984174, 27.84389538, 30.33517184, 54.64666195,\n",
       "        49.52360463, -7.14691004, -3.16235945, -5.03482504, 35.48468814,\n",
       "        52.67245343, 43.450255  , 36.37945827, -4.95637597, -5.14233732]))"
      ]
     },
     "execution_count": 71,
     "metadata": {},
     "output_type": "execute_result"
    }
   ],
   "source": [
    "logit = reg(x11, x22, x33, x44)\n",
    "logit"
   ]
  },
  {
   "cell_type": "code",
   "execution_count": 72,
   "id": "e1756ee0",
   "metadata": {},
   "outputs": [
    {
     "data": {
      "text/plain": [
       "array([[2.38647195e-19, 4.61059590e-01, 5.38940410e-01],\n",
       "       [2.09366689e-07, 2.04373352e-02, 9.79562455e-01],\n",
       "       [1.63600270e-05, 2.92514728e-01, 7.07468912e-01],\n",
       "       [2.10101491e-16, 4.79279455e-01, 5.20720545e-01],\n",
       "       [6.46507104e-17, 3.47114799e-01, 6.52885201e-01],\n",
       "       [1.00504294e-15, 3.06208244e-01, 6.93791756e-01],\n",
       "       [1.28609296e-20, 4.97279585e-01, 5.02720415e-01],\n",
       "       [1.24825818e-17, 4.50531913e-01, 5.49468087e-01],\n",
       "       [2.07323249e-19, 4.84077022e-01, 5.15922978e-01],\n",
       "       [3.67627306e-05, 1.75250941e-01, 8.24712296e-01],\n",
       "       [1.21064808e-05, 7.94896281e-02, 9.20498265e-01],\n",
       "       [5.63750945e-18, 4.55598913e-01, 5.44401087e-01],\n",
       "       [7.85178834e-06, 4.49127650e-01, 5.50864498e-01],\n",
       "       [3.14835768e-13, 3.18843289e-01, 6.81156711e-01],\n",
       "       [1.70239927e-05, 4.87944663e-01, 5.12038313e-01],\n",
       "       [4.61405988e-18, 4.48501421e-01, 5.51498579e-01],\n",
       "       [1.06823719e-19, 3.44813420e-01, 6.55186580e-01],\n",
       "       [2.50005188e-16, 4.51316201e-01, 5.48683799e-01],\n",
       "       [1.69566120e-16, 3.69430993e-01, 6.30569007e-01],\n",
       "       [3.37510938e-19, 4.59490221e-01, 5.40509779e-01],\n",
       "       [3.45011912e-21, 4.90177106e-01, 5.09822894e-01],\n",
       "       [1.14825700e-05, 6.44479926e-01, 3.55508592e-01],\n",
       "       [6.55306812e-17, 3.22664856e-01, 6.77335144e-01],\n",
       "       [5.70438479e-18, 4.68697986e-01, 5.31302014e-01],\n",
       "       [9.31821008e-16, 4.34738402e-01, 5.65261598e-01],\n",
       "       [3.18825240e-17, 4.11279484e-01, 5.88720516e-01],\n",
       "       [7.40882938e-13, 1.27942746e-01, 8.72057254e-01],\n",
       "       [9.30527396e-21, 4.63366686e-01, 5.36633314e-01],\n",
       "       [4.19930111e-08, 5.43401004e-03, 9.94565948e-01],\n",
       "       [1.61028266e-18, 4.80651541e-01, 5.19348459e-01],\n",
       "       [2.67165237e-06, 2.32959618e-01, 7.67037711e-01],\n",
       "       [2.35012807e-05, 4.54974253e-01, 5.45002246e-01],\n",
       "       [8.60131049e-16, 4.30238699e-01, 5.69761301e-01],\n",
       "       [1.18019405e-15, 4.22258996e-01, 5.77741004e-01],\n",
       "       [9.94095924e-22, 4.98539809e-01, 5.01460191e-01],\n",
       "       [3.51934777e-20, 4.73441414e-01, 5.26558586e-01],\n",
       "       [7.38199680e-05, 7.68534299e-01, 2.31391881e-01],\n",
       "       [3.94450408e-07, 1.38091186e-01, 8.61908420e-01],\n",
       "       [5.14878043e-06, 3.61361421e-01, 6.38633430e-01],\n",
       "       [1.10885420e-17, 3.82577583e-01, 6.17422417e-01],\n",
       "       [9.46876593e-21, 4.71974755e-01, 5.28025245e-01],\n",
       "       [3.78369144e-18, 4.82046543e-01, 5.17953457e-01],\n",
       "       [1.52443075e-17, 4.17206921e-01, 5.82793079e-01],\n",
       "       [6.19893084e-06, 3.10892903e-01, 6.89100898e-01],\n",
       "       [5.15570717e-06, 5.04693575e-01, 4.95301269e-01]])"
      ]
     },
     "execution_count": 72,
     "metadata": {},
     "output_type": "execute_result"
    }
   ],
   "source": [
    "# 클래스에 속할 확률 반환. (시그모이드 함수를 적용해 계산한 확률)\n",
    "ovr_model.predict_proba(X_test) # 각각 0, 1, 2일 확률임."
   ]
  },
  {
   "cell_type": "code",
   "execution_count": 75,
   "id": "1297abf5",
   "metadata": {},
   "outputs": [
    {
     "data": {
      "text/plain": [
       "array([2, 0, 0, 1, 1, 1, 2, 1, 2, 0, 0, 2, 0, 1, 0, 1, 2, 1, 1, 2, 2, 0,\n",
       "       1, 2, 1, 1, 1, 2, 0, 2, 0, 0, 1, 1, 2, 2, 0, 0, 0, 1, 2, 2, 1, 0,\n",
       "       0])"
      ]
     },
     "execution_count": 75,
     "metadata": {},
     "output_type": "execute_result"
    }
   ],
   "source": [
    "# 분류 예측 (ovr)\n",
    "ovr_pred = Logit.predict(X_test_std) # target으로는 똑같이 argmax 값을 반환함.\n",
    "ovr_pred"
   ]
  },
  {
   "cell_type": "markdown",
   "id": "45724fa8",
   "metadata": {},
   "source": [
    "### Multinomial\n",
    "- 로지스틱은 여러개의 이진분류기를 연결하는 것과 더불어, 직접 다중클래스를 지원한다.\n",
    "- 이를 소프트맥스 회귀/다항 로지스틱 회귀라고 한다.\n",
    "- 다중 분류 = softmax 함수 사용"
   ]
  },
  {
   "cell_type": "markdown",
   "id": "ef361353",
   "metadata": {},
   "source": [
    "#### Process\n",
    "소프트맥스 회귀모델이 각 클래스 k에 대한 점수를 계산하고, 그 점수에 소프트맥스 함수를 적용해 각 클래스의 확률을 추정한 후 가장 높은 확률 선택.\n",
    "\n",
    "1) 점수를 계산하는 식은 선형 회귀 예측식과 비슷한데, 각 클래스마다 자신만의 파라미터 벡터가 있고, 샘플 X에 대해 선형으로 결합되어 있음. (회귀랑 똑같음)\n",
    "2) 이 점수를 소프트맥스 함수에 통과시켜 각 클래스 확률을 추정함.\n",
    "3) 이러한 추정확률이 가장 높은 클래스를 선택함.\n",
    "\n",
    "Softmax 함수 : 각 점수에 exp를 취한 후, 정규화함(모든 지수함수 결과의 합으로 나눔)"
   ]
  },
  {
   "cell_type": "code",
   "execution_count": 76,
   "id": "05d531b7",
   "metadata": {},
   "outputs": [],
   "source": [
    "iris = sns.load_dataset('iris')\n",
    "X = iris.drop('species', axis=1)\n",
    "y = iris['species']\n",
    "\n",
    "classle = LabelEncoder()\n",
    "y = classle.fit_transform(iris['species'].values) # species 열의 문자열을 categorical 값으로 전환\n",
    "\n",
    "X_train, X_test, y_train, y_test = train_test_split(X, y, test_size=0.3, random_state=1, stratify=y)\n",
    "\n",
    "sc = StandardScaler()\n",
    "sc.fit(X_train)\n",
    "X_train_std = sc.transform(X_train)\n",
    "X_test_std = sc.transform(X_test)"
   ]
  },
  {
   "cell_type": "code",
   "execution_count": 77,
   "id": "c06274e3",
   "metadata": {},
   "outputs": [],
   "source": [
    "from sklearn.linear_model import LogisticRegression\n",
    "\n",
    "Logit = LogisticRegression(C=1e2, random_state=1, multi_class='multinomial')\n",
    "multi_model = Logit.fit(X_train_std, y_train)\n",
    "y_train_pred_m = Logit.predict(X_train_std)\n",
    "y_test_pred_m = Logit.predict(X_test_std)"
   ]
  },
  {
   "cell_type": "code",
   "execution_count": 78,
   "id": "508e092f",
   "metadata": {},
   "outputs": [
    {
     "name": "stdout",
     "output_type": "stream",
     "text": [
      "[[-2.48710159  2.4086907  -5.41565289 -4.83270107]\n",
      " [ 1.46232628 -0.12532899 -2.35281482 -2.01137917]\n",
      " [ 1.02477531 -2.28336172  7.76846772  6.84408024]]\n"
     ]
    }
   ],
   "source": [
    "print(multi_model.coef_)"
   ]
  },
  {
   "cell_type": "code",
   "execution_count": 79,
   "id": "affcd44b",
   "metadata": {},
   "outputs": [
    {
     "name": "stdout",
     "output_type": "stream",
     "text": [
      "[ 0.60193841  6.1076602  -6.70959861]\n"
     ]
    }
   ],
   "source": [
    "print(multi_model.intercept_)"
   ]
  },
  {
   "cell_type": "code",
   "execution_count": 80,
   "id": "231f85b7",
   "metadata": {},
   "outputs": [],
   "source": [
    "def score(x1, x2, x3, x4):\n",
    "    y1 = 0.60193841 -2.48710159*x1 +2.4086907*x2 -5.41565289*x3  -4.83270107*x4\n",
    "    y2 = 6.1076602 +1.46232628*x1 -0.12532899*x2 -2.35281482*x3 -2.01137917*x4\n",
    "    y3 = -6.70959861 +1.02477531*x1 -2.28336172*x2 +7.76846772*x3 +6.84408024*x4\n",
    "    return(y1, y2, y3)"
   ]
  },
  {
   "cell_type": "code",
   "execution_count": 81,
   "id": "29de8949",
   "metadata": {},
   "outputs": [
    {
     "data": {
      "text/html": [
       "<div>\n",
       "<style scoped>\n",
       "    .dataframe tbody tr th:only-of-type {\n",
       "        vertical-align: middle;\n",
       "    }\n",
       "\n",
       "    .dataframe tbody tr th {\n",
       "        vertical-align: top;\n",
       "    }\n",
       "\n",
       "    .dataframe thead th {\n",
       "        text-align: right;\n",
       "    }\n",
       "</style>\n",
       "<table border=\"1\" class=\"dataframe\">\n",
       "  <thead>\n",
       "    <tr style=\"text-align: right;\">\n",
       "      <th></th>\n",
       "      <th>sepal_length</th>\n",
       "      <th>sepal_width</th>\n",
       "      <th>petal_length</th>\n",
       "      <th>petal_width</th>\n",
       "    </tr>\n",
       "  </thead>\n",
       "  <tbody>\n",
       "    <tr>\n",
       "      <th>148</th>\n",
       "      <td>6.2</td>\n",
       "      <td>3.4</td>\n",
       "      <td>5.4</td>\n",
       "      <td>2.3</td>\n",
       "    </tr>\n",
       "  </tbody>\n",
       "</table>\n",
       "</div>"
      ],
      "text/plain": [
       "     sepal_length  sepal_width  petal_length  petal_width\n",
       "148           6.2          3.4           5.4          2.3"
      ]
     },
     "execution_count": 81,
     "metadata": {},
     "output_type": "execute_result"
    }
   ],
   "source": [
    "X_test.head(1)"
   ]
  },
  {
   "cell_type": "code",
   "execution_count": 82,
   "id": "9ae89909",
   "metadata": {},
   "outputs": [
    {
     "data": {
      "text/plain": [
       "(-46.988281134999994, -2.5834075489999995, 49.571688704)"
      ]
     },
     "execution_count": 82,
     "metadata": {},
     "output_type": "execute_result"
    }
   ],
   "source": [
    "score(6.2, 3.4, 5.4, 2.3)"
   ]
  },
  {
   "cell_type": "code",
   "execution_count": 83,
   "id": "5179df3c",
   "metadata": {},
   "outputs": [
    {
     "data": {
      "text/plain": [
       "array([3.91966354e-21, 7.55162398e-02, 3.37839840e+21])"
      ]
     },
     "execution_count": 83,
     "metadata": {},
     "output_type": "execute_result"
    }
   ],
   "source": [
    "# 이들을 softmax에 통과시킴. \n",
    "np.exp(score(6.2, 3.4, 5.4, 2.3))"
   ]
  },
  {
   "cell_type": "code",
   "execution_count": 84,
   "id": "3ca44d1f",
   "metadata": {},
   "outputs": [
    {
     "data": {
      "text/plain": [
       "array([1.31193503e-25, 2.52757410e-06, 1.13077032e+17])"
      ]
     },
     "execution_count": 84,
     "metadata": {},
     "output_type": "execute_result"
    }
   ],
   "source": [
    "# softmax 식 직접 구현 \n",
    "np.exp(score(6.2, 3.4, 5.4, 2.3))/(1.63303538e-06 + 2.05100249e+01 + 2.98564538e+04)"
   ]
  },
  {
   "cell_type": "code",
   "execution_count": 85,
   "id": "57410e12",
   "metadata": {},
   "outputs": [
    {
     "data": {
      "text/plain": [
       "array([[1.16021353e-42, 2.23526749e-23, 1.00000000e+00],\n",
       "       [7.29204676e-11, 9.45215086e-01, 5.47849140e-02],\n",
       "       [1.69332265e-09, 9.95231155e-01, 4.76884352e-03],\n",
       "       [2.56585934e-34, 3.32949170e-18, 1.00000000e+00],\n",
       "       [8.49582951e-34, 8.07900376e-16, 1.00000000e+00],\n",
       "       [1.20694137e-30, 5.85780703e-14, 1.00000000e+00],\n",
       "       [5.16712342e-45, 5.82820301e-24, 1.00000000e+00],\n",
       "       [6.75149668e-36, 1.80892527e-17, 1.00000000e+00],\n",
       "       [8.59273074e-42, 5.11908196e-22, 1.00000000e+00],\n",
       "       [2.62391212e-10, 9.98989713e-01, 1.01028637e-03],\n",
       "       [1.54189360e-10, 9.97722816e-01, 2.27718423e-03],\n",
       "       [6.31597022e-38, 1.19175060e-19, 1.00000000e+00],\n",
       "       [1.39118324e-09, 9.93693766e-01, 6.30623291e-03],\n",
       "       [4.22884513e-24, 2.48605291e-10, 1.00000000e+00],\n",
       "       [1.35494720e-09, 9.96965925e-01, 3.03407317e-03],\n",
       "       [8.43927638e-37, 9.99244579e-18, 1.00000000e+00],\n",
       "       [1.26859590e-42, 3.31029213e-22, 1.00000000e+00],\n",
       "       [2.36973232e-33, 7.81956157e-17, 1.00000000e+00],\n",
       "       [1.28874070e-32, 3.97905440e-15, 1.00000000e+00],\n",
       "       [2.87339270e-41, 1.15967205e-21, 1.00000000e+00],\n",
       "       [1.06687117e-46, 5.20991995e-25, 1.00000000e+00],\n",
       "       [4.91877539e-10, 9.98232217e-01, 1.76778216e-03],\n",
       "       [9.56004993e-34, 1.04732767e-15, 1.00000000e+00],\n",
       "       [1.38438096e-38, 1.05816312e-20, 1.00000000e+00],\n",
       "       [3.12859349e-31, 5.01044698e-15, 1.00000000e+00],\n",
       "       [1.84549371e-35, 1.10574746e-17, 1.00000000e+00],\n",
       "       [5.43974267e-23, 2.89291160e-09, 9.99999997e-01],\n",
       "       [2.32381052e-46, 1.83130103e-25, 1.00000000e+00],\n",
       "       [7.77924054e-11, 7.40928593e-01, 2.59071407e-01],\n",
       "       [6.38025325e-40, 2.10294053e-21, 1.00000000e+00],\n",
       "       [5.47460814e-10, 9.86475969e-01, 1.35240305e-02],\n",
       "       [4.02932627e-10, 9.98721764e-01, 1.27823513e-03],\n",
       "       [3.41125411e-30, 2.18858081e-13, 1.00000000e+00],\n",
       "       [9.50458567e-31, 1.53147046e-14, 1.00000000e+00],\n",
       "       [5.62772873e-48, 1.13927970e-25, 1.00000000e+00],\n",
       "       [5.97014581e-44, 2.61860577e-23, 1.00000000e+00],\n",
       "       [1.51777981e-09, 9.99535847e-01, 4.64151671e-04],\n",
       "       [8.87718858e-11, 9.71082597e-01, 2.89174031e-02],\n",
       "       [2.49341423e-10, 9.95907382e-01, 4.09261823e-03],\n",
       "       [1.02079734e-35, 7.11422168e-17, 1.00000000e+00],\n",
       "       [7.44084149e-46, 9.46712685e-25, 1.00000000e+00],\n",
       "       [9.12682365e-39, 1.44230382e-20, 1.00000000e+00],\n",
       "       [1.05172896e-35, 2.73652692e-17, 1.00000000e+00],\n",
       "       [3.40614281e-10, 9.95455620e-01, 4.54437982e-03],\n",
       "       [3.13695534e-10, 9.96255405e-01, 3.74459457e-03]])"
      ]
     },
     "execution_count": 85,
     "metadata": {},
     "output_type": "execute_result"
    }
   ],
   "source": [
    "multi_model.predict_proba(X_test) \n",
    "# 각 클래스에 softmax를 적용한 확률값 도출. \n",
    "# 정규화의 효과로 row별 각 클래스의 합은 1이 나옴."
   ]
  },
  {
   "cell_type": "code",
   "execution_count": 86,
   "id": "185334b6",
   "metadata": {},
   "outputs": [
    {
     "data": {
      "text/plain": [
       "array([2, 0, 0, 2, 1, 1, 2, 1, 2, 0, 0, 2, 0, 1, 0, 1, 2, 1, 1, 2, 2, 0,\n",
       "       1, 2, 1, 1, 1, 2, 0, 2, 0, 0, 1, 1, 2, 2, 0, 0, 0, 1, 2, 2, 1, 0,\n",
       "       0])"
      ]
     },
     "execution_count": 86,
     "metadata": {},
     "output_type": "execute_result"
    }
   ],
   "source": [
    "# 분류 예측 (multinomial)\n",
    "multi_pred = Logit.predict(X_test_std)\n",
    "multi_pred"
   ]
  },
  {
   "cell_type": "markdown",
   "id": "7b94b54e",
   "metadata": {},
   "source": [
    "### 성능비교\n",
    "- accuracy score\n",
    "- confusion matrix"
   ]
  },
  {
   "cell_type": "code",
   "execution_count": 87,
   "id": "a29536ff",
   "metadata": {},
   "outputs": [
    {
     "name": "stdout",
     "output_type": "stream",
     "text": [
      "[2 0 0 1 1 1 2 1 2 0 0 2 0 1 0 1 2 1 1 2 2 0 1 2 1 1 1 2 0 2 0 0 1 1 2 2 0\n",
      " 0 0 1 2 2 1 0 0]\n",
      "[2 0 0 2 1 1 2 1 2 0 0 2 0 1 0 1 2 1 1 2 2 0 1 2 1 1 1 2 0 2 0 0 1 1 2 2 0\n",
      " 0 0 1 2 2 1 0 0]\n"
     ]
    }
   ],
   "source": [
    "print(ovr_pred)\n",
    "print(multi_pred)"
   ]
  },
  {
   "cell_type": "code",
   "execution_count": 93,
   "id": "299d1576",
   "metadata": {},
   "outputs": [
    {
     "name": "stdout",
     "output_type": "stream",
     "text": [
      "ovr_accuracy:  0.9777777777777777\n",
      "multinomial_accuracy:  1.0\n"
     ]
    }
   ],
   "source": [
    "# Accuracy score (정밀도, 전체 표본에서 정확하게 예측을 맞춘 비율)\n",
    "print('ovr_accuracy: ', str(accuracy_score(y_test, y_test_pred)))\n",
    "print('multinomial_accuracy: ', str(accuracy_score(y_test, y_test_pred_m)))"
   ]
  },
  {
   "cell_type": "code",
   "execution_count": 94,
   "id": "0aa6b514",
   "metadata": {},
   "outputs": [
    {
     "name": "stdout",
     "output_type": "stream",
     "text": [
      "ovr_confusion_matrix: \n",
      " [[15  0  0]\n",
      " [ 0 15  0]\n",
      " [ 0  1 14]]\n",
      "multinomial_confusion_matrix: \n",
      " [[15  0  0]\n",
      " [ 0 15  0]\n",
      " [ 0  0 15]]\n"
     ]
    }
   ],
   "source": [
    "# Confusion matrix\n",
    "print('ovr_confusion_matrix: \\n',str(confusion_matrix(y_test, y_test_pred)))\n",
    "print('multinomial_confusion_matrix: \\n',str(confusion_matrix(y_test, y_test_pred_m)))"
   ]
  }
 ],
 "metadata": {
  "kernelspec": {
   "display_name": "Python 3 (ipykernel)",
   "language": "python",
   "name": "python3"
  },
  "language_info": {
   "codemirror_mode": {
    "name": "ipython",
    "version": 3
   },
   "file_extension": ".py",
   "mimetype": "text/x-python",
   "name": "python",
   "nbconvert_exporter": "python",
   "pygments_lexer": "ipython3",
   "version": "3.8.10"
  }
 },
 "nbformat": 4,
 "nbformat_minor": 5
}
