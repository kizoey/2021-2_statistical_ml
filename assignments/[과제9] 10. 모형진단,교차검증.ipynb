{
 "cells": [
  {
   "cell_type": "markdown",
   "id": "083309aa",
   "metadata": {},
   "source": [
    "## [통계적머신러닝] 과제9\n",
    "통계학과 2019150419 기다연<br>\n",
    "2021.10.26"
   ]
  },
  {
   "cell_type": "markdown",
   "id": "fb0b7e84",
   "metadata": {},
   "source": [
    "### 문제1.\n",
    "Wine data를 이용하여 logistic, SVM, CART 모형을 적합하되 nested cross validation을 적용해 최선의 모형을 산출하라."
   ]
  },
  {
   "cell_type": "code",
   "execution_count": 12,
   "id": "2c3f1f10",
   "metadata": {},
   "outputs": [
    {
     "name": "stdout",
     "output_type": "stream",
     "text": [
      "class label: [1 2 3]\n"
     ]
    },
    {
     "data": {
      "text/html": [
       "<div>\n",
       "<style scoped>\n",
       "    .dataframe tbody tr th:only-of-type {\n",
       "        vertical-align: middle;\n",
       "    }\n",
       "\n",
       "    .dataframe tbody tr th {\n",
       "        vertical-align: top;\n",
       "    }\n",
       "\n",
       "    .dataframe thead th {\n",
       "        text-align: right;\n",
       "    }\n",
       "</style>\n",
       "<table border=\"1\" class=\"dataframe\">\n",
       "  <thead>\n",
       "    <tr style=\"text-align: right;\">\n",
       "      <th></th>\n",
       "      <th>class label</th>\n",
       "      <th>alchohol</th>\n",
       "      <th>malic acid</th>\n",
       "      <th>ash</th>\n",
       "      <th>alcalinity of ash</th>\n",
       "      <th>magnesium</th>\n",
       "      <th>total phenols</th>\n",
       "      <th>flavanoids</th>\n",
       "      <th>nonflavanoid phenols</th>\n",
       "      <th>proanthocyanins</th>\n",
       "      <th>color intensity</th>\n",
       "      <th>hue</th>\n",
       "      <th>OD208</th>\n",
       "      <th>proline</th>\n",
       "    </tr>\n",
       "  </thead>\n",
       "  <tbody>\n",
       "    <tr>\n",
       "      <th>0</th>\n",
       "      <td>1</td>\n",
       "      <td>14.23</td>\n",
       "      <td>1.71</td>\n",
       "      <td>2.43</td>\n",
       "      <td>15.6</td>\n",
       "      <td>127</td>\n",
       "      <td>2.80</td>\n",
       "      <td>3.06</td>\n",
       "      <td>0.28</td>\n",
       "      <td>2.29</td>\n",
       "      <td>5.64</td>\n",
       "      <td>1.04</td>\n",
       "      <td>3.92</td>\n",
       "      <td>1065</td>\n",
       "    </tr>\n",
       "    <tr>\n",
       "      <th>1</th>\n",
       "      <td>1</td>\n",
       "      <td>13.20</td>\n",
       "      <td>1.78</td>\n",
       "      <td>2.14</td>\n",
       "      <td>11.2</td>\n",
       "      <td>100</td>\n",
       "      <td>2.65</td>\n",
       "      <td>2.76</td>\n",
       "      <td>0.26</td>\n",
       "      <td>1.28</td>\n",
       "      <td>4.38</td>\n",
       "      <td>1.05</td>\n",
       "      <td>3.40</td>\n",
       "      <td>1050</td>\n",
       "    </tr>\n",
       "    <tr>\n",
       "      <th>2</th>\n",
       "      <td>1</td>\n",
       "      <td>13.16</td>\n",
       "      <td>2.36</td>\n",
       "      <td>2.67</td>\n",
       "      <td>18.6</td>\n",
       "      <td>101</td>\n",
       "      <td>2.80</td>\n",
       "      <td>3.24</td>\n",
       "      <td>0.30</td>\n",
       "      <td>2.81</td>\n",
       "      <td>5.68</td>\n",
       "      <td>1.03</td>\n",
       "      <td>3.17</td>\n",
       "      <td>1185</td>\n",
       "    </tr>\n",
       "    <tr>\n",
       "      <th>3</th>\n",
       "      <td>1</td>\n",
       "      <td>14.37</td>\n",
       "      <td>1.95</td>\n",
       "      <td>2.50</td>\n",
       "      <td>16.8</td>\n",
       "      <td>113</td>\n",
       "      <td>3.85</td>\n",
       "      <td>3.49</td>\n",
       "      <td>0.24</td>\n",
       "      <td>2.18</td>\n",
       "      <td>7.80</td>\n",
       "      <td>0.86</td>\n",
       "      <td>3.45</td>\n",
       "      <td>1480</td>\n",
       "    </tr>\n",
       "    <tr>\n",
       "      <th>4</th>\n",
       "      <td>1</td>\n",
       "      <td>13.24</td>\n",
       "      <td>2.59</td>\n",
       "      <td>2.87</td>\n",
       "      <td>21.0</td>\n",
       "      <td>118</td>\n",
       "      <td>2.80</td>\n",
       "      <td>2.69</td>\n",
       "      <td>0.39</td>\n",
       "      <td>1.82</td>\n",
       "      <td>4.32</td>\n",
       "      <td>1.04</td>\n",
       "      <td>2.93</td>\n",
       "      <td>735</td>\n",
       "    </tr>\n",
       "  </tbody>\n",
       "</table>\n",
       "</div>"
      ],
      "text/plain": [
       "   class label  alchohol  malic acid   ash  alcalinity of ash  magnesium  \\\n",
       "0            1     14.23        1.71  2.43               15.6        127   \n",
       "1            1     13.20        1.78  2.14               11.2        100   \n",
       "2            1     13.16        2.36  2.67               18.6        101   \n",
       "3            1     14.37        1.95  2.50               16.8        113   \n",
       "4            1     13.24        2.59  2.87               21.0        118   \n",
       "\n",
       "   total phenols  flavanoids  nonflavanoid phenols  proanthocyanins  \\\n",
       "0           2.80        3.06                  0.28             2.29   \n",
       "1           2.65        2.76                  0.26             1.28   \n",
       "2           2.80        3.24                  0.30             2.81   \n",
       "3           3.85        3.49                  0.24             2.18   \n",
       "4           2.80        2.69                  0.39             1.82   \n",
       "\n",
       "   color intensity   hue  OD208  proline  \n",
       "0             5.64  1.04   3.92     1065  \n",
       "1             4.38  1.05   3.40     1050  \n",
       "2             5.68  1.03   3.17     1185  \n",
       "3             7.80  0.86   3.45     1480  \n",
       "4             4.32  1.04   2.93      735  "
      ]
     },
     "execution_count": 12,
     "metadata": {},
     "output_type": "execute_result"
    }
   ],
   "source": [
    "# wine data 불러오기 (12개의 특성변수 존재)\n",
    "import pandas as pd\n",
    "import numpy as np\n",
    "\n",
    "dat_wine=pd.read_csv('http://archive.ics.uci.edu/ml/machine-learning-databases/'\n",
    "                     'wine/wine.data',header=None)\n",
    "dat_wine.head()\n",
    "dat_wine.columns = ['class label', 'alchohol', 'malic acid', 'ash', \n",
    "                    'alcalinity of ash', 'magnesium', 'total phenols', \n",
    "                    'flavanoids', 'nonflavanoid phenols', \n",
    "                    'proanthocyanins', 'color intensity', 'hue', \n",
    "                    'OD208', 'proline']  # Column names\n",
    "print('class label:', np.unique(dat_wine['class label']))  # Class 출력\n",
    "dat_wine.head()"
   ]
  },
  {
   "cell_type": "code",
   "execution_count": 13,
   "id": "1048a0e6",
   "metadata": {},
   "outputs": [],
   "source": [
    "from sklearn.model_selection import train_test_split\n",
    "X,y=dat_wine.iloc[:,1:].values, dat_wine.iloc[:,0].values\n",
    "\n",
    "# 단위에 따라 예민하는 PCA이므로, 변수들을 잘 측정하고 PCA의 accuracy를 높이기 위해서는 Scaling 작업을 해준다.\n",
    "# Scaling을 해줌으로써 단위를 맞추게 되고, PCA의 성능이 높아진다.\n",
    "from sklearn.preprocessing import StandardScaler\n",
    "std=StandardScaler()\n",
    "X_std=std.fit_transform(X)"
   ]
  },
  {
   "cell_type": "code",
   "execution_count": 14,
   "id": "6a787529",
   "metadata": {},
   "outputs": [
    {
     "data": {
      "text/plain": [
       "(178, 13)"
      ]
     },
     "execution_count": 14,
     "metadata": {},
     "output_type": "execute_result"
    }
   ],
   "source": [
    "X.shape"
   ]
  },
  {
   "cell_type": "code",
   "execution_count": 15,
   "id": "676e97cf",
   "metadata": {},
   "outputs": [
    {
     "data": {
      "text/plain": [
       "(178,)"
      ]
     },
     "execution_count": 15,
     "metadata": {},
     "output_type": "execute_result"
    }
   ],
   "source": [
    "y.shape"
   ]
  },
  {
   "cell_type": "code",
   "execution_count": 16,
   "id": "38c1ff11",
   "metadata": {},
   "outputs": [
    {
     "data": {
      "text/plain": [
       "(178, 13)"
      ]
     },
     "execution_count": 16,
     "metadata": {},
     "output_type": "execute_result"
    }
   ],
   "source": [
    "X_std.shape # 정규화 시킨 X"
   ]
  },
  {
   "cell_type": "code",
   "execution_count": 17,
   "id": "1112cca5",
   "metadata": {},
   "outputs": [
    {
     "name": "stdout",
     "output_type": "stream",
     "text": [
      "(142, 13) (36, 13)\n"
     ]
    }
   ],
   "source": [
    "# train-test dataset 분할\n",
    "X_train, X_test, y_train, y_test = train_test_split(X_std, y, test_size=0.2)\n",
    "print(X_train.shape, X_test.shape)"
   ]
  },
  {
   "cell_type": "code",
   "execution_count": 18,
   "id": "069165a8",
   "metadata": {},
   "outputs": [],
   "source": [
    "# library import\n",
    "from sklearn.pipeline import make_pipeline\n",
    "import scipy as sp\n",
    "import numpy as np\n",
    "import warnings\n",
    "warnings.filterwarnings(action='ignore')\n",
    "\n",
    "# About cross validation\n",
    "from sklearn.model_selection import GridSearchCV\n",
    "from sklearn.model_selection import cross_val_score\n",
    "from sklearn.model_selection import KFold, StratifiedKFold\n",
    "\n",
    "# Models\n",
    "from sklearn.linear_model import LogisticRegression\n",
    "from sklearn.svm import SVC\n",
    "from sklearn.tree import DecisionTreeClassifier"
   ]
  },
  {
   "cell_type": "markdown",
   "id": "a6a106e1",
   "metadata": {},
   "source": [
    "### 0. Baseline"
   ]
  },
  {
   "cell_type": "code",
   "execution_count": 19,
   "id": "d74b0641",
   "metadata": {},
   "outputs": [
    {
     "name": "stdout",
     "output_type": "stream",
     "text": [
      "SVM score : 0.9722222222222222\n",
      "Logistic score : 0.9722222222222222\n",
      "CART score : 0.8611111111111112\n"
     ]
    }
   ],
   "source": [
    "# Baseline accruacy without any GridSearchCV/Nested CV\n",
    "model = SVC()\n",
    "model.fit(X_train, y_train)\n",
    "print('SVM score : %s' % model.score(X_test, y_test))\n",
    "\n",
    "model = LogisticRegression()\n",
    "model.fit(X_train, y_train)\n",
    "print('Logistic score : %s' % model.score(X_test, y_test))\n",
    "\n",
    "model = DecisionTreeClassifier()\n",
    "model.fit(X_train, y_train)\n",
    "print('CART score : %s' % model.score(X_test, y_test))"
   ]
  },
  {
   "cell_type": "code",
   "execution_count": 21,
   "id": "3a87512c",
   "metadata": {},
   "outputs": [],
   "source": [
    "# model별 param grid 설정\n",
    "logit_params = {'penalty': ['l2', 'l1', 'elasticnet', None],\n",
    "                'C':[0.0001, 0.001, 0.01, 0.1, 1, 10, 15, 20], \n",
    "                'solver':['newton-cg', 'lbfgs', 'liblinear', 'sag', 'saga'],\n",
    "                'multi_class':['auto', 'ovr', 'multinomial'],\n",
    "                }\n",
    "\n",
    "svc_params = {'C':[0.0001, 0.001, 0.01, 0.1, 1, 10, 15, 20, 100], \n",
    "              'kernel':['linear', 'poly', 'rbf', 'sigmoid'],\n",
    "              'gamma':[0.0001, 0.001, 0.01, 0.1, 1, 10, 15, 20, 100]\n",
    "             }\n",
    "\n",
    "tree_params = {'criterion':['gini', 'entropy'],\n",
    "               'splitter':['best', 'random'], \n",
    "               'max_depth' :list((range(0, 15))), \n",
    "               'min_samples_leaf' :list((range(0, 10))), \n",
    "               'max_features' : ['auto', 'sqrt', 'log2', None],\n",
    "               'ccp_alpha':[0.0001, 0.001, 0.01, 0.1, 1, 10, 15, 20], \n",
    "                }"
   ]
  },
  {
   "cell_type": "code",
   "execution_count": 22,
   "id": "1adec9e0",
   "metadata": {},
   "outputs": [],
   "source": [
    "# 10*5 nested cross validation\n",
    "inner_cv = KFold(n_splits = 3, shuffle=True, random_state=0) # 초모수 세팅\n",
    "outer_cv = KFold(n_splits = 5, shuffle=True, random_state=0) # 성능 평가"
   ]
  },
  {
   "cell_type": "markdown",
   "id": "d8e5e77f",
   "metadata": {},
   "source": [
    "### 1. Logistic"
   ]
  },
  {
   "cell_type": "code",
   "execution_count": 23,
   "id": "cd81e43c",
   "metadata": {},
   "outputs": [
    {
     "name": "stdout",
     "output_type": "stream",
     "text": [
      "Nested CV accuracy(Logistic Regression): nan +/- nan\n",
      "CPU times: user 199 ms, sys: 287 ms, total: 486 ms\n",
      "Wall time: 3.33 s\n"
     ]
    }
   ],
   "source": [
    "%%time\n",
    "pipe_log = make_pipeline(StandardScaler(), \n",
    "                         LogisticRegression(random_state=1))\n",
    "\n",
    "gs_l = GridSearchCV(estimator=pipe_log, \n",
    "                    param_grid=logit_params,\n",
    "                    scoring='accuracy', \n",
    "                    cv=outer_cv, \n",
    "                    n_jobs=-1)\n",
    "scores_l = cross_val_score(gs_l, X_std, y, scoring='accuracy', cv=inner_cv)\n",
    "print('Nested CV accuracy(Logistic Regression): %.3f +/- %.3f' % (np.mean(scores_l), np.std(scores_l)))"
   ]
  },
  {
   "cell_type": "markdown",
   "id": "6929abb4",
   "metadata": {},
   "source": [
    "### 2. SVM"
   ]
  },
  {
   "cell_type": "code",
   "execution_count": 63,
   "id": "4ccfe130",
   "metadata": {},
   "outputs": [
    {
     "name": "stdout",
     "output_type": "stream",
     "text": [
      "Nested CV accuracy(SVM): nan +/- nan\n",
      "CPU times: user 165 ms, sys: 275 ms, total: 440 ms\n",
      "Wall time: 3.31 s\n"
     ]
    }
   ],
   "source": [
    "%%time\n",
    "pipe_svm = make_pipeline(StandardScaler(), \n",
    "                         SVC(random_state=1))\n",
    "\n",
    "gs_2 = GridSearchCV(estimator=pipe_svm, \n",
    "                    param_grid=svc_params,\n",
    "                    scoring='accuracy', \n",
    "                    cv=outer_cv, \n",
    "                    n_jobs=-1)\n",
    "scores_2 = cross_val_score(gs_2, X, y, scoring='accuracy', cv=inner_cv)\n",
    "print('Nested CV accuracy(SVM): %.3f +/- %.3f' % (np.mean(scores_2), np.std(scores_2)))"
   ]
  },
  {
   "cell_type": "markdown",
   "id": "6ccb2920",
   "metadata": {},
   "source": [
    "### 3. CART"
   ]
  },
  {
   "cell_type": "code",
   "execution_count": 72,
   "id": "0334b6b4",
   "metadata": {},
   "outputs": [
    {
     "name": "stdout",
     "output_type": "stream",
     "text": [
      "Nested CV accuracy(DecisionTree): nan +/- nan\n",
      "CPU times: user 157 ms, sys: 281 ms, total: 437 ms\n",
      "Wall time: 3.56 s\n"
     ]
    }
   ],
   "source": [
    "%%time\n",
    "pipe_tree = make_pipeline(StandardScaler(), \n",
    "                         DecisionTreeClassifier(random_state=1))\n",
    "\n",
    "gs_3 = GridSearchCV(estimator=pipe_tree, \n",
    "                    param_grid=svc_params,\n",
    "                    scoring='accuracy', \n",
    "                    cv=outer_cv, \n",
    "                    n_jobs=-1)\n",
    "scores_3 = cross_val_score(gs_2, X, y, scoring='accuracy', cv=inner_cv)\n",
    "print('Nested CV accuracy(DecisionTree): %.3f +/- %.3f' % (np.mean(scores_3), np.std(scores_3)))"
   ]
  },
  {
   "cell_type": "markdown",
   "id": "ed68a064",
   "metadata": {},
   "source": [
    "SVM이 최선의 모형인 것을 알 수 있었으며, 다시 SVM을 fit해주었다."
   ]
  },
  {
   "cell_type": "code",
   "execution_count": 24,
   "id": "0a84714b",
   "metadata": {},
   "outputs": [
    {
     "data": {
      "text/plain": [
       "GridSearchCV(cv=KFold(n_splits=3, random_state=0, shuffle=True),\n",
       "             estimator=SVC(random_state=1), n_jobs=-1,\n",
       "             param_grid={'C': [0.0001, 0.001, 0.01, 0.1, 1, 10, 15, 20, 100],\n",
       "                         'gamma': [0.0001, 0.001, 0.01, 0.1, 1, 10, 15, 20,\n",
       "                                   100],\n",
       "                         'kernel': ['linear', 'poly', 'rbf', 'sigmoid']},\n",
       "             scoring='accuracy')"
      ]
     },
     "execution_count": 24,
     "metadata": {},
     "output_type": "execute_result"
    }
   ],
   "source": [
    "gs_s = GridSearchCV(estimator=SVC(random_state=1), \n",
    "                  param_grid=svc_params,\n",
    "                  scoring='accuracy', cv=inner_cv, n_jobs=-1)\n",
    "gs_s.fit(X_train, y_train)\n",
    "gs_s"
   ]
  },
  {
   "cell_type": "code",
   "execution_count": 25,
   "id": "bc995ae6",
   "metadata": {},
   "outputs": [
    {
     "name": "stdout",
     "output_type": "stream",
     "text": [
      "{'C': 0.01, 'gamma': 0.0001, 'kernel': 'linear'}\n",
      "0.9930555555555555\n"
     ]
    }
   ],
   "source": [
    "print(gs_s.best_params_)\n",
    "print(gs_s.best_score_)"
   ]
  },
  {
   "cell_type": "code",
   "execution_count": 26,
   "id": "eb59b5d0",
   "metadata": {},
   "outputs": [
    {
     "data": {
      "image/png": "[encoded data removed]",
      "text/plain": [
       "<Figure size 432x288 with 1 Axes>"
      ]
     },
     "metadata": {
      "needs_background": "light"
     },
     "output_type": "display_data"
    }
   ],
   "source": [
    "# Bias-variance trade-off 그래프로 확인\n",
    "import numpy as np\n",
    "import matplotlib.pyplot as plt\n",
    "from sklearn.model_selection import learning_curve\n",
    "\n",
    "pipe_lr = make_pipeline(StandardScaler(),\n",
    "                        SVC(C=0.01, gamma=0.0001, kernel='linear'))\n",
    "train_sizes, train_scores, test_scores =\\\n",
    "             learning_curve(estimator=pipe_lr, \n",
    "                            X=X_train, \n",
    "                            y=y_train,\n",
    "                            train_sizes=np.linspace(0.1, 1.0, 10),  # 균등하게 10등분으로 분할\n",
    "                            cv=10)\n",
    "\n",
    "train_mean = np.mean(train_scores, axis=1)\n",
    "train_std = np.std(train_scores, axis=1)\n",
    "test_mean = np.mean(test_scores, axis=1)\n",
    "test_std = np.std(test_scores, axis=1)\n",
    "\n",
    "\n",
    "plt.plot(train_sizes, train_mean, color='orange', marker='o', markersize=5, label='Training accuracy')\n",
    "plt.fill_between(train_sizes, train_mean + train_std, train_mean - train_std, alpha=0.15, color='orange')\n",
    "\n",
    "plt.plot(train_sizes, test_mean, color='green', linestyle='--', marker='s', markersize=5, label='Validation accuracy')\n",
    "plt.fill_between(train_sizes, test_mean + test_std, test_mean - test_std, alpha=0.15, color='green')\n",
    "\n",
    "plt.grid()\n",
    "plt.xlabel('Number of training samples')\n",
    "plt.ylabel('Accuracy')\n",
    "plt.legend(loc='lower right')\n",
    "plt.ylim([0.8, 1.03])\n",
    "\n",
    "plt.show()\n",
    "\n",
    "# 과대/과소적합이 발생하고 있지 않음."
   ]
  }
 ],
 "metadata": {
  "kernelspec": {
   "display_name": "Python 3 (ipykernel)",
   "language": "python",
   "name": "python3"
  },
  "language_info": {
   "codemirror_mode": {
    "name": "ipython",
    "version": 3
   },
   "file_extension": ".py",
   "mimetype": "text/x-python",
   "name": "python",
   "nbconvert_exporter": "python",
   "pygments_lexer": "ipython3",
   "version": "3.8.2"
  }
 },
 "nbformat": 4,
 "nbformat_minor": 5
}
