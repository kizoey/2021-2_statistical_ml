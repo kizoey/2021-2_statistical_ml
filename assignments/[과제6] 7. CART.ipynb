{
 "cells": [
  {
   "cell_type": "markdown",
   "id": "bd3ebc39",
   "metadata": {},
   "source": [
    "## [통계적머신러닝] 과제6\n",
    "통계학과 2019150419 기다연<br>\n",
    "2021.10.14"
   ]
  },
  {
   "cell_type": "markdown",
   "id": "d1f4ed71",
   "metadata": {},
   "source": [
    "### 문제1.\n",
    "CART에서 criterion을 gini와 entropy를 각각 적용하고 max_depth를 변경하여 결과를 비교하고 해석하라."
   ]
  },
  {
   "cell_type": "code",
   "execution_count": 4,
   "id": "734d8215",
   "metadata": {},
   "outputs": [
    {
     "data": {
      "text/html": [
       "<div>\n",
       "<style scoped>\n",
       "    .dataframe tbody tr th:only-of-type {\n",
       "        vertical-align: middle;\n",
       "    }\n",
       "\n",
       "    .dataframe tbody tr th {\n",
       "        vertical-align: top;\n",
       "    }\n",
       "\n",
       "    .dataframe thead th {\n",
       "        text-align: right;\n",
       "    }\n",
       "</style>\n",
       "<table border=\"1\" class=\"dataframe\">\n",
       "  <thead>\n",
       "    <tr style=\"text-align: right;\">\n",
       "      <th></th>\n",
       "      <th>sepal_length</th>\n",
       "      <th>sepal_width</th>\n",
       "      <th>petal_length</th>\n",
       "      <th>petal_width</th>\n",
       "      <th>species</th>\n",
       "    </tr>\n",
       "  </thead>\n",
       "  <tbody>\n",
       "    <tr>\n",
       "      <th>0</th>\n",
       "      <td>5.1</td>\n",
       "      <td>3.5</td>\n",
       "      <td>1.4</td>\n",
       "      <td>0.2</td>\n",
       "      <td>setosa</td>\n",
       "    </tr>\n",
       "    <tr>\n",
       "      <th>1</th>\n",
       "      <td>4.9</td>\n",
       "      <td>3.0</td>\n",
       "      <td>1.4</td>\n",
       "      <td>0.2</td>\n",
       "      <td>setosa</td>\n",
       "    </tr>\n",
       "    <tr>\n",
       "      <th>2</th>\n",
       "      <td>4.7</td>\n",
       "      <td>3.2</td>\n",
       "      <td>1.3</td>\n",
       "      <td>0.2</td>\n",
       "      <td>setosa</td>\n",
       "    </tr>\n",
       "    <tr>\n",
       "      <th>3</th>\n",
       "      <td>4.6</td>\n",
       "      <td>3.1</td>\n",
       "      <td>1.5</td>\n",
       "      <td>0.2</td>\n",
       "      <td>setosa</td>\n",
       "    </tr>\n",
       "    <tr>\n",
       "      <th>4</th>\n",
       "      <td>5.0</td>\n",
       "      <td>3.6</td>\n",
       "      <td>1.4</td>\n",
       "      <td>0.2</td>\n",
       "      <td>setosa</td>\n",
       "    </tr>\n",
       "  </tbody>\n",
       "</table>\n",
       "</div>"
      ],
      "text/plain": [
       "   sepal_length  sepal_width  petal_length  petal_width species\n",
       "0           5.1          3.5           1.4          0.2  setosa\n",
       "1           4.9          3.0           1.4          0.2  setosa\n",
       "2           4.7          3.2           1.3          0.2  setosa\n",
       "3           4.6          3.1           1.5          0.2  setosa\n",
       "4           5.0          3.6           1.4          0.2  setosa"
      ]
     },
     "execution_count": 4,
     "metadata": {},
     "output_type": "execute_result"
    }
   ],
   "source": [
    "import seaborn as sns\n",
    "\n",
    "iris = sns.load_dataset('iris')\n",
    "X = iris.drop('species', axis=1)\n",
    "y = iris['species']\n",
    "iris.head(5)"
   ]
  },
  {
   "cell_type": "code",
   "execution_count": 2,
   "id": "d56d86a9",
   "metadata": {},
   "outputs": [],
   "source": [
    "# y data를 범주형으로 변환\n",
    "from sklearn.preprocessing import LabelEncoder\n",
    "\n",
    "classle = LabelEncoder()\n",
    "y = classle.fit_transform(iris['species'].values) # species 열의 문자열을 categorical 값으로 전환"
   ]
  },
  {
   "cell_type": "code",
   "execution_count": 5,
   "id": "0213da13",
   "metadata": {},
   "outputs": [
    {
     "name": "stdout",
     "output_type": "stream",
     "text": [
      "(105, 4) (45, 4) (105,) (45,)\n"
     ]
    }
   ],
   "source": [
    "# 전체 data를 training set과 test set으로 split\n",
    "from sklearn.model_selection import train_test_split\n",
    "X_train, X_test, y_train, y_test = train_test_split(X, y, test_size=0.3, random_state=1, stratify=y)\n",
    "print(X_train.shape, X_test.shape, y_train.shape, y_test.shape)"
   ]
  },
  {
   "cell_type": "markdown",
   "id": "14111179",
   "metadata": {},
   "source": [
    "### 1. criterion = 'gini'"
   ]
  },
  {
   "cell_type": "code",
   "execution_count": 23,
   "id": "2be3af09",
   "metadata": {},
   "outputs": [
    {
     "name": "stdout",
     "output_type": "stream",
     "text": [
      "DTC Accuracy(Gini, max_depth=1 : \n",
      " 0.6666666666666666\n",
      "DTC Confusion matrix(Gini, max_depth=1 : \n",
      " [[15  0  0]\n",
      " [ 0 15  0]\n",
      " [ 0 15  0]]\n",
      "----------------------------------------------------------------------------------------------------\n",
      "DTC Accuracy(Gini, max_depth=2 : \n",
      " 0.9555555555555556\n",
      "DTC Confusion matrix(Gini, max_depth=2 : \n",
      " [[15  0  0]\n",
      " [ 0 14  1]\n",
      " [ 0  1 14]]\n",
      "----------------------------------------------------------------------------------------------------\n",
      "DTC Accuracy(Gini, max_depth=3 : \n",
      " 0.9777777777777777\n",
      "DTC Confusion matrix(Gini, max_depth=3 : \n",
      " [[15  0  0]\n",
      " [ 0 15  0]\n",
      " [ 0  1 14]]\n",
      "----------------------------------------------------------------------------------------------------\n",
      "DTC Accuracy(Gini, max_depth=4 : \n",
      " 0.9777777777777777\n",
      "DTC Confusion matrix(Gini, max_depth=4 : \n",
      " [[15  0  0]\n",
      " [ 0 15  0]\n",
      " [ 0  1 14]]\n",
      "----------------------------------------------------------------------------------------------------\n",
      "DTC Accuracy(Gini, max_depth=5 : \n",
      " 0.9777777777777777\n",
      "DTC Confusion matrix(Gini, max_depth=5 : \n",
      " [[15  0  0]\n",
      " [ 0 15  0]\n",
      " [ 0  1 14]]\n",
      "----------------------------------------------------------------------------------------------------\n",
      "DTC Accuracy(Gini, max_depth=6 : \n",
      " 0.9777777777777777\n",
      "DTC Confusion matrix(Gini, max_depth=6 : \n",
      " [[15  0  0]\n",
      " [ 0 15  0]\n",
      " [ 0  1 14]]\n",
      "----------------------------------------------------------------------------------------------------\n",
      "DTC Accuracy(Gini, max_depth=7 : \n",
      " 0.9777777777777777\n",
      "DTC Confusion matrix(Gini, max_depth=7 : \n",
      " [[15  0  0]\n",
      " [ 0 15  0]\n",
      " [ 0  1 14]]\n",
      "----------------------------------------------------------------------------------------------------\n"
     ]
    }
   ],
   "source": [
    "# Gini coefficient\n",
    "from sklearn import tree\n",
    "from sklearn import metrics\n",
    "#from sklearn import DecisionTreeClassifier\n",
    "\n",
    "train_gini, test_gini = [], []\n",
    "\n",
    "for k in [1,2,3,4,5,6,7]:\n",
    "    dtc = tree.DecisionTreeClassifier(criterion='gini', \n",
    "                                      max_depth=k,\n",
    "                                      random_state=1)\n",
    "    result = dtc.fit(X_train, y_train)\n",
    "    y_train_pred = dtc.predict(X_train)\n",
    "    y_test_pred = dtc.predict(X_test)\n",
    "    \n",
    "    train_acc = metrics.accuracy_score(y_train, y_train_pred)\n",
    "    test_acc = metrics.accuracy_score(y_test, y_test_pred)\n",
    "    train_gini.append(train_acc)\n",
    "    test_gini.append(test_acc)\n",
    "    \n",
    "    print('DTC Accuracy(Gini, max_depth=%d : \\n' % k, str(metrics.accuracy_score(y_test, y_test_pred)))\n",
    "    print('DTC Confusion matrix(Gini, max_depth=%d : \\n' % k, str(metrics.confusion_matrix(y_test, y_test_pred)))\n",
    "    print('-'*100)"
   ]
  },
  {
   "cell_type": "markdown",
   "id": "e2f51328",
   "metadata": {},
   "source": [
    "### 2. criterion = 'entropy'"
   ]
  },
  {
   "cell_type": "code",
   "execution_count": 35,
   "id": "d62027ee",
   "metadata": {},
   "outputs": [
    {
     "name": "stdout",
     "output_type": "stream",
     "text": [
      "DTC Accuracy(Entropy, max_depth=1 : \n",
      " 0.6666666666666666\n",
      "DTC Confusion matrix(Entropy, max_depth=1 : \n",
      " [[15  0  0]\n",
      " [ 0 15  0]\n",
      " [ 0 15  0]]\n",
      "----------------------------------------------------------------------------------------------------\n",
      "DTC Accuracy(Entropy, max_depth=2 : \n",
      " 0.9555555555555556\n",
      "DTC Confusion matrix(Entropy, max_depth=2 : \n",
      " [[15  0  0]\n",
      " [ 0 14  1]\n",
      " [ 0  1 14]]\n",
      "----------------------------------------------------------------------------------------------------\n",
      "DTC Accuracy(Entropy, max_depth=3 : \n",
      " 0.9555555555555556\n",
      "DTC Confusion matrix(Entropy, max_depth=3 : \n",
      " [[15  0  0]\n",
      " [ 0 14  1]\n",
      " [ 0  1 14]]\n",
      "----------------------------------------------------------------------------------------------------\n",
      "DTC Accuracy(Entropy, max_depth=4 : \n",
      " 0.9333333333333333\n",
      "DTC Confusion matrix(Entropy, max_depth=4 : \n",
      " [[15  0  0]\n",
      " [ 0 15  0]\n",
      " [ 0  3 12]]\n",
      "----------------------------------------------------------------------------------------------------\n",
      "DTC Accuracy(Entropy, max_depth=5 : \n",
      " 0.9777777777777777\n",
      "DTC Confusion matrix(Entropy, max_depth=5 : \n",
      " [[15  0  0]\n",
      " [ 0 15  0]\n",
      " [ 0  1 14]]\n",
      "----------------------------------------------------------------------------------------------------\n",
      "DTC Accuracy(Entropy, max_depth=6 : \n",
      " 0.9777777777777777\n",
      "DTC Confusion matrix(Entropy, max_depth=6 : \n",
      " [[15  0  0]\n",
      " [ 0 15  0]\n",
      " [ 0  1 14]]\n",
      "----------------------------------------------------------------------------------------------------\n",
      "DTC Accuracy(Entropy, max_depth=7 : \n",
      " 0.9777777777777777\n",
      "DTC Confusion matrix(Entropy, max_depth=7 : \n",
      " [[15  0  0]\n",
      " [ 0 15  0]\n",
      " [ 0  1 14]]\n",
      "----------------------------------------------------------------------------------------------------\n"
     ]
    }
   ],
   "source": [
    "# Gini coefficient\n",
    "from sklearn import tree\n",
    "from sklearn import metrics\n",
    "#from sklearn import DecisionTreeClassifier\n",
    "\n",
    "train_entropy, test_entropy = [], []\n",
    "\n",
    "for k in [1,2,3,4,5,6,7]:\n",
    "    dtc = tree.DecisionTreeClassifier(criterion='entropy', \n",
    "                                      max_depth=k,\n",
    "                                      random_state=1)\n",
    "    result = dtc.fit(X_train, y_train)\n",
    "    y_train_pred = dtc.predict(X_train)\n",
    "    y_test_pred = dtc.predict(X_test)\n",
    "    \n",
    "    train_acc = metrics.accuracy_score(y_train, y_train_pred)\n",
    "    test_acc = metrics.accuracy_score(y_test, y_test_pred)\n",
    "    train_entropy.append(train_acc)\n",
    "    test_entropy.append(test_acc)\n",
    "    \n",
    "    print('DTC Accuracy(Entropy, max_depth=%d : \\n' % k, str(metrics.accuracy_score(y_test, y_test_pred)))\n",
    "    print('DTC Confusion matrix(Entropy, max_depth=%d : \\n' % k, str(metrics.confusion_matrix(y_test, y_test_pred)))\n",
    "    print('-'*100)"
   ]
  },
  {
   "cell_type": "code",
   "execution_count": 29,
   "id": "aa34aa1c",
   "metadata": {},
   "outputs": [
    {
     "data": {
      "image/png": "[encoded data removed]",
      "text/plain": [
       "<Figure size 432x288 with 1 Axes>"
      ]
     },
     "metadata": {
      "needs_background": "light"
     },
     "output_type": "display_data"
    }
   ],
   "source": [
    "# test accuracy 비교\n",
    "import matplotlib.pyplot as plt\n",
    "\n",
    "plt.plot(test_gini)\n",
    "plt.plot(test_entropy)\n",
    "plt.title('CART Test Accuracy(Gini/Entropy)')\n",
    "plt.ylabel('Accuracy')\n",
    "plt.xlabel('max_depth')\n",
    "plt.legend(['gini', 'entropy'], loc = 'upper left')\n",
    "plt.show()"
   ]
  },
  {
   "cell_type": "code",
   "execution_count": 32,
   "id": "53290070",
   "metadata": {},
   "outputs": [
    {
     "name": "stdout",
     "output_type": "stream",
     "text": [
      "Gini:\n",
      " [0.6666666666666666, 0.9555555555555556, 0.9777777777777777, 0.9777777777777777, 0.9777777777777777, 0.9777777777777777, 0.9777777777777777] \n",
      " Entropy:\n",
      " [0.6666666666666666, 0.9555555555555556, 0.9555555555555556, 0.9777777777777777, 0.9777777777777777, 0.9777777777777777, 0.9777777777777777]\n"
     ]
    }
   ],
   "source": [
    "print('Gini:\\n', test_gini, '\\n', 'Entropy:\\n', test_entropy)"
   ]
  },
  {
   "cell_type": "code",
   "execution_count": 33,
   "id": "2992c780",
   "metadata": {},
   "outputs": [
    {
     "data": {
      "image/png": "[encoded data removed]",
      "text/plain": [
       "<Figure size 432x288 with 1 Axes>"
      ]
     },
     "metadata": {
      "needs_background": "light"
     },
     "output_type": "display_data"
    }
   ],
   "source": [
    "# overfitting 비교 (train/test accuracy 같이 비교)\n",
    "plt.plot(train_gini)\n",
    "plt.plot(test_gini)\n",
    "plt.title('CART Train/Test Accuracy(Gini)')\n",
    "plt.ylabel('Accuracy')\n",
    "plt.xlabel('max_depth')\n",
    "plt.legend(['train', 'test'], loc = 'upper left')\n",
    "plt.show()"
   ]
  },
  {
   "cell_type": "code",
   "execution_count": 34,
   "id": "4607a933",
   "metadata": {},
   "outputs": [
    {
     "data": {
      "image/png": "[encoded data removed]",
      "text/plain": [
       "<Figure size 432x288 with 1 Axes>"
      ]
     },
     "metadata": {
      "needs_background": "light"
     },
     "output_type": "display_data"
    }
   ],
   "source": [
    "# overfitting 비교 (train/test accuracy 같이 비교)\n",
    "plt.plot(train_entropy)\n",
    "plt.plot(test_entropy)\n",
    "plt.title('CART Train/Test Accuracy(Entropy)')\n",
    "plt.ylabel('Accuracy')\n",
    "plt.xlabel('max_depth')\n",
    "plt.legend(['train', 'test'], loc = 'upper left')\n",
    "plt.show()"
   ]
  }
 ],
 "metadata": {
  "kernelspec": {
   "display_name": "Python 3 (ipykernel)",
   "language": "python",
   "name": "python3"
  },
  "language_info": {
   "codemirror_mode": {
    "name": "ipython",
    "version": 3
   },
   "file_extension": ".py",
   "mimetype": "text/x-python",
   "name": "python",
   "nbconvert_exporter": "python",
   "pygments_lexer": "ipython3",
   "version": "3.8.2"
  }
 },
 "nbformat": 4,
 "nbformat_minor": 5
}
