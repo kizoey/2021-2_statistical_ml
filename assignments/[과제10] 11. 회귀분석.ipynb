{
 "cells": [
  {
   "cell_type": "markdown",
   "id": "eaf59924",
   "metadata": {},
   "source": [
    "## [통계적머신러닝] 과제10\n",
    "통계학과 2019150419 기다연<br>\n",
    "2021.11.02"
   ]
  },
  {
   "cell_type": "markdown",
   "id": "d43a6105",
   "metadata": {},
   "source": [
    "### 문제1.\n",
    "house 데이터에 적용한 linear regression, SVM(선형), 그리고 RANSAC에 의해 추정된 선형모형을 제시하고, RANSAC(그러므로 outlier이 제거된 OLS 선형모형)과의 비교를 통해 linear regression 모형과 SVM을 설명하라."
   ]
  },
  {
   "cell_type": "code",
   "execution_count": 1,
   "id": "23390dc9",
   "metadata": {},
   "outputs": [
    {
     "data": {
      "text/html": [
       "<div>\n",
       "<style scoped>\n",
       "    .dataframe tbody tr th:only-of-type {\n",
       "        vertical-align: middle;\n",
       "    }\n",
       "\n",
       "    .dataframe tbody tr th {\n",
       "        vertical-align: top;\n",
       "    }\n",
       "\n",
       "    .dataframe thead th {\n",
       "        text-align: right;\n",
       "    }\n",
       "</style>\n",
       "<table border=\"1\" class=\"dataframe\">\n",
       "  <thead>\n",
       "    <tr style=\"text-align: right;\">\n",
       "      <th></th>\n",
       "      <th>CRIM</th>\n",
       "      <th>ZN</th>\n",
       "      <th>INDUS</th>\n",
       "      <th>CHAS</th>\n",
       "      <th>NOX</th>\n",
       "      <th>RM</th>\n",
       "      <th>AGE</th>\n",
       "      <th>DIS</th>\n",
       "      <th>RAD</th>\n",
       "      <th>TAX</th>\n",
       "      <th>PTRATIO</th>\n",
       "      <th>B</th>\n",
       "      <th>LSTAT</th>\n",
       "      <th>MEDV</th>\n",
       "    </tr>\n",
       "  </thead>\n",
       "  <tbody>\n",
       "    <tr>\n",
       "      <th>0</th>\n",
       "      <td>0.00632</td>\n",
       "      <td>18.0</td>\n",
       "      <td>2.31</td>\n",
       "      <td>0</td>\n",
       "      <td>0.538</td>\n",
       "      <td>6.575</td>\n",
       "      <td>65.2</td>\n",
       "      <td>4.0900</td>\n",
       "      <td>1</td>\n",
       "      <td>296.0</td>\n",
       "      <td>15.3</td>\n",
       "      <td>396.90</td>\n",
       "      <td>4.98</td>\n",
       "      <td>24.0</td>\n",
       "    </tr>\n",
       "    <tr>\n",
       "      <th>1</th>\n",
       "      <td>0.02731</td>\n",
       "      <td>0.0</td>\n",
       "      <td>7.07</td>\n",
       "      <td>0</td>\n",
       "      <td>0.469</td>\n",
       "      <td>6.421</td>\n",
       "      <td>78.9</td>\n",
       "      <td>4.9671</td>\n",
       "      <td>2</td>\n",
       "      <td>242.0</td>\n",
       "      <td>17.8</td>\n",
       "      <td>396.90</td>\n",
       "      <td>9.14</td>\n",
       "      <td>21.6</td>\n",
       "    </tr>\n",
       "    <tr>\n",
       "      <th>2</th>\n",
       "      <td>0.02729</td>\n",
       "      <td>0.0</td>\n",
       "      <td>7.07</td>\n",
       "      <td>0</td>\n",
       "      <td>0.469</td>\n",
       "      <td>7.185</td>\n",
       "      <td>61.1</td>\n",
       "      <td>4.9671</td>\n",
       "      <td>2</td>\n",
       "      <td>242.0</td>\n",
       "      <td>17.8</td>\n",
       "      <td>392.83</td>\n",
       "      <td>4.03</td>\n",
       "      <td>34.7</td>\n",
       "    </tr>\n",
       "    <tr>\n",
       "      <th>3</th>\n",
       "      <td>0.03237</td>\n",
       "      <td>0.0</td>\n",
       "      <td>2.18</td>\n",
       "      <td>0</td>\n",
       "      <td>0.458</td>\n",
       "      <td>6.998</td>\n",
       "      <td>45.8</td>\n",
       "      <td>6.0622</td>\n",
       "      <td>3</td>\n",
       "      <td>222.0</td>\n",
       "      <td>18.7</td>\n",
       "      <td>394.63</td>\n",
       "      <td>2.94</td>\n",
       "      <td>33.4</td>\n",
       "    </tr>\n",
       "    <tr>\n",
       "      <th>4</th>\n",
       "      <td>0.06905</td>\n",
       "      <td>0.0</td>\n",
       "      <td>2.18</td>\n",
       "      <td>0</td>\n",
       "      <td>0.458</td>\n",
       "      <td>7.147</td>\n",
       "      <td>54.2</td>\n",
       "      <td>6.0622</td>\n",
       "      <td>3</td>\n",
       "      <td>222.0</td>\n",
       "      <td>18.7</td>\n",
       "      <td>396.90</td>\n",
       "      <td>5.33</td>\n",
       "      <td>36.2</td>\n",
       "    </tr>\n",
       "  </tbody>\n",
       "</table>\n",
       "</div>"
      ],
      "text/plain": [
       "      CRIM    ZN  INDUS  CHAS    NOX     RM   AGE     DIS  RAD    TAX  \\\n",
       "0  0.00632  18.0   2.31     0  0.538  6.575  65.2  4.0900    1  296.0   \n",
       "1  0.02731   0.0   7.07     0  0.469  6.421  78.9  4.9671    2  242.0   \n",
       "2  0.02729   0.0   7.07     0  0.469  7.185  61.1  4.9671    2  242.0   \n",
       "3  0.03237   0.0   2.18     0  0.458  6.998  45.8  6.0622    3  222.0   \n",
       "4  0.06905   0.0   2.18     0  0.458  7.147  54.2  6.0622    3  222.0   \n",
       "\n",
       "   PTRATIO       B  LSTAT  MEDV  \n",
       "0     15.3  396.90   4.98  24.0  \n",
       "1     17.8  396.90   9.14  21.6  \n",
       "2     17.8  392.83   4.03  34.7  \n",
       "3     18.7  394.63   2.94  33.4  \n",
       "4     18.7  396.90   5.33  36.2  "
      ]
     },
     "execution_count": 1,
     "metadata": {},
     "output_type": "execute_result"
    }
   ],
   "source": [
    "# 미국 Boston 지역의 집값 data 불러오기\n",
    "import pandas as pd\n",
    "house = pd.read_csv('https://raw.githubusercontent.com/rasbt/'\n",
    "                     'python-machine-learning-book-2nd-edition'\n",
    "                     '/master/code/ch10/housing.data.txt',header=None,sep='\\s+')\n",
    "house.columns = ['CRIM', 'ZN', 'INDUS', 'CHAS','NOX', 'RM', 'AGE', 'DIS', 'RAD','TAX', 'PTRATIO', 'B', 'LSTAT', 'MEDV']\n",
    "house.head()"
   ]
  },
  {
   "cell_type": "code",
   "execution_count": 68,
   "id": "5d318e61",
   "metadata": {},
   "outputs": [
    {
     "data": {
      "text/plain": [
       "354"
      ]
     },
     "execution_count": 68,
     "metadata": {},
     "output_type": "execute_result"
    }
   ],
   "source": [
    "len(X_train)"
   ]
  },
  {
   "cell_type": "code",
   "execution_count": 3,
   "id": "87514e78",
   "metadata": {},
   "outputs": [
    {
     "data": {
      "text/html": [
       "<div>\n",
       "<style scoped>\n",
       "    .dataframe tbody tr th:only-of-type {\n",
       "        vertical-align: middle;\n",
       "    }\n",
       "\n",
       "    .dataframe tbody tr th {\n",
       "        vertical-align: top;\n",
       "    }\n",
       "\n",
       "    .dataframe thead th {\n",
       "        text-align: right;\n",
       "    }\n",
       "</style>\n",
       "<table border=\"1\" class=\"dataframe\">\n",
       "  <thead>\n",
       "    <tr style=\"text-align: right;\">\n",
       "      <th></th>\n",
       "      <th>CRIM</th>\n",
       "      <th>ZN</th>\n",
       "      <th>INDUS</th>\n",
       "      <th>CHAS</th>\n",
       "      <th>NOX</th>\n",
       "      <th>RM</th>\n",
       "      <th>AGE</th>\n",
       "      <th>DIS</th>\n",
       "      <th>RAD</th>\n",
       "      <th>TAX</th>\n",
       "      <th>PTRATIO</th>\n",
       "      <th>B</th>\n",
       "      <th>LSTAT</th>\n",
       "      <th>MEDV</th>\n",
       "      <th>LLSTAT</th>\n",
       "      <th>LINDUS</th>\n",
       "    </tr>\n",
       "  </thead>\n",
       "  <tbody>\n",
       "    <tr>\n",
       "      <th>0</th>\n",
       "      <td>0.00632</td>\n",
       "      <td>18.0</td>\n",
       "      <td>2.31</td>\n",
       "      <td>0</td>\n",
       "      <td>0.538</td>\n",
       "      <td>6.575</td>\n",
       "      <td>65.2</td>\n",
       "      <td>4.0900</td>\n",
       "      <td>1</td>\n",
       "      <td>296.0</td>\n",
       "      <td>15.3</td>\n",
       "      <td>396.90</td>\n",
       "      <td>4.98</td>\n",
       "      <td>24.0</td>\n",
       "      <td>1.605430</td>\n",
       "      <td>0.837248</td>\n",
       "    </tr>\n",
       "    <tr>\n",
       "      <th>1</th>\n",
       "      <td>0.02731</td>\n",
       "      <td>0.0</td>\n",
       "      <td>7.07</td>\n",
       "      <td>0</td>\n",
       "      <td>0.469</td>\n",
       "      <td>6.421</td>\n",
       "      <td>78.9</td>\n",
       "      <td>4.9671</td>\n",
       "      <td>2</td>\n",
       "      <td>242.0</td>\n",
       "      <td>17.8</td>\n",
       "      <td>396.90</td>\n",
       "      <td>9.14</td>\n",
       "      <td>21.6</td>\n",
       "      <td>2.212660</td>\n",
       "      <td>1.955860</td>\n",
       "    </tr>\n",
       "    <tr>\n",
       "      <th>2</th>\n",
       "      <td>0.02729</td>\n",
       "      <td>0.0</td>\n",
       "      <td>7.07</td>\n",
       "      <td>0</td>\n",
       "      <td>0.469</td>\n",
       "      <td>7.185</td>\n",
       "      <td>61.1</td>\n",
       "      <td>4.9671</td>\n",
       "      <td>2</td>\n",
       "      <td>242.0</td>\n",
       "      <td>17.8</td>\n",
       "      <td>392.83</td>\n",
       "      <td>4.03</td>\n",
       "      <td>34.7</td>\n",
       "      <td>1.393766</td>\n",
       "      <td>1.955860</td>\n",
       "    </tr>\n",
       "    <tr>\n",
       "      <th>3</th>\n",
       "      <td>0.03237</td>\n",
       "      <td>0.0</td>\n",
       "      <td>2.18</td>\n",
       "      <td>0</td>\n",
       "      <td>0.458</td>\n",
       "      <td>6.998</td>\n",
       "      <td>45.8</td>\n",
       "      <td>6.0622</td>\n",
       "      <td>3</td>\n",
       "      <td>222.0</td>\n",
       "      <td>18.7</td>\n",
       "      <td>394.63</td>\n",
       "      <td>2.94</td>\n",
       "      <td>33.4</td>\n",
       "      <td>1.078410</td>\n",
       "      <td>0.779325</td>\n",
       "    </tr>\n",
       "    <tr>\n",
       "      <th>4</th>\n",
       "      <td>0.06905</td>\n",
       "      <td>0.0</td>\n",
       "      <td>2.18</td>\n",
       "      <td>0</td>\n",
       "      <td>0.458</td>\n",
       "      <td>7.147</td>\n",
       "      <td>54.2</td>\n",
       "      <td>6.0622</td>\n",
       "      <td>3</td>\n",
       "      <td>222.0</td>\n",
       "      <td>18.7</td>\n",
       "      <td>396.90</td>\n",
       "      <td>5.33</td>\n",
       "      <td>36.2</td>\n",
       "      <td>1.673351</td>\n",
       "      <td>0.779325</td>\n",
       "    </tr>\n",
       "  </tbody>\n",
       "</table>\n",
       "</div>"
      ],
      "text/plain": [
       "      CRIM    ZN  INDUS  CHAS    NOX     RM   AGE     DIS  RAD    TAX  \\\n",
       "0  0.00632  18.0   2.31     0  0.538  6.575  65.2  4.0900    1  296.0   \n",
       "1  0.02731   0.0   7.07     0  0.469  6.421  78.9  4.9671    2  242.0   \n",
       "2  0.02729   0.0   7.07     0  0.469  7.185  61.1  4.9671    2  242.0   \n",
       "3  0.03237   0.0   2.18     0  0.458  6.998  45.8  6.0622    3  222.0   \n",
       "4  0.06905   0.0   2.18     0  0.458  7.147  54.2  6.0622    3  222.0   \n",
       "\n",
       "   PTRATIO       B  LSTAT  MEDV    LLSTAT    LINDUS  \n",
       "0     15.3  396.90   4.98  24.0  1.605430  0.837248  \n",
       "1     17.8  396.90   9.14  21.6  2.212660  1.955860  \n",
       "2     17.8  392.83   4.03  34.7  1.393766  1.955860  \n",
       "3     18.7  394.63   2.94  33.4  1.078410  0.779325  \n",
       "4     18.7  396.90   5.33  36.2  1.673351  0.779325  "
      ]
     },
     "execution_count": 3,
     "metadata": {},
     "output_type": "execute_result"
    }
   ],
   "source": [
    "# 일부 변수에 대한 log 변환\n",
    "import numpy as np\n",
    "house['LLSTAT']=np.log(house['LSTAT'])\n",
    "house['LINDUS']=np.log(house['INDUS'])\n",
    "house.head()"
   ]
  },
  {
   "cell_type": "code",
   "execution_count": 4,
   "id": "70b1b895",
   "metadata": {},
   "outputs": [],
   "source": [
    "# 전체 data를 종속변수 y와 특성변수 X의 data로 나누기\n",
    "y = house['MEDV'].values\n",
    "house1 = house.drop(['LSTAT','INDUS','MEDV'], axis=1)\n",
    "X = house1.values"
   ]
  },
  {
   "cell_type": "code",
   "execution_count": 5,
   "id": "ec3f1576",
   "metadata": {},
   "outputs": [],
   "source": [
    "# 전체 data를 traning data(70%)와 test data(30%)로 나누기 \n",
    "from sklearn.model_selection import train_test_split\n",
    "X_train, X_test, y_train, y_test = train_test_split(X, y, test_size=0.3, random_state=1)"
   ]
  },
  {
   "cell_type": "markdown",
   "id": "aa64a67b",
   "metadata": {},
   "source": [
    "### Linear Regression (선형 회귀)"
   ]
  },
  {
   "cell_type": "code",
   "execution_count": 8,
   "id": "d75ba573",
   "metadata": {},
   "outputs": [
    {
     "data": {
      "text/plain": [
       "LinearRegression()"
      ]
     },
     "execution_count": 8,
     "metadata": {},
     "output_type": "execute_result"
    }
   ],
   "source": [
    "# regression module 불러오기/모형 추정\n",
    "from sklearn.linear_model import LinearRegression\n",
    "\n",
    "mlr = LinearRegression()\n",
    "mlr.fit(X_train, y_train)"
   ]
  },
  {
   "cell_type": "code",
   "execution_count": 9,
   "id": "d422ac23",
   "metadata": {},
   "outputs": [
    {
     "name": "stdout",
     "output_type": "stream",
     "text": [
      "Slope: [-1.36676828e-01  3.13177997e-02  2.52393199e+00 -1.70295629e+01\n",
      "  1.23977704e+00  3.06818458e-02 -1.28840466e+00  2.61968148e-01\n",
      " -6.58141653e-03 -8.27862485e-01  4.90558897e-03 -9.97211822e+00\n",
      " -6.04522425e-01]\n",
      "Intercept: 65.69779117501709\n"
     ]
    }
   ],
   "source": [
    "# 추정값 확인\n",
    "# underline(_)은 추정치라는 의미\n",
    "print('Slope:' , mlr.coef_)\n",
    "print('Intercept:' , mlr.intercept_)"
   ]
  },
  {
   "cell_type": "code",
   "execution_count": 10,
   "id": "67ea4409",
   "metadata": {},
   "outputs": [],
   "source": [
    "# 예측치 구하기\n",
    "y_train_pred = mlr.predict(X_train)\n",
    "y_test_pred = mlr.predict(X_test)"
   ]
  },
  {
   "cell_type": "code",
   "execution_count": 17,
   "id": "26245ab1",
   "metadata": {},
   "outputs": [
    {
     "data": {
      "image/png": "[encoded data removed]",
      "text/plain": [
       "<Figure size 432x288 with 1 Axes>"
      ]
     },
     "metadata": {
      "needs_background": "light"
     },
     "output_type": "display_data"
    }
   ],
   "source": [
    "import matplotlib.pyplot as plt\n",
    "plt.scatter(y_test, y_test_pred, alpha=0.4)\n",
    "plt.xlabel(\"Actual\")\n",
    "plt.ylabel(\"Predicted\")\n",
    "plt.title(\"LINEAR REGRESSION\")\n",
    "plt.show()"
   ]
  },
  {
   "cell_type": "code",
   "execution_count": 20,
   "id": "c7571318",
   "metadata": {},
   "outputs": [
    {
     "name": "stdout",
     "output_type": "stream",
     "text": [
      "MSE train: 18.139, test: 17.416\n"
     ]
    }
   ],
   "source": [
    "# 모형의 MSE\n",
    "from sklearn.metrics import mean_squared_error\n",
    "print('MSE train: %.3f, test: %.3f' % (mean_squared_error(y_train, y_train_pred),mean_squared_error(y_test, y_test_pred)))"
   ]
  },
  {
   "cell_type": "code",
   "execution_count": 21,
   "id": "ef40c2f3",
   "metadata": {},
   "outputs": [
    {
     "name": "stdout",
     "output_type": "stream",
     "text": [
      "R^2 train: 0.777, test: 0.810\n"
     ]
    }
   ],
   "source": [
    "# 모형의 R^2\n",
    "from sklearn.metrics import r2_score\n",
    "print('R^2 train: %.3f, test: %.3f' %(r2_score(y_train, y_train_pred),r2_score(y_test, y_test_pred)))"
   ]
  },
  {
   "cell_type": "code",
   "execution_count": 23,
   "id": "6be41b0f",
   "metadata": {},
   "outputs": [
    {
     "name": "stdout",
     "output_type": "stream",
     "text": [
      "LINEAR REGRESSION\n",
      "Slope: [-1.36676828e-01  3.13177997e-02  2.52393199e+00 -1.70295629e+01\n",
      "  1.23977704e+00  3.06818458e-02 -1.28840466e+00  2.61968148e-01\n",
      " -6.58141653e-03 -8.27862485e-01  4.90558897e-03 -9.97211822e+00\n",
      " -6.04522425e-01]\n",
      "Intercept: 65.69779117501709\n"
     ]
    },
    {
     "data": {
      "image/png": "[encoded data removed]",
      "text/plain": [
       "<Figure size 432x288 with 1 Axes>"
      ]
     },
     "metadata": {
      "needs_background": "light"
     },
     "output_type": "display_data"
    },
    {
     "name": "stdout",
     "output_type": "stream",
     "text": [
      "MSE train: 18.139, MSE test: 17.416\n",
      "R^2 train: 0.777, R^2 test: 0.810\n"
     ]
    }
   ],
   "source": [
    "# Linear Regression\n",
    "print('LINEAR REGRESSION')\n",
    "print('Slope:' , mlr.coef_)\n",
    "print('Intercept:' , mlr.intercept_)\n",
    "\n",
    "plt.scatter(y_test, y_test_pred, alpha=0.4)\n",
    "plt.xlabel(\"Actual\")\n",
    "plt.ylabel(\"Predicted\")\n",
    "plt.title(\"LINEAR REGRESSION\")\n",
    "plt.show()\n",
    "\n",
    "print('MSE train: %.3f, MSE test: %.3f' % (mean_squared_error(y_train, y_train_pred),mean_squared_error(y_test, y_test_pred)))\n",
    "print('R^2 train: %.3f, R^2 test: %.3f' %(r2_score(y_train, y_train_pred),r2_score(y_test, y_test_pred)))"
   ]
  },
  {
   "cell_type": "markdown",
   "id": "d8b5da47",
   "metadata": {},
   "source": [
    "### SVM (선형)"
   ]
  },
  {
   "cell_type": "code",
   "execution_count": 27,
   "id": "75cdfc4a",
   "metadata": {},
   "outputs": [
    {
     "data": {
      "text/plain": [
       "SVR(kernel='linear')"
      ]
     },
     "execution_count": 27,
     "metadata": {},
     "output_type": "execute_result"
    }
   ],
   "source": [
    "from sklearn.svm import SVR\n",
    "\n",
    "svl=SVR(kernel='linear', C=1.0,epsilon=0.1)      # 선형 SVM회귀\n",
    "svl.fit(X_train,y_train)   # 선형 SVM model fitting"
   ]
  },
  {
   "cell_type": "code",
   "execution_count": 28,
   "id": "44cf802f",
   "metadata": {},
   "outputs": [
    {
     "name": "stdout",
     "output_type": "stream",
     "text": [
      "Slope: [[-0.10458789  0.02278352  1.66254749 -2.28961732  3.54885846 -0.0121021\n",
      "  -0.76001148  0.17584393 -0.01029868 -0.64102215  0.01212433 -5.77970899\n",
      "  -0.6072531 ]]\n",
      "Intercept: [29.58999764]\n"
     ]
    }
   ],
   "source": [
    "print('Slope:', svl.coef_)\n",
    "print('Intercept:', svl.intercept_)"
   ]
  },
  {
   "cell_type": "code",
   "execution_count": 29,
   "id": "573e3d9b",
   "metadata": {},
   "outputs": [],
   "source": [
    "y_train_predsvl=svl.predict(X_train)   # 선형 SVM traing set의 예측치 구하기\n",
    "y_test_predsvl=svl.predict(X_test)   # 선형 SVM test set의 예측치 구하기"
   ]
  },
  {
   "cell_type": "code",
   "execution_count": 33,
   "id": "d361241f",
   "metadata": {},
   "outputs": [
    {
     "data": {
      "image/png": "[encoded data removed]",
      "text/plain": [
       "<Figure size 432x288 with 1 Axes>"
      ]
     },
     "metadata": {
      "needs_background": "light"
     },
     "output_type": "display_data"
    }
   ],
   "source": [
    "import matplotlib.pyplot as plt\n",
    "plt.scatter(y_test, y_test_predsvl, alpha=0.4)\n",
    "plt.xlabel(\"Actual\")\n",
    "plt.ylabel(\"Predicted\")\n",
    "plt.title(\"LINEAR SVM\")\n",
    "plt.show()"
   ]
  },
  {
   "cell_type": "code",
   "execution_count": 31,
   "id": "c6564611",
   "metadata": {},
   "outputs": [
    {
     "name": "stdout",
     "output_type": "stream",
     "text": [
      "MSE train(linear): 22.270, test(linear): 16.382\n"
     ]
    }
   ],
   "source": [
    "# 모형의 MSE\n",
    "from sklearn.metrics import mean_squared_error\n",
    "mse_l_train=mean_squared_error(y_train, y_train_predsvl)\n",
    "mse_l_test=mean_squared_error(y_test, y_test_predsvl)\n",
    "print('MSE train(linear): %.3f, test(linear): %.3f' % (mse_l_train, mse_l_test))"
   ]
  },
  {
   "cell_type": "code",
   "execution_count": 32,
   "id": "22c120bd",
   "metadata": {},
   "outputs": [
    {
     "name": "stdout",
     "output_type": "stream",
     "text": [
      "R^2 train(linear): 0.726\n"
     ]
    }
   ],
   "source": [
    "# 모형의 R^2\n",
    "from sklearn.metrics import r2_score\n",
    "\n",
    "R2_l=r2_score(y_train, y_train_predsvl)\n",
    "print('R^2 train(linear): %.3f' % (R2_l))"
   ]
  },
  {
   "cell_type": "code",
   "execution_count": 34,
   "id": "f62e04de",
   "metadata": {},
   "outputs": [
    {
     "name": "stdout",
     "output_type": "stream",
     "text": [
      "Linear SVM\n",
      "Slope: [[-0.10458789  0.02278352  1.66254749 -2.28961732  3.54885846 -0.0121021\n",
      "  -0.76001148  0.17584393 -0.01029868 -0.64102215  0.01212433 -5.77970899\n",
      "  -0.6072531 ]]\n",
      "Intercept: [29.58999764]\n"
     ]
    },
    {
     "data": {
      "image/png": "[encoded data removed]",
      "text/plain": [
       "<Figure size 432x288 with 1 Axes>"
      ]
     },
     "metadata": {
      "needs_background": "light"
     },
     "output_type": "display_data"
    },
    {
     "name": "stdout",
     "output_type": "stream",
     "text": [
      "MSE train(linear): 22.270, test(linear): 16.382\n",
      "R^2 train(linear): 0.726\n"
     ]
    }
   ],
   "source": [
    "# Linear SVM\n",
    "print('Linear SVM')\n",
    "print('Slope:', svl.coef_)\n",
    "print('Intercept:', svl.intercept_)\n",
    "\n",
    "plt.scatter(y_test, y_test_predsvl, alpha=0.4)\n",
    "plt.xlabel(\"Actual\")\n",
    "plt.ylabel(\"Predicted\")\n",
    "plt.title(\"LINEAR SVM\")\n",
    "plt.show()\n",
    "\n",
    "print('MSE train(linear): %.3f, test(linear): %.3f' % (mse_l_train, mse_l_test))\n",
    "print('R^2 train(linear): %.3f' % (R2_l))"
   ]
  },
  {
   "cell_type": "markdown",
   "id": "2fdf03f2",
   "metadata": {},
   "source": [
    "### RANSAC"
   ]
  },
  {
   "cell_type": "code",
   "execution_count": 35,
   "id": "5b752467",
   "metadata": {},
   "outputs": [],
   "source": [
    "from sklearn.linear_model import RANSACRegressor\n",
    "\n",
    "rans = RANSACRegressor(max_trials=100,min_samples=45,loss='absolute_loss',residual_threshold=5.0, random_state=1)\n",
    "rans.fit(X_train,y_train)\n",
    "y_train_pred=rans.predict(X_train)\n",
    "y_test_pred=rans.predict(X_test)"
   ]
  },
  {
   "cell_type": "code",
   "execution_count": 36,
   "id": "3037687c",
   "metadata": {},
   "outputs": [
    {
     "name": "stdout",
     "output_type": "stream",
     "text": [
      "Slope: [-0.33997467  0.02628575  1.26584351 -6.7774809   3.20459419 -0.03651634\n",
      " -1.13372086  0.24298439 -0.00712198 -0.59996172  0.01186441 -3.85624577\n",
      " -1.01175348]\n",
      "Intercept: 31.427983601251675\n"
     ]
    }
   ],
   "source": [
    "print('Slope:', rans.estimator_.coef_)\n",
    "print('Intercept:', rans.estimator_.intercept_)"
   ]
  },
  {
   "cell_type": "code",
   "execution_count": 40,
   "id": "56531f64",
   "metadata": {},
   "outputs": [
    {
     "data": {
      "image/png": "[encoded data removed]",
      "text/plain": [
       "<Figure size 432x288 with 1 Axes>"
      ]
     },
     "metadata": {
      "needs_background": "light"
     },
     "output_type": "display_data"
    }
   ],
   "source": [
    "plt.scatter(y_test, y_test_pred, alpha=0.4)\n",
    "plt.xlabel(\"Actual\")\n",
    "plt.ylabel(\"Predicted\")\n",
    "plt.title(\"RANSAC\")\n",
    "plt.show()"
   ]
  },
  {
   "cell_type": "code",
   "execution_count": 37,
   "id": "2bf9d712",
   "metadata": {},
   "outputs": [
    {
     "name": "stdout",
     "output_type": "stream",
     "text": [
      "MSE train: 26.959, MSE test: 22.296\n"
     ]
    }
   ],
   "source": [
    "# 모형의 MSE\n",
    "from sklearn.metrics import mean_squared_error\n",
    "print('MSE train: %.3f, MSE test: %.3f' % (mean_squared_error(y_train, y_train_pred), mean_squared_error(y_test, y_test_pred)))"
   ]
  },
  {
   "cell_type": "code",
   "execution_count": 41,
   "id": "07e68958",
   "metadata": {},
   "outputs": [
    {
     "name": "stdout",
     "output_type": "stream",
     "text": [
      "R^2 train: 0.668, test: 0.757\n"
     ]
    }
   ],
   "source": [
    "# 모형의 R^2\n",
    "from sklearn.metrics import r2_score\n",
    "print('R^2 train: %.3f, test: %.3f' %(r2_score(y_train, y_train_pred),r2_score(y_test, y_test_pred)))"
   ]
  },
  {
   "cell_type": "code",
   "execution_count": 39,
   "id": "9d0d08bd",
   "metadata": {},
   "outputs": [
    {
     "name": "stdout",
     "output_type": "stream",
     "text": [
      "outlier [False False  True False  True False False False  True  True False False\n",
      " False False False False False False False  True False False False False\n",
      " False False  True False False False False False False False False  True\n",
      " False False False False False False  True False  True False  True  True\n",
      " False  True False False False False False False False False False False\n",
      " False False False False False False False False False False False False\n",
      " False False  True False False False False False False False  True False\n",
      " False  True  True False False False False  True False False False False\n",
      " False False False False False False False False False  True False False\n",
      " False False  True False False  True  True False False False False False\n",
      " False False False False False False False False False False False False\n",
      " False False False False False False False  True False False False  True\n",
      " False False False False False  True False False False False  True False\n",
      " False False False False False False False False False False False False\n",
      " False False False False False False False False False False False False\n",
      " False False False  True False False  True  True False False False False\n",
      " False False False False False False False False False  True  True False\n",
      " False False False  True False  True False False False False False  True\n",
      " False False False False False False False False False False False False\n",
      " False False False False False False False False False False False False\n",
      "  True False  True  True False False False  True False False False False\n",
      " False  True False False False False False False False False False False\n",
      " False  True False False False False  True False False  True  True False\n",
      " False False  True False False  True False False  True False False  True\n",
      " False False False False False False  True False False False  True False\n",
      " False False False False False False False False False False False False\n",
      " False False False False  True False False False False False False False\n",
      " False False False  True False False  True False  True False False False\n",
      " False False False False False False False False False False False  True\n",
      "  True False False  True False False]\n"
     ]
    }
   ],
   "source": [
    "# Outlier 체크\n",
    "inlier_mask = rans.inlier_mask_\n",
    "outlier_mask = np.logical_not(inlier_mask)\n",
    "print('outlier', outlier_mask)"
   ]
  },
  {
   "cell_type": "code",
   "execution_count": 43,
   "id": "5afe5134",
   "metadata": {},
   "outputs": [
    {
     "name": "stdout",
     "output_type": "stream",
     "text": [
      "Outlier Count(False=inlier, True=outlier)\n"
     ]
    },
    {
     "data": {
      "text/plain": [
       "{False: 299, True: 55}"
      ]
     },
     "execution_count": 43,
     "metadata": {},
     "output_type": "execute_result"
    }
   ],
   "source": [
    "# Oulier 개수 세기\n",
    "unique, counts = np.unique(outlier_mask, return_counts=True)\n",
    "uniq_cnt_dict = dict(zip(unique, counts))\n",
    "print('Outlier Count(False=inlier, True=outlier)')\n",
    "uniq_cnt_dict"
   ]
  },
  {
   "cell_type": "code",
   "execution_count": 45,
   "id": "c998d88d",
   "metadata": {},
   "outputs": [
    {
     "name": "stdout",
     "output_type": "stream",
     "text": [
      "RANSAC\n",
      "Slope: [-0.33997467  0.02628575  1.26584351 -6.7774809   3.20459419 -0.03651634\n",
      " -1.13372086  0.24298439 -0.00712198 -0.59996172  0.01186441 -3.85624577\n",
      " -1.01175348]\n",
      "Intercept: 31.427983601251675\n"
     ]
    },
    {
     "data": {
      "image/png": "[encoded data removed]",
      "text/plain": [
       "<Figure size 432x288 with 1 Axes>"
      ]
     },
     "metadata": {
      "needs_background": "light"
     },
     "output_type": "display_data"
    },
    {
     "name": "stdout",
     "output_type": "stream",
     "text": [
      "MSE train: 26.959, MSE test: 22.296\n",
      "Outlier Count(False=inlier, True=outlier) {False: 299, True: 55}\n"
     ]
    }
   ],
   "source": [
    "print('RANSAC')\n",
    "print('Slope:', rans.estimator_.coef_)\n",
    "print('Intercept:', rans.estimator_.intercept_)\n",
    "\n",
    "plt.scatter(y_test, y_test_pred, alpha=0.4)\n",
    "plt.xlabel(\"Actual\")\n",
    "plt.ylabel(\"Predicted\")\n",
    "plt.title(\"RANSAC\")\n",
    "plt.show()\n",
    "\n",
    "print('MSE train: %.3f, MSE test: %.3f' % (mean_squared_error(y_train, y_train_pred), mean_squared_error(y_test, y_test_pred)))\n",
    "print('Outlier Count(False=inlier, True=outlier)', uniq_cnt_dict)"
   ]
  },
  {
   "cell_type": "markdown",
   "id": "0f491c2d",
   "metadata": {},
   "source": [
    "### 문제2.\n",
    "house 데이터에 적용된 SVM에서 epsilon의 역할을 support vector의 관점에서 논의하라."
   ]
  },
  {
   "cell_type": "code",
   "execution_count": 70,
   "id": "3265cb11",
   "metadata": {},
   "outputs": [
    {
     "name": "stdout",
     "output_type": "stream",
     "text": [
      "LINEAR SVM(EPSILON=0.1)\n",
      "MSE train(epsilon=0.1): 22.270, test(epsilon=0.1): 16.382\n",
      "R^2 train(epsilon=0.1): 0.726\n",
      "\n",
      "LINEAR SVM(EPSILON=0.3)\n",
      "MSE train(epsilon=0.3): 22.356, test(epsilon=0.3): 16.711\n",
      "R^2 train(epsilon=0.3): 0.725\n",
      "\n",
      "LINEAR SVM(EPSILON=0.5)\n",
      "MSE train(epsilon=0.5): 22.290, test(epsilon=0.5): 16.888\n",
      "R^2 train(epsilon=0.5): 0.725\n",
      "\n",
      "LINEAR SVM(EPSILON=0.7)\n",
      "MSE train(epsilon=0.7): 22.068, test(epsilon=0.7): 16.889\n",
      "R^2 train(epsilon=0.7): 0.728\n",
      "\n",
      "LINEAR SVM(EPSILON=0.9)\n",
      "MSE train(epsilon=0.9): 22.187, test(epsilon=0.9): 16.696\n",
      "R^2 train(epsilon=0.9): 0.727\n",
      "\n",
      "LINEAR SVM(EPSILON=1.0)\n",
      "MSE train(epsilon=1.0): 22.005, test(epsilon=1.0): 16.966\n",
      "R^2 train(epsilon=1.0): 0.729\n",
      "\n",
      "LINEAR SVM(EPSILON=2.0)\n",
      "MSE train(epsilon=2.0): 21.443, test(epsilon=2.0): 17.217\n",
      "R^2 train(epsilon=2.0): 0.736\n",
      "\n",
      "LINEAR SVM(EPSILON=3.0)\n",
      "MSE train(epsilon=3.0): 20.357, test(epsilon=3.0): 16.713\n",
      "R^2 train(epsilon=3.0): 0.749\n",
      "\n",
      "LINEAR SVM(EPSILON=4.0)\n",
      "MSE train(epsilon=4.0): 20.199, test(epsilon=4.0): 17.850\n",
      "R^2 train(epsilon=4.0): 0.751\n",
      "\n",
      "LINEAR SVM(EPSILON=5.0)\n",
      "MSE train(epsilon=5.0): 20.096, test(epsilon=5.0): 17.629\n",
      "R^2 train(epsilon=5.0): 0.752\n",
      "\n",
      "LINEAR SVM(EPSILON=6.0)\n",
      "MSE train(epsilon=6.0): 21.439, test(epsilon=6.0): 19.057\n",
      "R^2 train(epsilon=6.0): 0.736\n",
      "\n"
     ]
    },
    {
     "data": {
      "text/plain": [
       "[]"
      ]
     },
     "execution_count": 70,
     "metadata": {},
     "output_type": "execute_result"
    },
    {
     "data": {
      "image/png": "[encoded data removed]",
      "text/plain": [
       "<Figure size 432x288 with 1 Axes>"
      ]
     },
     "metadata": {
      "needs_background": "light"
     },
     "output_type": "display_data"
    }
   ],
   "source": [
    "# 선형 SVM에서의 epsilon의 역할\n",
    "from sklearn.svm import SVR\n",
    "eps_lst = [.1,.3,.5,.7,.9,1,2,3,4,5,6]\n",
    "train_errors = [] # Log training errors for each model\n",
    "test_errors = [] # Log testing errors for each model\n",
    "\n",
    "for i in eps_lst:\n",
    "    print('LINEAR SVM(EPSILON=%.1f)' % i)\n",
    "    svl=SVR(kernel='linear', C=1.0, epsilon=i)\n",
    "    svl.fit(X_train, y_train)\n",
    "    y_train_predsvl=svl.predict(X_train) \n",
    "    y_test_predsvl=svl.predict(X_test) \n",
    "    \n",
    "    mse_l_train=mean_squared_error(y_train, y_train_predsvl)\n",
    "    mse_l_test=mean_squared_error(y_test, y_test_predsvl)\n",
    "    print('MSE train(epsilon=%.1f): %.3f, test(epsilon=%.1f): %.3f' % (i, mse_l_train, i, mse_l_test))\n",
    "    train_errors.append(mse_l_train)\n",
    "    test_errors.append(mse_l_test)\n",
    "    \n",
    "    R2_l=r2_score(y_train, y_train_predsvl)\n",
    "    print('R^2 train(epsilon=%.1f): %.3f' % (i, R2_l))\n",
    "    print()\n",
    "    \n",
    "x = np.arange(len(eps_lst)) + 1 # Create domain for plot\n",
    "plt.plot(eps_lst, train_errors, label='Train Accuracy', color='red') # Plot training error over domain\n",
    "plt.plot(eps_lst, test_errors, label='Test Accuracy', color='green') # Plot testing error over domain\n",
    "plt.xlabel('Epsilon') # Label x-axis\n",
    "plt.ylabel('Accuracy') # Label y-axis\n",
    "plt.legend() # Show plot labels as legend\n",
    "plt.title('Linear SVM Regression')\n",
    "plt.plot() # Show graph"
   ]
  },
  {
   "cell_type": "code",
   "execution_count": 69,
   "id": "73f919cf",
   "metadata": {},
   "outputs": [
    {
     "name": "stdout",
     "output_type": "stream",
     "text": [
      "NON-LINEAR SVM(EPSILON=0.1)\n",
      "MSE train(epsilon=0.1): 66.444, test(epsilon=0.1): 75.256\n",
      "R^2 train(epsilon=0.1): 0.182\n",
      "\n",
      "NON-LINEAR SVM(EPSILON=0.3)\n",
      "MSE train(epsilon=0.3): 65.984, test(epsilon=0.3): 74.589\n",
      "R^2 train(epsilon=0.3): 0.187\n",
      "\n",
      "NON-LINEAR SVM(EPSILON=0.5)\n",
      "MSE train(epsilon=0.5): 66.283, test(epsilon=0.5): 74.806\n",
      "R^2 train(epsilon=0.5): 0.184\n",
      "\n",
      "NON-LINEAR SVM(EPSILON=0.7)\n",
      "MSE train(epsilon=0.7): 66.201, test(epsilon=0.7): 74.742\n",
      "R^2 train(epsilon=0.7): 0.185\n",
      "\n",
      "NON-LINEAR SVM(EPSILON=0.9)\n",
      "MSE train(epsilon=0.9): 66.230, test(epsilon=0.9): 74.859\n",
      "R^2 train(epsilon=0.9): 0.184\n",
      "\n",
      "NON-LINEAR SVM(EPSILON=1.0)\n",
      "MSE train(epsilon=1.0): 66.182, test(epsilon=1.0): 74.718\n",
      "R^2 train(epsilon=1.0): 0.185\n",
      "\n",
      "NON-LINEAR SVM(EPSILON=2.0)\n",
      "MSE train(epsilon=2.0): 65.376, test(epsilon=2.0): 73.192\n",
      "R^2 train(epsilon=2.0): 0.195\n",
      "\n",
      "NON-LINEAR SVM(EPSILON=3.0)\n",
      "MSE train(epsilon=3.0): 64.583, test(epsilon=3.0): 71.424\n",
      "R^2 train(epsilon=3.0): 0.205\n",
      "\n",
      "NON-LINEAR SVM(EPSILON=4.0)\n",
      "MSE train(epsilon=4.0): 63.318, test(epsilon=4.0): 68.700\n",
      "R^2 train(epsilon=4.0): 0.220\n",
      "\n",
      "NON-LINEAR SVM(EPSILON=5.0)\n",
      "MSE train(epsilon=5.0): 62.866, test(epsilon=5.0): 67.550\n",
      "R^2 train(epsilon=5.0): 0.226\n",
      "\n",
      "NON-LINEAR SVM(EPSILON=6.0)\n",
      "MSE train(epsilon=6.0): 63.070, test(epsilon=6.0): 66.859\n",
      "R^2 train(epsilon=6.0): 0.223\n",
      "\n"
     ]
    },
    {
     "data": {
      "text/plain": [
       "[]"
      ]
     },
     "execution_count": 69,
     "metadata": {},
     "output_type": "execute_result"
    },
    {
     "data": {
      "image/png": "[encoded data removed]",
      "text/plain": [
       "<Figure size 432x288 with 1 Axes>"
      ]
     },
     "metadata": {
      "needs_background": "light"
     },
     "output_type": "display_data"
    }
   ],
   "source": [
    "# 비선형 SVM에서의 epsilon의 역할\n",
    "from sklearn.svm import SVR\n",
    "eps_lst = [.1,.3,.5,.7,.9,1,2,3,4,5,6]\n",
    "train_errors = [] # Log training errors for each model\n",
    "test_errors = [] # Log testing errors for each model\n",
    "\n",
    "for i in eps_lst:\n",
    "    print('NON-LINEAR SVM(EPSILON=%.1f)' % i)\n",
    "    svl=SVR(kernel='rbf', C=1.0, epsilon=i)\n",
    "    svl.fit(X_train, y_train)\n",
    "    y_train_predsvl=svl.predict(X_train) \n",
    "    y_test_predsvl=svl.predict(X_test) \n",
    "    \n",
    "    mse_l_train=mean_squared_error(y_train, y_train_predsvl)\n",
    "    mse_l_test=mean_squared_error(y_test, y_test_predsvl)\n",
    "    print('MSE train(epsilon=%.1f): %.3f, test(epsilon=%.1f): %.3f' % (i, mse_l_train, i, mse_l_test))\n",
    "    train_errors.append(mse_l_train)\n",
    "    test_errors.append(mse_l_test)\n",
    "    \n",
    "    R2_l=r2_score(y_train, y_train_predsvl)\n",
    "    print('R^2 train(epsilon=%.1f): %.3f' % (i, R2_l))\n",
    "    print()\n",
    "    \n",
    "x = np.arange(len(eps_lst)) + 1 # Create domain for plot\n",
    "plt.plot(eps_lst, train_errors, label='Train Accuracy', color='red') # Plot training error over domain\n",
    "plt.plot(eps_lst, test_errors, label='Test Accuracy', color='green') # Plot testing error over domain\n",
    "plt.xlabel('Epsilon') # Label x-axis\n",
    "plt.ylabel('Accuracy') # Label y-axis\n",
    "plt.legend() # Show plot labels as legend\n",
    "plt.title('Non-Linear SVM Regression')\n",
    "plt.plot() # Show graph"
   ]
  },
  {
   "cell_type": "code",
   "execution_count": null,
   "id": "acb5bead",
   "metadata": {},
   "outputs": [],
   "source": []
  }
 ],
 "metadata": {
  "kernelspec": {
   "display_name": "Python 3 (ipykernel)",
   "language": "python",
   "name": "python3"
  },
  "language_info": {
   "codemirror_mode": {
    "name": "ipython",
    "version": 3
   },
   "file_extension": ".py",
   "mimetype": "text/x-python",
   "name": "python",
   "nbconvert_exporter": "python",
   "pygments_lexer": "ipython3",
   "version": "3.8.2"
  }
 },
 "nbformat": 4,
 "nbformat_minor": 5
}
