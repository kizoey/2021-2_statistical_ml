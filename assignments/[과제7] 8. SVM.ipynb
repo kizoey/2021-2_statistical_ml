{
 "cells": [
  {
   "cell_type": "markdown",
   "id": "9bbfc23a",
   "metadata": {},
   "source": [
    "## [통계적머신러닝] 과제7\n",
    "통계학과 2019150419 기다연<br>\n",
    "2021.10.21"
   ]
  },
  {
   "cell_type": "markdown",
   "id": "ab1ea85d",
   "metadata": {},
   "source": [
    "### 문제1.\n",
    "선형 SVM에서 c값의 변화에 따른 accuracy의 변화와 과대적합에 미치는 영향을 논의하라.\n",
    "- c : 정규화 매개변수. c가 작을수록 정규화 강도가 커짐. (L2), c가 작을수록 규제, 클수록 overfitting\n",
    "- c는 양수의 부동 소숫점이어야 함."
   ]
  },
  {
   "cell_type": "code",
   "execution_count": 1,
   "id": "0d853899",
   "metadata": {},
   "outputs": [],
   "source": [
    "import seaborn as sns\n",
    "iris=sns.load_dataset('iris') # iris data 불러오기\n",
    "X=iris.drop('species',axis=1) # 특성변수만으로 구성된 X data Frame 생성\n",
    "y=iris['species']             # 분류의 목적 변수만으로 구성된 y data Frame생성\n",
    "\n",
    "from sklearn.preprocessing import LabelEncoder #범주형 변수 숫자로 치환하는 함수 호출\n",
    "classle=LabelEncoder()\n",
    "y=classle.fit_transform(iris['species'].values)#범주형 변수 숫자로 치환\n",
    "\n",
    "from sklearn.model_selection import train_test_split #train set과 test set으로 데이터 나누기 위한 함수 호출\n",
    "X_train,X_test,y_train,y_test=train_test_split(X,y, test_size=0.3, random_state=123, stratify=y)\n",
    "\n",
    "from sklearn.preprocessing import StandardScaler #data의 표준화 함수 호출\n",
    "sc=StandardScaler()\n",
    "sc.fit(X_train)\n",
    "X_train_std=sc.transform(X_train)\n",
    "X_test_std=sc.transform(X_test)"
   ]
  },
  {
   "cell_type": "code",
   "execution_count": 2,
   "id": "a894bd51",
   "metadata": {},
   "outputs": [],
   "source": [
    "from sklearn import metrics\n",
    "from sklearn.svm import SVC # SVM함수의 호출"
   ]
  },
  {
   "cell_type": "code",
   "execution_count": 35,
   "id": "7564df32",
   "metadata": {},
   "outputs": [
    {
     "name": "stdout",
     "output_type": "stream",
     "text": [
      "Linear SVM(c=1) \n",
      " Train Accuracy: 0.9904761904761905 \n",
      " Test Accuracy: 0.9777777777777777\n",
      "Linear SVM(c=2) \n",
      " Train Accuracy: 0.9904761904761905 \n",
      " Test Accuracy: 0.9777777777777777\n",
      "Linear SVM(c=3) \n",
      " Train Accuracy: 0.9904761904761905 \n",
      " Test Accuracy: 0.9777777777777777\n",
      "Linear SVM(c=4) \n",
      " Train Accuracy: 0.9904761904761905 \n",
      " Test Accuracy: 0.9333333333333333\n",
      "Linear SVM(c=5) \n",
      " Train Accuracy: 0.9904761904761905 \n",
      " Test Accuracy: 0.9333333333333333\n"
     ]
    }
   ],
   "source": [
    "for i in range (1,6):\n",
    "    svm = SVC(kernel='linear',\n",
    "              C=i,\n",
    "              random_state=1)  # 선형 SVM\n",
    "    svm.fit(X_train,y_train) # SVM추정\n",
    "    y_train_pred=svm.predict(X_train) # train set의 y 예측치 구하기\n",
    "    y_test_pred=svm.predict(X_test)  # test set의 y예측치 구하기\n",
    "    train_accuracy = metrics.accuracy_score(y_train,y_train_pred)   # train set의 accuracy ratio\n",
    "    test_accuracy = metrics.accuracy_score(y_test,y_test_pred)    # test set의 accuracy ratio\n",
    "    print('Linear SVM(c=%d) \\n Train Accuracy: %s \\n Test Accuracy: %s' % (i, train_accuracy, test_accuracy))"
   ]
  },
  {
   "cell_type": "code",
   "execution_count": 60,
   "id": "e6023a48",
   "metadata": {},
   "outputs": [
    {
     "data": {
      "text/plain": [
       "[]"
      ]
     },
     "execution_count": 60,
     "metadata": {},
     "output_type": "execute_result"
    },
    {
     "data": {
      "image/png": "[encoded data removed]",
      "text/plain": [
       "<Figure size 432x288 with 1 Axes>"
      ]
     },
     "metadata": {
      "needs_background": "light"
     },
     "output_type": "display_data"
    }
   ],
   "source": [
    "# rbf, gamma = scale\n",
    "import numpy as np\n",
    "import matplotlib.pyplot as plt\n",
    "from sklearn.metrics import accuracy_score \n",
    "\n",
    "c_list = [1,2,3,4,5]\n",
    "\n",
    "train_errors = [] # Log training errors for each model\n",
    "test_errors = [] # Log testing errors for each model\n",
    "\n",
    "for x in c_list:\n",
    "    dtc=SVC(kernel='linear',C=x,random_state=1, gamma='scale')\n",
    "    dtc.fit(X_train,y_train)\n",
    "    train_z = dtc.predict(X_train)\n",
    "    test_z = dtc.predict(X_test)\n",
    "    train_errors.append(accuracy_score(y_train, train_z))\n",
    "    test_errors.append(accuracy_score(y_test, test_z))\n",
    "\n",
    "x = np.arange(len(c_list)) + 1 # Create domain for plot\n",
    "plt.plot(x, train_errors, label='Train Accuracy', color='red') # Plot training error over domain\n",
    "plt.plot(x, test_errors, label='Test Accuracy', color='green') # Plot testing error over domain\n",
    "plt.xlabel('C value(gamma=scale)') # Label x-axis\n",
    "plt.ylabel('Total Accuracy') # Label y-axis\n",
    "plt.legend() # Show plot labels as legend\n",
    "plt.title('Linear SVM Accuracy by C values')\n",
    "plt.plot() # Show graph"
   ]
  },
  {
   "cell_type": "markdown",
   "id": "6a2597fa",
   "metadata": {},
   "source": [
    "### 문제2.\n",
    "교재의 비선형 SVM 모형(p158)에서 kenel='rbf', 'poly', 'sigmoid'으로 변경하고 c와 gamma를 변경하여 accuracy와 과대적합에 미치는 영향을 논의하라.\n",
    "\n",
    "#### rbf"
   ]
  },
  {
   "cell_type": "code",
   "execution_count": 38,
   "id": "019aed40",
   "metadata": {},
   "outputs": [
    {
     "name": "stdout",
     "output_type": "stream",
     "text": [
      "Kernal SVM(rbf) (c=1) \n",
      " Train Accuracy: 0.9904761904761905 \n",
      " Test Accuracy: 0.9555555555555556\n",
      "Kernal SVM(rbf) (c=2) \n",
      " Train Accuracy: 0.9904761904761905 \n",
      " Test Accuracy: 0.9555555555555556\n",
      "Kernal SVM(rbf) (c=3) \n",
      " Train Accuracy: 0.9904761904761905 \n",
      " Test Accuracy: 0.9555555555555556\n",
      "Kernal SVM(rbf) (c=4) \n",
      " Train Accuracy: 0.9904761904761905 \n",
      " Test Accuracy: 0.9777777777777777\n",
      "Kernal SVM(rbf) (c=5) \n",
      " Train Accuracy: 0.9904761904761905 \n",
      " Test Accuracy: 0.9777777777777777\n"
     ]
    }
   ],
   "source": [
    "# Kernel SVM (비선형인 경우에 사용)\n",
    "# rbf (방사형기저함수) + c값 변화\n",
    "for i in range(1,6):\n",
    "    ksvm = SVC(kernel='rbf',\n",
    "               C=i,\n",
    "               gamma=0.2,\n",
    "               random_state=1)  # rbf: 방사형기저함수\n",
    "    # 감마가 클수록 과적합될 가능성이 높아지므로 감마를 좀 더 감소할 필요가 있음\n",
    "    ksvm.fit(X_train,y_train)\n",
    "\n",
    "    y_train_pred=ksvm.predict(X_train) # kernel SVM을 이용한 train set의 y 예측치 구하기\n",
    "    y_test_pred=ksvm.predict(X_test) # kernel SVM을 이용한 #test set의 y예측치 구하기\n",
    "    train_accuracy = metrics.accuracy_score(y_train,y_train_pred)   # train set의 accuracy ratio\n",
    "    test_accuracy = metrics.accuracy_score(y_test,y_test_pred)    # test set의 accuracy ratio\n",
    "    print('Kernal SVM(rbf) (c=%d) \\n Train Accuracy: %s \\n Test Accuracy: %s' % (i, train_accuracy, test_accuracy))"
   ]
  },
  {
   "cell_type": "code",
   "execution_count": 71,
   "id": "f6024ae0",
   "metadata": {},
   "outputs": [
    {
     "data": {
      "text/plain": [
       "[]"
      ]
     },
     "execution_count": 71,
     "metadata": {},
     "output_type": "execute_result"
    },
    {
     "data": {
      "image/png": "[encoded data removed]",
      "text/plain": [
       "<Figure size 432x288 with 1 Axes>"
      ]
     },
     "metadata": {
      "needs_background": "light"
     },
     "output_type": "display_data"
    }
   ],
   "source": [
    "c_list = [1,5,10,15]\n",
    "\n",
    "train_errors = [] \n",
    "test_errors = [] \n",
    "\n",
    "for x in c_list:\n",
    "    dtc=SVC(kernel='rbf',C=x,random_state=1, gamma='scale')\n",
    "    dtc.fit(X_train,y_train)\n",
    "    train_z = dtc.predict(X_train)\n",
    "    test_z = dtc.predict(X_test)\n",
    "    train_errors.append(accuracy_score(y_train, train_z))\n",
    "    test_errors.append(accuracy_score(y_test, test_z))\n",
    "\n",
    "x = np.arange(len(c_list)) + 1 # Create domain for plot\n",
    "plt.plot(x, train_errors, label='Train Accuracy', color='red') # Plot training error over domain\n",
    "plt.plot(x, test_errors, label='Test Accuracy', color='green') # Plot testing error over domain\n",
    "plt.xlabel('C value(gamma=scale)') # Label x-axis\n",
    "plt.xticks(list(range(len(c_list))), c_list)\n",
    "plt.ylabel('Total Accuracy') # Label y-axis\n",
    "plt.legend() # Show plot labels as legend\n",
    "plt.title('RBF Kernal Accuracy by C values (gamma=scale)')\n",
    "plt.plot() # Show graph"
   ]
  },
  {
   "cell_type": "code",
   "execution_count": 29,
   "id": "e3386483",
   "metadata": {},
   "outputs": [
    {
     "name": "stdout",
     "output_type": "stream",
     "text": [
      "Kernal SVM(rbf) (gamma=0.1) \n",
      " Train Accuracy: 0.9809523809523809 \n",
      " Test Accuracy: 0.9555555555555556\n",
      "Kernal SVM(rbf) (gamma=0.2) \n",
      " Train Accuracy: 0.9904761904761905 \n",
      " Test Accuracy: 0.9555555555555556\n",
      "Kernal SVM(rbf) (gamma=0.3) \n",
      " Train Accuracy: 0.9904761904761905 \n",
      " Test Accuracy: 0.9555555555555556\n",
      "Kernal SVM(rbf) (gamma=0.4) \n",
      " Train Accuracy: 0.9904761904761905 \n",
      " Test Accuracy: 0.9555555555555556\n",
      "Kernal SVM(rbf) (gamma=0.5) \n",
      " Train Accuracy: 0.9904761904761905 \n",
      " Test Accuracy: 0.9555555555555556\n"
     ]
    }
   ],
   "source": [
    "# Kernel SVM (비선형인 경우에 사용)\n",
    "# rbf (방사형기저함수) + gamma값 변화\n",
    "import numpy\n",
    "gamma_list = numpy.arange(0.1, 0.6, 0.1)\n",
    "\n",
    "for i in gamma_list:\n",
    "    ksvm = SVC(kernel='rbf',\n",
    "               C=1.0,\n",
    "               gamma=i,\n",
    "               random_state=1)  # rbf: 방사형기저함수\n",
    "    # 감마가 클수록 과적합될 가능성이 높아지므로 감마를 좀 더 감소할 필요가 있음\n",
    "    ksvm.fit(X_train,y_train)\n",
    "\n",
    "    y_train_pred=ksvm.predict(X_train) # kernel SVM을 이용한 train set의 y 예측치 구하기\n",
    "    y_test_pred=ksvm.predict(X_test) # kernel SVM을 이용한 #test set의 y예측치 구하기\n",
    "    train_accuracy = metrics.accuracy_score(y_train,y_train_pred)   # train set의 accuracy ratio\n",
    "    test_accuracy = metrics.accuracy_score(y_test,y_test_pred)    # test set의 accuracy ratio\n",
    "    print('Kernal SVM(rbf) (gamma=%0.1f) \\n Train Accuracy: %s \\n Test Accuracy: %s' % (i, train_accuracy, test_accuracy))"
   ]
  },
  {
   "cell_type": "code",
   "execution_count": 65,
   "id": "156f21cb",
   "metadata": {},
   "outputs": [
    {
     "data": {
      "text/plain": [
       "[]"
      ]
     },
     "execution_count": 65,
     "metadata": {},
     "output_type": "execute_result"
    },
    {
     "data": {
      "image/png": "[encoded data removed]",
      "text/plain": [
       "<Figure size 432x288 with 1 Axes>"
      ]
     },
     "metadata": {
      "needs_background": "light"
     },
     "output_type": "display_data"
    }
   ],
   "source": [
    "gamma_list = [.1, .2, .3, .4, .5]\n",
    "\n",
    "train_errors = [] \n",
    "test_errors = [] \n",
    "\n",
    "for x in gamma_list:\n",
    "    dtc=SVC(kernel='rbf',C=1.0,random_state=1, gamma=x)\n",
    "    dtc.fit(X_train,y_train)\n",
    "    train_z = dtc.predict(X_train)\n",
    "    test_z = dtc.predict(X_test)\n",
    "    train_errors.append(accuracy_score(y_train, train_z))\n",
    "    test_errors.append(accuracy_score(y_test, test_z))\n",
    "\n",
    "x = np.arange(len(gamma_list)) + 1 # Create domain for plot\n",
    "plt.plot(x, train_errors, label='Train Accuracy', color='orange') # Plot training error over domain\n",
    "plt.plot(x, test_errors, label='Test Accuracy', color='purple') # Plot testing error over domain\n",
    "plt.xlabel('gamma value') # Label x-axis\n",
    "plt.ylabel('Total Accuracy') # Label y-axis\n",
    "plt.xticks(list(range(len(gamma_list))), gamma_list)\n",
    "plt.legend() # Show plot labels as legend\n",
    "plt.title('RBF Kernel Accuracy by gamma values (C=1.0)')\n",
    "plt.plot() # Show graph"
   ]
  },
  {
   "cell_type": "markdown",
   "id": "eff73620",
   "metadata": {},
   "source": [
    "#### poly"
   ]
  },
  {
   "cell_type": "code",
   "execution_count": 30,
   "id": "6bfb9a54",
   "metadata": {},
   "outputs": [
    {
     "name": "stdout",
     "output_type": "stream",
     "text": [
      "Kernal SVM(poly) (c=1) \n",
      " Train Accuracy: 0.9904761904761905 \n",
      " Test Accuracy: 0.9555555555555556\n",
      "Kernal SVM(poly) (c=2) \n",
      " Train Accuracy: 0.9904761904761905 \n",
      " Test Accuracy: 0.9555555555555556\n",
      "Kernal SVM(poly) (c=3) \n",
      " Train Accuracy: 0.9904761904761905 \n",
      " Test Accuracy: 0.9555555555555556\n",
      "Kernal SVM(poly) (c=4) \n",
      " Train Accuracy: 0.9904761904761905 \n",
      " Test Accuracy: 0.9555555555555556\n",
      "Kernal SVM(poly) (c=5) \n",
      " Train Accuracy: 0.9904761904761905 \n",
      " Test Accuracy: 0.9555555555555556\n",
      "Kernal SVM(poly) (c=6) \n",
      " Train Accuracy: 0.9904761904761905 \n",
      " Test Accuracy: 0.9333333333333333\n",
      "Kernal SVM(poly) (c=7) \n",
      " Train Accuracy: 0.9904761904761905 \n",
      " Test Accuracy: 0.9333333333333333\n",
      "Kernal SVM(poly) (c=8) \n",
      " Train Accuracy: 0.9904761904761905 \n",
      " Test Accuracy: 0.9333333333333333\n",
      "Kernal SVM(poly) (c=9) \n",
      " Train Accuracy: 0.9904761904761905 \n",
      " Test Accuracy: 0.9333333333333333\n"
     ]
    }
   ],
   "source": [
    "# Kernel SVM (비선형인 경우에 사용)\n",
    "# poly (p차 다항함수) + c값 변화\n",
    "for i in range(1,10):\n",
    "    ksvm = SVC(kernel='poly',\n",
    "               C=i,\n",
    "               gamma=0.2,\n",
    "               random_state=1)\n",
    "    # 감마가 클수록 과적합될 가능성이 높아지므로 감마를 좀 더 감소할 필요가 있음\n",
    "    ksvm.fit(X_train,y_train)\n",
    "\n",
    "    y_train_pred=ksvm.predict(X_train) # kernel SVM을 이용한 train set의 y 예측치 구하기\n",
    "    y_test_pred=ksvm.predict(X_test) # kernel SVM을 이용한 #test set의 y예측치 구하기\n",
    "    train_accuracy = metrics.accuracy_score(y_train,y_train_pred)   # train set의 accuracy ratio\n",
    "    test_accuracy = metrics.accuracy_score(y_test,y_test_pred)    # test set의 accuracy ratio\n",
    "    print('Kernal SVM(poly) (c=%d) \\n Train Accuracy: %s \\n Test Accuracy: %s' % (i, train_accuracy, test_accuracy))"
   ]
  },
  {
   "cell_type": "code",
   "execution_count": 72,
   "id": "8d729281",
   "metadata": {},
   "outputs": [
    {
     "data": {
      "text/plain": [
       "[]"
      ]
     },
     "execution_count": 72,
     "metadata": {},
     "output_type": "execute_result"
    },
    {
     "data": {
      "image/png": "[encoded data removed]",
      "text/plain": [
       "<Figure size 432x288 with 1 Axes>"
      ]
     },
     "metadata": {
      "needs_background": "light"
     },
     "output_type": "display_data"
    }
   ],
   "source": [
    "c_list = [1,5,10,15]\n",
    "\n",
    "train_errors = [] \n",
    "test_errors = [] \n",
    "\n",
    "for x in c_list:\n",
    "    dtc=SVC(kernel='poly',C=x,random_state=1, gamma='scale')\n",
    "    dtc.fit(X_train,y_train)\n",
    "    train_z = dtc.predict(X_train)\n",
    "    test_z = dtc.predict(X_test)\n",
    "    train_errors.append(accuracy_score(y_train, train_z))\n",
    "    test_errors.append(accuracy_score(y_test, test_z))\n",
    "\n",
    "x = np.arange(len(c_list)) + 1 # Create domain for plot\n",
    "plt.plot(x, train_errors, label='Train Accuracy', color='red') # Plot training error over domain\n",
    "plt.plot(x, test_errors, label='Test Accuracy', color='green') # Plot testing error over domain\n",
    "plt.xlabel('C value(gamma=scale)') # Label x-axis\n",
    "plt.ylabel('Total Accuracy') # Label y-axis\n",
    "plt.xticks(list(range(len(c_list))), c_list)\n",
    "plt.legend() # Show plot labels as legend\n",
    "plt.title('Poly Kernal Accuracy by C values (gamma=scale)')\n",
    "plt.plot() # Show graph"
   ]
  },
  {
   "cell_type": "code",
   "execution_count": 31,
   "id": "e0ac8055",
   "metadata": {},
   "outputs": [
    {
     "name": "stdout",
     "output_type": "stream",
     "text": [
      "Kernal SVM(poly) (gamma=0.1) \n",
      " Train Accuracy: 0.9904761904761905 \n",
      " Test Accuracy: 0.9555555555555556\n",
      "Kernal SVM(poly) (gamma=0.2) \n",
      " Train Accuracy: 0.9904761904761905 \n",
      " Test Accuracy: 0.9555555555555556\n",
      "Kernal SVM(poly) (gamma=0.3) \n",
      " Train Accuracy: 0.9904761904761905 \n",
      " Test Accuracy: 0.9555555555555556\n",
      "Kernal SVM(poly) (gamma=0.4) \n",
      " Train Accuracy: 0.9904761904761905 \n",
      " Test Accuracy: 0.9333333333333333\n",
      "Kernal SVM(poly) (gamma=0.5) \n",
      " Train Accuracy: 0.9904761904761905 \n",
      " Test Accuracy: 0.9333333333333333\n"
     ]
    }
   ],
   "source": [
    "# Kernel SVM (비선형인 경우에 사용)\n",
    "# poly (p차 다항함수) + gamma값 변화\n",
    "import numpy\n",
    "gamma_list = numpy.arange(0.1, 0.6, 0.1)\n",
    "\n",
    "for i in gamma_list:\n",
    "    ksvm = SVC(kernel='poly',\n",
    "               C=1.0,\n",
    "               gamma=i,\n",
    "               random_state=1)\n",
    "    # 감마가 클수록 과적합될 가능성이 높아지므로 감마를 좀 더 감소할 필요가 있음\n",
    "    ksvm.fit(X_train,y_train)\n",
    "\n",
    "    y_train_pred=ksvm.predict(X_train) # kernel SVM을 이용한 train set의 y 예측치 구하기\n",
    "    y_test_pred=ksvm.predict(X_test) # kernel SVM을 이용한 #test set의 y예측치 구하기\n",
    "    train_accuracy = metrics.accuracy_score(y_train,y_train_pred)   # train set의 accuracy ratio\n",
    "    test_accuracy = metrics.accuracy_score(y_test,y_test_pred)    # test set의 accuracy ratio\n",
    "    print('Kernal SVM(poly) (gamma=%0.1f) \\n Train Accuracy: %s \\n Test Accuracy: %s' % (i, train_accuracy, test_accuracy))"
   ]
  },
  {
   "cell_type": "code",
   "execution_count": 74,
   "id": "d0939c28",
   "metadata": {},
   "outputs": [
    {
     "data": {
      "text/plain": [
       "[]"
      ]
     },
     "execution_count": 74,
     "metadata": {},
     "output_type": "execute_result"
    },
    {
     "data": {
      "image/png": "[encoded data removed]",
      "text/plain": [
       "<Figure size 432x288 with 1 Axes>"
      ]
     },
     "metadata": {
      "needs_background": "light"
     },
     "output_type": "display_data"
    }
   ],
   "source": [
    "gamma_list = [.1, .2, .3, .4, .5]\n",
    "\n",
    "train_errors = [] \n",
    "test_errors = [] \n",
    "\n",
    "for x in gamma_list:\n",
    "    dtc=SVC(kernel='poly',C=1.0,random_state=1, gamma=x)\n",
    "    dtc.fit(X_train,y_train)\n",
    "    train_z = dtc.predict(X_train)\n",
    "    test_z = dtc.predict(X_test)\n",
    "    train_errors.append(accuracy_score(y_train, train_z))\n",
    "    test_errors.append(accuracy_score(y_test, test_z))\n",
    "\n",
    "x = np.arange(len(gamma_list)) + 1 # Create domain for plot\n",
    "plt.plot(x, train_errors, label='Train Accuracy', color='orange') # Plot training error over domain\n",
    "plt.plot(x, test_errors, label='Test Accuracy', color='purple') # Plot testing error over domain\n",
    "plt.xlabel('gamma value') # Label x-axis\n",
    "plt.ylabel('Total Accuracy') # Label y-axis\n",
    "plt.xticks(list(range(len(gamma_list))), gamma_list)\n",
    "plt.legend() # Show plot labels as legend\n",
    "plt.title('Poly Kernel Accuracy by gamma values (C=1.0)')\n",
    "plt.plot() # Show graph"
   ]
  },
  {
   "cell_type": "markdown",
   "id": "0e1e4dae",
   "metadata": {},
   "source": [
    "#### sigmoid"
   ]
  },
  {
   "cell_type": "code",
   "execution_count": 32,
   "id": "36eb61f4",
   "metadata": {},
   "outputs": [
    {
     "name": "stdout",
     "output_type": "stream",
     "text": [
      "Kernal SVM(sigmoid) (c=1) \n",
      " Train Accuracy: 0.06666666666666667 \n",
      " Test Accuracy: 0.044444444444444446\n",
      "Kernal SVM(sigmoid) (c=2) \n",
      " Train Accuracy: 0.06666666666666667 \n",
      " Test Accuracy: 0.044444444444444446\n",
      "Kernal SVM(sigmoid) (c=3) \n",
      " Train Accuracy: 0.06666666666666667 \n",
      " Test Accuracy: 0.044444444444444446\n",
      "Kernal SVM(sigmoid) (c=4) \n",
      " Train Accuracy: 0.06666666666666667 \n",
      " Test Accuracy: 0.044444444444444446\n",
      "Kernal SVM(sigmoid) (c=5) \n",
      " Train Accuracy: 0.06666666666666667 \n",
      " Test Accuracy: 0.044444444444444446\n",
      "Kernal SVM(sigmoid) (c=6) \n",
      " Train Accuracy: 0.06666666666666667 \n",
      " Test Accuracy: 0.044444444444444446\n",
      "Kernal SVM(sigmoid) (c=7) \n",
      " Train Accuracy: 0.06666666666666667 \n",
      " Test Accuracy: 0.044444444444444446\n",
      "Kernal SVM(sigmoid) (c=8) \n",
      " Train Accuracy: 0.06666666666666667 \n",
      " Test Accuracy: 0.044444444444444446\n",
      "Kernal SVM(sigmoid) (c=9) \n",
      " Train Accuracy: 0.06666666666666667 \n",
      " Test Accuracy: 0.044444444444444446\n"
     ]
    }
   ],
   "source": [
    "# Kernel SVM (비선형인 경우에 사용)\n",
    "# sigmoid (시그모이드) + c값 변화\n",
    "for i in range(1,10):\n",
    "    ksvm = SVC(kernel='sigmoid',\n",
    "               C=i,\n",
    "               gamma=0.2,\n",
    "               random_state=1)\n",
    "    # 감마가 클수록 과적합될 가능성이 높아지므로 감마를 좀 더 감소할 필요가 있음\n",
    "    ksvm.fit(X_train,y_train)\n",
    "\n",
    "    y_train_pred=ksvm.predict(X_train) # kernel SVM을 이용한 train set의 y 예측치 구하기\n",
    "    y_test_pred=ksvm.predict(X_test) # kernel SVM을 이용한 #test set의 y예측치 구하기\n",
    "    train_accuracy = metrics.accuracy_score(y_train,y_train_pred)   # train set의 accuracy ratio\n",
    "    test_accuracy = metrics.accuracy_score(y_test,y_test_pred)    # test set의 accuracy ratio\n",
    "    print('Kernal SVM(sigmoid) (c=%d) \\n Train Accuracy: %s \\n Test Accuracy: %s' % (i, train_accuracy, test_accuracy))"
   ]
  },
  {
   "cell_type": "code",
   "execution_count": 75,
   "id": "13adc92e",
   "metadata": {},
   "outputs": [
    {
     "data": {
      "text/plain": [
       "[]"
      ]
     },
     "execution_count": 75,
     "metadata": {},
     "output_type": "execute_result"
    },
    {
     "data": {
      "image/png": "[encoded data removed]",
      "text/plain": [
       "<Figure size 432x288 with 1 Axes>"
      ]
     },
     "metadata": {
      "needs_background": "light"
     },
     "output_type": "display_data"
    }
   ],
   "source": [
    "c_list = [1,5,10,15]\n",
    "\n",
    "train_errors = [] \n",
    "test_errors = [] \n",
    "\n",
    "for x in c_list:\n",
    "    dtc=SVC(kernel='sigmoid',C=x,random_state=1, gamma='scale')\n",
    "    dtc.fit(X_train,y_train)\n",
    "    train_z = dtc.predict(X_train)\n",
    "    test_z = dtc.predict(X_test)\n",
    "    train_errors.append(accuracy_score(y_train, train_z))\n",
    "    test_errors.append(accuracy_score(y_test, test_z))\n",
    "\n",
    "x = np.arange(len(c_list)) + 1 # Create domain for plot\n",
    "plt.plot(x, train_errors, label='Train Accuracy', color='red') # Plot training error over domain\n",
    "plt.plot(x, test_errors, label='Test Accuracy', color='green') # Plot testing error over domain\n",
    "plt.xlabel('C value(gamma=scale)') # Label x-axis\n",
    "plt.ylabel('Total Accuracy') # Label y-axis\n",
    "plt.xticks(list(range(len(c_list))), c_list)\n",
    "plt.legend() # Show plot labels as legend\n",
    "plt.title('Sigmoid Kernal Accuracy by C values (gamma=scale)')\n",
    "plt.plot() # Show graph"
   ]
  },
  {
   "cell_type": "code",
   "execution_count": 33,
   "id": "29741ee1",
   "metadata": {},
   "outputs": [
    {
     "name": "stdout",
     "output_type": "stream",
     "text": [
      "Kernal SVM(sigmoid) (gamma=0.1) \n",
      " Train Accuracy: 0.06666666666666667 \n",
      " Test Accuracy: 0.044444444444444446\n",
      "Kernal SVM(sigmoid) (gamma=0.2) \n",
      " Train Accuracy: 0.06666666666666667 \n",
      " Test Accuracy: 0.044444444444444446\n",
      "Kernal SVM(sigmoid) (gamma=0.3) \n",
      " Train Accuracy: 0.3333333333333333 \n",
      " Test Accuracy: 0.3333333333333333\n",
      "Kernal SVM(sigmoid) (gamma=0.4) \n",
      " Train Accuracy: 0.3333333333333333 \n",
      " Test Accuracy: 0.3333333333333333\n",
      "Kernal SVM(sigmoid) (gamma=0.5) \n",
      " Train Accuracy: 0.3333333333333333 \n",
      " Test Accuracy: 0.3333333333333333\n"
     ]
    }
   ],
   "source": [
    "# Kernel SVM (비선형인 경우에 사용)\n",
    "# sigmoid (시그모이드) + gamma값 변화\n",
    "import numpy\n",
    "gamma_list = numpy.arange(0.1, 0.6, 0.1)\n",
    "\n",
    "for i in gamma_list:\n",
    "    ksvm = SVC(kernel='sigmoid',\n",
    "               C=1.0,\n",
    "               gamma=i,\n",
    "               random_state=1)\n",
    "    # 감마가 클수록 과적합될 가능성이 높아지므로 감마를 좀 더 감소할 필요가 있음\n",
    "    ksvm.fit(X_train,y_train)\n",
    "\n",
    "    y_train_pred=ksvm.predict(X_train) # kernel SVM을 이용한 train set의 y 예측치 구하기\n",
    "    y_test_pred=ksvm.predict(X_test) # kernel SVM을 이용한 #test set의 y예측치 구하기\n",
    "    train_accuracy = metrics.accuracy_score(y_train,y_train_pred)   # train set의 accuracy ratio\n",
    "    test_accuracy = metrics.accuracy_score(y_test,y_test_pred)    # test set의 accuracy ratio\n",
    "    print('Kernal SVM(sigmoid) (gamma=%0.1f) \\n Train Accuracy: %s \\n Test Accuracy: %s' % (i, train_accuracy, test_accuracy))"
   ]
  },
  {
   "cell_type": "code",
   "execution_count": 76,
   "id": "9018aef8",
   "metadata": {},
   "outputs": [
    {
     "data": {
      "text/plain": [
       "[]"
      ]
     },
     "execution_count": 76,
     "metadata": {},
     "output_type": "execute_result"
    },
    {
     "data": {
      "image/png": "[encoded data removed]",
      "text/plain": [
       "<Figure size 432x288 with 1 Axes>"
      ]
     },
     "metadata": {
      "needs_background": "light"
     },
     "output_type": "display_data"
    }
   ],
   "source": [
    "gamma_list = [.1, .2, .3, .4, .5]\n",
    "\n",
    "train_errors = [] \n",
    "test_errors = [] \n",
    "\n",
    "for x in gamma_list:\n",
    "    dtc=SVC(kernel='sigmoid',C=1.0,random_state=1, gamma=x)\n",
    "    dtc.fit(X_train,y_train)\n",
    "    train_z = dtc.predict(X_train)\n",
    "    test_z = dtc.predict(X_test)\n",
    "    train_errors.append(accuracy_score(y_train, train_z))\n",
    "    test_errors.append(accuracy_score(y_test, test_z))\n",
    "\n",
    "x = np.arange(len(gamma_list)) + 1 # Create domain for plot\n",
    "plt.plot(x, train_errors, label='Train Accuracy', color='orange') # Plot training error over domain\n",
    "plt.plot(x, test_errors, label='Test Accuracy', color='purple') # Plot testing error over domain\n",
    "plt.xlabel('gamma value') # Label x-axis\n",
    "plt.ylabel('Total Accuracy') # Label y-axis\n",
    "plt.xticks(list(range(len(gamma_list))), gamma_list)\n",
    "plt.legend() # Show plot labels as legend\n",
    "plt.title('Sigmoid Kernel Accuracy by gamma values (C=1.0)')\n",
    "plt.plot() # Show graph"
   ]
  }
 ],
 "metadata": {
  "kernelspec": {
   "display_name": "Python 3 (ipykernel)",
   "language": "python",
   "name": "python3"
  },
  "language_info": {
   "codemirror_mode": {
    "name": "ipython",
    "version": 3
   },
   "file_extension": ".py",
   "mimetype": "text/x-python",
   "name": "python",
   "nbconvert_exporter": "python",
   "pygments_lexer": "ipython3",
   "version": "3.8.2"
  }
 },
 "nbformat": 4,
 "nbformat_minor": 5
}
