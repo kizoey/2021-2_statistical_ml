{
 "cells": [
  {
   "cell_type": "markdown",
   "id": "2df365b0",
   "metadata": {},
   "source": [
    "## [통계적머신러닝] 과제8\n",
    "통계학과 2019150419 기다연<br>\n",
    "2021.10.26"
   ]
  },
  {
   "cell_type": "markdown",
   "id": "820b714a",
   "metadata": {},
   "source": [
    "### 문제1.\n",
    "Wine data를 이용해 MDS, local MDS, LLE, Isomap, t-SNE의 성능을 비교하라. (각 차원축소 기법 적용한 뒤에 로지스틱 회귀 적용)"
   ]
  },
  {
   "cell_type": "markdown",
   "id": "eef987b5",
   "metadata": {},
   "source": [
    "### 1. 단순 Logistic"
   ]
  },
  {
   "cell_type": "code",
   "execution_count": 54,
   "id": "584283f3",
   "metadata": {},
   "outputs": [
    {
     "data": {
      "text/html": [
       "<div>\n",
       "<style scoped>\n",
       "    .dataframe tbody tr th:only-of-type {\n",
       "        vertical-align: middle;\n",
       "    }\n",
       "\n",
       "    .dataframe tbody tr th {\n",
       "        vertical-align: top;\n",
       "    }\n",
       "\n",
       "    .dataframe thead th {\n",
       "        text-align: right;\n",
       "    }\n",
       "</style>\n",
       "<table border=\"1\" class=\"dataframe\">\n",
       "  <thead>\n",
       "    <tr style=\"text-align: right;\">\n",
       "      <th></th>\n",
       "      <th>0</th>\n",
       "      <th>1</th>\n",
       "      <th>2</th>\n",
       "      <th>3</th>\n",
       "      <th>4</th>\n",
       "      <th>5</th>\n",
       "      <th>6</th>\n",
       "      <th>7</th>\n",
       "      <th>8</th>\n",
       "      <th>9</th>\n",
       "      <th>10</th>\n",
       "      <th>11</th>\n",
       "      <th>12</th>\n",
       "      <th>13</th>\n",
       "    </tr>\n",
       "  </thead>\n",
       "  <tbody>\n",
       "    <tr>\n",
       "      <th>0</th>\n",
       "      <td>1</td>\n",
       "      <td>14.23</td>\n",
       "      <td>1.71</td>\n",
       "      <td>2.43</td>\n",
       "      <td>15.6</td>\n",
       "      <td>127</td>\n",
       "      <td>2.80</td>\n",
       "      <td>3.06</td>\n",
       "      <td>0.28</td>\n",
       "      <td>2.29</td>\n",
       "      <td>5.64</td>\n",
       "      <td>1.04</td>\n",
       "      <td>3.92</td>\n",
       "      <td>1065</td>\n",
       "    </tr>\n",
       "    <tr>\n",
       "      <th>1</th>\n",
       "      <td>1</td>\n",
       "      <td>13.20</td>\n",
       "      <td>1.78</td>\n",
       "      <td>2.14</td>\n",
       "      <td>11.2</td>\n",
       "      <td>100</td>\n",
       "      <td>2.65</td>\n",
       "      <td>2.76</td>\n",
       "      <td>0.26</td>\n",
       "      <td>1.28</td>\n",
       "      <td>4.38</td>\n",
       "      <td>1.05</td>\n",
       "      <td>3.40</td>\n",
       "      <td>1050</td>\n",
       "    </tr>\n",
       "    <tr>\n",
       "      <th>2</th>\n",
       "      <td>1</td>\n",
       "      <td>13.16</td>\n",
       "      <td>2.36</td>\n",
       "      <td>2.67</td>\n",
       "      <td>18.6</td>\n",
       "      <td>101</td>\n",
       "      <td>2.80</td>\n",
       "      <td>3.24</td>\n",
       "      <td>0.30</td>\n",
       "      <td>2.81</td>\n",
       "      <td>5.68</td>\n",
       "      <td>1.03</td>\n",
       "      <td>3.17</td>\n",
       "      <td>1185</td>\n",
       "    </tr>\n",
       "    <tr>\n",
       "      <th>3</th>\n",
       "      <td>1</td>\n",
       "      <td>14.37</td>\n",
       "      <td>1.95</td>\n",
       "      <td>2.50</td>\n",
       "      <td>16.8</td>\n",
       "      <td>113</td>\n",
       "      <td>3.85</td>\n",
       "      <td>3.49</td>\n",
       "      <td>0.24</td>\n",
       "      <td>2.18</td>\n",
       "      <td>7.80</td>\n",
       "      <td>0.86</td>\n",
       "      <td>3.45</td>\n",
       "      <td>1480</td>\n",
       "    </tr>\n",
       "    <tr>\n",
       "      <th>4</th>\n",
       "      <td>1</td>\n",
       "      <td>13.24</td>\n",
       "      <td>2.59</td>\n",
       "      <td>2.87</td>\n",
       "      <td>21.0</td>\n",
       "      <td>118</td>\n",
       "      <td>2.80</td>\n",
       "      <td>2.69</td>\n",
       "      <td>0.39</td>\n",
       "      <td>1.82</td>\n",
       "      <td>4.32</td>\n",
       "      <td>1.04</td>\n",
       "      <td>2.93</td>\n",
       "      <td>735</td>\n",
       "    </tr>\n",
       "  </tbody>\n",
       "</table>\n",
       "</div>"
      ],
      "text/plain": [
       "   0      1     2     3     4    5     6     7     8     9     10    11    12  \\\n",
       "0   1  14.23  1.71  2.43  15.6  127  2.80  3.06  0.28  2.29  5.64  1.04  3.92   \n",
       "1   1  13.20  1.78  2.14  11.2  100  2.65  2.76  0.26  1.28  4.38  1.05  3.40   \n",
       "2   1  13.16  2.36  2.67  18.6  101  2.80  3.24  0.30  2.81  5.68  1.03  3.17   \n",
       "3   1  14.37  1.95  2.50  16.8  113  3.85  3.49  0.24  2.18  7.80  0.86  3.45   \n",
       "4   1  13.24  2.59  2.87  21.0  118  2.80  2.69  0.39  1.82  4.32  1.04  2.93   \n",
       "\n",
       "     13  \n",
       "0  1065  \n",
       "1  1050  \n",
       "2  1185  \n",
       "3  1480  \n",
       "4   735  "
      ]
     },
     "execution_count": 54,
     "metadata": {},
     "output_type": "execute_result"
    }
   ],
   "source": [
    "# wine data 불러오기 (12개의 특성변수 존재)\n",
    "import pandas as pd\n",
    "dat_wine=pd.read_csv('http://archive.ics.uci.edu/ml/machine-learning-databases/'\n",
    "                     'wine/wine.data',header=None) # wine data 불러오기\n",
    "dat_wine.head()"
   ]
  },
  {
   "cell_type": "code",
   "execution_count": 55,
   "id": "dcde1751",
   "metadata": {},
   "outputs": [],
   "source": [
    "from sklearn.model_selection import train_test_split\n",
    "X,y=dat_wine.iloc[:,1:].values, dat_wine.iloc[:,0].values\n",
    "\n",
    "# 단위에 따라 예민하는 PCA이므로, 변수들을 잘 측정하고 PCA의 accuracy를 높이기 위해서는 Scaling 작업을 해준다.\n",
    "# Scaling을 해줌으로써 단위를 맞추게 되고, PCA의 성능이 높아진다.\n",
    "from sklearn.preprocessing import StandardScaler\n",
    "std=StandardScaler()\n",
    "X_std=std.fit_transform(X)"
   ]
  },
  {
   "cell_type": "code",
   "execution_count": 32,
   "id": "c5f11bd3",
   "metadata": {},
   "outputs": [
    {
     "data": {
      "text/plain": [
       "(178, 13)"
      ]
     },
     "execution_count": 32,
     "metadata": {},
     "output_type": "execute_result"
    }
   ],
   "source": [
    "X.shape"
   ]
  },
  {
   "cell_type": "code",
   "execution_count": 33,
   "id": "8ba8f4c1",
   "metadata": {},
   "outputs": [
    {
     "data": {
      "text/plain": [
       "(178,)"
      ]
     },
     "execution_count": 33,
     "metadata": {},
     "output_type": "execute_result"
    }
   ],
   "source": [
    "y.shape"
   ]
  },
  {
   "cell_type": "code",
   "execution_count": 35,
   "id": "8d9798a4",
   "metadata": {},
   "outputs": [
    {
     "data": {
      "text/plain": [
       "(178, 13)"
      ]
     },
     "execution_count": 35,
     "metadata": {},
     "output_type": "execute_result"
    }
   ],
   "source": [
    "X_std.shape"
   ]
  },
  {
   "cell_type": "code",
   "execution_count": 34,
   "id": "5f849ec1",
   "metadata": {},
   "outputs": [
    {
     "name": "stdout",
     "output_type": "stream",
     "text": [
      "[0.36198848 0.1920749  0.11123631 0.0706903  0.06563294 0.04935823\n",
      " 0.04238679 0.02680749 0.02222153 0.01930019 0.01736836 0.01298233\n",
      " 0.00795215]\n"
     ]
    }
   ],
   "source": [
    "# 모든 성분 관찰 (13개의 주성분 모두 고려)\n",
    "from sklearn.linear_model import LogisticRegression\n",
    "from sklearn.decomposition import PCA\n",
    "\n",
    "pca=PCA(n_components=None)\n",
    "X_pca=pca.fit_transform(X_std)\n",
    "print(pca.explained_variance_ratio_)"
   ]
  },
  {
   "cell_type": "code",
   "execution_count": 38,
   "id": "8ba24757",
   "metadata": {},
   "outputs": [
    {
     "name": "stdout",
     "output_type": "stream",
     "text": [
      "Accuracy(Original): 1.0\n"
     ]
    }
   ],
   "source": [
    "lr=LogisticRegression()\n",
    "lr.fit(X_pca, y)\n",
    "y_pre_pca=lr.predict(X_pca)\n",
    "\n",
    "from sklearn import metrics\n",
    "print(\"Accuracy(Original):\", metrics.accuracy_score(y, y_pre_pca))"
   ]
  },
  {
   "cell_type": "code",
   "execution_count": 83,
   "id": "a36e16d7",
   "metadata": {},
   "outputs": [
    {
     "name": "stdout",
     "output_type": "stream",
     "text": [
      "Train Accuracy(Original): 1.0\n",
      "Test Accuracy(Original): 0.9814814814814815\n",
      "Confusion matrix \n",
      " [[18  0  0]\n",
      " [ 0 20  0]\n",
      " [ 0  1 15]]\n"
     ]
    }
   ],
   "source": [
    "# PCA를 통해 차원 축소 후 로지스틱 회귀 (모든 특성변수 사용)\n",
    "from sklearn.linear_model import LogisticRegression\n",
    "from sklearn.decomposition import PCA\n",
    "\n",
    "lr=LogisticRegression()\n",
    "lpca = PCA(n_components=None)\n",
    "X_train_pca = lpca.fit_transform(X_train_std)  # train data에 대해서 fit_transform\n",
    "X_test_pca = lpca.transform(X_test_std)  # test data에 대해서 transform (fit할 수 없음.)\n",
    "lr.fit(X_train_pca, y_train)\n",
    "y_train_pre=lr.predict(X_train_pca)\n",
    "y_test_pre=lr.predict(X_test_pca)\n",
    "\n",
    "from sklearn import metrics\n",
    "print(\"Train Accuracy(Original):\", metrics.accuracy_score(y_train, y_train_pre))\n",
    "print(\"Test Accuracy(Original):\", metrics.accuracy_score(y_test, y_test_pre))\n",
    "print(\"Confusion matrix \\n\", confusion_matrix(y_test_pre, y_test))"
   ]
  },
  {
   "cell_type": "markdown",
   "id": "a2970980",
   "metadata": {},
   "source": [
    "### 2. MDS\n",
    ": Multidimensional Scaling, 다차원축소"
   ]
  },
  {
   "cell_type": "markdown",
   "id": "3be191df",
   "metadata": {},
   "source": [
    "MDS와 t-SNE는 test data에 대한 transform 함수를 제공해주지 않는다. (차원축소는 전체 데이터에 차원축소기법을 적용해야 한다.)"
   ]
  },
  {
   "cell_type": "code",
   "execution_count": 37,
   "id": "7bde019f",
   "metadata": {},
   "outputs": [
    {
     "name": "stdout",
     "output_type": "stream",
     "text": [
      "Accuracy(MDS): 0.9157303370786517\n"
     ]
    }
   ],
   "source": [
    "# PCA를 통해 차원 축소 후 로지스틱 회귀 (2개의 주성분으로 압축)\n",
    "from sklearn.linear_model import LogisticRegression\n",
    "from sklearn.manifold import MDS\n",
    "\n",
    "mds = MDS(n_components=2, random_state=1)\n",
    "X_std_mds = mds.fit_transform(X_std)  # X data에 대해서 fit_transform\n",
    "lr=LogisticRegression()\n",
    "lr.fit(X_std_mds, y)\n",
    "y_pre_mds=lr.predict(X_std_mds)\n",
    "\n",
    "from sklearn import metrics\n",
    "print(\"Accuracy(MDS):\", metrics.accuracy_score(y, y_pre_mds))"
   ]
  },
  {
   "cell_type": "code",
   "execution_count": 47,
   "id": "28615dbe",
   "metadata": {},
   "outputs": [
    {
     "name": "stdout",
     "output_type": "stream",
     "text": [
      "(124, 2) (54, 2)\n"
     ]
    }
   ],
   "source": [
    "# Train/test data로 나누어서 분석 진행\n",
    "mds = MDS(n_components=2, random_state=10)\n",
    "X_m = mds.fit_transform(X_std) # trainsform > split\n",
    "X_train, X_test, y_train,y_test = train_test_split(X_m, y, test_size=0.3, random_state=1, stratify=y)\n",
    "print(X_train.shape, X_test.shape)"
   ]
  },
  {
   "cell_type": "code",
   "execution_count": 48,
   "id": "bd0bbf14",
   "metadata": {},
   "outputs": [
    {
     "name": "stdout",
     "output_type": "stream",
     "text": [
      "Train accuracy: 0.9193548387096774\n",
      "Test accuracy: 0.8703703703703703\n",
      "Confusion matrix \n",
      " [[16  5  0]\n",
      " [ 2 16  0]\n",
      " [ 0  0 15]]\n"
     ]
    }
   ],
   "source": [
    "import warnings\n",
    "warnings.filterwarnings(action='ignore')\n",
    "from sklearn.metrics import accuracy_score, classification_report, confusion_matrix\n",
    "\n",
    "model= LogisticRegression() \n",
    "model.fit(X_train, y_train)\n",
    "\n",
    "train_pred = model.predict(X_train)\n",
    "pred = model.predict(X_test)\n",
    "print(\"Train accuracy:\", accuracy_score(train_pred, y_train))\n",
    "print(\"Test accuracy:\", accuracy_score(pred, y_test))\n",
    "print(\"Confusion matrix \\n\", confusion_matrix(pred, y_test))"
   ]
  },
  {
   "cell_type": "code",
   "execution_count": 52,
   "id": "787dd26e",
   "metadata": {},
   "outputs": [
    {
     "data": {
      "text/plain": [
       "[]"
      ]
     },
     "execution_count": 52,
     "metadata": {},
     "output_type": "execute_result"
    },
    {
     "data": {
      "image/png": "[encoded data removed]",
      "text/plain": [
       "<Figure size 432x288 with 1 Axes>"
      ]
     },
     "metadata": {
      "needs_background": "light"
     },
     "output_type": "display_data"
    }
   ],
   "source": [
    "# Observe changing accuracy over n_components\n",
    "import numpy as np\n",
    "from sklearn.metrics import accuracy_score\n",
    "import matplotlib.pyplot as plt\n",
    "import seaborn as sns\n",
    "\n",
    "c_list = [1,2,3,4,5,6,7,8,9,10,11,12,13]\n",
    "\n",
    "train_errors = [] \n",
    "test_errors = [] \n",
    "\n",
    "# Conduct standard scaling\n",
    "X,y=dat_wine.iloc[:,1:].values, dat_wine.iloc[:,0].values\n",
    "std=StandardScaler()\n",
    "X_std=std.fit_transform(X)\n",
    "\n",
    "for x in c_list:\n",
    "    mds = MDS(n_components=x, random_state=10)\n",
    "    X_m = mds.fit_transform(X_std) # transform > split\n",
    "    X_train, X_test, y_train,y_test = train_test_split(X_m, y, \n",
    "                                                   test_size=0.3, random_state=1, stratify=y)\n",
    "    model= LogisticRegression() \n",
    "    model.fit(X_train, y_train)\n",
    "    train_pred = model.predict(X_train)\n",
    "    pred = model.predict(X_test)\n",
    "    \n",
    "    train_errors.append(accuracy_score(y_train, train_pred))\n",
    "    test_errors.append(accuracy_score(y_test, pred))\n",
    "\n",
    "x = np.arange(len(c_list)) + 1 # Create domain for plot\n",
    "plt.plot(x, train_errors, label='Training Accuracy') # Plot training error over domain\n",
    "plt.plot(x, test_errors, label='Testing Accuracy') # Plot testing error over domain\n",
    "plt.xlabel('N components of MDS') # Label x-axis\n",
    "plt.ylabel('Total Accuracy') # Label y-axis\n",
    "plt.legend() # Show plot labels as legend\n",
    "plt.title('MDS')\n",
    "plt.plot() # Show graph"
   ]
  },
  {
   "cell_type": "markdown",
   "id": "6f1a0e25",
   "metadata": {},
   "source": [
    "### 3. Local MDS\n",
    ": KNN(평면을 따라가는 방법)을 직선으로 가정해 MDS를 적용한 기법"
   ]
  },
  {
   "cell_type": "markdown",
   "id": "25cac1f5",
   "metadata": {},
   "source": [
    "### 4. LLE\n",
    ": Locally Linear Embedding, 선형결합한 뒤 차원축소 진행"
   ]
  },
  {
   "cell_type": "code",
   "execution_count": 70,
   "id": "fe7edb25",
   "metadata": {},
   "outputs": [
    {
     "name": "stdout",
     "output_type": "stream",
     "text": [
      "Accuracy(LLE): 0.8651685393258427\n"
     ]
    }
   ],
   "source": [
    "# PCA를 통해 차원 축소 후 로지스틱 회귀 (2개의 주성분으로 압축)\n",
    "from sklearn.linear_model import LogisticRegression\n",
    "from sklearn.manifold import LocallyLinearEmbedding\n",
    "\n",
    "lle = LocallyLinearEmbedding(n_neighbors=100, n_components=2, method='modified')\n",
    "X_std_lle = lle.fit_transform(X_std)  # X data에 대해서 fit_transform\n",
    "lr=LogisticRegression()\n",
    "lr.fit(X_std_lle, y)\n",
    "y_pre_lle=lr.predict(X_std_lle)\n",
    "\n",
    "from sklearn import metrics\n",
    "print(\"Accuracy(LLE):\", metrics.accuracy_score(y, y_pre_lle))"
   ]
  },
  {
   "cell_type": "code",
   "execution_count": 71,
   "id": "d4c7232f",
   "metadata": {},
   "outputs": [
    {
     "name": "stdout",
     "output_type": "stream",
     "text": [
      "(124, 2) (54, 2)\n"
     ]
    }
   ],
   "source": [
    "# Train/test data로 나누어서 분석 진행\n",
    "lle = LocallyLinearEmbedding(n_neighbors=100, n_components=2, method='modified')\n",
    "X_m = lle.fit_transform(X_std) # trainsform > split\n",
    "X_train, X_test, y_train,y_test = train_test_split(X_m, y, test_size=0.3, random_state=1, stratify=y)\n",
    "print(X_train.shape, X_test.shape)"
   ]
  },
  {
   "cell_type": "code",
   "execution_count": 72,
   "id": "75a6442b",
   "metadata": {},
   "outputs": [
    {
     "name": "stdout",
     "output_type": "stream",
     "text": [
      "Train accuracy: 0.8306451612903226\n",
      "Test accuracy: 0.7962962962962963\n",
      "Confusion matrix \n",
      " [[16  1  0]\n",
      " [ 2 20  8]\n",
      " [ 0  0  7]]\n"
     ]
    }
   ],
   "source": [
    "import warnings\n",
    "warnings.filterwarnings(action='ignore')\n",
    "from sklearn.metrics import accuracy_score, classification_report, confusion_matrix\n",
    "\n",
    "model= LogisticRegression() \n",
    "model.fit(X_train, y_train)\n",
    "\n",
    "train_pred = model.predict(X_train)\n",
    "pred = model.predict(X_test)\n",
    "print(\"Train accuracy:\", accuracy_score(train_pred, y_train))\n",
    "print(\"Test accuracy:\", accuracy_score(pred, y_test))\n",
    "print(\"Confusion matrix \\n\", confusion_matrix(pred, y_test))"
   ]
  },
  {
   "cell_type": "code",
   "execution_count": 74,
   "id": "e27a58a7",
   "metadata": {},
   "outputs": [
    {
     "data": {
      "text/plain": [
       "[]"
      ]
     },
     "execution_count": 74,
     "metadata": {},
     "output_type": "execute_result"
    },
    {
     "data": {
      "image/png": "[encoded data removed]",
      "text/plain": [
       "<Figure size 432x288 with 1 Axes>"
      ]
     },
     "metadata": {
      "needs_background": "light"
     },
     "output_type": "display_data"
    }
   ],
   "source": [
    "# Observe changing accuracy over n_components\n",
    "import numpy as np\n",
    "from sklearn.metrics import accuracy_score\n",
    "import matplotlib.pyplot as plt\n",
    "import seaborn as sns\n",
    "\n",
    "c_list = [1,2,3,4,5,6,7,8,9,10,11,12,13]\n",
    "\n",
    "train_errors = [] \n",
    "test_errors = [] \n",
    "\n",
    "# Conduct standard scaling\n",
    "X,y=dat_wine.iloc[:,1:].values, dat_wine.iloc[:,0].values\n",
    "std=StandardScaler()\n",
    "X_std=std.fit_transform(X)\n",
    "\n",
    "for x in c_list:\n",
    "    lle = LocallyLinearEmbedding(n_neighbors=100, n_components=x, method='modified', random_state=14)\n",
    "    X_m = lle.fit_transform(X_std) # transform > split\n",
    "    X_train, X_test, y_train,y_test = train_test_split(X_m, y, \n",
    "                                                   test_size=0.3, random_state=1, stratify=y)\n",
    "    model= LogisticRegression() \n",
    "    model.fit(X_train, y_train)\n",
    "    train_pred = model.predict(X_train)\n",
    "    pred = model.predict(X_test)\n",
    "    \n",
    "    train_errors.append(accuracy_score(y_train, train_pred))\n",
    "    test_errors.append(accuracy_score(y_test, pred))\n",
    "\n",
    "x = np.arange(len(c_list)) + 1 # Create domain for plot\n",
    "plt.plot(x, train_errors, label='Training Accuracy', color='green') # Plot training error over domain\n",
    "plt.plot(x, test_errors, label='Testing Accuracy', color='red') # Plot testing error over domain\n",
    "plt.xlabel('N components of LLE') # Label x-axis\n",
    "plt.ylabel('Total Accuracy') # Label y-axis\n",
    "plt.legend() # Show plot labels as legend\n",
    "plt.title('LLE')\n",
    "plt.plot() # Show graph"
   ]
  },
  {
   "cell_type": "markdown",
   "id": "b32a700f",
   "metadata": {},
   "source": [
    "### 5. Isomap\n",
    ": 지도면 상의 최소거리를 이용한 manifold 학습방식"
   ]
  },
  {
   "cell_type": "code",
   "execution_count": 64,
   "id": "468af847",
   "metadata": {},
   "outputs": [
    {
     "name": "stdout",
     "output_type": "stream",
     "text": [
      "Accuracy(Isomap): 0.9606741573033708\n"
     ]
    }
   ],
   "source": [
    "# PCA를 통해 차원 축소 후 로지스틱 회귀 (2개의 주성분으로 압축)\n",
    "from sklearn.linear_model import LogisticRegression\n",
    "from sklearn.manifold import Isomap\n",
    "\n",
    "iso = Isomap(n_neighbors=100, n_components=2)\n",
    "X_std_iso = iso.fit_transform(X_std)  # X data에 대해서 fit_transform\n",
    "lr=LogisticRegression()\n",
    "lr.fit(X_std_iso, y)\n",
    "y_pre_iso=lr.predict(X_std_iso)\n",
    "\n",
    "from sklearn import metrics\n",
    "print(\"Accuracy(Isomap):\", metrics.accuracy_score(y, y_pre_iso))"
   ]
  },
  {
   "cell_type": "code",
   "execution_count": 66,
   "id": "0e70c98e",
   "metadata": {},
   "outputs": [
    {
     "name": "stdout",
     "output_type": "stream",
     "text": [
      "(124, 2) (54, 2)\n"
     ]
    }
   ],
   "source": [
    "# Train/test data로 나누어서 분석 진행\n",
    "iso = Isomap(n_neighbors=100, n_components=2)\n",
    "X_m = iso.fit_transform(X_std) # trainsform > split\n",
    "X_train, X_test, y_train,y_test = train_test_split(X_m, y, test_size=0.3, random_state=1, stratify=y)\n",
    "print(X_train.shape, X_test.shape)"
   ]
  },
  {
   "cell_type": "code",
   "execution_count": 67,
   "id": "cba8f8be",
   "metadata": {},
   "outputs": [
    {
     "name": "stdout",
     "output_type": "stream",
     "text": [
      "Train accuracy: 0.9596774193548387\n",
      "Test accuracy: 0.9814814814814815\n",
      "Confusion matrix \n",
      " [[18  1  0]\n",
      " [ 0 20  0]\n",
      " [ 0  0 15]]\n"
     ]
    }
   ],
   "source": [
    "import warnings\n",
    "warnings.filterwarnings(action='ignore')\n",
    "from sklearn.metrics import accuracy_score, classification_report, confusion_matrix\n",
    "\n",
    "model= LogisticRegression() \n",
    "model.fit(X_train, y_train)\n",
    "\n",
    "train_pred = model.predict(X_train)\n",
    "pred = model.predict(X_test)\n",
    "print(\"Train accuracy:\", accuracy_score(train_pred, y_train))\n",
    "print(\"Test accuracy:\", accuracy_score(pred, y_test))\n",
    "print(\"Confusion matrix \\n\", confusion_matrix(pred, y_test))"
   ]
  },
  {
   "cell_type": "code",
   "execution_count": 69,
   "id": "0837a556",
   "metadata": {},
   "outputs": [
    {
     "data": {
      "text/plain": [
       "[]"
      ]
     },
     "execution_count": 69,
     "metadata": {},
     "output_type": "execute_result"
    },
    {
     "data": {
      "image/png": "[encoded data removed]",
      "text/plain": [
       "<Figure size 432x288 with 1 Axes>"
      ]
     },
     "metadata": {
      "needs_background": "light"
     },
     "output_type": "display_data"
    }
   ],
   "source": [
    "# Observe changing accuracy over n_components\n",
    "import numpy as np\n",
    "from sklearn.metrics import accuracy_score\n",
    "import matplotlib.pyplot as plt\n",
    "import seaborn as sns\n",
    "\n",
    "c_list = [1,2,3,4,5,6,7,8,9,10,11,12,13]\n",
    "\n",
    "train_errors = [] \n",
    "test_errors = [] \n",
    "\n",
    "# Conduct standard scaling\n",
    "X,y=dat_wine.iloc[:,1:].values, dat_wine.iloc[:,0].values\n",
    "std=StandardScaler()\n",
    "X_std=std.fit_transform(X)\n",
    "\n",
    "for x in c_list:\n",
    "    iso = Isomap(n_neighbors=100, n_components=x)\n",
    "    X_m = iso.fit_transform(X_std) # transform > split\n",
    "    X_train, X_test, y_train,y_test = train_test_split(X_m, y, \n",
    "                                                   test_size=0.3, random_state=1, stratify=y)\n",
    "    model= LogisticRegression() \n",
    "    model.fit(X_train, y_train)\n",
    "    train_pred = model.predict(X_train)\n",
    "    pred = model.predict(X_test)\n",
    "    \n",
    "    train_errors.append(accuracy_score(y_train, train_pred))\n",
    "    test_errors.append(accuracy_score(y_test, pred))\n",
    "\n",
    "x = np.arange(len(c_list)) + 1 # Create domain for plot\n",
    "plt.plot(x, train_errors, label='Training Accuracy', color='purple') # Plot training error over domain\n",
    "plt.plot(x, test_errors, label='Testing Accuracy', color='orange') # Plot testing error over domain\n",
    "plt.xlabel('N components of Isomap') # Label x-axis\n",
    "plt.ylabel('Total Accuracy') # Label y-axis\n",
    "plt.legend() # Show plot labels as legend\n",
    "plt.title('Isomap')\n",
    "plt.plot() # Show graph"
   ]
  },
  {
   "cell_type": "markdown",
   "id": "1b1b645d",
   "metadata": {},
   "source": [
    "### 6. t-SNE\n",
    ": 2개의 관측치간의 유사성을 정규분포의 상대비율로 정의한 기법"
   ]
  },
  {
   "cell_type": "code",
   "execution_count": 76,
   "id": "7a91b0f3",
   "metadata": {},
   "outputs": [
    {
     "name": "stdout",
     "output_type": "stream",
     "text": [
      "Accuracy(t-SNE): 0.9831460674157303\n"
     ]
    }
   ],
   "source": [
    "# PCA를 통해 차원 축소 후 로지스틱 회귀 (2개의 주성분으로 압축)\n",
    "from sklearn.linear_model import LogisticRegression\n",
    "from sklearn.manifold import TSNE\n",
    "\n",
    "tsne = TSNE(n_components=2, perplexity=40)\n",
    "X_std_tsne = tsne.fit_transform(X_std)  # X data에 대해서 fit_transform\n",
    "lr=LogisticRegression()\n",
    "lr.fit(X_std_tsne, y)\n",
    "y_pre_tsne=lr.predict(X_std_tsne)\n",
    "\n",
    "from sklearn import metrics\n",
    "print(\"Accuracy(t-SNE):\", metrics.accuracy_score(y, y_pre_tsne))"
   ]
  },
  {
   "cell_type": "code",
   "execution_count": 77,
   "id": "87d7ed1e",
   "metadata": {},
   "outputs": [
    {
     "name": "stdout",
     "output_type": "stream",
     "text": [
      "(124, 2) (54, 2)\n"
     ]
    }
   ],
   "source": [
    "# Train/test data로 나누어서 분석 진행\n",
    "tsne = TSNE(n_components=2, perplexity=40)\n",
    "X_m = tsne.fit_transform(X_std) # trainsform > split\n",
    "X_train, X_test, y_train,y_test = train_test_split(X_m, y, test_size=0.3, random_state=1, stratify=y)\n",
    "print(X_train.shape, X_test.shape)"
   ]
  },
  {
   "cell_type": "code",
   "execution_count": 78,
   "id": "e8276477",
   "metadata": {},
   "outputs": [
    {
     "name": "stdout",
     "output_type": "stream",
     "text": [
      "Train accuracy: 0.9354838709677419\n",
      "Test accuracy: 0.9259259259259259\n",
      "Confusion matrix \n",
      " [[17  2  0]\n",
      " [ 1 18  0]\n",
      " [ 0  1 15]]\n"
     ]
    }
   ],
   "source": [
    "import warnings\n",
    "warnings.filterwarnings(action='ignore')\n",
    "from sklearn.metrics import accuracy_score, classification_report, confusion_matrix\n",
    "\n",
    "model= LogisticRegression() \n",
    "model.fit(X_train, y_train)\n",
    "\n",
    "train_pred = model.predict(X_train)\n",
    "pred = model.predict(X_test)\n",
    "print(\"Train accuracy:\", accuracy_score(train_pred, y_train))\n",
    "print(\"Test accuracy:\", accuracy_score(pred, y_test))\n",
    "print(\"Confusion matrix \\n\", confusion_matrix(pred, y_test))"
   ]
  },
  {
   "cell_type": "code",
   "execution_count": 81,
   "id": "59ff811b",
   "metadata": {},
   "outputs": [
    {
     "data": {
      "text/plain": [
       "[]"
      ]
     },
     "execution_count": 81,
     "metadata": {},
     "output_type": "execute_result"
    },
    {
     "data": {
      "image/png": "[encoded data removed]",
      "text/plain": [
       "<Figure size 432x288 with 1 Axes>"
      ]
     },
     "metadata": {
      "needs_background": "light"
     },
     "output_type": "display_data"
    }
   ],
   "source": [
    "# Observe changing accuracy over n_components\n",
    "import numpy as np\n",
    "from sklearn.metrics import accuracy_score\n",
    "import matplotlib.pyplot as plt\n",
    "import seaborn as sns\n",
    "\n",
    "c_list = [1,2,3]\n",
    "\n",
    "train_errors = [] \n",
    "test_errors = [] \n",
    "\n",
    "# Conduct standard scaling\n",
    "X,y=dat_wine.iloc[:,1:].values, dat_wine.iloc[:,0].values\n",
    "std=StandardScaler()\n",
    "X_std=std.fit_transform(X)\n",
    "\n",
    "for x in c_list:\n",
    "    tsne = TSNE(n_components=x, perplexity=40)\n",
    "    X_m = tsne.fit_transform(X_std) # transform > split\n",
    "    X_train, X_test, y_train,y_test = train_test_split(X_m, y, \n",
    "                                                   test_size=0.3, random_state=1, stratify=y)\n",
    "    model= LogisticRegression() \n",
    "    model.fit(X_train, y_train)\n",
    "    train_pred = model.predict(X_train)\n",
    "    pred = model.predict(X_test)\n",
    "    \n",
    "    train_errors.append(accuracy_score(y_train, train_pred))\n",
    "    test_errors.append(accuracy_score(y_test, pred))\n",
    "\n",
    "x = np.arange(len(c_list)) + 1 # Create domain for plot\n",
    "plt.plot(x, train_errors, label='Training Accuracy', color='blue') # Plot training error over domain\n",
    "plt.plot(x, test_errors, label='Testing Accuracy', color='pink') # Plot testing error over domain\n",
    "plt.xlabel('N components of t-SNE') # Label x-axis\n",
    "plt.ylabel('Total Accuracy') # Label y-axis\n",
    "plt.legend() # Show plot labels as legend\n",
    "plt.title('t-SNE')\n",
    "plt.plot() # Show graph"
   ]
  },
  {
   "cell_type": "markdown",
   "id": "e6f146b6",
   "metadata": {},
   "source": [
    "### 문제2.\n",
    "t-SNE에서 perplexity의 영향을 논의하라.<br>\n",
    "위 그래프를 통해 optimal n_components of t-SNE가 2라는 것을 알 수 있었으며, n_components=2로 설정하고 perplexity에 따른 변화를 관찰했다."
   ]
  },
  {
   "cell_type": "code",
   "execution_count": 86,
   "id": "cc9e96e1",
   "metadata": {},
   "outputs": [
    {
     "data": {
      "text/plain": [
       "[]"
      ]
     },
     "execution_count": 86,
     "metadata": {},
     "output_type": "execute_result"
    },
    {
     "data": {
      "image/png": "[encoded data removed]",
      "text/plain": [
       "<Figure size 432x288 with 1 Axes>"
      ]
     },
     "metadata": {
      "needs_background": "light"
     },
     "output_type": "display_data"
    }
   ],
   "source": [
    "# Observe changing accuracy over n_components\n",
    "import numpy as np\n",
    "from sklearn.metrics import accuracy_score\n",
    "import matplotlib.pyplot as plt\n",
    "import seaborn as sns\n",
    "\n",
    "c_list = [5,10,15,20,25,30,35,40,45,50]\n",
    "\n",
    "train_errors = [] \n",
    "test_errors = [] \n",
    "\n",
    "# Conduct standard scaling\n",
    "X,y=dat_wine.iloc[:,1:].values, dat_wine.iloc[:,0].values\n",
    "std=StandardScaler()\n",
    "X_std=std.fit_transform(X)\n",
    "\n",
    "for x in c_list:\n",
    "    tsne = TSNE(n_components=2, perplexity=x)\n",
    "    X_m = tsne.fit_transform(X_std) # transform > split\n",
    "    X_train, X_test, y_train,y_test = train_test_split(X_m, y, \n",
    "                                                   test_size=0.3, random_state=1, stratify=y)\n",
    "    model= LogisticRegression() \n",
    "    model.fit(X_train, y_train)\n",
    "    train_pred = model.predict(X_train)\n",
    "    pred = model.predict(X_test)\n",
    "    \n",
    "    train_errors.append(accuracy_score(y_train, train_pred))\n",
    "    test_errors.append(accuracy_score(y_test, pred))\n",
    "\n",
    "x = c_list # Create domain for plot\n",
    "plt.plot(x, train_errors, label='Training Accuracy', color='blue') # Plot training error over domain\n",
    "plt.plot(x, test_errors, label='Testing Accuracy', color='pink') # Plot testing error over domain\n",
    "plt.xlabel('Perplexity of t-SNE') # Label x-axis\n",
    "plt.ylabel('Total Accuracy') # Label y-axis\n",
    "plt.legend() # Show plot labels as legend\n",
    "plt.title('t-SNE')\n",
    "plt.plot() # Show graph"
   ]
  },
  {
   "cell_type": "code",
   "execution_count": 98,
   "id": "23c48e2d",
   "metadata": {},
   "outputs": [
    {
     "data": {
      "text/html": [
       "\n",
       "    <div class=\"bk-root\">\n",
       "        <a href=\"https://bokeh.org\" target=\"_blank\" class=\"bk-logo bk-logo-small bk-logo-notebook\"></a>\n",
       "        <span id=\"1002\">Loading BokehJS ...</span>\n",
       "    </div>"
      ]
     },
     "metadata": {},
     "output_type": "display_data"
    },
    {
     "data": {
      "application/javascript": [
       "\n",
       "(function(root) {\n",
       "  function now() {\n",
       "    return new Date();\n",
       "  }\n",
       "\n",
       "  var force = true;\n",
       "\n",
       "  if (typeof root._bokeh_onload_callbacks === \"undefined\" || force === true) {\n",
       "    root._bokeh_onload_callbacks = [];\n",
       "    root._bokeh_is_loading = undefined;\n",
       "  }\n",
       "\n",
       "  var JS_MIME_TYPE = 'application/javascript';\n",
       "  var HTML_MIME_TYPE = 'text/html';\n",
       "  var EXEC_MIME_TYPE = 'application/vnd.bokehjs_exec.v0+json';\n",
       "  var CLASS_NAME = 'output_bokeh rendered_html';\n",
       "\n",
       "  /**\n",
       "   * Render data to the DOM node\n",
       "   */\n",
       "  function render(props, node) {\n",
       "    var script = document.createElement(\"script\");\n",
       "    node.appendChild(script);\n",
       "  }\n",
       "\n",
       "  /**\n",
       "   * Handle when an output is cleared or removed\n",
       "   */\n",
       "  function handleClearOutput(event, handle) {\n",
       "    var cell = handle.cell;\n",
       "\n",
       "    var id = cell.output_area._bokeh_element_id;\n",
       "    var server_id = cell.output_area._bokeh_server_id;\n",
       "    // Clean up Bokeh references\n",
       "    if (id != null && id in Bokeh.index) {\n",
       "      Bokeh.index[id].model.document.clear();\n",
       "      delete Bokeh.index[id];\n",
       "    }\n",
       "\n",
       "    if (server_id !== undefined) {\n",
       "      // Clean up Bokeh references\n",
       "      var cmd = \"from bokeh.io.state import curstate; print(curstate().uuid_to_server['\" + server_id + \"'].get_sessions()[0].document.roots[0]._id)\";\n",
       "      cell.notebook.kernel.execute(cmd, {\n",
       "        iopub: {\n",
       "          output: function(msg) {\n",
       "            var id = msg.content.text.trim();\n",
       "            if (id in Bokeh.index) {\n",
       "              Bokeh.index[id].model.document.clear();\n",
       "              delete Bokeh.index[id];\n",
       "            }\n",
       "          }\n",
       "        }\n",
       "      });\n",
       "      // Destroy server and session\n",
       "      var cmd = \"import bokeh.io.notebook as ion; ion.destroy_server('\" + server_id + \"')\";\n",
       "      cell.notebook.kernel.execute(cmd);\n",
       "    }\n",
       "  }\n",
       "\n",
       "  /**\n",
       "   * Handle when a new output is added\n",
       "   */\n",
       "  function handleAddOutput(event, handle) {\n",
       "    var output_area = handle.output_area;\n",
       "    var output = handle.output;\n",
       "\n",
       "    // limit handleAddOutput to display_data with EXEC_MIME_TYPE content only\n",
       "    if ((output.output_type != \"display_data\") || (!Object.prototype.hasOwnProperty.call(output.data, EXEC_MIME_TYPE))) {\n",
       "      return\n",
       "    }\n",
       "\n",
       "    var toinsert = output_area.element.find(\".\" + CLASS_NAME.split(' ')[0]);\n",
       "\n",
       "    if (output.metadata[EXEC_MIME_TYPE][\"id\"] !== undefined) {\n",
       "      toinsert[toinsert.length - 1].firstChild.textContent = output.data[JS_MIME_TYPE];\n",
       "      // store reference to embed id on output_area\n",
       "      output_area._bokeh_element_id = output.metadata[EXEC_MIME_TYPE][\"id\"];\n",
       "    }\n",
       "    if (output.metadata[EXEC_MIME_TYPE][\"server_id\"] !== undefined) {\n",
       "      var bk_div = document.createElement(\"div\");\n",
       "      bk_div.innerHTML = output.data[HTML_MIME_TYPE];\n",
       "      var script_attrs = bk_div.children[0].attributes;\n",
       "      for (var i = 0; i < script_attrs.length; i++) {\n",
       "        toinsert[toinsert.length - 1].firstChild.setAttribute(script_attrs[i].name, script_attrs[i].value);\n",
       "        toinsert[toinsert.length - 1].firstChild.textContent = bk_div.children[0].textContent\n",
       "      }\n",
       "      // store reference to server id on output_area\n",
       "      output_area._bokeh_server_id = output.metadata[EXEC_MIME_TYPE][\"server_id\"];\n",
       "    }\n",
       "  }\n",
       "\n",
       "  function register_renderer(events, OutputArea) {\n",
       "\n",
       "    function append_mime(data, metadata, element) {\n",
       "      // create a DOM node to render to\n",
       "      var toinsert = this.create_output_subarea(\n",
       "        metadata,\n",
       "        CLASS_NAME,\n",
       "        EXEC_MIME_TYPE\n",
       "      );\n",
       "      this.keyboard_manager.register_events(toinsert);\n",
       "      // Render to node\n",
       "      var props = {data: data, metadata: metadata[EXEC_MIME_TYPE]};\n",
       "      render(props, toinsert[toinsert.length - 1]);\n",
       "      element.append(toinsert);\n",
       "      return toinsert\n",
       "    }\n",
       "\n",
       "    /* Handle when an output is cleared or removed */\n",
       "    events.on('clear_output.CodeCell', handleClearOutput);\n",
       "    events.on('delete.Cell', handleClearOutput);\n",
       "\n",
       "    /* Handle when a new output is added */\n",
       "    events.on('output_added.OutputArea', handleAddOutput);\n",
       "\n",
       "    /**\n",
       "     * Register the mime type and append_mime function with output_area\n",
       "     */\n",
       "    OutputArea.prototype.register_mime_type(EXEC_MIME_TYPE, append_mime, {\n",
       "      /* Is output safe? */\n",
       "      safe: true,\n",
       "      /* Index of renderer in `output_area.display_order` */\n",
       "      index: 0\n",
       "    });\n",
       "  }\n",
       "\n",
       "  // register the mime type if in Jupyter Notebook environment and previously unregistered\n",
       "  if (root.Jupyter !== undefined) {\n",
       "    var events = require('base/js/events');\n",
       "    var OutputArea = require('notebook/js/outputarea').OutputArea;\n",
       "\n",
       "    if (OutputArea.prototype.mime_types().indexOf(EXEC_MIME_TYPE) == -1) {\n",
       "      register_renderer(events, OutputArea);\n",
       "    }\n",
       "  }\n",
       "\n",
       "  \n",
       "  if (typeof (root._bokeh_timeout) === \"undefined\" || force === true) {\n",
       "    root._bokeh_timeout = Date.now() + 5000;\n",
       "    root._bokeh_failed_load = false;\n",
       "  }\n",
       "\n",
       "  var NB_LOAD_WARNING = {'data': {'text/html':\n",
       "     \"<div style='background-color: #fdd'>\\n\"+\n",
       "     \"<p>\\n\"+\n",
       "     \"BokehJS does not appear to have successfully loaded. If loading BokehJS from CDN, this \\n\"+\n",
       "     \"may be due to a slow or bad network connection. Possible fixes:\\n\"+\n",
       "     \"</p>\\n\"+\n",
       "     \"<ul>\\n\"+\n",
       "     \"<li>re-rerun `output_notebook()` to attempt to load from CDN again, or</li>\\n\"+\n",
       "     \"<li>use INLINE resources instead, as so:</li>\\n\"+\n",
       "     \"</ul>\\n\"+\n",
       "     \"<code>\\n\"+\n",
       "     \"from bokeh.resources import INLINE\\n\"+\n",
       "     \"output_notebook(resources=INLINE)\\n\"+\n",
       "     \"</code>\\n\"+\n",
       "     \"</div>\"}};\n",
       "\n",
       "  function display_loaded() {\n",
       "    var el = document.getElementById(\"1002\");\n",
       "    if (el != null) {\n",
       "      el.textContent = \"BokehJS is loading...\";\n",
       "    }\n",
       "    if (root.Bokeh !== undefined) {\n",
       "      if (el != null) {\n",
       "        el.textContent = \"BokehJS \" + root.Bokeh.version + \" successfully loaded.\";\n",
       "      }\n",
       "    } else if (Date.now() < root._bokeh_timeout) {\n",
       "      setTimeout(display_loaded, 100)\n",
       "    }\n",
       "  }\n",
       "\n",
       "\n",
       "  function run_callbacks() {\n",
       "    try {\n",
       "      root._bokeh_onload_callbacks.forEach(function(callback) {\n",
       "        if (callback != null)\n",
       "          callback();\n",
       "      });\n",
       "    } finally {\n",
       "      delete root._bokeh_onload_callbacks\n",
       "    }\n",
       "    console.debug(\"Bokeh: all callbacks have finished\");\n",
       "  }\n",
       "\n",
       "  function load_libs(css_urls, js_urls, callback) {\n",
       "    if (css_urls == null) css_urls = [];\n",
       "    if (js_urls == null) js_urls = [];\n",
       "\n",
       "    root._bokeh_onload_callbacks.push(callback);\n",
       "    if (root._bokeh_is_loading > 0) {\n",
       "      console.debug(\"Bokeh: BokehJS is being loaded, scheduling callback at\", now());\n",
       "      return null;\n",
       "    }\n",
       "    if (js_urls == null || js_urls.length === 0) {\n",
       "      run_callbacks();\n",
       "      return null;\n",
       "    }\n",
       "    console.debug(\"Bokeh: BokehJS not loaded, scheduling load and callback at\", now());\n",
       "    root._bokeh_is_loading = css_urls.length + js_urls.length;\n",
       "\n",
       "    function on_load() {\n",
       "      root._bokeh_is_loading--;\n",
       "      if (root._bokeh_is_loading === 0) {\n",
       "        console.debug(\"Bokeh: all BokehJS libraries/stylesheets loaded\");\n",
       "        run_callbacks()\n",
       "      }\n",
       "    }\n",
       "\n",
       "    function on_error(url) {\n",
       "      console.error(\"failed to load \" + url);\n",
       "    }\n",
       "\n",
       "    for (let i = 0; i < css_urls.length; i++) {\n",
       "      const url = css_urls[i];\n",
       "      const element = document.createElement(\"link\");\n",
       "      element.onload = on_load;\n",
       "      element.onerror = on_error.bind(null, url);\n",
       "      element.rel = \"stylesheet\";\n",
       "      element.type = \"text/css\";\n",
       "      element.href = url;\n",
       "      console.debug(\"Bokeh: injecting link tag for BokehJS stylesheet: \", url);\n",
       "      document.body.appendChild(element);\n",
       "    }\n",
       "\n",
       "    const hashes = {\"https://cdn.bokeh.org/bokeh/release/bokeh-2.3.3.min.js\": \"dM3QQsP+wXdHg42wTqW85BjZQdLNNIXqlPw/BgKoExPmTG7ZLML4EGqLMfqHT6ON\", \"https://cdn.bokeh.org/bokeh/release/bokeh-tables-2.3.3.min.js\": \"8x57I4YuIfu8XyZfFo0XVr2WAT8EK4rh/uDe3wF7YuW2FNUSNEpJbsPaB1nJ2fz2\", \"https://cdn.bokeh.org/bokeh/release/bokeh-widgets-2.3.3.min.js\": \"3QTqdz9LyAm2i0sG5XTePsHec3UHWwVsrOL68SYRoAXsafvfAyqtQ+h440+qIBhS\"};\n",
       "\n",
       "    for (let i = 0; i < js_urls.length; i++) {\n",
       "      const url = js_urls[i];\n",
       "      const element = document.createElement('script');\n",
       "      element.onload = on_load;\n",
       "      element.onerror = on_error.bind(null, url);\n",
       "      element.async = false;\n",
       "      element.src = url;\n",
       "      if (url in hashes) {\n",
       "        element.crossOrigin = \"anonymous\";\n",
       "        element.integrity = \"sha384-\" + hashes[url];\n",
       "      }\n",
       "      console.debug(\"Bokeh: injecting script tag for BokehJS library: \", url);\n",
       "      document.head.appendChild(element);\n",
       "    }\n",
       "  };\n",
       "\n",
       "  function inject_raw_css(css) {\n",
       "    const element = document.createElement(\"style\");\n",
       "    element.appendChild(document.createTextNode(css));\n",
       "    document.body.appendChild(element);\n",
       "  }\n",
       "\n",
       "  \n",
       "  var js_urls = [\"https://cdn.bokeh.org/bokeh/release/bokeh-2.3.3.min.js\", \"https://cdn.bokeh.org/bokeh/release/bokeh-widgets-2.3.3.min.js\", \"https://cdn.bokeh.org/bokeh/release/bokeh-tables-2.3.3.min.js\"];\n",
       "  var css_urls = [];\n",
       "  \n",
       "\n",
       "  var inline_js = [\n",
       "    function(Bokeh) {\n",
       "      Bokeh.set_log_level(\"info\");\n",
       "    },\n",
       "    function(Bokeh) {\n",
       "    \n",
       "    \n",
       "    }\n",
       "  ];\n",
       "\n",
       "  function run_inline_js() {\n",
       "    \n",
       "    if (root.Bokeh !== undefined || force === true) {\n",
       "      \n",
       "    for (var i = 0; i < inline_js.length; i++) {\n",
       "      inline_js[i].call(root, root.Bokeh);\n",
       "    }\n",
       "    if (force === true) {\n",
       "        display_loaded();\n",
       "      }} else if (Date.now() < root._bokeh_timeout) {\n",
       "      setTimeout(run_inline_js, 100);\n",
       "    } else if (!root._bokeh_failed_load) {\n",
       "      console.log(\"Bokeh: BokehJS failed to load within specified timeout.\");\n",
       "      root._bokeh_failed_load = true;\n",
       "    } else if (force !== true) {\n",
       "      var cell = $(document.getElementById(\"1002\")).parents('.cell').data().cell;\n",
       "      cell.output_area.append_execute_result(NB_LOAD_WARNING)\n",
       "    }\n",
       "\n",
       "  }\n",
       "\n",
       "  if (root._bokeh_is_loading === 0) {\n",
       "    console.debug(\"Bokeh: BokehJS loaded, going straight to plotting\");\n",
       "    run_inline_js();\n",
       "  } else {\n",
       "    load_libs(css_urls, js_urls, function() {\n",
       "      console.debug(\"Bokeh: BokehJS plotting callback run at\", now());\n",
       "      run_inline_js();\n",
       "    });\n",
       "  }\n",
       "}(window));"
      ],
      "application/vnd.bokehjs_load.v0+json": "\n(function(root) {\n  function now() {\n    return new Date();\n  }\n\n  var force = true;\n\n  if (typeof root._bokeh_onload_callbacks === \"undefined\" || force === true) {\n    root._bokeh_onload_callbacks = [];\n    root._bokeh_is_loading = undefined;\n  }\n\n  \n\n  \n  if (typeof (root._bokeh_timeout) === \"undefined\" || force === true) {\n    root._bokeh_timeout = Date.now() + 5000;\n    root._bokeh_failed_load = false;\n  }\n\n  var NB_LOAD_WARNING = {'data': {'text/html':\n     \"<div style='background-color: #fdd'>\\n\"+\n     \"<p>\\n\"+\n     \"BokehJS does not appear to have successfully loaded. If loading BokehJS from CDN, this \\n\"+\n     \"may be due to a slow or bad network connection. Possible fixes:\\n\"+\n     \"</p>\\n\"+\n     \"<ul>\\n\"+\n     \"<li>re-rerun `output_notebook()` to attempt to load from CDN again, or</li>\\n\"+\n     \"<li>use INLINE resources instead, as so:</li>\\n\"+\n     \"</ul>\\n\"+\n     \"<code>\\n\"+\n     \"from bokeh.resources import INLINE\\n\"+\n     \"output_notebook(resources=INLINE)\\n\"+\n     \"</code>\\n\"+\n     \"</div>\"}};\n\n  function display_loaded() {\n    var el = document.getElementById(\"1002\");\n    if (el != null) {\n      el.textContent = \"BokehJS is loading...\";\n    }\n    if (root.Bokeh !== undefined) {\n      if (el != null) {\n        el.textContent = \"BokehJS \" + root.Bokeh.version + \" successfully loaded.\";\n      }\n    } else if (Date.now() < root._bokeh_timeout) {\n      setTimeout(display_loaded, 100)\n    }\n  }\n\n\n  function run_callbacks() {\n    try {\n      root._bokeh_onload_callbacks.forEach(function(callback) {\n        if (callback != null)\n          callback();\n      });\n    } finally {\n      delete root._bokeh_onload_callbacks\n    }\n    console.debug(\"Bokeh: all callbacks have finished\");\n  }\n\n  function load_libs(css_urls, js_urls, callback) {\n    if (css_urls == null) css_urls = [];\n    if (js_urls == null) js_urls = [];\n\n    root._bokeh_onload_callbacks.push(callback);\n    if (root._bokeh_is_loading > 0) {\n      console.debug(\"Bokeh: BokehJS is being loaded, scheduling callback at\", now());\n      return null;\n    }\n    if (js_urls == null || js_urls.length === 0) {\n      run_callbacks();\n      return null;\n    }\n    console.debug(\"Bokeh: BokehJS not loaded, scheduling load and callback at\", now());\n    root._bokeh_is_loading = css_urls.length + js_urls.length;\n\n    function on_load() {\n      root._bokeh_is_loading--;\n      if (root._bokeh_is_loading === 0) {\n        console.debug(\"Bokeh: all BokehJS libraries/stylesheets loaded\");\n        run_callbacks()\n      }\n    }\n\n    function on_error(url) {\n      console.error(\"failed to load \" + url);\n    }\n\n    for (let i = 0; i < css_urls.length; i++) {\n      const url = css_urls[i];\n      const element = document.createElement(\"link\");\n      element.onload = on_load;\n      element.onerror = on_error.bind(null, url);\n      element.rel = \"stylesheet\";\n      element.type = \"text/css\";\n      element.href = url;\n      console.debug(\"Bokeh: injecting link tag for BokehJS stylesheet: \", url);\n      document.body.appendChild(element);\n    }\n\n    const hashes = {\"https://cdn.bokeh.org/bokeh/release/bokeh-2.3.3.min.js\": \"dM3QQsP+wXdHg42wTqW85BjZQdLNNIXqlPw/BgKoExPmTG7ZLML4EGqLMfqHT6ON\", \"https://cdn.bokeh.org/bokeh/release/bokeh-tables-2.3.3.min.js\": \"8x57I4YuIfu8XyZfFo0XVr2WAT8EK4rh/uDe3wF7YuW2FNUSNEpJbsPaB1nJ2fz2\", \"https://cdn.bokeh.org/bokeh/release/bokeh-widgets-2.3.3.min.js\": \"3QTqdz9LyAm2i0sG5XTePsHec3UHWwVsrOL68SYRoAXsafvfAyqtQ+h440+qIBhS\"};\n\n    for (let i = 0; i < js_urls.length; i++) {\n      const url = js_urls[i];\n      const element = document.createElement('script');\n      element.onload = on_load;\n      element.onerror = on_error.bind(null, url);\n      element.async = false;\n      element.src = url;\n      if (url in hashes) {\n        element.crossOrigin = \"anonymous\";\n        element.integrity = \"sha384-\" + hashes[url];\n      }\n      console.debug(\"Bokeh: injecting script tag for BokehJS library: \", url);\n      document.head.appendChild(element);\n    }\n  };\n\n  function inject_raw_css(css) {\n    const element = document.createElement(\"style\");\n    element.appendChild(document.createTextNode(css));\n    document.body.appendChild(element);\n  }\n\n  \n  var js_urls = [\"https://cdn.bokeh.org/bokeh/release/bokeh-2.3.3.min.js\", \"https://cdn.bokeh.org/bokeh/release/bokeh-widgets-2.3.3.min.js\", \"https://cdn.bokeh.org/bokeh/release/bokeh-tables-2.3.3.min.js\"];\n  var css_urls = [];\n  \n\n  var inline_js = [\n    function(Bokeh) {\n      Bokeh.set_log_level(\"info\");\n    },\n    function(Bokeh) {\n    \n    \n    }\n  ];\n\n  function run_inline_js() {\n    \n    if (root.Bokeh !== undefined || force === true) {\n      \n    for (var i = 0; i < inline_js.length; i++) {\n      inline_js[i].call(root, root.Bokeh);\n    }\n    if (force === true) {\n        display_loaded();\n      }} else if (Date.now() < root._bokeh_timeout) {\n      setTimeout(run_inline_js, 100);\n    } else if (!root._bokeh_failed_load) {\n      console.log(\"Bokeh: BokehJS failed to load within specified timeout.\");\n      root._bokeh_failed_load = true;\n    } else if (force !== true) {\n      var cell = $(document.getElementById(\"1002\")).parents('.cell').data().cell;\n      cell.output_area.append_execute_result(NB_LOAD_WARNING)\n    }\n\n  }\n\n  if (root._bokeh_is_loading === 0) {\n    console.debug(\"Bokeh: BokehJS loaded, going straight to plotting\");\n    run_inline_js();\n  } else {\n    load_libs(css_urls, js_urls, function() {\n      console.debug(\"Bokeh: BokehJS plotting callback run at\", now());\n      run_inline_js();\n    });\n  }\n}(window));"
     },
     "metadata": {},
     "output_type": "display_data"
    }
   ],
   "source": [
    "# Visualize t-SNE with changing perplexity\n",
    "from bokeh.models import ColumnDataSource, Div\n",
    "from bokeh.plotting import figure, output_notebook, show, output_file\n",
    "\n",
    "output_notebook()\n",
    "\n",
    "def draw_figure(coordinates, index2word, title):\n",
    "    TOOLTIPS=[\n",
    "        (\"word\", \"@word\"),\n",
    "        (\"x\", \"@x\"),\n",
    "        (\"y\", \"@y\")\n",
    "    ]\n",
    "\n",
    "    source = ColumnDataSource(data=dict(word=[], x=[], y=[]))\n",
    "    source.data = dict(\n",
    "        word=index2word,\n",
    "        x=coordinates[:,0].reshape(-1).tolist(),\n",
    "        y=coordinates[:,1].reshape(-1).tolist()\n",
    "    )\n",
    "\n",
    "    p = figure(plot_height=600, plot_width=600, title=title, tooltips=TOOLTIPS)\n",
    "    p.circle(\n",
    "        x=\"x\",\n",
    "        y=\"y\",\n",
    "        source=source,\n",
    "        size=5,\n",
    "        line_color='firebrick',\n",
    "        fill_color='firebrick',\n",
    "        fill_alpha=0.3\n",
    "    )\n",
    "    return p"
   ]
  },
  {
   "cell_type": "code",
   "execution_count": 102,
   "id": "fb45ceab",
   "metadata": {},
   "outputs": [
    {
     "data": {
      "text/html": [
       "\n",
       "\n",
       "\n",
       "\n",
       "\n",
       "\n",
       "  <div class=\"bk-root\" id=\"859bb456-cc93-42ce-9d7f-9d2b8b3c70d2\" data-root-id=\"2730\"></div>\n"
      ]
     },
     "metadata": {},
     "output_type": "display_data"
    },
    {
     "data": {
      "application/javascript": [
       "(function(root) {\n",
       "  function embed_document(root) {\n",
       "    \n",
       "  var docs_json = {\"3d6cc57f-590c-40a2-b7b3-87a83c7e7c8d\":{\"defs\":[],\"roots\":{\"references\":[{\"attributes\":{\"children\":[{\"id\":\"2729\"},{\"id\":\"2727\"}]},\"id\":\"2730\",\"type\":\"Column\"},{\"attributes\":{},\"id\":\"2440\",\"type\":\"HelpTool\"},{\"attributes\":{\"axis\":{\"id\":\"2472\"},\"dimension\":1,\"ticker\":null},\"id\":\"2475\",\"type\":\"Grid\"},{\"attributes\":{\"callback\":null,\"tooltips\":[[\"word\",\"@word\"],[\"x\",\"@x\"],[\"y\",\"@y\"]]},\"id\":\"2442\",\"type\":\"HoverTool\"},{\"attributes\":{\"source\":{\"id\":\"2497\"}},\"id\":\"2537\",\"type\":\"CDSView\"},{\"attributes\":{\"data_source\":{\"id\":\"2497\"},\"glyph\":{\"id\":\"2534\"},\"hover_glyph\":null,\"muted_glyph\":null,\"nonselection_glyph\":{\"id\":\"2535\"},\"view\":{\"id\":\"2537\"}},\"id\":\"2536\",\"type\":\"GlyphRenderer\"},{\"attributes\":{\"source\":{\"id\":\"2415\"}},\"id\":\"2455\",\"type\":\"CDSView\"},{\"attributes\":{},\"id\":\"2436\",\"type\":\"WheelZoomTool\"},{\"attributes\":{},\"id\":\"2435\",\"type\":\"PanTool\"},{\"attributes\":{\"data\":{\"word\":[1,1,1,1,1,1,1,1,1,1,1,1,1,1,1,1,1,1,1,1,1,1,1,1,1,1,1,1,1,1,1,1,1,1,1,1,1,1,1,1,1,1,1,1,1,1,1,1,1,1,1,1,1,1,1,1,1,1,1,2,2,2,2,2,2,2,2,2,2,2,2,2,2,2,2,2,2,2,2,2,2,2,2,2,2,2,2,2,2,2,2,2,2,2,2,2,2,2,2,2,2,2,2,2,2,2,2,2,2,2,2,2,2,2,2,2,2,2,2,2,2,2,2,2,2,2,2,2,2,2,3,3,3,3,3,3,3,3,3,3,3,3,3,3,3,3,3,3,3,3,3,3,3,3,3,3,3,3,3,3,3,3,3,3,3,3,3,3,3,3,3,3,3,3,3,3,3,3],\"x\":[-6.279914855957031,-3.8000388145446777,-3.7503626346588135,-5.765270233154297,-0.8382853865623474,-5.116749286651611,-4.0976338386535645,-2.3418309688568115,-4.61588191986084,-4.937432765960693,-4.578070163726807,-3.4507126808166504,-3.610072135925293,-6.390833377838135,-6.1016716957092285,-2.739187002182007,-2.8562686443328857,-2.5488698482513428,-4.926723003387451,-5.489832878112793,-6.190986156463623,-3.443117141723633,-3.6996922492980957,-2.3144326210021973,-2.0036518573760986,-0.24548391997814178,-2.970888137817383,-3.050041675567627,-1.6828837394714355,-4.175591468811035,-3.3846182823181152,-4.3188252449035645,-2.7512447834014893,-1.7689486742019653,-2.2107393741607666,-2.947355270385742,-1.8062918186187744,-2.2711181640625,-2.791517734527588,-6.221714973449707,-5.8859944343566895,-4.061673641204834,-5.288176536560059,-4.071810722351074,-4.852380275726318,-4.862913608551025,-5.58384895324707,-5.23371696472168,-4.100667476654053,-4.911802768707275,-6.980551719665527,-3.7489428520202637,-5.816850662231445,-2.741105556488037,-5.093315601348877,-4.150396823883057,-5.671730995178223,-3.067594051361084,-5.268014907836914,3.1754086017608643,2.6971542835235596,3.2694475650787354,2.1968867778778076,-0.40544062852859497,0.7431222796440125,-1.932230830192566,0.4642364978790283,1.3178349733352661,2.7890353202819824,-6.2616472244262695,2.830941915512085,-0.5968340039253235,1.2153351306915283,-0.3580235242843628,-1.145776391029358,2.445523738861084,1.8903255462646484,3.035444974899292,-6.259819984436035,2.739109992980957,0.7999295592308044,0.08468449115753174,0.09365502744913101,6.871304512023926,-1.7192882299423218,0.47928863763809204,0.5095521807670593,-0.16402173042297363,0.925295889377594,0.44767746329307556,1.4601835012435913,1.2100770473480225,1.8406310081481934,-0.2271135300397873,-0.49505874514579773,-6.297067642211914,4.425449371337891,0.6338344812393188,-0.4996187388896942,-2.0441324710845947,1.4550331830978394,1.8341940641403198,-0.4116877317428589,1.1909992694854736,0.8971611261367798,2.156301975250244,1.1669834852218628,1.7038235664367676,0.5012223124504089,-1.8127906322479248,-3.116163492202759,0.16976876556873322,0.8149129152297974,-0.053872041404247284,-0.09474951028823853,-1.3390796184539795,0.9984907507896423,0.639882504940033,4.693676471710205,1.7138488292694092,-1.3044756650924683,0.4450293481349945,3.101670503616333,3.714315891265869,-2.7505524158477783,-0.0575241819024086,-0.6518366932868958,-0.17818798124790192,0.27639347314834595,3.0848312377929688,3.5683000087738037,4.427474021911621,4.505948543548584,4.290195941925049,4.025223255157471,4.7664289474487305,7.354220867156982,7.777982234954834,6.3799214363098145,6.031320571899414,5.8367414474487305,5.354763984680176,6.071669578552246,6.927133083343506,5.234823703765869,5.5276055335998535,7.751781463623047,7.100446701049805,6.808083534240723,5.807168960571289,5.55565881729126,5.531924247741699,5.54705810546875,7.699545860290527,4.350112438201904,7.829970359802246,7.449801445007324,8.53553295135498,8.563191413879395,8.46374797821045,6.8418989181518555,6.01497220993042,6.110658645629883,5.261829376220703,6.479721546173096,7.081160068511963,6.927981376647949,6.189548015594482,6.82740592956543,6.346208572387695,4.9983930587768555,5.9640092849731445,7.086543083190918,7.674421310424805,6.873990058898926,6.291653156280518,6.65320348739624,8.051025390625],\"y\":[6.508651256561279,5.059045314788818,8.352202415466309,8.301420211791992,7.34697961807251,8.496086120605469,6.635721683502197,7.646448135375977,6.612819671630859,6.80672550201416,8.603511810302734,6.286986351013184,6.766622543334961,9.216371536254883,9.066859245300293,8.130356788635254,8.707809448242188,8.526095390319824,9.234314918518066,5.011198043823242,6.255837440490723,3.7217938899993896,5.767470836639404,5.386575698852539,5.533994674682617,7.5608744621276855,6.733346462249756,5.0119404792785645,7.339288711547852,6.012444019317627,8.906346321105957,8.423786163330078,6.253764629364014,8.587039947509766,6.745095729827881,5.805059432983398,6.879940986633301,6.055606365203857,4.727888107299805,5.0597429275512695,6.444171905517578,3.7782487869262695,7.152082443237305,3.6203994750976562,5.61183500289917,4.305906295776367,5.661492824554443,6.548546314239502,7.648445129394531,8.217686653137207,7.838894367218018,7.368940353393555,7.882644176483154,8.2019624710083,6.075834274291992,8.042465209960938,6.691210746765137,7.580780506134033,7.853330135345459,1.9702363014221191,-4.617072105407715,-4.846212863922119,2.1017611026763916,2.8851709365844727,-3.5201714038848877,2.397679328918457,3.3015859127044678,1.265303373336792,-4.696065425872803,1.7568131685256958,-5.885343074798584,5.059776782989502,-0.7619381546974182,8.353788375854492,2.7707314491271973,1.127812385559082,2.0971121788024902,-3.4122183322906494,1.7672001123428345,-0.6044517159461975,1.6100330352783203,1.73680579662323,-2.313371181488037,-4.859307289123535,1.200417160987854,1.4050976037979126,-2.473442792892456,-2.552072286605835,-2.138160228729248,-1.6010159254074097,-2.551467180252075,-2.473493814468384,-2.801671266555786,1.0697780847549438,1.8711035251617432,1.8353610038757324,-3.0246052742004395,1.9387171268463135,3.078308582305908,-0.6295163035392761,1.91731595993042,0.9216235876083374,-0.1880762130022049,0.32479503750801086,0.7868064045906067,-2.292998790740967,0.14024901390075684,-2.3710780143737793,0.3683028817176819,1.261597990989685,0.4595886170864105,0.04898574948310852,-3.9693877696990967,-1.860322117805481,-1.148547649383545,-2.1768059730529785,0.336568146944046,-0.4824652075767517,-4.485045433044434,-0.16773898899555206,0.6338926553726196,7.328089714050293,-1.0014779567718506,-0.22349826991558075,0.454839289188385,-0.11063888669013977,-0.22214184701442719,-3.2689623832702637,-0.8998680114746094,-1.5859421491622925,-7.555341720581055,-7.787109851837158,-7.944700241088867,-8.020790100097656,-5.472004413604736,-5.908351898193359,-5.433006286621094,-5.28813362121582,-6.084965229034424,-5.096627235412598,-5.408151149749756,-6.555723667144775,-5.26976203918457,-5.717327117919922,-8.232067108154297,-6.785195827484131,-6.052978515625,-6.8606672286987305,-7.616922855377197,-8.751806259155273,-9.574565887451172,-9.25072193145752,-9.88416862487793,-8.346980094909668,-6.332790851593018,-6.989607810974121,-7.665530204772949,-6.527134895324707,-9.479905128479004,-9.37183952331543,-6.951988697052002,-5.8203630447387695,-5.4042768478393555,-6.968462944030762,-7.87339973449707,-6.339951038360596,-8.984955787658691,-7.688958168029785,-9.104662895202637,-9.762758255004883,-6.810357093811035,-7.4421210289001465,-8.178849220275879,-6.833669662475586,-7.704368591308594,-8.674628257751465,-8.647814750671387,-7.9330830574035645]},\"selected\":{\"id\":\"2702\"},\"selection_policy\":{\"id\":\"2703\"}},\"id\":\"2538\",\"type\":\"ColumnDataSource\"},{\"attributes\":{\"overlay\":{\"id\":\"2441\"}},\"id\":\"2437\",\"type\":\"BoxZoomTool\"},{\"attributes\":{},\"id\":\"2438\",\"type\":\"SaveTool\"},{\"attributes\":{\"text\":\"t-SNE with perplexity = 40\"},\"id\":\"2540\",\"type\":\"Title\"},{\"attributes\":{},\"id\":\"2439\",\"type\":\"ResetTool\"},{\"attributes\":{\"source\":{\"id\":\"2456\"}},\"id\":\"2496\",\"type\":\"CDSView\"},{\"attributes\":{\"axis\":{\"id\":\"2427\"},\"ticker\":null},\"id\":\"2430\",\"type\":\"Grid\"},{\"attributes\":{},\"id\":\"2542\",\"type\":\"DataRange1d\"},{\"attributes\":{\"fill_alpha\":{\"value\":0.1},\"fill_color\":{\"value\":\"firebrick\"},\"line_alpha\":{\"value\":0.1},\"line_color\":{\"value\":\"firebrick\"},\"size\":{\"value\":5},\"x\":{\"field\":\"x\"},\"y\":{\"field\":\"y\"}},\"id\":\"2576\",\"type\":\"Circle\"},{\"attributes\":{\"below\":[{\"id\":\"2550\"}],\"center\":[{\"id\":\"2553\"},{\"id\":\"2557\"}],\"left\":[{\"id\":\"2554\"}],\"renderers\":[{\"id\":\"2577\"}],\"title\":{\"id\":\"2540\"},\"toolbar\":{\"id\":\"2566\"},\"toolbar_location\":null,\"x_range\":{\"id\":\"2542\"},\"x_scale\":{\"id\":\"2546\"},\"y_range\":{\"id\":\"2544\"},\"y_scale\":{\"id\":\"2548\"}},\"id\":\"2539\",\"subtype\":\"Figure\",\"type\":\"Plot\"},{\"attributes\":{\"formatter\":{\"id\":\"2665\"},\"major_label_policy\":{\"id\":\"2666\"},\"ticker\":{\"id\":\"2428\"}},\"id\":\"2427\",\"type\":\"LinearAxis\"},{\"attributes\":{\"data_source\":{\"id\":\"2456\"},\"glyph\":{\"id\":\"2493\"},\"hover_glyph\":null,\"muted_glyph\":null,\"nonselection_glyph\":{\"id\":\"2494\"},\"view\":{\"id\":\"2496\"}},\"id\":\"2495\",\"type\":\"GlyphRenderer\"},{\"attributes\":{},\"id\":\"2546\",\"type\":\"LinearScale\"},{\"attributes\":{\"active_multi\":null,\"tools\":[{\"id\":\"2476\"},{\"id\":\"2477\"},{\"id\":\"2478\"},{\"id\":\"2479\"},{\"id\":\"2480\"},{\"id\":\"2481\"},{\"id\":\"2483\"}]},\"id\":\"2484\",\"type\":\"Toolbar\"},{\"attributes\":{\"axis\":{\"id\":\"2550\"},\"ticker\":null},\"id\":\"2553\",\"type\":\"Grid\"},{\"attributes\":{},\"id\":\"2662\",\"type\":\"BasicTickFormatter\"},{\"attributes\":{},\"id\":\"2551\",\"type\":\"BasicTicker\"},{\"attributes\":{\"formatter\":{\"id\":\"2698\"},\"major_label_policy\":{\"id\":\"2699\"},\"ticker\":{\"id\":\"2551\"}},\"id\":\"2550\",\"type\":\"LinearAxis\"},{\"attributes\":{},\"id\":\"2548\",\"type\":\"LinearScale\"},{\"attributes\":{\"bottom_units\":\"screen\",\"fill_alpha\":0.5,\"fill_color\":\"lightgrey\",\"left_units\":\"screen\",\"level\":\"overlay\",\"line_alpha\":1.0,\"line_color\":\"black\",\"line_dash\":[4,4],\"line_width\":2,\"right_units\":\"screen\",\"syncable\":false,\"top_units\":\"screen\"},\"id\":\"2482\",\"type\":\"BoxAnnotation\"},{\"attributes\":{},\"id\":\"2663\",\"type\":\"AllLabels\"},{\"attributes\":{\"formatter\":{\"id\":\"2695\"},\"major_label_policy\":{\"id\":\"2696\"},\"ticker\":{\"id\":\"2555\"}},\"id\":\"2554\",\"type\":\"LinearAxis\"},{\"attributes\":{\"data\":{\"word\":[1,1,1,1,1,1,1,1,1,1,1,1,1,1,1,1,1,1,1,1,1,1,1,1,1,1,1,1,1,1,1,1,1,1,1,1,1,1,1,1,1,1,1,1,1,1,1,1,1,1,1,1,1,1,1,1,1,1,1,2,2,2,2,2,2,2,2,2,2,2,2,2,2,2,2,2,2,2,2,2,2,2,2,2,2,2,2,2,2,2,2,2,2,2,2,2,2,2,2,2,2,2,2,2,2,2,2,2,2,2,2,2,2,2,2,2,2,2,2,2,2,2,2,2,2,2,2,2,2,2,3,3,3,3,3,3,3,3,3,3,3,3,3,3,3,3,3,3,3,3,3,3,3,3,3,3,3,3,3,3,3,3,3,3,3,3,3,3,3,3,3,3,3,3,3,3,3,3],\"x\":[-8.34083366394043,-7.122642993927002,-6.119784832000732,-10.281717300415039,-2.1826469898223877,-9.520135879516602,-7.096195220947266,-4.016916275024414,-8.164201736450195,-8.358705520629883,-7.151772499084473,-6.440067291259766,-6.42378568649292,-11.01333236694336,-10.888051986694336,-4.7471489906311035,-4.79819917678833,-4.505960941314697,-10.046981811523438,-7.54444694519043,-8.334556579589844,-3.128819704055786,-5.7710089683532715,-4.323486804962158,-3.777493953704834,-1.5330146551132202,-5.19762659072876,-6.1442975997924805,-3.156951665878296,-7.281381607055664,-5.649395942687988,-7.035800933837891,-5.3577070236206055,-3.5379538536071777,-4.1238484382629395,-4.5987701416015625,-3.650885820388794,-4.406966686248779,-6.273292064666748,-7.850684642791748,-8.326180458068848,-4.022855758666992,-9.22681713104248,-3.663414239883423,-8.091694831848145,-4.409980297088623,-8.934239387512207,-8.610954284667969,-6.450159549713135,-7.757022857666016,-9.967108726501465,-6.421328544616699,-9.87249755859375,-4.6318559646606445,-8.19064712524414,-6.710936069488525,-8.471246719360352,-5.175657272338867,-9.318124771118164,-2.252539873123169,1.2222081422805786,1.6290215253829956,-2.5808157920837402,-3.557889699935913,4.614684581756592,-1.8083804845809937,-4.202938079833984,-1.5960745811462402,1.1687880754470825,-8.483661651611328,3.2279953956604004,-1.877118706703186,1.0636134147644043,-1.704498291015625,-3.0895049571990967,-1.2197855710983276,-2.556548595428467,2.1589598655700684,-8.488245964050293,1.9638279676437378,-2.2130420207977295,-1.8100883960723877,3.4532968997955322,8.167704582214355,-0.6355024576187134,-1.7219343185424805,3.6100382804870605,3.8492376804351807,2.8465282917022705,2.3847410678863525,2.9698173999786377,3.2263550758361816,3.122781276702881,-1.251793622970581,-2.4188506603240967,-8.538131713867188,4.365979194641113,-2.511618137359619,-3.781153678894043,-1.2005456686019897,-2.5670363903045654,-1.1824195384979248,0.7170391082763672,-0.21620506048202515,-1.0182769298553467,3.8611390590667725,-0.38386234641075134,2.9281768798828125,-0.31216830015182495,-0.6107310652732849,0.4751397967338562,0.19618062674999237,5.34213924407959,2.8628122806549072,2.0109004974365234,3.7440757751464844,-0.4638664424419403,0.7243119478225708,3.388718843460083,0.312061071395874,0.12494700402021408,-0.6842551827430725,2.5567197799682617,1.535506248474121,0.7889481782913208,0.5190982818603516,0.9820887446403503,4.781111717224121,1.4188367128372192,1.4709153175354004,4.457705020904541,4.94310998916626,4.978174686431885,4.898766994476318,3.1341357231140137,4.033656597137451,9.002995491027832,9.324618339538574,7.147701263427734,7.935303211212158,7.339704990386963,5.944393157958984,7.547016143798828,7.886281967163086,4.0346760749816895,5.920742034912109,9.089272499084473,7.342606067657471,6.511955738067627,5.148962020874023,5.324187278747559,4.908204078674316,5.51401948928833,5.6257758140563965,3.8276753425598145,8.087818145751953,7.113378047943115,9.08433723449707,8.299223899841309,8.231914520263672,6.794094562530518,7.181117057800293,7.773147106170654,5.564484596252441,5.9459028244018555,7.842543125152588,6.3573317527771,5.588347434997559,6.543967247009277,6.29448127746582,5.1096577644348145,5.159972190856934,6.230149745941162,8.145238876342773,6.915914058685303,4.851462364196777,4.878312110900879,7.745507717132568],\"y\":[-9.61572265625,-4.122873783111572,-8.821861267089844,-8.506364822387695,-7.668229103088379,-8.707206726074219,-6.02534294128418,-8.19166088104248,-5.550160884857178,-6.947097301483154,-7.742099761962891,-5.490776062011719,-6.251461505889893,-6.553001880645752,-7.026668071746826,-8.353527069091797,-9.340044975280762,-9.162057876586914,-9.424022674560547,-10.459807395935059,-9.48383617401123,-4.231820106506348,-5.430069446563721,-5.300828456878662,-5.49004602432251,-7.915798664093018,-6.81584358215332,-4.2938127517700195,-7.560908794403076,-5.646329879760742,-9.362377166748047,-8.103355407714844,-6.013307571411133,-9.2696533203125,-6.911442279815674,-5.592994689941406,-7.1102471351623535,-6.297611236572266,-3.8975956439971924,-10.830918312072754,-8.895059585571289,-3.2742981910705566,-7.402371883392334,-3.389049768447876,-6.608965873718262,-3.796657085418701,-5.98252010345459,-6.7645583152771,-8.104433059692383,-8.2611722946167,-5.449948787689209,-6.986402988433838,-8.329423904418945,-8.575617790222168,-7.7609782218933105,-8.985008239746094,-8.51161003112793,-7.690827369689941,-8.027251243591309,5.673774242401123,9.041205406188965,9.474265098571777,4.4995317459106445,0.5055411458015442,3.2231624126434326,-2.112382173538208,1.5783313512802124,3.2335433959960938,9.078961372375488,-0.46524694561958313,7.036535739898682,-5.312596797943115,2.966236114501953,-8.955947875976562,-0.49338847398757935,4.9886274337768555,4.032228946685791,6.6463494300842285,-0.4904123842716217,-0.9456143379211426,2.4319570064544678,1.544630765914917,2.3806419372558594,10.941388130187988,-1.2852072715759277,2.075133800506592,2.9181482791900635,2.1016740798950195,3.2771189212799072,2.574038028717041,4.181169509887695,3.834289073944092,4.773832321166992,0.913978099822998,0.5797469019889832,-0.5686952471733093,7.663837909698486,2.1186764240264893,0.41520974040031433,-0.09989862889051437,3.311765670776367,4.015951156616211,0.4843443036079407,2.7639918327331543,2.7588796615600586,4.787553310394287,3.340672016143799,4.568580627441406,2.1697864532470703,-1.3665978908538818,-2.8049323558807373,1.4778109788894653,3.459280490875244,2.036262035369873,1.541406273841858,0.8651363849639893,2.924957036972046,2.1933867931365967,9.931123733520508,3.7214481830596924,-0.5236059427261353,-7.65072774887085,-0.8216409087181091,-2.384293794631958,-2.4489400386810303,1.2290161848068237,0.7546296119689941,1.5248563289642334,1.642058253288269,4.465682506561279,8.490325927734375,9.634570121765137,9.795330047607422,9.369206428527832,11.262171745300293,11.637085914611816,11.217494010925293,10.921822547912598,11.298683166503906,9.44848346710205,9.601285934448242,10.442200660705566,9.51297664642334,11.30951976776123,13.491127014160156,11.146835327148438,12.416740417480469,12.505464553833008,13.122075080871582,14.826651573181152,15.874358177185059,15.470622062683105,16.33893585205078,13.775202751159668,12.074040412902832,13.003156661987305,13.38713550567627,9.776366233825684,16.070091247558594,15.980463981628418,12.37055492401123,10.224137306213379,9.87765121459961,10.86002254486084,13.096546173095703,11.951735496520996,14.837559700012207,12.740194320678711,14.97800350189209,15.819785118103027,10.722769737243652,12.420785903930664,13.643564224243164,12.851774215698242,13.80822467803955,14.32485294342041,13.95606803894043,14.302689552307129]},\"selected\":{\"id\":\"2691\"},\"selection_policy\":{\"id\":\"2692\"}},\"id\":\"2497\",\"type\":\"ColumnDataSource\"},{\"attributes\":{\"fill_alpha\":{\"value\":0.3},\"fill_color\":{\"value\":\"firebrick\"},\"line_color\":{\"value\":\"firebrick\"},\"size\":{\"value\":5},\"x\":{\"field\":\"x\"},\"y\":{\"field\":\"y\"}},\"id\":\"2534\",\"type\":\"Circle\"},{\"attributes\":{\"text\":\"t-SNE with perplexity = 30\"},\"id\":\"2499\",\"type\":\"Title\"},{\"attributes\":{},\"id\":\"2544\",\"type\":\"DataRange1d\"},{\"attributes\":{},\"id\":\"2522\",\"type\":\"HelpTool\"},{\"attributes\":{},\"id\":\"2501\",\"type\":\"DataRange1d\"},{\"attributes\":{\"callback\":null,\"tooltips\":[[\"word\",\"@word\"],[\"x\",\"@x\"],[\"y\",\"@y\"]]},\"id\":\"2565\",\"type\":\"HoverTool\"},{\"attributes\":{},\"id\":\"2432\",\"type\":\"BasicTicker\"},{\"attributes\":{},\"id\":\"2684\",\"type\":\"BasicTickFormatter\"},{\"attributes\":{\"below\":[{\"id\":\"2509\"}],\"center\":[{\"id\":\"2512\"},{\"id\":\"2516\"}],\"left\":[{\"id\":\"2513\"}],\"renderers\":[{\"id\":\"2536\"}],\"title\":{\"id\":\"2499\"},\"toolbar\":{\"id\":\"2525\"},\"toolbar_location\":null,\"x_range\":{\"id\":\"2501\"},\"x_scale\":{\"id\":\"2505\"},\"y_range\":{\"id\":\"2503\"},\"y_scale\":{\"id\":\"2507\"}},\"id\":\"2498\",\"subtype\":\"Figure\",\"type\":\"Plot\"},{\"attributes\":{\"axis\":{\"id\":\"2554\"},\"dimension\":1,\"ticker\":null},\"id\":\"2557\",\"type\":\"Grid\"},{\"attributes\":{},\"id\":\"2505\",\"type\":\"LinearScale\"},{\"attributes\":{},\"id\":\"2685\",\"type\":\"AllLabels\"},{\"attributes\":{},\"id\":\"2555\",\"type\":\"BasicTicker\"},{\"attributes\":{\"fill_alpha\":{\"value\":0.1},\"fill_color\":{\"value\":\"firebrick\"},\"line_alpha\":{\"value\":0.1},\"line_color\":{\"value\":\"firebrick\"},\"size\":{\"value\":5},\"x\":{\"field\":\"x\"},\"y\":{\"field\":\"y\"}},\"id\":\"2535\",\"type\":\"Circle\"},{\"attributes\":{\"active_multi\":null,\"tools\":[{\"id\":\"2640\"},{\"id\":\"2641\"},{\"id\":\"2642\"},{\"id\":\"2643\"},{\"id\":\"2644\"},{\"id\":\"2645\"},{\"id\":\"2647\"}]},\"id\":\"2648\",\"type\":\"Toolbar\"},{\"attributes\":{\"axis\":{\"id\":\"2509\"},\"ticker\":null},\"id\":\"2512\",\"type\":\"Grid\"},{\"attributes\":{},\"id\":\"2665\",\"type\":\"BasicTickFormatter\"},{\"attributes\":{},\"id\":\"2559\",\"type\":\"WheelZoomTool\"},{\"attributes\":{},\"id\":\"2673\",\"type\":\"BasicTickFormatter\"},{\"attributes\":{},\"id\":\"2510\",\"type\":\"BasicTicker\"},{\"attributes\":{},\"id\":\"2558\",\"type\":\"PanTool\"},{\"attributes\":{\"formatter\":{\"id\":\"2687\"},\"major_label_policy\":{\"id\":\"2688\"},\"ticker\":{\"id\":\"2510\"}},\"id\":\"2509\",\"type\":\"LinearAxis\"},{\"attributes\":{},\"id\":\"2666\",\"type\":\"AllLabels\"},{\"attributes\":{},\"id\":\"2507\",\"type\":\"LinearScale\"},{\"attributes\":{\"bottom_units\":\"screen\",\"fill_alpha\":0.5,\"fill_color\":\"lightgrey\",\"left_units\":\"screen\",\"level\":\"overlay\",\"line_alpha\":1.0,\"line_color\":\"black\",\"line_dash\":[4,4],\"line_width\":2,\"right_units\":\"screen\",\"syncable\":false,\"top_units\":\"screen\"},\"id\":\"2441\",\"type\":\"BoxAnnotation\"},{\"attributes\":{},\"id\":\"2674\",\"type\":\"AllLabels\"},{\"attributes\":{\"callback\":null,\"tooltips\":[[\"word\",\"@word\"],[\"x\",\"@x\"],[\"y\",\"@y\"]]},\"id\":\"2647\",\"type\":\"HoverTool\"},{\"attributes\":{\"formatter\":{\"id\":\"2684\"},\"major_label_policy\":{\"id\":\"2685\"},\"ticker\":{\"id\":\"2514\"}},\"id\":\"2513\",\"type\":\"LinearAxis\"},{\"attributes\":{},\"id\":\"2503\",\"type\":\"DataRange1d\"},{\"attributes\":{},\"id\":\"2687\",\"type\":\"BasicTickFormatter\"},{\"attributes\":{},\"id\":\"2695\",\"type\":\"BasicTickFormatter\"},{\"attributes\":{\"axis\":{\"id\":\"2513\"},\"dimension\":1,\"ticker\":null},\"id\":\"2516\",\"type\":\"Grid\"},{\"attributes\":{},\"id\":\"2688\",\"type\":\"AllLabels\"},{\"attributes\":{\"source\":{\"id\":\"2538\"}},\"id\":\"2578\",\"type\":\"CDSView\"},{\"attributes\":{\"bottom_units\":\"screen\",\"fill_alpha\":0.5,\"fill_color\":\"lightgrey\",\"left_units\":\"screen\",\"level\":\"overlay\",\"line_alpha\":1.0,\"line_color\":\"black\",\"line_dash\":[4,4],\"line_width\":2,\"right_units\":\"screen\",\"syncable\":false,\"top_units\":\"screen\"},\"id\":\"2564\",\"type\":\"BoxAnnotation\"},{\"attributes\":{},\"id\":\"2514\",\"type\":\"BasicTicker\"},{\"attributes\":{},\"id\":\"2696\",\"type\":\"AllLabels\"},{\"attributes\":{\"callback\":null,\"tooltips\":[[\"word\",\"@word\"],[\"x\",\"@x\"],[\"y\",\"@y\"]]},\"id\":\"2524\",\"type\":\"HoverTool\"},{\"attributes\":{},\"id\":\"2676\",\"type\":\"BasicTickFormatter\"},{\"attributes\":{},\"id\":\"2669\",\"type\":\"Selection\"},{\"attributes\":{\"active_multi\":null,\"tools\":[{\"id\":\"2517\"},{\"id\":\"2518\"},{\"id\":\"2519\"},{\"id\":\"2520\"},{\"id\":\"2521\"},{\"id\":\"2522\"},{\"id\":\"2524\"}]},\"id\":\"2525\",\"type\":\"Toolbar\"},{\"attributes\":{},\"id\":\"2670\",\"type\":\"UnionRenderers\"},{\"attributes\":{},\"id\":\"2518\",\"type\":\"WheelZoomTool\"},{\"attributes\":{},\"id\":\"2677\",\"type\":\"AllLabels\"},{\"attributes\":{},\"id\":\"2517\",\"type\":\"PanTool\"},{\"attributes\":{\"overlay\":{\"id\":\"2523\"}},\"id\":\"2519\",\"type\":\"BoxZoomTool\"},{\"attributes\":{},\"id\":\"2520\",\"type\":\"SaveTool\"},{\"attributes\":{},\"id\":\"2521\",\"type\":\"ResetTool\"},{\"attributes\":{},\"id\":\"2691\",\"type\":\"Selection\"},{\"attributes\":{\"text\":\"t-SNE with perplexity = 10\"},\"id\":\"2458\",\"type\":\"Title\"},{\"attributes\":{},\"id\":\"2698\",\"type\":\"BasicTickFormatter\"},{\"attributes\":{},\"id\":\"2706\",\"type\":\"BasicTickFormatter\"},{\"attributes\":{},\"id\":\"2692\",\"type\":\"UnionRenderers\"},{\"attributes\":{},\"id\":\"2699\",\"type\":\"AllLabels\"},{\"attributes\":{},\"id\":\"2707\",\"type\":\"AllLabels\"},{\"attributes\":{\"formatter\":{\"id\":\"2662\"},\"major_label_policy\":{\"id\":\"2663\"},\"ticker\":{\"id\":\"2432\"}},\"id\":\"2431\",\"type\":\"LinearAxis\"},{\"attributes\":{},\"id\":\"2680\",\"type\":\"Selection\"},{\"attributes\":{\"axis\":{\"id\":\"2431\"},\"dimension\":1,\"ticker\":null},\"id\":\"2434\",\"type\":\"Grid\"},{\"attributes\":{\"fill_alpha\":{\"value\":0.1},\"fill_color\":{\"value\":\"firebrick\"},\"line_alpha\":{\"value\":0.1},\"line_color\":{\"value\":\"firebrick\"},\"size\":{\"value\":5},\"x\":{\"field\":\"x\"},\"y\":{\"field\":\"y\"}},\"id\":\"2453\",\"type\":\"Circle\"},{\"attributes\":{},\"id\":\"2681\",\"type\":\"UnionRenderers\"},{\"attributes\":{},\"id\":\"2428\",\"type\":\"BasicTicker\"},{\"attributes\":{\"data_source\":{\"id\":\"2415\"},\"glyph\":{\"id\":\"2452\"},\"hover_glyph\":null,\"muted_glyph\":null,\"nonselection_glyph\":{\"id\":\"2453\"},\"view\":{\"id\":\"2455\"}},\"id\":\"2454\",\"type\":\"GlyphRenderer\"},{\"attributes\":{\"toolbars\":[{\"id\":\"2443\"},{\"id\":\"2484\"},{\"id\":\"2525\"},{\"id\":\"2566\"},{\"id\":\"2607\"},{\"id\":\"2648\"}],\"tools\":[{\"id\":\"2435\"},{\"id\":\"2436\"},{\"id\":\"2437\"},{\"id\":\"2438\"},{\"id\":\"2439\"},{\"id\":\"2440\"},{\"id\":\"2442\"},{\"id\":\"2476\"},{\"id\":\"2477\"},{\"id\":\"2478\"},{\"id\":\"2479\"},{\"id\":\"2480\"},{\"id\":\"2481\"},{\"id\":\"2483\"},{\"id\":\"2517\"},{\"id\":\"2518\"},{\"id\":\"2519\"},{\"id\":\"2520\"},{\"id\":\"2521\"},{\"id\":\"2522\"},{\"id\":\"2524\"},{\"id\":\"2558\"},{\"id\":\"2559\"},{\"id\":\"2560\"},{\"id\":\"2561\"},{\"id\":\"2562\"},{\"id\":\"2563\"},{\"id\":\"2565\"},{\"id\":\"2599\"},{\"id\":\"2600\"},{\"id\":\"2601\"},{\"id\":\"2602\"},{\"id\":\"2603\"},{\"id\":\"2604\"},{\"id\":\"2606\"},{\"id\":\"2640\"},{\"id\":\"2641\"},{\"id\":\"2642\"},{\"id\":\"2643\"},{\"id\":\"2644\"},{\"id\":\"2645\"},{\"id\":\"2647\"}]},\"id\":\"2728\",\"type\":\"ProxyToolbar\"},{\"attributes\":{\"active_multi\":null,\"tools\":[{\"id\":\"2435\"},{\"id\":\"2436\"},{\"id\":\"2437\"},{\"id\":\"2438\"},{\"id\":\"2439\"},{\"id\":\"2440\"},{\"id\":\"2442\"}]},\"id\":\"2443\",\"type\":\"Toolbar\"},{\"attributes\":{\"fill_alpha\":{\"value\":0.3},\"fill_color\":{\"value\":\"firebrick\"},\"line_color\":{\"value\":\"firebrick\"},\"size\":{\"value\":5},\"x\":{\"field\":\"x\"},\"y\":{\"field\":\"y\"}},\"id\":\"2575\",\"type\":\"Circle\"},{\"attributes\":{},\"id\":\"2702\",\"type\":\"Selection\"},{\"attributes\":{\"overlay\":{\"id\":\"2564\"}},\"id\":\"2560\",\"type\":\"BoxZoomTool\"},{\"attributes\":{\"formatter\":{\"id\":\"2673\"},\"major_label_policy\":{\"id\":\"2674\"},\"ticker\":{\"id\":\"2473\"}},\"id\":\"2472\",\"type\":\"LinearAxis\"},{\"attributes\":{},\"id\":\"2709\",\"type\":\"BasicTickFormatter\"},{\"attributes\":{\"children\":[[{\"id\":\"2416\"},0,0],[{\"id\":\"2457\"},0,1],[{\"id\":\"2498\"},1,0],[{\"id\":\"2539\"},1,1],[{\"id\":\"2580\"},2,0],[{\"id\":\"2621\"},2,1]]},\"id\":\"2727\",\"type\":\"GridBox\"},{\"attributes\":{},\"id\":\"2563\",\"type\":\"HelpTool\"},{\"attributes\":{\"data_source\":{\"id\":\"2538\"},\"glyph\":{\"id\":\"2575\"},\"hover_glyph\":null,\"muted_glyph\":null,\"nonselection_glyph\":{\"id\":\"2576\"},\"view\":{\"id\":\"2578\"}},\"id\":\"2577\",\"type\":\"GlyphRenderer\"},{\"attributes\":{},\"id\":\"2562\",\"type\":\"ResetTool\"},{\"attributes\":{\"active_multi\":null,\"tools\":[{\"id\":\"2558\"},{\"id\":\"2559\"},{\"id\":\"2560\"},{\"id\":\"2561\"},{\"id\":\"2562\"},{\"id\":\"2563\"},{\"id\":\"2565\"}]},\"id\":\"2566\",\"type\":\"Toolbar\"},{\"attributes\":{\"data\":{\"word\":[1,1,1,1,1,1,1,1,1,1,1,1,1,1,1,1,1,1,1,1,1,1,1,1,1,1,1,1,1,1,1,1,1,1,1,1,1,1,1,1,1,1,1,1,1,1,1,1,1,1,1,1,1,1,1,1,1,1,1,2,2,2,2,2,2,2,2,2,2,2,2,2,2,2,2,2,2,2,2,2,2,2,2,2,2,2,2,2,2,2,2,2,2,2,2,2,2,2,2,2,2,2,2,2,2,2,2,2,2,2,2,2,2,2,2,2,2,2,2,2,2,2,2,2,2,2,2,2,2,2,3,3,3,3,3,3,3,3,3,3,3,3,3,3,3,3,3,3,3,3,3,3,3,3,3,3,3,3,3,3,3,3,3,3,3,3,3,3,3,3,3,3,3,3,3,3,3,3],\"x\":[-28.09379005432129,-5.155189514160156,-15.808099746704102,-13.188325881958008,-16.316940307617188,-15.812915802001953,-9.86678695678711,-21.244047164916992,-9.273507118225098,-20.62408447265625,-14.797239303588867,-9.9961576461792,-10.971181869506836,-18.650165557861328,-18.401023864746094,-17.57940673828125,-19.57006072998047,-18.851905822753906,-17.11123275756836,-27.218082427978516,-26.96392059326172,-12.752619743347168,-7.333317756652832,-10.51539421081543,-10.14096736907959,-17.320486068725586,-14.276305198669434,-7.762983322143555,-14.944324493408203,-8.32846450805664,-17.70194435119629,-15.549169540405273,-10.779881477355957,-19.491064071655273,-13.355339050292969,-8.968825340270996,-14.842743873596191,-12.366227149963379,-6.581592082977295,-27.726512908935547,-25.06060218811035,-26.913333892822266,-11.981022834777832,-26.095226287841797,-23.329126358032227,-26.275081634521484,-21.974205017089844,-21.80806541442871,-16.460145950317383,-16.852867126464844,-21.67302894592285,-12.410845756530762,-14.89279842376709,-18.818265914916992,-25.6964168548584,-17.58635139465332,-25.86237144470215,-15.731335639953613,-13.241901397705078,-3.941051959991455,16.92507553100586,16.961206436157227,-6.689550399780273,-13.228765487670898,7.226677417755127,-5.146901607513428,-12.223838806152344,-4.616413593292236,15.903093338012695,6.557977676391602,4.898943901062012,-8.983555793762207,-0.8620057702064514,-19.394718170166016,-13.511967658996582,-1.4842557907104492,-5.873581886291504,1.4354968070983887,5.569285869598389,-7.741175174713135,-8.131009101867676,-5.501492500305176,9.92249584197998,23.44057273864746,-2.605647563934326,-6.8869948387146,8.786818504333496,9.552481651306152,9.953012466430664,11.395391464233398,10.060714721679688,10.965391159057617,11.26949691772461,-8.675536155700684,-11.452949523925781,5.5038251876831055,5.922760486602783,-8.564048767089844,-13.908475875854492,-8.726126670837402,-7.455453395843506,-2.7640740871429443,-1.826812744140625,-0.421938419342041,-3.552579402923584,13.952881813049316,-2.102402448654175,12.033675193786621,-1.2126655578613281,-2.8606626987457275,-13.07453727722168,-1.4058798551559448,6.9928693771362305,6.479865550994873,3.79837703704834,11.49924373626709,-1.9600986242294312,-3.6699764728546143,13.72561264038086,0.9968420267105103,-2.418898582458496,-17.33098793029785,-6.978875637054443,-11.876812934875488,-12.19482135772705,-0.6272702217102051,0.7336865067481995,6.665652275085449,1.5476036071777344,3.816694498062134,7.535451412200928,9.51965045928955,10.133872032165527,8.511737823486328,17.828821182250977,18.3773250579834,27.250003814697266,27.641841888427734,21.131046295166016,28.29332733154297,26.562875747680664,15.382902145385742,27.512706756591797,22.097217559814453,13.104127883911133,14.425424575805664,19.945261001586914,24.162607192993164,21.78717041015625,13.770179748535156,13.019262313842773,12.644075393676758,12.354534149169922,19.535232543945312,17.369264602661133,21.839282989501953,21.48078155517578,29.700439453125,21.53227996826172,22.156539916992188,24.61659812927246,25.197830200195312,26.93897247314453,13.622241020202637,23.86043930053711,21.449007034301758,17.33033561706543,25.15131378173828,17.812068939208984,15.359640121459961,13.294476509094238,26.361543655395508,22.717525482177734,22.719358444213867,19.49443244934082,15.264274597167969,16.694923400878906,20.435070037841797],\"y\":[-36.28335189819336,-28.58727264404297,-31.988279342651367,-43.17967224121094,-19.00788688659668,-41.71591567993164,-32.69304656982422,-25.542587280273438,-34.98214340209961,-38.32527542114258,-36.92758560180664,-29.70290756225586,-30.513212203979492,-45.78385543823242,-44.6084098815918,-25.987247467041016,-28.571046829223633,-27.787630081176758,-41.22060775756836,-30.389938354492188,-35.92293930053711,-16.963665008544922,-31.77838134765625,-22.40226173400879,-20.796855926513672,-17.864627838134766,-26.927072525024414,-27.89105224609375,-20.36977767944336,-32.82550811767578,-31.044803619384766,-37.630619049072266,-26.3227596282959,-23.914447784423828,-23.57844352722168,-21.3604679107666,-23.022993087768555,-24.14182472229004,-27.590652465820312,-31.327184677124023,-35.95359420776367,-22.789581298828125,-40.41332244873047,-23.298521041870117,-37.365379333496094,-25.37824058532715,-34.328311920166016,-38.19635772705078,-33.66769027709961,-39.00901794433594,-40.798072814941406,-31.856340408325195,-43.0195198059082,-26.146495819091797,-38.520626068115234,-33.8817024230957,-37.098114013671875,-26.747047424316406,-41.41972351074219,14.510169982910156,17.220895767211914,18.806541442871094,13.431720733642578,5.446587562561035,3.0765838623046875,-13.010863304138184,8.400115013122559,8.726590156555176,17.052165985107422,-23.463407516479492,15.493108749389648,-18.780241012573242,1.8388503789901733,-18.587345123291016,2.8744113445281982,13.298688888549805,12.079866409301758,14.61685562133789,-23.372766494750977,-2.7916605472564697,6.668742656707764,6.089016437530518,0.6081029772758484,29.24329948425293,-7.7647199630737305,5.274834632873535,1.7831580638885498,-0.6760928630828857,3.9413163661956787,1.2963498830795288,6.56392765045166,5.154308795928955,7.636610507965088,2.6487927436828613,3.497626304626465,-24.57471466064453,28.914762496948242,7.671297073364258,6.068248271942139,-0.22490371763706207,9.828117370605469,10.822123527526855,-2.510692596435547,6.049935340881348,7.509346961975098,6.398317813873291,8.708579063415527,6.698763370513916,4.990500450134277,-6.832118034362793,-4.694928169250488,-0.013158577494323254,4.765628814697266,0.3584553897380829,-0.7545380592346191,-2.729212522506714,7.265521049499512,2.4116477966308594,26.933446884155273,8.006842613220215,-4.532416820526123,-15.927451133728027,-3.5612998008728027,-7.546411991119385,-5.934842586517334,-1.148913860321045,-2.35723876953125,-3.3903422355651855,-0.9443345665931702,7.8542609214782715,29.857465744018555,31.331775665283203,32.50971603393555,31.913013458251953,21.32270050048828,22.456865310668945,31.574953079223633,30.49687385559082,28.78084945678711,25.261947631835938,24.30347442626953,29.3626708984375,23.625280380249023,27.517154693603516,35.708282470703125,31.774246215820312,31.079530715942383,35.14645004272461,39.322200775146484,39.54319763183594,41.98467254638672,40.51272964477539,43.44406509399414,37.25822067260742,23.42903709411621,34.387962341308594,37.96152877807617,26.968570709228516,47.16165542602539,46.595088958740234,36.40908432006836,25.51567268371582,25.759437561035156,30.719091415405273,40.54745864868164,29.96151351928711,41.310340881347656,39.60505676269531,42.4171028137207,43.345733642578125,29.498403549194336,40.06294250488281,40.93284606933594,33.595680236816406,40.44076919555664,38.25502014160156,37.782962799072266,42.43642044067383]},\"selected\":{\"id\":\"2680\"},\"selection_policy\":{\"id\":\"2681\"}},\"id\":\"2456\",\"type\":\"ColumnDataSource\"},{\"attributes\":{},\"id\":\"2460\",\"type\":\"DataRange1d\"},{\"attributes\":{},\"id\":\"2710\",\"type\":\"AllLabels\"},{\"attributes\":{},\"id\":\"2703\",\"type\":\"UnionRenderers\"},{\"attributes\":{\"fill_alpha\":{\"value\":0.3},\"fill_color\":{\"value\":\"firebrick\"},\"line_color\":{\"value\":\"firebrick\"},\"size\":{\"value\":5},\"x\":{\"field\":\"x\"},\"y\":{\"field\":\"y\"}},\"id\":\"2493\",\"type\":\"Circle\"},{\"attributes\":{\"below\":[{\"id\":\"2468\"}],\"center\":[{\"id\":\"2471\"},{\"id\":\"2475\"}],\"left\":[{\"id\":\"2472\"}],\"renderers\":[{\"id\":\"2495\"}],\"title\":{\"id\":\"2458\"},\"toolbar\":{\"id\":\"2484\"},\"toolbar_location\":null,\"x_range\":{\"id\":\"2460\"},\"x_scale\":{\"id\":\"2464\"},\"y_range\":{\"id\":\"2462\"},\"y_scale\":{\"id\":\"2466\"}},\"id\":\"2457\",\"subtype\":\"Figure\",\"type\":\"Plot\"},{\"attributes\":{\"data\":{\"word\":[1,1,1,1,1,1,1,1,1,1,1,1,1,1,1,1,1,1,1,1,1,1,1,1,1,1,1,1,1,1,1,1,1,1,1,1,1,1,1,1,1,1,1,1,1,1,1,1,1,1,1,1,1,1,1,1,1,1,1,2,2,2,2,2,2,2,2,2,2,2,2,2,2,2,2,2,2,2,2,2,2,2,2,2,2,2,2,2,2,2,2,2,2,2,2,2,2,2,2,2,2,2,2,2,2,2,2,2,2,2,2,2,2,2,2,2,2,2,2,2,2,2,2,2,2,2,2,2,2,2,3,3,3,3,3,3,3,3,3,3,3,3,3,3,3,3,3,3,3,3,3,3,3,3,3,3,3,3,3,3,3,3,3,3,3,3,3,3,3,3,3,3,3,3,3,3,3,3],\"x\":[-3.5488579273223877,-2.6065940856933594,-3.1418886184692383,-3.951601505279541,-2.437352418899536,-3.6843690872192383,-3.1956732273101807,-3.1963701248168945,-3.2367639541625977,-3.1001410484313965,-3.638397693634033,-2.737971305847168,-2.89585280418396,-4.069683074951172,-4.092860221862793,-3.351400136947632,-3.4284160137176514,-3.2334039211273193,-3.9566967487335205,-2.9189794063568115,-3.3150851726531982,-2.112143039703369,-2.677809715270996,-2.1892282962799072,-2.2625861167907715,-2.4394869804382324,-2.737333059310913,-2.3035616874694824,-2.8208043575286865,-2.7392637729644775,-3.307307481765747,-3.450953245162964,-2.5135819911956787,-3.333631753921509,-2.6050400733947754,-2.4848275184631348,-2.612598180770874,-2.291276216506958,-2.0893373489379883,-3.6792709827423096,-3.1480233669281006,-2.0438597202301025,-3.3340187072753906,-1.8906280994415283,-2.534109354019165,-2.835418462753296,-3.355128288269043,-3.0806944370269775,-3.0819058418273926,-3.5995397567749023,-3.265355348587036,-3.1562998294830322,-3.7678205966949463,-3.361389398574829,-2.9840645790100098,-3.2515828609466553,-3.3502981662750244,-3.068284749984741,-3.5985357761383057,-0.16738539934158325,0.6003228425979614,0.8211249709129333,-0.6745473146438599,-1.6233469247817993,-0.09023172408342361,-1.59136164188385,-1.8160767555236816,-0.7843120098114014,0.6347217559814453,-2.278442859649658,0.6942799091339111,-1.8664826154708862,-0.22860251367092133,-3.608203649520874,-1.7480671405792236,-0.12447323650121689,-0.8634572625160217,0.42715132236480713,-2.254589796066284,-1.1067602634429932,-0.8836717009544373,-1.414301872253418,-0.35704517364501953,1.298439383506775,-1.300829291343689,-1.0500271320343018,-0.18052999675273895,-0.38660526275634766,-0.078489288687706,-0.39777645468711853,0.11787344515323639,0.12042543292045593,0.4488459825515747,-1.098397135734558,-1.2260924577713013,-2.59795880317688,0.7818193435668945,-1.1295967102050781,-1.861686110496521,-1.3649224042892456,-1.0327725410461426,-0.3416275382041931,-0.8593125939369202,-0.40717288851737976,-0.8812344074249268,0.27348092198371887,-0.4910706579685211,0.26892951130867004,-0.7424044609069824,-1.50210702419281,-1.419837474822998,-0.7049903273582458,0.26775819063186646,-0.43400561809539795,-0.5190582275390625,-0.649507462978363,-0.5759523510932922,-0.6114943623542786,0.9183571934700012,-0.4118960201740265,-1.2372559309005737,-2.1046218872070312,-0.25059056282043457,-0.16472838819026947,-1.2984533309936523,-0.7577466368675232,-0.9010671377182007,-0.021245025098323822,-0.5366079211235046,0.3992556631565094,1.2435740232467651,1.5964630842208862,1.7086293697357178,1.6156642436981201,1.0886733531951904,1.5733224153518677,1.7437915802001953,1.8842264413833618,1.6373012065887451,1.323978304862976,1.3951648473739624,1.4570684432983398,1.5231281518936157,1.6040606498718262,1.9369066953659058,1.6188586950302124,2.154273271560669,2.1050522327423096,2.1663296222686768,2.305271625518799,2.363029718399048,2.4053781032562256,2.280252695083618,2.591296672821045,1.6781296730041504,2.3251278400421143,2.3921279907226562,2.1268229484558105,3.2883121967315674,3.078676700592041,1.9829976558685303,1.6275811195373535,1.5204763412475586,1.627921223640442,2.2202513217926025,1.9845185279846191,2.532705068588257,2.1517529487609863,2.3792572021484375,2.532134532928467,1.4810131788253784,2.0759057998657227,2.4139907360076904,2.3031065464019775,2.133485794067383,2.499051809310913,2.3904898166656494,2.5936074256896973],\"y\":[8.135464668273926,7.777188777923584,8.896197319030762,8.524566650390625,9.426904678344727,8.588723182678223,8.30518627166748,8.987117767333984,7.942455291748047,8.112131118774414,8.465904235839844,8.292196273803711,8.407339096069336,8.103341102600098,8.279071807861328,9.004464149475098,9.056111335754395,9.101908683776855,8.754664421081543,8.39073371887207,7.905698299407959,8.967647552490234,8.314369201660156,8.554189682006836,8.809508323669434,10.013788223266602,8.685174942016602,8.096742630004883,9.152181625366211,8.10025691986084,9.134147644042969,8.63071346282959,8.523781776428223,9.471505165100098,8.874455451965332,8.568399429321289,9.080159187316895,8.654468536376953,7.979852676391602,7.785119533538818,8.038554191589355,8.330333709716797,8.309113502502441,8.645423889160156,8.014265060424805,9.015389442443848,8.098154067993164,7.950295925140381,8.546276092529297,8.470000267028809,7.502633571624756,8.61553955078125,8.376814842224121,8.983129501342773,8.130478858947754,8.576823234558105,8.166512489318848,8.833223342895508,8.485464096069336,6.802567481994629,9.246918678283691,8.383091926574707,7.529147624969482,7.820742130279541,9.052738189697266,8.715714454650879,7.336287021636963,7.8271942138671875,9.285571098327637,6.496331214904785,8.074999809265137,9.473508834838867,8.281163215637207,7.024443626403809,8.213937759399414,7.732544422149658,7.388462543487549,8.259949684143066,6.62106466293335,9.240910530090332,7.808681964874268,8.22110652923584,9.015633583068848,9.11746597290039,8.851686477661133,8.127266883850098,8.697413444519043,9.31985092163086,8.858465194702148,8.76795482635498,8.609838485717773,8.781474113464355,8.705699920654297,8.246047019958496,8.109984397888184,6.557694435119629,7.126612663269043,7.793726444244385,7.798694133758545,7.542987823486328,7.566176414489746,7.861346244812012,8.819713592529297,8.075469017028809,8.15104866027832,9.062899589538574,8.257448196411133,8.634000778198242,8.174210548400879,9.07361888885498,9.949780464172363,8.387174606323242,9.613995552062988,8.87448501586914,8.919716835021973,7.286353588104248,8.186576843261719,8.440237045288086,8.241474151611328,8.198278427124023,8.881000518798828,10.405904769897461,9.771416664123535,7.321965217590332,9.698546409606934,8.550728797912598,8.805437088012695,9.708797454833984,8.809554100036621,8.91795539855957,7.521974563598633,7.933622360229492,7.949241638183594,7.769979476928711,8.638201713562012,8.692170143127441,9.234060287475586,9.480584144592285,8.888937950134277,9.114333152770996,8.951651573181152,8.422273635864258,9.113973617553711,9.118348121643066,7.9606614112854,8.452829360961914,9.278702735900879,8.870744705200195,8.576292991638184,8.127317428588867,7.757803916931152,7.878216743469238,7.664152145385742,8.713567733764648,8.249488830566406,9.06078815460205,8.74467945098877,9.232661247253418,8.589513778686523,8.602046012878418,8.816807746887207,8.851902961730957,9.014810562133789,8.358562469482422,8.463135719299316,8.959450721740723,8.388628005981445,8.456023216247559,8.280298233032227,8.02054500579834,8.349821090698242,8.467677116394043,8.525932312011719,9.044514656066895,8.581669807434082,8.30494213104248,8.346721649169922,8.857365608215332]},\"selected\":{\"id\":\"2713\"},\"selection_policy\":{\"id\":\"2714\"}},\"id\":\"2579\",\"type\":\"ColumnDataSource\"},{\"attributes\":{\"fill_alpha\":{\"value\":0.3},\"fill_color\":{\"value\":\"firebrick\"},\"line_color\":{\"value\":\"firebrick\"},\"size\":{\"value\":5},\"x\":{\"field\":\"x\"},\"y\":{\"field\":\"y\"}},\"id\":\"2616\",\"type\":\"Circle\"},{\"attributes\":{\"text\":\"t-SNE with perplexity = 100\"},\"id\":\"2581\",\"type\":\"Title\"},{\"attributes\":{},\"id\":\"2599\",\"type\":\"PanTool\"},{\"attributes\":{\"formatter\":{\"id\":\"2676\"},\"major_label_policy\":{\"id\":\"2677\"},\"ticker\":{\"id\":\"2469\"}},\"id\":\"2468\",\"type\":\"LinearAxis\"},{\"attributes\":{\"bottom_units\":\"screen\",\"fill_alpha\":0.5,\"fill_color\":\"lightgrey\",\"left_units\":\"screen\",\"level\":\"overlay\",\"line_alpha\":1.0,\"line_color\":\"black\",\"line_dash\":[4,4],\"line_width\":2,\"right_units\":\"screen\",\"syncable\":false,\"top_units\":\"screen\"},\"id\":\"2523\",\"type\":\"BoxAnnotation\"},{\"attributes\":{\"toolbar\":{\"id\":\"2728\"},\"toolbar_location\":\"above\"},\"id\":\"2729\",\"type\":\"ToolbarBox\"},{\"attributes\":{},\"id\":\"2583\",\"type\":\"DataRange1d\"},{\"attributes\":{},\"id\":\"2713\",\"type\":\"Selection\"},{\"attributes\":{},\"id\":\"2464\",\"type\":\"LinearScale\"},{\"attributes\":{},\"id\":\"2600\",\"type\":\"WheelZoomTool\"},{\"attributes\":{},\"id\":\"2603\",\"type\":\"ResetTool\"},{\"attributes\":{},\"id\":\"2714\",\"type\":\"UnionRenderers\"},{\"attributes\":{\"below\":[{\"id\":\"2591\"}],\"center\":[{\"id\":\"2594\"},{\"id\":\"2598\"}],\"left\":[{\"id\":\"2595\"}],\"renderers\":[{\"id\":\"2618\"}],\"title\":{\"id\":\"2581\"},\"toolbar\":{\"id\":\"2607\"},\"toolbar_location\":null,\"x_range\":{\"id\":\"2583\"},\"x_scale\":{\"id\":\"2587\"},\"y_range\":{\"id\":\"2585\"},\"y_scale\":{\"id\":\"2589\"}},\"id\":\"2580\",\"subtype\":\"Figure\",\"type\":\"Plot\"},{\"attributes\":{},\"id\":\"2604\",\"type\":\"HelpTool\"},{\"attributes\":{},\"id\":\"2587\",\"type\":\"LinearScale\"},{\"attributes\":{\"bottom_units\":\"screen\",\"fill_alpha\":0.5,\"fill_color\":\"lightgrey\",\"left_units\":\"screen\",\"level\":\"overlay\",\"line_alpha\":1.0,\"line_color\":\"black\",\"line_dash\":[4,4],\"line_width\":2,\"right_units\":\"screen\",\"syncable\":false,\"top_units\":\"screen\"},\"id\":\"2646\",\"type\":\"BoxAnnotation\"},{\"attributes\":{\"fill_alpha\":{\"value\":0.1},\"fill_color\":{\"value\":\"firebrick\"},\"line_alpha\":{\"value\":0.1},\"line_color\":{\"value\":\"firebrick\"},\"size\":{\"value\":5},\"x\":{\"field\":\"x\"},\"y\":{\"field\":\"y\"}},\"id\":\"2617\",\"type\":\"Circle\"},{\"attributes\":{\"axis\":{\"id\":\"2591\"},\"ticker\":null},\"id\":\"2594\",\"type\":\"Grid\"},{\"attributes\":{},\"id\":\"2592\",\"type\":\"BasicTicker\"},{\"attributes\":{\"formatter\":{\"id\":\"2709\"},\"major_label_policy\":{\"id\":\"2710\"},\"ticker\":{\"id\":\"2592\"}},\"id\":\"2591\",\"type\":\"LinearAxis\"},{\"attributes\":{},\"id\":\"2481\",\"type\":\"HelpTool\"},{\"attributes\":{},\"id\":\"2589\",\"type\":\"LinearScale\"},{\"attributes\":{\"axis\":{\"id\":\"2468\"},\"ticker\":null},\"id\":\"2471\",\"type\":\"Grid\"},{\"attributes\":{\"formatter\":{\"id\":\"2706\"},\"major_label_policy\":{\"id\":\"2707\"},\"ticker\":{\"id\":\"2596\"}},\"id\":\"2595\",\"type\":\"LinearAxis\"},{\"attributes\":{},\"id\":\"2585\",\"type\":\"DataRange1d\"},{\"attributes\":{\"fill_alpha\":{\"value\":0.3},\"fill_color\":{\"value\":\"firebrick\"},\"line_color\":{\"value\":\"firebrick\"},\"size\":{\"value\":5},\"x\":{\"field\":\"x\"},\"y\":{\"field\":\"y\"}},\"id\":\"2452\",\"type\":\"Circle\"},{\"attributes\":{},\"id\":\"2469\",\"type\":\"BasicTicker\"},{\"attributes\":{},\"id\":\"2466\",\"type\":\"LinearScale\"},{\"attributes\":{},\"id\":\"2602\",\"type\":\"SaveTool\"},{\"attributes\":{\"axis\":{\"id\":\"2595\"},\"dimension\":1,\"ticker\":null},\"id\":\"2598\",\"type\":\"Grid\"},{\"attributes\":{\"fill_alpha\":{\"value\":0.1},\"fill_color\":{\"value\":\"firebrick\"},\"line_alpha\":{\"value\":0.1},\"line_color\":{\"value\":\"firebrick\"},\"size\":{\"value\":5},\"x\":{\"field\":\"x\"},\"y\":{\"field\":\"y\"}},\"id\":\"2494\",\"type\":\"Circle\"},{\"attributes\":{},\"id\":\"2462\",\"type\":\"DataRange1d\"},{\"attributes\":{},\"id\":\"2596\",\"type\":\"BasicTicker\"},{\"attributes\":{\"callback\":null,\"tooltips\":[[\"word\",\"@word\"],[\"x\",\"@x\"],[\"y\",\"@y\"]]},\"id\":\"2606\",\"type\":\"HoverTool\"},{\"attributes\":{},\"id\":\"2561\",\"type\":\"SaveTool\"},{\"attributes\":{\"fill_alpha\":{\"value\":0.3},\"fill_color\":{\"value\":\"firebrick\"},\"line_color\":{\"value\":\"firebrick\"},\"size\":{\"value\":5},\"x\":{\"field\":\"x\"},\"y\":{\"field\":\"y\"}},\"id\":\"2657\",\"type\":\"Circle\"},{\"attributes\":{\"overlay\":{\"id\":\"2605\"}},\"id\":\"2601\",\"type\":\"BoxZoomTool\"},{\"attributes\":{\"bottom_units\":\"screen\",\"fill_alpha\":0.5,\"fill_color\":\"lightgrey\",\"left_units\":\"screen\",\"level\":\"overlay\",\"line_alpha\":1.0,\"line_color\":\"black\",\"line_dash\":[4,4],\"line_width\":2,\"right_units\":\"screen\",\"syncable\":false,\"top_units\":\"screen\"},\"id\":\"2605\",\"type\":\"BoxAnnotation\"},{\"attributes\":{\"source\":{\"id\":\"2579\"}},\"id\":\"2619\",\"type\":\"CDSView\"},{\"attributes\":{\"data_source\":{\"id\":\"2579\"},\"glyph\":{\"id\":\"2616\"},\"hover_glyph\":null,\"muted_glyph\":null,\"nonselection_glyph\":{\"id\":\"2617\"},\"view\":{\"id\":\"2619\"}},\"id\":\"2618\",\"type\":\"GlyphRenderer\"},{\"attributes\":{\"active_multi\":null,\"tools\":[{\"id\":\"2599\"},{\"id\":\"2600\"},{\"id\":\"2601\"},{\"id\":\"2602\"},{\"id\":\"2603\"},{\"id\":\"2604\"},{\"id\":\"2606\"}]},\"id\":\"2607\",\"type\":\"Toolbar\"},{\"attributes\":{\"data\":{\"word\":[1,1,1,1,1,1,1,1,1,1,1,1,1,1,1,1,1,1,1,1,1,1,1,1,1,1,1,1,1,1,1,1,1,1,1,1,1,1,1,1,1,1,1,1,1,1,1,1,1,1,1,1,1,1,1,1,1,1,1,2,2,2,2,2,2,2,2,2,2,2,2,2,2,2,2,2,2,2,2,2,2,2,2,2,2,2,2,2,2,2,2,2,2,2,2,2,2,2,2,2,2,2,2,2,2,2,2,2,2,2,2,2,2,2,2,2,2,2,2,2,2,2,2,2,2,2,2,2,2,2,3,3,3,3,3,3,3,3,3,3,3,3,3,3,3,3,3,3,3,3,3,3,3,3,3,3,3,3,3,3,3,3,3,3,3,3,3,3,3,3,3,3,3,3,3,3,3,3],\"x\":[0.9090511798858643,0.9097302556037903,0.912784993648529,0.9117333889007568,0.9092279076576233,0.9051833748817444,0.9143862128257751,0.9103730320930481,0.9085876941680908,0.9056788086891174,0.9053776264190674,0.9107347726821899,0.9162716269493103,0.9213653802871704,0.9073320627212524,0.908170759677887,0.9116467833518982,0.9043625593185425,0.9158623218536377,0.9121601581573486,0.9168978929519653,0.9051706194877625,0.9043740034103394,0.9046157598495483,0.9104791879653931,0.9141281843185425,0.9160058498382568,0.9080055356025696,0.9059134125709534,0.9142136573791504,0.9037759304046631,0.9147529602050781,0.9046403765678406,0.9089956879615784,0.915624737739563,0.9136614203453064,0.906645655632019,0.9166127443313599,0.9148479104042053,0.907328188419342,0.9049423933029175,0.9090694785118103,0.917432427406311,0.9047213196754456,0.9138379096984863,0.9161696434020996,0.9152218699455261,0.9163320660591125,0.9122450947761536,0.9059140086174011,0.9075861573219299,0.9161186814308167,0.9164653420448303,0.908345103263855,0.9049355983734131,0.9094735980033875,0.9161956906318665,0.9042237997055054,0.9068441390991211,0.9050400853157043,0.9050784707069397,0.9073997735977173,0.9065977931022644,0.9126399159431458,0.9120875000953674,0.9058054685592651,0.9169647097587585,0.908033013343811,0.9044143557548523,0.9164431095123291,0.9142838716506958,0.9120305776596069,0.9041600823402405,0.9161512851715088,0.913788914680481,0.9144603610038757,0.9091972708702087,0.9089069962501526,0.9162163138389587,0.9058398604393005,0.9047345519065857,0.9141342639923096,0.9058812856674194,0.9166295528411865,0.9171203970909119,0.9048940539360046,0.9123083353042603,0.9098837375640869,0.9158772230148315,0.9108636379241943,0.9150955080986023,0.9080764055252075,0.905559241771698,0.9091223478317261,0.9137804508209229,0.9164886474609375,0.9055832028388977,0.9169831871986389,0.9142724871635437,0.9085444808006287,0.9140977263450623,0.9055174589157104,0.9081884026527405,0.91560959815979,0.9025786519050598,0.9056819677352905,0.9051495790481567,0.9055042862892151,0.909161388874054,0.9171848893165588,0.9069786071777344,0.9173393845558167,0.906934380531311,0.9150325655937195,0.9055644869804382,0.9054667353630066,0.9118931889533997,0.9106941819190979,0.9047630429267883,0.9066559672355652,0.9186726212501526,0.91377854347229,0.9053638577461243,0.9120380878448486,0.9093405604362488,0.9162533283233643,0.9149088263511658,0.9112817049026489,0.9170330166816711,0.9158744812011719,0.9159595370292664,0.9047027826309204,0.9141139984130859,0.911887526512146,0.9078521728515625,0.9154967069625854,0.9145322442054749,0.9168686270713806,0.9071983098983765,0.9146129488945007,0.9170745015144348,0.9135571718215942,0.9086844325065613,0.9164268970489502,0.9085115194320679,0.9131994843482971,0.9131597280502319,0.9048858880996704,0.906128466129303,0.9099871516227722,0.9097488522529602,0.9149262309074402,0.9156923890113831,0.9099626541137695,0.9145991206169128,0.9050965905189514,0.9066391587257385,0.907656729221344,0.916253924369812,0.9125052094459534,0.9158844947814941,0.9102233648300171,0.9127886295318604,0.9158090353012085,0.9095914959907532,0.9047489762306213,0.9149326086044312,0.9154506325721741,0.9044386148452759,0.9066187739372253,0.9072389006614685,0.9055202007293701,0.9164108037948608,0.9132165312767029,0.9169509410858154,0.9144325256347656,0.9083569645881653,0.9084151387214661],\"y\":[-0.052468691021203995,-0.05228298902511597,-0.053023338317871094,-0.04677001014351845,-0.0409659780561924,-0.04357666149735451,-0.04161747545003891,-0.05259997397661209,-0.052238304167985916,-0.04691905155777931,-0.04564893990755081,-0.04155047610402107,-0.04357951879501343,-0.037031058222055435,-0.05174684524536133,-0.04135961830615997,-0.04097115248441696,-0.04384589195251465,-0.04438435286283493,-0.05180904269218445,-0.047450706362724304,-0.04322769120335579,-0.04597441479563713,-0.045955218374729156,-0.05225624889135361,-0.051313355565071106,-0.042697008699178696,-0.05190269649028778,-0.04799443855881691,-0.052606310695409775,-0.04611789435148239,-0.05071286857128143,-0.04413442686200142,-0.04035958647727966,-0.04999163746833801,-0.04124335199594498,-0.04270675405859947,-0.04377631098031998,-0.050542738288640976,-0.051887147128582,-0.0467042475938797,-0.04106733575463295,-0.047887593507766724,-0.04604191333055496,-0.04139791056513786,-0.04399837553501129,-0.04285756126046181,-0.04957950487732887,-0.053020600229501724,-0.04327069967985153,-0.04181339219212532,-0.043816938996315,-0.04934297502040863,-0.052369263023138046,-0.04813007637858391,-0.05316335707902908,-0.04768367111682892,-0.04456847533583641,-0.05181705206632614,-0.04507700353860855,-0.04399920254945755,-0.05087030306458473,-0.042895324528217316,-0.039983633905649185,-0.051879312843084335,-0.043728891760110855,-0.045718468725681305,-0.051914870738983154,-0.04417097195982933,-0.043876763433218,-0.04168785363435745,-0.0525471568107605,-0.04530326649546623,-0.04459547996520996,-0.04095420986413956,-0.041480157524347305,-0.05177643895149231,-0.041811760514974594,-0.04855838418006897,-0.04326155036687851,-0.046384021639823914,-0.0411309152841568,-0.04749755561351776,-0.04724834859371185,-0.04627832770347595,-0.04529552906751633,-0.03909669443964958,-0.05245888978242874,-0.05045342817902565,-0.040962811559438705,-0.042253509163856506,-0.044194672256708145,-0.048934150487184525,-0.040583398193120956,-0.041386157274246216,-0.04845621436834335,-0.04256883263587952,-0.04749923199415207,-0.04206039756536484,-0.05164973810315132,-0.04163217172026634,-0.04339665174484253,-0.052105873823165894,-0.0505932979285717,-0.04641764238476753,-0.04938485100865364,-0.04980446770787239,-0.04325839504599571,-0.05219461768865585,-0.04633229598402977,-0.04297523945569992,-0.0461994968354702,-0.05146440491080284,-0.050762198865413666,-0.04887685552239418,-0.04910029098391533,-0.04154137521982193,-0.04029025882482529,-0.043454401195049286,-0.051826056092977524,-0.0483061857521534,-0.052057456225156784,-0.04836596921086311,-0.051772888749837875,-0.04260415956377983,-0.04928082972764969,-0.04195522889494896,-0.04128822684288025,-0.04894981533288956,-0.05009952932596207,-0.04394032806158066,-0.04337867349386215,-0.041008539497852325,-0.04089772328734398,-0.04130518063902855,-0.05041738972067833,-0.04098661616444588,-0.04414946585893631,-0.04095632582902908,-0.041051652282476425,-0.047967202961444855,-0.04121191054582596,-0.052446894347667694,-0.04404713585972786,-0.05262039974331856,-0.05235319212079048,-0.04103531315922737,-0.04569944366812706,-0.042401671409606934,-0.05208720266819,-0.05207899212837219,-0.04149005934596062,-0.043274275958538055,-0.040884584188461304,-0.05142765864729881,-0.04791499674320221,-0.04297732561826706,-0.05099300667643547,-0.04944075271487236,-0.0401342548429966,-0.0499211810529232,-0.04992394894361496,-0.04134455695748329,-0.050320859998464584,-0.05452722683548927,-0.0458977110683918,-0.05080559104681015,-0.04513246566057205,-0.0456681065261364,-0.04588468372821808,-0.04195675253868103,-0.04968388378620148,-0.04696604609489441,-0.0400310754776001,-0.049838028848171234,-0.05085144564509392,-0.051317036151885986,-0.04099714010953903]},\"selected\":{\"id\":\"2724\"},\"selection_policy\":{\"id\":\"2725\"}},\"id\":\"2620\",\"type\":\"ColumnDataSource\"},{\"attributes\":{\"fill_alpha\":{\"value\":0.1},\"fill_color\":{\"value\":\"firebrick\"},\"line_alpha\":{\"value\":0.1},\"line_color\":{\"value\":\"firebrick\"},\"size\":{\"value\":5},\"x\":{\"field\":\"x\"},\"y\":{\"field\":\"y\"}},\"id\":\"2658\",\"type\":\"Circle\"},{\"attributes\":{\"text\":\"t-SNE with perplexity = 200\"},\"id\":\"2622\",\"type\":\"Title\"},{\"attributes\":{},\"id\":\"2645\",\"type\":\"HelpTool\"},{\"attributes\":{},\"id\":\"2624\",\"type\":\"DataRange1d\"},{\"attributes\":{\"below\":[{\"id\":\"2632\"}],\"center\":[{\"id\":\"2635\"},{\"id\":\"2639\"}],\"left\":[{\"id\":\"2636\"}],\"renderers\":[{\"id\":\"2659\"}],\"title\":{\"id\":\"2622\"},\"toolbar\":{\"id\":\"2648\"},\"toolbar_location\":null,\"x_range\":{\"id\":\"2624\"},\"x_scale\":{\"id\":\"2628\"},\"y_range\":{\"id\":\"2626\"},\"y_scale\":{\"id\":\"2630\"}},\"id\":\"2621\",\"subtype\":\"Figure\",\"type\":\"Plot\"},{\"attributes\":{},\"id\":\"2628\",\"type\":\"LinearScale\"},{\"attributes\":{\"axis\":{\"id\":\"2632\"},\"ticker\":null},\"id\":\"2635\",\"type\":\"Grid\"},{\"attributes\":{},\"id\":\"2633\",\"type\":\"BasicTicker\"},{\"attributes\":{\"formatter\":{\"id\":\"2720\"},\"major_label_policy\":{\"id\":\"2721\"},\"ticker\":{\"id\":\"2633\"}},\"id\":\"2632\",\"type\":\"LinearAxis\"},{\"attributes\":{},\"id\":\"2630\",\"type\":\"LinearScale\"},{\"attributes\":{\"formatter\":{\"id\":\"2717\"},\"major_label_policy\":{\"id\":\"2718\"},\"ticker\":{\"id\":\"2637\"}},\"id\":\"2636\",\"type\":\"LinearAxis\"},{\"attributes\":{},\"id\":\"2626\",\"type\":\"DataRange1d\"},{\"attributes\":{\"axis\":{\"id\":\"2636\"},\"dimension\":1,\"ticker\":null},\"id\":\"2639\",\"type\":\"Grid\"},{\"attributes\":{},\"id\":\"2637\",\"type\":\"BasicTicker\"},{\"attributes\":{\"source\":{\"id\":\"2620\"}},\"id\":\"2660\",\"type\":\"CDSView\"},{\"attributes\":{\"data_source\":{\"id\":\"2620\"},\"glyph\":{\"id\":\"2657\"},\"hover_glyph\":null,\"muted_glyph\":null,\"nonselection_glyph\":{\"id\":\"2658\"},\"view\":{\"id\":\"2660\"}},\"id\":\"2659\",\"type\":\"GlyphRenderer\"},{\"attributes\":{},\"id\":\"2641\",\"type\":\"WheelZoomTool\"},{\"attributes\":{},\"id\":\"2425\",\"type\":\"LinearScale\"},{\"attributes\":{},\"id\":\"2717\",\"type\":\"BasicTickFormatter\"},{\"attributes\":{},\"id\":\"2640\",\"type\":\"PanTool\"},{\"attributes\":{\"overlay\":{\"id\":\"2646\"}},\"id\":\"2642\",\"type\":\"BoxZoomTool\"},{\"attributes\":{},\"id\":\"2718\",\"type\":\"AllLabels\"},{\"attributes\":{},\"id\":\"2643\",\"type\":\"SaveTool\"},{\"attributes\":{},\"id\":\"2644\",\"type\":\"ResetTool\"},{\"attributes\":{},\"id\":\"2476\",\"type\":\"PanTool\"},{\"attributes\":{},\"id\":\"2421\",\"type\":\"DataRange1d\"},{\"attributes\":{\"overlay\":{\"id\":\"2482\"}},\"id\":\"2478\",\"type\":\"BoxZoomTool\"},{\"attributes\":{},\"id\":\"2473\",\"type\":\"BasicTicker\"},{\"attributes\":{},\"id\":\"2479\",\"type\":\"SaveTool\"},{\"attributes\":{},\"id\":\"2720\",\"type\":\"BasicTickFormatter\"},{\"attributes\":{},\"id\":\"2721\",\"type\":\"AllLabels\"},{\"attributes\":{},\"id\":\"2419\",\"type\":\"DataRange1d\"},{\"attributes\":{},\"id\":\"2423\",\"type\":\"LinearScale\"},{\"attributes\":{\"data\":{\"word\":[1,1,1,1,1,1,1,1,1,1,1,1,1,1,1,1,1,1,1,1,1,1,1,1,1,1,1,1,1,1,1,1,1,1,1,1,1,1,1,1,1,1,1,1,1,1,1,1,1,1,1,1,1,1,1,1,1,1,1,2,2,2,2,2,2,2,2,2,2,2,2,2,2,2,2,2,2,2,2,2,2,2,2,2,2,2,2,2,2,2,2,2,2,2,2,2,2,2,2,2,2,2,2,2,2,2,2,2,2,2,2,2,2,2,2,2,2,2,2,2,2,2,2,2,2,2,2,2,2,2,3,3,3,3,3,3,3,3,3,3,3,3,3,3,3,3,3,3,3,3,3,3,3,3,3,3,3,3,3,3,3,3,3,3,3,3,3,3,3,3,3,3,3,3,3,3,3,3],\"x\":[-55.30239486694336,-19.98210334777832,-24.220443725585938,68.99285888671875,-37.53536605834961,71.51072692871094,-8.663436889648438,-37.98596954345703,-8.65434455871582,-45.59063720703125,73.45354461669922,-12.480644226074219,-11.46878719329834,46.792327880859375,47.59579086303711,-40.70504379272461,-34.81641387939453,-35.80790710449219,71.9640884399414,-43.07456970214844,-54.257347106933594,-25.124799728393555,-6.360935211181641,-31.370689392089844,-31.513296127319336,-39.53453826904297,-45.397090911865234,-17.22410774230957,-35.57786178588867,-7.471677303314209,-31.197628021240234,73.24646759033203,-26.1369686126709,-38.91932678222656,-31.99603843688965,-31.940561294555664,-33.6524543762207,-30.928367614746094,-18.224529266357422,-43.87138748168945,-52.03032302856445,-22.41493034362793,67.60192108154297,-22.952455520629883,-47.46373748779297,-23.300567626953125,-48.310707092285156,-46.16521072387695,-26.166183471679688,72.76334381103516,-43.9200553894043,-9.688157081604004,70.84451293945312,-39.73379135131836,-50.730865478515625,-26.822416305541992,-52.38958740234375,-44.566123962402344,68.14592742919922,25.72963523864746,-40.95396423339844,-39.68746566772461,29.054397583007812,16.807918548583984,44.70524978637695,-28.935455322265625,32.497798919677734,22.170852661132812,-41.87746047973633,24.69679832458496,47.33307647705078,-29.209484100341797,30.289447784423828,-40.83506393432617,13.395695686340332,22.247560501098633,28.18000030517578,21.049745559692383,25.66021728515625,18.081586837768555,30.930700302124023,26.143720626831055,49.29709243774414,-27.040138244628906,18.66516876220703,27.184947967529297,46.84364318847656,50.09767532348633,41.690189361572266,49.893192291259766,48.66270065307617,44.3384895324707,47.351097106933594,28.14492416381836,14.985684394836426,26.680370330810547,-37.16215896606445,30.541908264160156,17.33942222595215,30.23305320739746,28.52846908569336,22.188989639282227,25.044769287109375,34.97880554199219,22.787330627441406,44.853431701660156,21.91261100769043,46.201942443847656,36.14800262451172,19.454957962036133,-15.35128402709961,28.155603408813477,43.10771560668945,39.5424919128418,27.74343490600586,46.44807815551758,22.091142654418945,27.398130416870117,-33.58538055419922,19.501075744628906,23.172412872314453,-40.4498405456543,17.780515670776367,-18.944997787475586,-17.077529907226562,27.116422653198242,26.828914642333984,28.47104263305664,27.26721954345703,40.6411018371582,-37.26715087890625,-37.486900329589844,-36.33645248413086,-38.45207977294922,-33.448490142822266,-32.533721923828125,1.8721950054168701,1.2953521013259888,-28.610525131225586,1.3434666395187378,3.9922921657562256,-36.088356018066406,5.129443645477295,-30.37883758544922,-32.79683303833008,-37.3211555480957,-26.106382369995117,15.391410827636719,9.845911979675293,-2.530134677886963,0.25323352217674255,-1.3715661764144897,0.7375741004943848,7.8565144538879395,-30.87748908996582,20.124685287475586,9.025568962097168,-0.32149654626846313,20.712697982788086,21.482547760009766,14.677611351013184,1.8315492868423462,2.306087017059326,-35.44921875,1.1548411846160889,-27.664079666137695,11.360687255859375,0.41325005888938904,11.796067237854004,2.3716320991516113,-34.800724029541016,0.030174609273672104,1.4673808813095093,19.39823341369629,9.766500473022461,-4.138824462890625,-5.174685001373291,8.199688911437988],\"y\":[-2.634089946746826,10.141861915588379,-56.041481018066406,-28.587703704833984,-30.86370849609375,-22.3974666595459,19.079483032226562,-50.153656005859375,22.26021385192871,6.360112190246582,-14.615694999694824,12.832985877990723,13.073288917541504,37.928123474121094,37.50331115722656,-52.24239730834961,-56.48542404174805,-56.27000045776367,-21.5134334564209,-9.0122709274292,-2.2699668407440186,-9.712118148803711,20.508405685424805,-30.61281394958496,-29.364192962646484,-31.059165954589844,-49.78392791748047,10.578289031982422,-30.537981033325195,20.492908477783203,-56.726295471191406,-15.529084205627441,-52.71659469604492,-54.87928009033203,-43.539527893066406,-28.060895919799805,-43.19037628173828,-43.50029373168945,10.387452125549316,-9.273205757141113,-0.2725352942943573,-9.475719451904297,-30.994470596313477,-10.309919357299805,3.5765063762664795,-12.34367847442627,6.9975152015686035,5.544291973114014,-55.211334228515625,-17.659818649291992,4.485720634460449,13.17226791381836,-24.12020492553711,-52.50603485107422,-3.0759670734405518,-55.87741470336914,-1.6994216442108154,-50.24607467651367,-30.062301635742188,-36.19828796386719,72.34374237060547,71.65387725830078,-37.864990234375,-43.84326934814453,15.297110557556152,-43.477088928222656,-33.282474517822266,-22.48326873779297,72.80091094970703,-69.0575942993164,2.0289719104766846,-28.510818481445312,-0.6983484625816345,-29.531005859375,-41.00703048706055,-32.203853607177734,-36.30256271362305,-33.45613098144531,-68.88700103759766,-12.791458129882812,-30.746511459350586,-23.3655948638916,15.62387752532959,52.60585021972656,4.259283065795898,-20.612634658813477,16.437240600585938,16.292871475219727,1.2652407884597778,13.563233375549316,-1.8549768924713135,0.20106129348278046,-1.0508263111114502,-24.78664207458496,-41.05544662475586,-69.71159362792969,24.670745849609375,-31.780445098876953,-44.52610397338867,-24.551326751708984,-31.999921798706055,-29.633926391601562,0.8371241688728333,-20.071374893188477,-24.3480281829834,-2.6990249156951904,-27.0573787689209,-0.4285259544849396,-19.676698684692383,3.7763419151306152,-11.287518501281738,-0.3603188395500183,14.392967224121094,0.46670833230018616,2.439359188079834,18.50614356994629,-25.274871826171875,-18.077566146850586,46.258052825927734,-25.57705307006836,1.58975088596344,-32.76376724243164,-12.017319679260254,-10.813891410827637,-11.040604591369629,0.01875649020075798,-4.002340793609619,-7.492647171020508,-5.637164115905762,3.9002292156219482,26.393617630004883,28.83972930908203,30.08681869506836,29.153993606567383,68.0418472290039,67.76334381103516,39.464820861816406,38.8365364074707,54.52313232421875,-84.06588745117188,-82.9495620727539,40.82314682006836,-83.00096130371094,55.14780807495117,41.44272994995117,43.46912384033203,56.25235366821289,48.35715866088867,53.28520584106445,64.2918472290039,65.87493896484375,65.06675720214844,67.87701416015625,50.32459259033203,67.66100311279297,45.22373580932617,51.724788665771484,-85.06407928466797,66.42377471923828,66.61746978759766,49.10214614868164,-80.74396514892578,-82.8128662109375,42.87133026123047,2.0237574577331543,54.814796447753906,59.18932342529297,-0.2891986072063446,58.28913116455078,64.92498779296875,43.808326721191406,-1.4394150972366333,2.9924800395965576,45.70762634277344,54.61330795288086,63.03843307495117,62.07997131347656,55.743446350097656]},\"selected\":{\"id\":\"2669\"},\"selection_policy\":{\"id\":\"2670\"}},\"id\":\"2415\",\"type\":\"ColumnDataSource\"},{\"attributes\":{\"below\":[{\"id\":\"2427\"}],\"center\":[{\"id\":\"2430\"},{\"id\":\"2434\"}],\"left\":[{\"id\":\"2431\"}],\"renderers\":[{\"id\":\"2454\"}],\"title\":{\"id\":\"2417\"},\"toolbar\":{\"id\":\"2443\"},\"toolbar_location\":null,\"x_range\":{\"id\":\"2419\"},\"x_scale\":{\"id\":\"2423\"},\"y_range\":{\"id\":\"2421\"},\"y_scale\":{\"id\":\"2425\"}},\"id\":\"2416\",\"subtype\":\"Figure\",\"type\":\"Plot\"},{\"attributes\":{},\"id\":\"2724\",\"type\":\"Selection\"},{\"attributes\":{},\"id\":\"2725\",\"type\":\"UnionRenderers\"},{\"attributes\":{\"text\":\"t-SNE with perplexity = 2\"},\"id\":\"2417\",\"type\":\"Title\"},{\"attributes\":{\"callback\":null,\"tooltips\":[[\"word\",\"@word\"],[\"x\",\"@x\"],[\"y\",\"@y\"]]},\"id\":\"2483\",\"type\":\"HoverTool\"},{\"attributes\":{},\"id\":\"2480\",\"type\":\"ResetTool\"},{\"attributes\":{},\"id\":\"2477\",\"type\":\"WheelZoomTool\"}],\"root_ids\":[\"2730\"]},\"title\":\"Bokeh Application\",\"version\":\"2.3.3\"}};\n",
       "  var render_items = [{\"docid\":\"3d6cc57f-590c-40a2-b7b3-87a83c7e7c8d\",\"root_ids\":[\"2730\"],\"roots\":{\"2730\":\"859bb456-cc93-42ce-9d7f-9d2b8b3c70d2\"}}];\n",
       "  root.Bokeh.embed.embed_items_notebook(docs_json, render_items);\n",
       "\n",
       "  }\n",
       "  if (root.Bokeh !== undefined) {\n",
       "    embed_document(root);\n",
       "  } else {\n",
       "    var attempts = 0;\n",
       "    var timer = setInterval(function(root) {\n",
       "      if (root.Bokeh !== undefined) {\n",
       "        clearInterval(timer);\n",
       "        embed_document(root);\n",
       "      } else {\n",
       "        attempts++;\n",
       "        if (attempts > 100) {\n",
       "          clearInterval(timer);\n",
       "          console.log(\"Bokeh: ERROR: Unable to run BokehJS code because BokehJS library is missing\");\n",
       "        }\n",
       "      }\n",
       "    }, 10, root)\n",
       "  }\n",
       "})(window);"
      ],
      "application/vnd.bokehjs_exec.v0+json": ""
     },
     "metadata": {
      "application/vnd.bokehjs_exec.v0+json": {
       "id": "2730"
      }
     },
     "output_type": "display_data"
    }
   ],
   "source": [
    "from sklearn.manifold import TSNE\n",
    "\n",
    "plots = []\n",
    "perplexity = [2, 10, 30, 40, 100, 200]\n",
    "for p in perplexity:\n",
    "    z = TSNE(\n",
    "        n_components=2,\n",
    "        perplexity=p\n",
    "    ).fit_transform(X_std)\n",
    "    title = 't-SNE with perplexity = {}'.format(p)\n",
    "    plots.append(draw_figure(z, y, title))\n",
    "\n",
    "gp = gridplot([[plots[0], plots[1]], [plots[2], plots[3]], [plots[4], plots[5]]])\n",
    "show(gp)"
   ]
  },
  {
   "cell_type": "code",
   "execution_count": null,
   "id": "6bfa30ce",
   "metadata": {},
   "outputs": [],
   "source": []
  }
 ],
 "metadata": {
  "kernelspec": {
   "display_name": "Python 3 (ipykernel)",
   "language": "python",
   "name": "python3"
  },
  "language_info": {
   "codemirror_mode": {
    "name": "ipython",
    "version": 3
   },
   "file_extension": ".py",
   "mimetype": "text/x-python",
   "name": "python",
   "nbconvert_exporter": "python",
   "pygments_lexer": "ipython3",
   "version": "3.8.2"
  }
 },
 "nbformat": 4,
 "nbformat_minor": 5
}
