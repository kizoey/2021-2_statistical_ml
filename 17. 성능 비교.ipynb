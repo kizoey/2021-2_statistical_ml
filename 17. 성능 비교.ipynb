{
 "cells": [
  {
   "cell_type": "code",
   "execution_count": 1,
   "metadata": {},
   "outputs": [],
   "source": [
    "import pandas as pd\n",
    "import numpy as np\n",
    "import warnings\n",
    "warnings.filterwarnings('ignore')"
   ]
  },
  {
   "cell_type": "code",
   "execution_count": 3,
   "metadata": {},
   "outputs": [
    {
     "data": {
      "text/html": [
       "<div>\n",
       "<style scoped>\n",
       "    .dataframe tbody tr th:only-of-type {\n",
       "        vertical-align: middle;\n",
       "    }\n",
       "\n",
       "    .dataframe tbody tr th {\n",
       "        vertical-align: top;\n",
       "    }\n",
       "\n",
       "    .dataframe thead th {\n",
       "        text-align: right;\n",
       "    }\n",
       "</style>\n",
       "<table border=\"1\" class=\"dataframe\">\n",
       "  <thead>\n",
       "    <tr style=\"text-align: right;\">\n",
       "      <th></th>\n",
       "      <th>LABEL</th>\n",
       "      <th>FLUX.1</th>\n",
       "      <th>FLUX.2</th>\n",
       "      <th>FLUX.3</th>\n",
       "      <th>FLUX.4</th>\n",
       "      <th>FLUX.5</th>\n",
       "      <th>FLUX.6</th>\n",
       "      <th>FLUX.7</th>\n",
       "      <th>FLUX.8</th>\n",
       "      <th>FLUX.9</th>\n",
       "      <th>...</th>\n",
       "      <th>FLUX.3188</th>\n",
       "      <th>FLUX.3189</th>\n",
       "      <th>FLUX.3190</th>\n",
       "      <th>FLUX.3191</th>\n",
       "      <th>FLUX.3192</th>\n",
       "      <th>FLUX.3193</th>\n",
       "      <th>FLUX.3194</th>\n",
       "      <th>FLUX.3195</th>\n",
       "      <th>FLUX.3196</th>\n",
       "      <th>FLUX.3197</th>\n",
       "    </tr>\n",
       "  </thead>\n",
       "  <tbody>\n",
       "    <tr>\n",
       "      <th>0</th>\n",
       "      <td>2</td>\n",
       "      <td>93.85</td>\n",
       "      <td>83.81</td>\n",
       "      <td>20.10</td>\n",
       "      <td>-26.98</td>\n",
       "      <td>-39.56</td>\n",
       "      <td>-124.71</td>\n",
       "      <td>-135.18</td>\n",
       "      <td>-96.27</td>\n",
       "      <td>-79.89</td>\n",
       "      <td>...</td>\n",
       "      <td>-78.07</td>\n",
       "      <td>-102.15</td>\n",
       "      <td>-102.15</td>\n",
       "      <td>25.13</td>\n",
       "      <td>48.57</td>\n",
       "      <td>92.54</td>\n",
       "      <td>39.32</td>\n",
       "      <td>61.42</td>\n",
       "      <td>5.08</td>\n",
       "      <td>-39.54</td>\n",
       "    </tr>\n",
       "    <tr>\n",
       "      <th>1</th>\n",
       "      <td>2</td>\n",
       "      <td>-38.88</td>\n",
       "      <td>-33.83</td>\n",
       "      <td>-58.54</td>\n",
       "      <td>-40.09</td>\n",
       "      <td>-79.31</td>\n",
       "      <td>-72.81</td>\n",
       "      <td>-86.55</td>\n",
       "      <td>-85.33</td>\n",
       "      <td>-83.97</td>\n",
       "      <td>...</td>\n",
       "      <td>-3.28</td>\n",
       "      <td>-32.21</td>\n",
       "      <td>-32.21</td>\n",
       "      <td>-24.89</td>\n",
       "      <td>-4.86</td>\n",
       "      <td>0.76</td>\n",
       "      <td>-11.70</td>\n",
       "      <td>6.46</td>\n",
       "      <td>16.00</td>\n",
       "      <td>19.93</td>\n",
       "    </tr>\n",
       "    <tr>\n",
       "      <th>2</th>\n",
       "      <td>2</td>\n",
       "      <td>532.64</td>\n",
       "      <td>535.92</td>\n",
       "      <td>513.73</td>\n",
       "      <td>496.92</td>\n",
       "      <td>456.45</td>\n",
       "      <td>466.00</td>\n",
       "      <td>464.50</td>\n",
       "      <td>486.39</td>\n",
       "      <td>436.56</td>\n",
       "      <td>...</td>\n",
       "      <td>-71.69</td>\n",
       "      <td>13.31</td>\n",
       "      <td>13.31</td>\n",
       "      <td>-29.89</td>\n",
       "      <td>-20.88</td>\n",
       "      <td>5.06</td>\n",
       "      <td>-11.80</td>\n",
       "      <td>-28.91</td>\n",
       "      <td>-70.02</td>\n",
       "      <td>-96.67</td>\n",
       "    </tr>\n",
       "    <tr>\n",
       "      <th>3</th>\n",
       "      <td>2</td>\n",
       "      <td>326.52</td>\n",
       "      <td>347.39</td>\n",
       "      <td>302.35</td>\n",
       "      <td>298.13</td>\n",
       "      <td>317.74</td>\n",
       "      <td>312.70</td>\n",
       "      <td>322.33</td>\n",
       "      <td>311.31</td>\n",
       "      <td>312.42</td>\n",
       "      <td>...</td>\n",
       "      <td>5.71</td>\n",
       "      <td>-3.73</td>\n",
       "      <td>-3.73</td>\n",
       "      <td>30.05</td>\n",
       "      <td>20.03</td>\n",
       "      <td>-12.67</td>\n",
       "      <td>-8.77</td>\n",
       "      <td>-17.31</td>\n",
       "      <td>-17.35</td>\n",
       "      <td>13.98</td>\n",
       "    </tr>\n",
       "    <tr>\n",
       "      <th>4</th>\n",
       "      <td>2</td>\n",
       "      <td>-1107.21</td>\n",
       "      <td>-1112.59</td>\n",
       "      <td>-1118.95</td>\n",
       "      <td>-1095.10</td>\n",
       "      <td>-1057.55</td>\n",
       "      <td>-1034.48</td>\n",
       "      <td>-998.34</td>\n",
       "      <td>-1022.71</td>\n",
       "      <td>-989.57</td>\n",
       "      <td>...</td>\n",
       "      <td>-594.37</td>\n",
       "      <td>-401.66</td>\n",
       "      <td>-401.66</td>\n",
       "      <td>-357.24</td>\n",
       "      <td>-443.76</td>\n",
       "      <td>-438.54</td>\n",
       "      <td>-399.71</td>\n",
       "      <td>-384.65</td>\n",
       "      <td>-411.79</td>\n",
       "      <td>-510.54</td>\n",
       "    </tr>\n",
       "  </tbody>\n",
       "</table>\n",
       "<p>5 rows × 3198 columns</p>\n",
       "</div>"
      ],
      "text/plain": [
       "   LABEL   FLUX.1   FLUX.2   FLUX.3   FLUX.4   FLUX.5   FLUX.6  FLUX.7  \\\n",
       "0      2    93.85    83.81    20.10   -26.98   -39.56  -124.71 -135.18   \n",
       "1      2   -38.88   -33.83   -58.54   -40.09   -79.31   -72.81  -86.55   \n",
       "2      2   532.64   535.92   513.73   496.92   456.45   466.00  464.50   \n",
       "3      2   326.52   347.39   302.35   298.13   317.74   312.70  322.33   \n",
       "4      2 -1107.21 -1112.59 -1118.95 -1095.10 -1057.55 -1034.48 -998.34   \n",
       "\n",
       "    FLUX.8  FLUX.9  ...  FLUX.3188  FLUX.3189  FLUX.3190  FLUX.3191  \\\n",
       "0   -96.27  -79.89  ...     -78.07    -102.15    -102.15      25.13   \n",
       "1   -85.33  -83.97  ...      -3.28     -32.21     -32.21     -24.89   \n",
       "2   486.39  436.56  ...     -71.69      13.31      13.31     -29.89   \n",
       "3   311.31  312.42  ...       5.71      -3.73      -3.73      30.05   \n",
       "4 -1022.71 -989.57  ...    -594.37    -401.66    -401.66    -357.24   \n",
       "\n",
       "   FLUX.3192  FLUX.3193  FLUX.3194  FLUX.3195  FLUX.3196  FLUX.3197  \n",
       "0      48.57      92.54      39.32      61.42       5.08     -39.54  \n",
       "1      -4.86       0.76     -11.70       6.46      16.00      19.93  \n",
       "2     -20.88       5.06     -11.80     -28.91     -70.02     -96.67  \n",
       "3      20.03     -12.67      -8.77     -17.31     -17.35      13.98  \n",
       "4    -443.76    -438.54    -399.71    -384.65    -411.79    -510.54  \n",
       "\n",
       "[5 rows x 3198 columns]"
      ]
     },
     "execution_count": 3,
     "metadata": {},
     "output_type": "execute_result"
    }
   ],
   "source": [
    "df = pd.read_csv('data/exoplanets.csv')\n",
    "df.head()"
   ]
  },
  {
   "cell_type": "code",
   "execution_count": 4,
   "metadata": {},
   "outputs": [
    {
     "name": "stdout",
     "output_type": "stream",
     "text": [
      "<class 'pandas.core.frame.DataFrame'>\n",
      "RangeIndex: 5087 entries, 0 to 5086\n",
      "Columns: 3198 entries, LABEL to FLUX.3197\n",
      "dtypes: float64(3197), int64(1)\n",
      "memory usage: 124.1 MB\n"
     ]
    }
   ],
   "source": [
    "df.info()"
   ]
  },
  {
   "cell_type": "code",
   "execution_count": 5,
   "metadata": {},
   "outputs": [
    {
     "data": {
      "text/plain": [
       "1    5050\n",
       "2      37\n",
       "Name: LABEL, dtype: int64"
      ]
     },
     "execution_count": 5,
     "metadata": {},
     "output_type": "execute_result"
    }
   ],
   "source": [
    "df['LABEL'].value_counts()"
   ]
  },
  {
   "cell_type": "code",
   "execution_count": 6,
   "metadata": {},
   "outputs": [
    {
     "data": {
      "text/plain": [
       "0"
      ]
     },
     "execution_count": 6,
     "metadata": {},
     "output_type": "execute_result"
    }
   ],
   "source": [
    "df.isnull().sum().sum()"
   ]
  },
  {
   "cell_type": "code",
   "execution_count": 7,
   "metadata": {},
   "outputs": [],
   "source": [
    "# Split data into X and y\n",
    "X = df.iloc[:,1:]\n",
    "y = df.iloc[:,0]\n",
    "\n",
    "from sklearn.model_selection import train_test_split\n",
    "X_train, X_test, y_train, y_test = train_test_split(X, y,stratify=y, random_state=2)"
   ]
  },
  {
   "cell_type": "code",
   "execution_count": 7,
   "metadata": {},
   "outputs": [],
   "source": [
    "from sklearn.ensemble import GradientBoostingClassifier\n",
    "from xgboost import XGBClassifier\n",
    "from lightgbm import LGBMClassifier\n",
    "from catboost import CatBoostClassifier\n",
    "from sklearn.metrics import accuracy_score"
   ]
  },
  {
   "cell_type": "code",
   "execution_count": 8,
   "metadata": {},
   "outputs": [
    {
     "name": "stdout",
     "output_type": "stream",
     "text": [
      "<class 'pandas.core.frame.DataFrame'>\n",
      "RangeIndex: 5087 entries, 0 to 5086\n",
      "Columns: 3198 entries, LABEL to FLUX.3197\n",
      "dtypes: float64(3197), int64(1)\n",
      "memory usage: 124.1 MB\n",
      "\n",
      "Run Time: 0.01600027084350586 seconds.\n"
     ]
    }
   ],
   "source": [
    "# time을 이용해서 소요시간 측정\n",
    "import time\n",
    "start = time.time()\n",
    "\n",
    "df.info()\n",
    "\n",
    "end = time.time()\n",
    "elapsed = end - start\n",
    "\n",
    "print('\\nRun Time: ' + str(elapsed) + ' seconds.')"
   ]
  },
  {
   "cell_type": "code",
   "execution_count": 9,
   "metadata": {},
   "outputs": [
    {
     "name": "stdout",
     "output_type": "stream",
     "text": [
      "Score: 0.9866352201257862\n",
      "Run Time: 182.95041513442993 seconds\n"
     ]
    }
   ],
   "source": [
    "start = time.time()\n",
    "\n",
    "gbr = GradientBoostingClassifier(n_estimators=100, max_depth=2, random_state=2)\n",
    "gbr.fit(X_train, y_train)\n",
    "y_pred = gbr.predict(X_test)\n",
    "score = accuracy_score(y_pred, y_test)\n",
    "print('Score: ' + str(score))\n",
    "\n",
    "end = time.time()\n",
    "elapsed = end - start\n",
    "\n",
    "print('Run Time: ' + str(elapsed) + ' seconds')"
   ]
  },
  {
   "cell_type": "markdown",
   "metadata": {},
   "source": [
    "### XGBClassifier"
   ]
  },
  {
   "cell_type": "code",
   "execution_count": 11,
   "metadata": {},
   "outputs": [
    {
     "name": "stdout",
     "output_type": "stream",
     "text": [
      "[17:37:10] WARNING: ..\\src\\learner.cc:1095: Starting in XGBoost 1.3.0, the default evaluation metric used with the objective 'binary:logistic' was changed from 'error' to 'logloss'. Explicitly set eval_metric if you'd like to restore the old behavior.\n",
      "Score: 0.9929245283018868\n",
      "Run Time: 13.297698974609375 seconds\n"
     ]
    }
   ],
   "source": [
    "from xgboost import XGBClassifier\n",
    "start = time.time()\n",
    "\n",
    "# Instantiate the XGBRegressor, xg_reg\n",
    "xg_reg = XGBClassifier(n_estimators=100, max_depth=2, random_state=2)\n",
    "\n",
    "# Fit xg_reg to training set\n",
    "xg_reg.fit(X_train, y_train)\n",
    "\n",
    "# Predict labels of test set, y_pred\n",
    "y_pred = xg_reg.predict(X_test)\n",
    "\n",
    "score = accuracy_score(y_pred, y_test)\n",
    "\n",
    "print('Score: ' + str(score))\n",
    "\n",
    "end = time.time()\n",
    "elapsed = end - start\n",
    "\n",
    "print('Run Time: ' + str(elapsed) + ' seconds')"
   ]
  },
  {
   "cell_type": "markdown",
   "metadata": {},
   "source": [
    "### LightGBM Classifier"
   ]
  },
  {
   "cell_type": "code",
   "execution_count": 13,
   "metadata": {},
   "outputs": [
    {
     "name": "stdout",
     "output_type": "stream",
     "text": [
      "Score: 0.9929245283018868\n",
      "Run Time: 1.8266470432281494 seconds\n"
     ]
    }
   ],
   "source": [
    "from lightgbm import LGBMClassifier\n",
    "start = time.time()\n",
    "\n",
    "lgb_reg = LGBMClassifier(n_estimators=100, max_depth=2, random_state=2)\n",
    "lgb_reg.fit(X_train, y_train)\n",
    "\n",
    "# Predict labels of test set, y_pred\n",
    "y_pred = lgb_reg.predict(X_test)\n",
    "\n",
    "score = accuracy_score(y_pred, y_test)\n",
    "\n",
    "print('Score: ' + str(score))\n",
    "\n",
    "end = time.time()\n",
    "elapsed = end - start\n",
    "\n",
    "print('Run Time: ' + str(elapsed) + ' seconds')"
   ]
  },
  {
   "cell_type": "markdown",
   "metadata": {},
   "source": [
    "### CatBoost Classifier"
   ]
  },
  {
   "cell_type": "code",
   "execution_count": 14,
   "metadata": {},
   "outputs": [
    {
     "name": "stdout",
     "output_type": "stream",
     "text": [
      "Learning rate set to 0.150741\n",
      "0:\tlearn: 0.3943094\ttotal: 239ms\tremaining: 23.7s\n",
      "1:\tlearn: 0.2296375\ttotal: 277ms\tremaining: 13.6s\n",
      "2:\tlearn: 0.1476235\ttotal: 304ms\tremaining: 9.82s\n",
      "3:\tlearn: 0.1044850\ttotal: 331ms\tremaining: 7.96s\n",
      "4:\tlearn: 0.0802296\ttotal: 358ms\tremaining: 6.8s\n",
      "5:\tlearn: 0.0658807\ttotal: 385ms\tremaining: 6.04s\n",
      "6:\tlearn: 0.0570372\ttotal: 412ms\tremaining: 5.48s\n",
      "7:\tlearn: 0.0516782\ttotal: 438ms\tremaining: 5.04s\n",
      "8:\tlearn: 0.0477180\ttotal: 467ms\tremaining: 4.72s\n",
      "9:\tlearn: 0.0449536\ttotal: 494ms\tremaining: 4.44s\n",
      "10:\tlearn: 0.0427906\ttotal: 520ms\tremaining: 4.21s\n",
      "11:\tlearn: 0.0408275\ttotal: 546ms\tremaining: 4.01s\n",
      "12:\tlearn: 0.0396992\ttotal: 573ms\tremaining: 3.83s\n",
      "13:\tlearn: 0.0384353\ttotal: 599ms\tremaining: 3.68s\n",
      "14:\tlearn: 0.0376301\ttotal: 626ms\tremaining: 3.55s\n",
      "15:\tlearn: 0.0367463\ttotal: 656ms\tremaining: 3.44s\n",
      "16:\tlearn: 0.0357344\ttotal: 684ms\tremaining: 3.34s\n",
      "17:\tlearn: 0.0349899\ttotal: 711ms\tremaining: 3.24s\n",
      "18:\tlearn: 0.0337234\ttotal: 740ms\tremaining: 3.15s\n",
      "19:\tlearn: 0.0333557\ttotal: 768ms\tremaining: 3.07s\n",
      "20:\tlearn: 0.0329197\ttotal: 795ms\tremaining: 2.99s\n",
      "21:\tlearn: 0.0322312\ttotal: 823ms\tremaining: 2.92s\n",
      "22:\tlearn: 0.0314771\ttotal: 851ms\tremaining: 2.85s\n",
      "23:\tlearn: 0.0308513\ttotal: 881ms\tremaining: 2.79s\n",
      "24:\tlearn: 0.0305673\ttotal: 909ms\tremaining: 2.73s\n",
      "25:\tlearn: 0.0300297\ttotal: 937ms\tremaining: 2.67s\n",
      "26:\tlearn: 0.0294180\ttotal: 965ms\tremaining: 2.61s\n",
      "27:\tlearn: 0.0291189\ttotal: 997ms\tremaining: 2.56s\n",
      "28:\tlearn: 0.0286031\ttotal: 1.02s\tremaining: 2.51s\n",
      "29:\tlearn: 0.0283347\ttotal: 1.05s\tremaining: 2.46s\n",
      "30:\tlearn: 0.0278733\ttotal: 1.08s\tremaining: 2.41s\n",
      "31:\tlearn: 0.0271514\ttotal: 1.11s\tremaining: 2.36s\n",
      "32:\tlearn: 0.0268731\ttotal: 1.14s\tremaining: 2.31s\n",
      "33:\tlearn: 0.0265037\ttotal: 1.17s\tremaining: 2.27s\n",
      "34:\tlearn: 0.0258454\ttotal: 1.2s\tremaining: 2.22s\n",
      "35:\tlearn: 0.0254563\ttotal: 1.22s\tremaining: 2.18s\n",
      "36:\tlearn: 0.0251105\ttotal: 1.25s\tremaining: 2.13s\n",
      "37:\tlearn: 0.0247009\ttotal: 1.28s\tremaining: 2.09s\n",
      "38:\tlearn: 0.0240314\ttotal: 1.31s\tremaining: 2.05s\n",
      "39:\tlearn: 0.0237261\ttotal: 1.34s\tremaining: 2s\n",
      "40:\tlearn: 0.0234486\ttotal: 1.36s\tremaining: 1.96s\n",
      "41:\tlearn: 0.0233312\ttotal: 1.39s\tremaining: 1.92s\n",
      "42:\tlearn: 0.0229901\ttotal: 1.42s\tremaining: 1.88s\n",
      "43:\tlearn: 0.0226883\ttotal: 1.45s\tremaining: 1.84s\n",
      "44:\tlearn: 0.0223419\ttotal: 1.48s\tremaining: 1.8s\n",
      "45:\tlearn: 0.0216651\ttotal: 1.5s\tremaining: 1.77s\n",
      "46:\tlearn: 0.0213246\ttotal: 1.53s\tremaining: 1.73s\n",
      "47:\tlearn: 0.0209039\ttotal: 1.56s\tremaining: 1.69s\n",
      "48:\tlearn: 0.0204172\ttotal: 1.59s\tremaining: 1.65s\n",
      "49:\tlearn: 0.0201475\ttotal: 1.62s\tremaining: 1.62s\n",
      "50:\tlearn: 0.0198826\ttotal: 1.64s\tremaining: 1.58s\n",
      "51:\tlearn: 0.0197151\ttotal: 1.67s\tremaining: 1.54s\n",
      "52:\tlearn: 0.0193851\ttotal: 1.7s\tremaining: 1.51s\n",
      "53:\tlearn: 0.0189149\ttotal: 1.73s\tremaining: 1.48s\n",
      "54:\tlearn: 0.0184497\ttotal: 1.76s\tremaining: 1.44s\n",
      "55:\tlearn: 0.0180199\ttotal: 1.79s\tremaining: 1.41s\n",
      "56:\tlearn: 0.0176167\ttotal: 1.82s\tremaining: 1.37s\n",
      "57:\tlearn: 0.0172310\ttotal: 1.85s\tremaining: 1.34s\n",
      "58:\tlearn: 0.0170355\ttotal: 1.88s\tremaining: 1.3s\n",
      "59:\tlearn: 0.0166097\ttotal: 1.9s\tremaining: 1.27s\n",
      "60:\tlearn: 0.0161467\ttotal: 1.93s\tremaining: 1.24s\n",
      "61:\tlearn: 0.0157504\ttotal: 1.96s\tremaining: 1.2s\n",
      "62:\tlearn: 0.0152896\ttotal: 1.99s\tremaining: 1.17s\n",
      "63:\tlearn: 0.0149023\ttotal: 2.02s\tremaining: 1.14s\n",
      "64:\tlearn: 0.0148169\ttotal: 2.05s\tremaining: 1.1s\n",
      "65:\tlearn: 0.0145172\ttotal: 2.08s\tremaining: 1.07s\n",
      "66:\tlearn: 0.0142125\ttotal: 2.11s\tremaining: 1.04s\n",
      "67:\tlearn: 0.0138020\ttotal: 2.13s\tremaining: 1s\n",
      "68:\tlearn: 0.0133868\ttotal: 2.17s\tremaining: 973ms\n",
      "69:\tlearn: 0.0129522\ttotal: 2.19s\tremaining: 941ms\n",
      "70:\tlearn: 0.0124707\ttotal: 2.22s\tremaining: 908ms\n",
      "71:\tlearn: 0.0121093\ttotal: 2.25s\tremaining: 876ms\n",
      "72:\tlearn: 0.0116327\ttotal: 2.28s\tremaining: 844ms\n",
      "73:\tlearn: 0.0113256\ttotal: 2.31s\tremaining: 812ms\n",
      "74:\tlearn: 0.0109731\ttotal: 2.34s\tremaining: 780ms\n",
      "75:\tlearn: 0.0104944\ttotal: 2.37s\tremaining: 748ms\n",
      "76:\tlearn: 0.0102959\ttotal: 2.4s\tremaining: 715ms\n",
      "77:\tlearn: 0.0100371\ttotal: 2.42s\tremaining: 683ms\n",
      "78:\tlearn: 0.0098134\ttotal: 2.45s\tremaining: 652ms\n",
      "79:\tlearn: 0.0096621\ttotal: 2.48s\tremaining: 620ms\n",
      "80:\tlearn: 0.0093694\ttotal: 2.51s\tremaining: 589ms\n",
      "81:\tlearn: 0.0091206\ttotal: 2.54s\tremaining: 558ms\n",
      "82:\tlearn: 0.0090180\ttotal: 2.57s\tremaining: 527ms\n",
      "83:\tlearn: 0.0088146\ttotal: 2.6s\tremaining: 496ms\n",
      "84:\tlearn: 0.0085473\ttotal: 2.63s\tremaining: 465ms\n",
      "85:\tlearn: 0.0081580\ttotal: 2.66s\tremaining: 434ms\n",
      "86:\tlearn: 0.0079557\ttotal: 2.69s\tremaining: 403ms\n",
      "87:\tlearn: 0.0077238\ttotal: 2.72s\tremaining: 371ms\n",
      "88:\tlearn: 0.0075502\ttotal: 2.75s\tremaining: 340ms\n",
      "89:\tlearn: 0.0074450\ttotal: 2.78s\tremaining: 309ms\n",
      "90:\tlearn: 0.0071718\ttotal: 2.81s\tremaining: 278ms\n",
      "91:\tlearn: 0.0069673\ttotal: 2.84s\tremaining: 247ms\n",
      "92:\tlearn: 0.0068439\ttotal: 2.87s\tremaining: 216ms\n",
      "93:\tlearn: 0.0066983\ttotal: 2.9s\tremaining: 185ms\n",
      "94:\tlearn: 0.0065187\ttotal: 2.93s\tremaining: 154ms\n",
      "95:\tlearn: 0.0064493\ttotal: 2.95s\tremaining: 123ms\n",
      "96:\tlearn: 0.0063318\ttotal: 2.98s\tremaining: 92.3ms\n",
      "97:\tlearn: 0.0062268\ttotal: 3.01s\tremaining: 61.5ms\n",
      "98:\tlearn: 0.0060641\ttotal: 3.04s\tremaining: 30.7ms\n",
      "99:\tlearn: 0.0059507\ttotal: 3.07s\tremaining: 0us\n",
      "Score: 0.9929245283018868\n",
      "Run Time: 3.719705820083618 seconds\n"
     ]
    }
   ],
   "source": [
    "from catboost import CatBoostClassifier\n",
    "start = time.time()\n",
    "\n",
    "\n",
    "cat_reg = CatBoostClassifier(n_estimators=100, max_depth=2, random_state=2)\n",
    "cat_reg.fit(X_train, y_train)\n",
    "\n",
    "# Predict labels of test set, y_pred\n",
    "y_pred = cat_reg.predict(X_test)\n",
    "\n",
    "score = accuracy_score(y_pred, y_test)\n",
    "\n",
    "print('Score: ' + str(score))\n",
    "\n",
    "end = time.time()\n",
    "elapsed = end - start\n",
    "\n",
    "print('Run Time: ' + str(elapsed) + ' seconds')"
   ]
  }
 ],
 "metadata": {
  "kernelspec": {
   "display_name": "Python 3 (ipykernel)",
   "language": "python",
   "name": "python3"
  },
  "language_info": {
   "codemirror_mode": {
    "name": "ipython",
    "version": 3
   },
   "file_extension": ".py",
   "mimetype": "text/x-python",
   "name": "python",
   "nbconvert_exporter": "python",
   "pygments_lexer": "ipython3",
   "version": "3.8.2"
  }
 },
 "nbformat": 4,
 "nbformat_minor": 2
}
