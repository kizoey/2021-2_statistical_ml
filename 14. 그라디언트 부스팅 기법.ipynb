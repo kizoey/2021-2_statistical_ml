{
 "cells": [
  {
   "cell_type": "markdown",
   "metadata": {
    "colab_type": "text",
    "id": "6P48pMM_rMYv"
   },
   "source": [
    "### **IMDB 데이터셋 감정 분석을 위한 그라디언트 부스팅 기법 성능 탐구**\n",
    "\n",
    "- 그라디언트 부스팅 기법을 활용하여 IMDB 데이터셋의 감정 분석 성능을 개선할 수 있는지 탐구하였다.\n",
    "- 동일한 조건에서 성능을 비교하기 위해 TF-IDF 기반 Vectorizer를 사용해 문장들을 벡터화하였고, 그 결과 각 문장이 73,683차원의 실수 벡터로 변환되었다. (각 차원은 $[0,1]$의 값을 갖는다.)"
   ]
  },
  {
   "cell_type": "markdown",
   "metadata": {
    "colab_type": "text",
    "id": "QDYSL1LFuZAA"
   },
   "source": [
    "**로지스틱 모형(Baseline)**\n",
    "- 베이스라인 모형으로 로지스틱 모형을 사용하였고, 그 결과는 아래와 같다. *(Accuracy 기준)*\n",
    "    \n",
    "    - 기본 모형 (초모수 튜닝 X) : **(Train, Test) = (93.0%, 89.2%)**\n",
    "    - Grid Search 적용 : **(Train, Test) = (96.8%, 89.5%)**\n",
    "\n",
    "- Grid Search는 L1, L2 penalty의 크기를 탐색하기 위해 사용하였고, 규제화 크기만으로도 성능이 일정 수준 개선됨을 알 수 있다."
   ]
  },
  {
   "cell_type": "markdown",
   "metadata": {
    "colab_type": "text",
    "id": "D4cgCEyGvgMZ"
   },
   "source": [
    "**XGBoost Classifier**\n",
    "- 첫 번째 그라디언트 부스팅 방법으로 XGBoost [(original paper)](https://dl.acm.org/citation.cfm?id=2939785)를 선정하였고, 그 적용 결과는 아래와 같다. *(Accuracy 기준)*\n",
    "\n",
    "    - 기본 모형 (초모수 튜닝 X) : **(Train, Test) = (83.3%, 81.2%)**\n",
    "    - Grid Search 적용 : **(Train, Test) = (-, -)**\n",
    "\n",
    "- XGBoost 방법을 사용한 결과 로지스틱 모형에 비해 성능이 다소 낮게 나타났으며, 학습시간 또한 길어 Grid Search를 수행할 수 없었다."
   ]
  },
  {
   "cell_type": "markdown",
   "metadata": {
    "colab_type": "text",
    "id": "q-ZilOZswig7"
   },
   "source": [
    "**LightGBM Classifier**\n",
    "- 두 번째 그라디언트 부스팅 방법으로 LightGBM [(original paper)](http://papers.nips.cc/paper/6907-lightgbm-a-highly-efficient-gradi)을 선정하였고, 그 적용 결과는 아래와 같다. *(Accuracy 기준)*\n",
    "\n",
    "    - 기본 모형 (초모수 튜닝 X) : **(Train, Test) = (91.9%, 86.0%)**\n",
    "    - Grid Search 적용 : **(Train, Test) = (100.0%, 88.2%)**\n",
    "\n",
    "- LightGBM은 XGBoost에 비해 성능과 학습시간이 모두 우월하게 나타났으며, 초모수를 튜닝하지 않고도 비교적 좋은 성능을 보였다.\n",
    "- 다만 성능을 개선하기 위해 Grid Search를 통해 초모수를 조정한 결과 과적합이 발생하였고 test accuracy 개선폭이 크지 않았다. 또한 부스팅 방법의 특성상 많은 계산이 필요하여 초모수를 미세 조정하는 것이 거의 불가능하였다.\n",
    "    \n",
    "    *※ 초모수 조정을 위해 Google Cloud Platform의 클라우드 컴퓨팅을 적용하여 16개의 CPU로 병렬연산을 수행하였음에도 약 1시간 30분이 소요되어 미세 조정에 실패하였다.*\n",
    "\n",
    "- 세부적으로는, estimator의 숫자가 1,000을 넘어서면 과적합이 발생하였고, L1, L2 페널티의 크기인 $\\alpha, \\lambda$는 과적합 방지에 미미한 영향을 미쳤다.\n",
    "\n",
    "    과적합을 가장 효과적으로 방지한 파라미터는 `num_leaves`와 `max_depth`, 즉 각 의사결정 나무의 복잡도를 직접적으로 줄이는 지표들이었다. 그러나 해당 지표를 통해 과적합을 방지하여도 test accuracy 개선에는 영향력이 없었다. 이는 각 estimator의 복잡도가 줄어들어 모형 전체의 설명력이 줄어드는 것이라 해석할 수 있을 것이다."
   ]
  },
  {
   "cell_type": "markdown",
   "metadata": {
    "colab_type": "text",
    "id": "2UOUjErG60N1"
   },
   "source": [
    "**(참조) Random Forest Classifier**\n",
    "- 또다른 앙상블 학습 기법인 랜덤 포레스트를 적절히 튜닝하여 적용한 결과는 다음과 같다.\n",
    "\n",
    "    - **(Train, Test) = (87.6%, 85.1%)**\n",
    "\n",
    "- 초모수를 조정하지 않으면 과적합이 발생하나(training accuracy : 100.0%), 가지치기 파라미터 $\\alpha$와 분기를 위한 최소 표본수 `min_samples_split`을 적절히 조정한 결과 과적합이 줄어드는 동시에 test accuracy가 소폭 개선되었다.\n",
    "\n",
    "- 다만 랜덤 포레스트 단일 모형으로는 부스팅 기법에 비해 설명력이 다소 부족한 것으로 나타났다."
   ]
  },
  {
   "cell_type": "markdown",
   "metadata": {
    "colab_type": "text",
    "id": "2oxuacRx5YN-"
   },
   "source": [
    "### **향후 개선점 및 탐구 과제**"
   ]
  },
  {
   "cell_type": "markdown",
   "metadata": {
    "colab_type": "text",
    "id": "_M9WH1oW72nN"
   },
   "source": [
    "***1. 그라디언트 부스팅 방법의 과적합 방지***\n",
    "    \n",
    "- estimator 수를 늘려 설명력을 늘리는 동시에, 모형의 복잡도를 크게 훼손하지 않는 범위에서 과적합을 방지할 수 있는 방안에 대해 탐구할 예정이다.\n",
    "- 또한 Vectorize된 $X$ 변수들이 희소 데이터(sparse data)임을 감안하여, 희소 데이터에 부스팅 기법을 적용할 때 주의할 점에 대해 알아볼 것이다.\n",
    "\n",
    "***2. 다른 특성 변수 변환을 고려***\n",
    "\n",
    "- TF-IDF 기반 Vectorizer를 사용한 경우 고차원-희소 특성변수들이 생성되므로 계산량이 증가함과 동시에 최적화가 이루어지지 않을 가능성이 존재한다.\n",
    "- 따라서 Tokenizer가 아닌 다른 특성 변수 변환 방법을 고려하고자 한다.\n",
    "    - Word2Vec : 현재 자연어처리(NLP) 분야에서 보편적으로 사용되는 특성 변수 생성 기법이다.\n",
    "    - TF-IDF Vector에 차원 축소 기법 적용\n",
    "    - Neural Network를 활용한 특성 변수 생성 기법 적용\n",
    "- 특히 Neural Network를 활용한 방법의 경우, IMDB 데이터를 포함한 많은 자연어처리 Task에서 SOTA(state-of-the-art)의 성능을 보이는 것으로 알려진 ***BERT(Bidirectional Encoder Representations from Transformers)***를 활용한 변수 변환을 적용 예정이다.\n",
    "\n",
    "***3. 특성 변수에 대한 EDA***\n",
    "\n",
    "- 딥러닝이 아닌 통계적 기계학습 기법을 활용한 분류 문제의 경우 EDA를 통해 특성변수의 특징을 분석하는 것이 성능 개선에 영향을 미치는 것으로 알려져있다.\n",
    "- 그러므로 위에서 제시된 특성 변수들에 대한 EDA 및 그에 따른 적절한 분류 모형 선정을 진행할 예정이다."
   ]
  },
  {
   "cell_type": "markdown",
   "metadata": {
    "colab_type": "text",
    "id": "ZrgxV2X31F-f"
   },
   "source": [
    "### **Prerequisites**"
   ]
  },
  {
   "cell_type": "code",
   "execution_count": 4,
   "metadata": {
    "colab": {},
    "colab_type": "code",
    "id": "x7CRWmptf78J"
   },
   "outputs": [],
   "source": [
    "# 코드 출력시 불필요한 warning 메시지가 출력되지 않도록 함\n",
    "# 출력하지 않을 warining 메시지의 종류를 지정할 수 있음 ('DeprecationWarning' 등)\n",
    "\n",
    "import warnings\n",
    "warnings.filterwarnings(\"ignore\", category=DeprecationWarning)\n",
    "warnings.filterwarnings(\"ignore\", category=UserWarning)\n",
    "warnings.filterwarnings(\"ignore\", category=FutureWarning)"
   ]
  },
  {
   "cell_type": "code",
   "execution_count": 5,
   "metadata": {
    "colab": {
     "base_uri": "https://localhost:8080/",
     "height": 216
    },
    "colab_type": "code",
    "id": "nlRNsUQZd6EN",
    "outputId": "792ed371-e8a0-4fcd-9ecf-4ddccf1f6d6a"
   },
   "outputs": [],
   "source": [
    "import tarfile\n",
    "tar = tarfile.open('C:/Users/ysp/Desktop/Deep Learning/aclImdb_v1.tar.gz') # gz파일이 저장된 경로로 변경\n",
    "tar.extractall()\n"
   ]
  },
  {
   "cell_type": "code",
   "execution_count": 6,
   "metadata": {
    "colab": {
     "base_uri": "https://localhost:8080/",
     "height": 53
    },
    "colab_type": "code",
    "id": "ZSheORbGdwuo",
    "outputId": "92bd34e2-8839-4dfe-b20b-84b94f0105aa"
   },
   "outputs": [
    {
     "name": "stderr",
     "output_type": "stream",
     "text": [
      "0% [##############################] 100% | ETA: 00:00:00\n",
      "Total time elapsed: 00:03:30\n"
     ]
    }
   ],
   "source": [
    "# 자료를 행렬 형태로 바꿈.\n",
    "import pyprind\n",
    "import pandas as pd\n",
    "import os\n",
    "\n",
    "basepath = 'C://Users//ysp//Desktop//Deep Learning//aclImdb_v1//aclImdb'\n",
    "labels = {'pos':1, 'neg':0}\n",
    "pbar = pyprind.ProgBar(50000)\n",
    "df = pd.DataFrame()\n",
    "for s in ('test', 'train'):\n",
    "    for l in ('pos', 'neg'):\n",
    "        path = os.path.join(basepath, s, l)\n",
    "        for file in os.listdir(path):\n",
    "            with open(os.path.join(path, file), 'r', encoding='utf-8') as infile:\n",
    "                txt = infile.read()\n",
    "            df = df.append([[txt, labels[l]]], ignore_index=True)\n",
    "            pbar.update()\n",
    "df.columns = ['review', 'sentiment']    "
   ]
  },
  {
   "cell_type": "code",
   "execution_count": 7,
   "metadata": {
    "colab": {},
    "colab_type": "code",
    "id": "RZ0QmU7zdwus"
   },
   "outputs": [],
   "source": [
    "# 자료의 순서를 임의로 뒤섞어 csv 파일로 저장. \n",
    "import numpy as np\n",
    "np.random.seed(0)\n",
    "df = df.reindex(np.random.permutation(df.index))\n",
    "df.to_csv('C://Users//ysp//Desktop//Deep Learning//movie_data.csv', index = False, encoding='utf-8')"
   ]
  },
  {
   "cell_type": "code",
   "execution_count": 8,
   "metadata": {
    "colab": {
     "base_uri": "https://localhost:8080/",
     "height": 138
    },
    "colab_type": "code",
    "id": "4jnPx8j2dwuw",
    "outputId": "26d930ba-881e-4c1d-f19c-ebdb06759b2e"
   },
   "outputs": [
    {
     "data": {
      "text/html": [
       "<div>\n",
       "<style scoped>\n",
       "    .dataframe tbody tr th:only-of-type {\n",
       "        vertical-align: middle;\n",
       "    }\n",
       "\n",
       "    .dataframe tbody tr th {\n",
       "        vertical-align: top;\n",
       "    }\n",
       "\n",
       "    .dataframe thead th {\n",
       "        text-align: right;\n",
       "    }\n",
       "</style>\n",
       "<table border=\"1\" class=\"dataframe\">\n",
       "  <thead>\n",
       "    <tr style=\"text-align: right;\">\n",
       "      <th></th>\n",
       "      <th>review</th>\n",
       "      <th>sentiment</th>\n",
       "    </tr>\n",
       "  </thead>\n",
       "  <tbody>\n",
       "    <tr>\n",
       "      <th>0</th>\n",
       "      <td>In 1974, the teenager Martha Moxley (Maggie Gr...</td>\n",
       "      <td>1</td>\n",
       "    </tr>\n",
       "    <tr>\n",
       "      <th>1</th>\n",
       "      <td>OK... so... I really like Kris Kristofferson a...</td>\n",
       "      <td>0</td>\n",
       "    </tr>\n",
       "    <tr>\n",
       "      <th>2</th>\n",
       "      <td>***SPOILER*** Do not read this, if you think a...</td>\n",
       "      <td>0</td>\n",
       "    </tr>\n",
       "  </tbody>\n",
       "</table>\n",
       "</div>"
      ],
      "text/plain": [
       "                                              review  sentiment\n",
       "0  In 1974, the teenager Martha Moxley (Maggie Gr...          1\n",
       "1  OK... so... I really like Kris Kristofferson a...          0\n",
       "2  ***SPOILER*** Do not read this, if you think a...          0"
      ]
     },
     "execution_count": 8,
     "metadata": {},
     "output_type": "execute_result"
    }
   ],
   "source": [
    "# 저장된 파일 불러와 확인함.\n",
    "df = pd.read_csv('C://Users//ysp//Desktop//Deep Learning//movie_data.csv', encoding='utf-8')\n",
    "df.head(3)"
   ]
  },
  {
   "cell_type": "markdown",
   "metadata": {
    "colab_type": "text",
    "id": "MRzImwtT1RJq"
   },
   "source": [
    "### **Data preprocessing**"
   ]
  },
  {
   "cell_type": "code",
   "execution_count": 9,
   "metadata": {
    "colab": {
     "base_uri": "https://localhost:8080/",
     "height": 235
    },
    "colab_type": "code",
    "id": "lcA25vNddwu1",
    "outputId": "9352021c-dee1-4452-ad6e-a3cf1022af4f"
   },
   "outputs": [
    {
     "data": {
      "text/plain": [
       "0        in 1974 the teenager martha moxley maggie grac...\n",
       "1        ok so i really like kris kristofferson and his...\n",
       "2         spoiler do not read this if you think about w...\n",
       "3        hi for all the people who have seen this wonde...\n",
       "4        i recently bought the dvd forgetting just how ...\n",
       "                               ...                        \n",
       "49995    ok lets start with the best the building altho...\n",
       "49996    the british heritage film industry is out of c...\n",
       "49997    i don t even know where to begin on this one i...\n",
       "49998    richard tyler is a little boy who is scared of...\n",
       "49999    i waited long to watch this movie also because...\n",
       "Name: review, Length: 50000, dtype: object"
      ]
     },
     "execution_count": 9,
     "metadata": {},
     "output_type": "execute_result"
    }
   ],
   "source": [
    "# 정보를 가지지 않은 것으로 판단 되는 것을 사전에 정리\n",
    "import re\n",
    "def preprocessor(text):\n",
    "    text = re.sub('<[^>]*>', '', text) # text에서 <[^>]*>과 일치하는 데이터를 공백으로 바꾸는 명령어\n",
    "    emoticons = re.findall('(?::|;|=)(?:-)?(?:\\)|\\(|D|P)',\n",
    "    text)\n",
    "    text = (re.sub('[\\W]+', ' ', text.lower()) # 단어가 아닌 모든 기호는 공백으로 대체\n",
    "    +' '.join(emoticons).replace('-', '')) # emoticons을 빈공간 뒤에 배치\n",
    "    return text\n",
    "\n",
    "df['review'] = df['review'].apply(preprocessor)\n",
    "df['review']"
   ]
  },
  {
   "cell_type": "markdown",
   "metadata": {
    "colab_type": "text",
    "id": "0YeQHV2o0I8i"
   },
   "source": [
    "Tokenizer settings"
   ]
  },
  {
   "cell_type": "code",
   "execution_count": 10,
   "metadata": {
    "colab": {},
    "colab_type": "code",
    "id": "_AQr14Izdwu5"
   },
   "outputs": [],
   "source": [
    "# TfidfVectorizer 클래스의 'tokenizer' 옵션을 위한 함수 정의\n",
    "\n",
    "# 1) tokenizer\n",
    "def tokenizer(text):\n",
    "    return text.split()\n",
    "\n",
    "# 2) tokenizer_porter (PorterStemmer 클래스 사용)\n",
    "from nltk.stem.porter import PorterStemmer\n",
    "porter = PorterStemmer()\n",
    "def tokenizer_porter(text):\n",
    "    return [porter.stem(word) for word in text.split()]"
   ]
  },
  {
   "cell_type": "code",
   "execution_count": 11,
   "metadata": {
    "colab": {
     "base_uri": "https://localhost:8080/",
     "height": 72
    },
    "colab_type": "code",
    "id": "z_u5KoTedwvB",
    "outputId": "52ce64b2-37fc-4668-e921-914382f18edc"
   },
   "outputs": [
    {
     "name": "stderr",
     "output_type": "stream",
     "text": [
      "[nltk_data] Downloading package stopwords to\n",
      "[nltk_data]     C:\\Users\\ysp\\AppData\\Roaming\\nltk_data...\n",
      "[nltk_data]   Package stopwords is already up-to-date!\n"
     ]
    }
   ],
   "source": [
    "# TfidfVectorizer 클래스의 'stop_words' 옵션을 위한 함수 정의\n",
    "import nltk\n",
    "nltk.download('stopwords')\n",
    "from nltk.corpus import stopwords\n",
    "\n",
    "stop = stopwords.words('english')"
   ]
  },
  {
   "cell_type": "markdown",
   "metadata": {
    "colab_type": "text",
    "id": "wZDCWw2K1eTz"
   },
   "source": [
    "data tokenizing (text to array)"
   ]
  },
  {
   "cell_type": "code",
   "execution_count": 12,
   "metadata": {
    "colab": {},
    "colab_type": "code",
    "id": "HwuLnPc4dwvF"
   },
   "outputs": [],
   "source": [
    "# extract values from data frame\n",
    "X = df['review'].values\n",
    "y = df['sentiment'].values"
   ]
  },
  {
   "cell_type": "code",
   "execution_count": 13,
   "metadata": {
    "colab": {},
    "colab_type": "code",
    "id": "buIrne4o1lAx"
   },
   "outputs": [],
   "source": [
    "# import tokenizer to data transform\n",
    "from sklearn.feature_extraction.text import TfidfVectorizer\n",
    "\n",
    "# tokenizer with porter stemmer\n",
    "tfidf_porter = TfidfVectorizer(ngram_range = (1,1),\n",
    "                        strip_accents = None,\n",
    "                        lowercase = False,\n",
    "                        preprocessor = None,\n",
    "                        stop_words = 'english',\n",
    "                        tokenizer = tokenizer_porter)"
   ]
  },
  {
   "cell_type": "code",
   "execution_count": 14,
   "metadata": {
    "colab": {},
    "colab_type": "code",
    "id": "N2INtpbW2NOq"
   },
   "outputs": [],
   "source": [
    "# tokenize reviews\n",
    "X_tok = tfidf_porter.fit_transform(X).toarray()"
   ]
  },
  {
   "cell_type": "code",
   "execution_count": 0,
   "metadata": {
    "colab": {},
    "colab_type": "code",
    "id": "QC9yDh_hDpYL"
   },
   "outputs": [],
   "source": [
    "tmp = tfidf_porter.fit_transform(X[:25000]).toarray()"
   ]
  },
  {
   "cell_type": "code",
   "execution_count": 17,
   "metadata": {
    "colab": {
     "base_uri": "https://localhost:8080/",
     "height": 35
    },
    "colab_type": "code",
    "id": "yrQ3vt-Wi2EA",
    "outputId": "c89090c8-d353-4a03-ce58-ed37b58d23be"
   },
   "outputs": [
    {
     "name": "stdout",
     "output_type": "stream",
     "text": [
      "(50000, 73590)\n"
     ]
    }
   ],
   "source": [
    "print(X_tok.shape)"
   ]
  },
  {
   "cell_type": "code",
   "execution_count": 15,
   "metadata": {
    "colab": {},
    "colab_type": "code",
    "id": "QfcjaLsN2mhY"
   },
   "outputs": [],
   "source": [
    "# split train-test dataset (plain tokenizer)\n",
    "X_train = X_tok[:25000]\n",
    "X_test = X_tok[25000:]\n",
    "\n",
    "# split train-test label\n",
    "y_train = y[:25000]\n",
    "y_test = y[25000:]"
   ]
  },
  {
   "cell_type": "code",
   "execution_count": 16,
   "metadata": {
    "colab": {
     "base_uri": "https://localhost:8080/",
     "height": 53
    },
    "colab_type": "code",
    "id": "zLKoQtdcjwL2",
    "outputId": "b0d33931-8ed7-4c01-8b2a-e52bf4d07d66"
   },
   "outputs": [
    {
     "name": "stdout",
     "output_type": "stream",
     "text": [
      "(25000, 73590)\n",
      "(25000, 73590)\n"
     ]
    }
   ],
   "source": [
    "print(X_train.shape)\n",
    "print(X_test.shape)"
   ]
  },
  {
   "cell_type": "markdown",
   "metadata": {
    "colab_type": "text",
    "id": "VnC5nGh53LHL"
   },
   "source": [
    "### **Logistic Regression Model**"
   ]
  },
  {
   "cell_type": "markdown",
   "metadata": {
    "colab_type": "text",
    "id": "qBYlf5e7m6-v"
   },
   "source": [
    "plain model without CV"
   ]
  },
  {
   "cell_type": "code",
   "execution_count": 20,
   "metadata": {
    "colab": {
     "base_uri": "https://localhost:8080/",
     "height": 144
    },
    "colab_type": "code",
    "id": "gFRHGpSiyW1e",
    "outputId": "7de8ff41-5545-4247-9d38-f00c3849fbd7"
   },
   "outputs": [
    {
     "name": "stdout",
     "output_type": "stream",
     "text": [
      "Wall time: 9.47 s\n"
     ]
    },
    {
     "data": {
      "text/plain": [
       "LogisticRegression(C=1.0, class_weight=None, dual=False, fit_intercept=True,\n",
       "                   intercept_scaling=1, l1_ratio=None, max_iter=100,\n",
       "                   multi_class='auto', n_jobs=None, penalty='l2',\n",
       "                   random_state=0, solver='liblinear', tol=0.0001, verbose=0,\n",
       "                   warm_start=False)"
      ]
     },
     "execution_count": 20,
     "metadata": {},
     "output_type": "execute_result"
    }
   ],
   "source": [
    "from sklearn.linear_model import LogisticRegression\n",
    "\n",
    "clf_lr = LogisticRegression(solver = 'liblinear', random_state=0)\n",
    "%time clf_lr.fit(X_train, y_train)"
   ]
  },
  {
   "cell_type": "code",
   "execution_count": 21,
   "metadata": {
    "colab": {
     "base_uri": "https://localhost:8080/",
     "height": 53
    },
    "colab_type": "code",
    "id": "xMTMKd6c3uMH",
    "outputId": "3ae2958e-cb45-42fd-f4f1-dd80308fa484"
   },
   "outputs": [
    {
     "name": "stdout",
     "output_type": "stream",
     "text": [
      "Logistic Model Training Accuracy w/o CV: 0.930\n",
      "Logistic Model Test Accuracy w/o CV: 0.890\n"
     ]
    }
   ],
   "source": [
    "print('Logistic Model Training Accuracy w/o CV: %.3f' % clf_lr.score(X_train, y_train))\n",
    "print('Logistic Model Test Accuracy w/o CV: %.3f' % clf_lr.score(X_test, y_test))"
   ]
  },
  {
   "cell_type": "markdown",
   "metadata": {
    "colab_type": "text",
    "id": "LqqBrJNH4cnz"
   },
   "source": [
    "Hyperparameter Tuning via CV"
   ]
  },
  {
   "cell_type": "code",
   "execution_count": 22,
   "metadata": {
    "colab": {},
    "colab_type": "code",
    "id": "Q4bO6sBx4u3-"
   },
   "outputs": [],
   "source": [
    "param_lr = [{'clf__penalty':['l2', 'l1'],\n",
    "             'clf__C': [0.1, 0.5, 1.0, 5.0, 10.0]}]"
   ]
  },
  {
   "cell_type": "code",
   "execution_count": 23,
   "metadata": {
    "colab": {},
    "colab_type": "code",
    "id": "pwZ37XUVyl3R"
   },
   "outputs": [],
   "source": [
    "from sklearn.model_selection import GridSearchCV\n",
    "from sklearn.pipeline import Pipeline"
   ]
  },
  {
   "cell_type": "code",
   "execution_count": 28,
   "metadata": {
    "colab": {
     "base_uri": "https://localhost:8080/",
     "height": 1000
    },
    "colab_type": "code",
    "id": "oenkjHSRlOrK",
    "outputId": "4db9d86c-4ee5-4e7f-f79e-2992f907714f"
   },
   "outputs": [
    {
     "name": "stdout",
     "output_type": "stream",
     "text": [
      "Fitting 5 folds for each of 10 candidates, totalling 50 fits\n",
      "[CV] clf__C=0.1, clf__penalty=l2 .....................................\n"
     ]
    },
    {
     "name": "stderr",
     "output_type": "stream",
     "text": [
      "[Parallel(n_jobs=1)]: Using backend SequentialBackend with 1 concurrent workers.\n"
     ]
    },
    {
     "name": "stdout",
     "output_type": "stream",
     "text": [
      "[CV] ...................... clf__C=0.1, clf__penalty=l2, total=  27.4s\n",
      "[CV] clf__C=0.1, clf__penalty=l2 .....................................\n"
     ]
    },
    {
     "name": "stderr",
     "output_type": "stream",
     "text": [
      "[Parallel(n_jobs=1)]: Done   1 out of   1 | elapsed:   28.4s remaining:    0.0s\n"
     ]
    },
    {
     "name": "stdout",
     "output_type": "stream",
     "text": [
      "[CV] ...................... clf__C=0.1, clf__penalty=l2, total=  12.3s\n",
      "[CV] clf__C=0.1, clf__penalty=l2 .....................................\n",
      "[CV] ...................... clf__C=0.1, clf__penalty=l2, total=  13.3s\n",
      "[CV] clf__C=0.1, clf__penalty=l2 .....................................\n",
      "[CV] ...................... clf__C=0.1, clf__penalty=l2, total=  11.8s\n",
      "[CV] clf__C=0.1, clf__penalty=l2 .....................................\n",
      "[CV] ...................... clf__C=0.1, clf__penalty=l2, total=  11.9s\n",
      "[CV] clf__C=0.1, clf__penalty=l1 .....................................\n",
      "[CV] ...................... clf__C=0.1, clf__penalty=l1, total=  13.8s\n",
      "[CV] clf__C=0.1, clf__penalty=l1 .....................................\n",
      "[CV] ...................... clf__C=0.1, clf__penalty=l1, total=  14.3s\n",
      "[CV] clf__C=0.1, clf__penalty=l1 .....................................\n",
      "[CV] ...................... clf__C=0.1, clf__penalty=l1, total=  14.5s\n",
      "[CV] clf__C=0.1, clf__penalty=l1 .....................................\n",
      "[CV] ...................... clf__C=0.1, clf__penalty=l1, total=  12.4s\n",
      "[CV] clf__C=0.1, clf__penalty=l1 .....................................\n",
      "[CV] ...................... clf__C=0.1, clf__penalty=l1, total=  13.8s\n",
      "[CV] clf__C=0.5, clf__penalty=l2 .....................................\n",
      "[CV] ...................... clf__C=0.5, clf__penalty=l2, total=  12.2s\n",
      "[CV] clf__C=0.5, clf__penalty=l2 .....................................\n",
      "[CV] ...................... clf__C=0.5, clf__penalty=l2, total=  11.8s\n",
      "[CV] clf__C=0.5, clf__penalty=l2 .....................................\n",
      "[CV] ...................... clf__C=0.5, clf__penalty=l2, total=  11.8s\n",
      "[CV] clf__C=0.5, clf__penalty=l2 .....................................\n",
      "[CV] ...................... clf__C=0.5, clf__penalty=l2, total=  11.8s\n",
      "[CV] clf__C=0.5, clf__penalty=l2 .....................................\n",
      "[CV] ...................... clf__C=0.5, clf__penalty=l2, total=  12.3s\n",
      "[CV] clf__C=0.5, clf__penalty=l1 .....................................\n",
      "[CV] ...................... clf__C=0.5, clf__penalty=l1, total=  13.9s\n",
      "[CV] clf__C=0.5, clf__penalty=l1 .....................................\n",
      "[CV] ...................... clf__C=0.5, clf__penalty=l1, total=  12.2s\n",
      "[CV] clf__C=0.5, clf__penalty=l1 .....................................\n",
      "[CV] ...................... clf__C=0.5, clf__penalty=l1, total=  11.8s\n",
      "[CV] clf__C=0.5, clf__penalty=l1 .....................................\n",
      "[CV] ...................... clf__C=0.5, clf__penalty=l1, total=  11.9s\n",
      "[CV] clf__C=0.5, clf__penalty=l1 .....................................\n",
      "[CV] ...................... clf__C=0.5, clf__penalty=l1, total=  11.8s\n",
      "[CV] clf__C=1.0, clf__penalty=l2 .....................................\n",
      "[CV] ...................... clf__C=1.0, clf__penalty=l2, total=  11.8s\n",
      "[CV] clf__C=1.0, clf__penalty=l2 .....................................\n",
      "[CV] ...................... clf__C=1.0, clf__penalty=l2, total=  12.7s\n",
      "[CV] clf__C=1.0, clf__penalty=l2 .....................................\n",
      "[CV] ...................... clf__C=1.0, clf__penalty=l2, total=  14.1s\n",
      "[CV] clf__C=1.0, clf__penalty=l2 .....................................\n",
      "[CV] ...................... clf__C=1.0, clf__penalty=l2, total=  12.4s\n",
      "[CV] clf__C=1.0, clf__penalty=l2 .....................................\n",
      "[CV] ...................... clf__C=1.0, clf__penalty=l2, total=  11.9s\n",
      "[CV] clf__C=1.0, clf__penalty=l1 .....................................\n",
      "[CV] ...................... clf__C=1.0, clf__penalty=l1, total=  12.0s\n",
      "[CV] clf__C=1.0, clf__penalty=l1 .....................................\n",
      "[CV] ...................... clf__C=1.0, clf__penalty=l1, total=  11.9s\n",
      "[CV] clf__C=1.0, clf__penalty=l1 .....................................\n",
      "[CV] ...................... clf__C=1.0, clf__penalty=l1, total=  13.0s\n",
      "[CV] clf__C=1.0, clf__penalty=l1 .....................................\n",
      "[CV] ...................... clf__C=1.0, clf__penalty=l1, total=  13.9s\n",
      "[CV] clf__C=1.0, clf__penalty=l1 .....................................\n",
      "[CV] ...................... clf__C=1.0, clf__penalty=l1, total=  12.2s\n",
      "[CV] clf__C=5.0, clf__penalty=l2 .....................................\n",
      "[CV] ...................... clf__C=5.0, clf__penalty=l2, total=  12.1s\n",
      "[CV] clf__C=5.0, clf__penalty=l2 .....................................\n",
      "[CV] ...................... clf__C=5.0, clf__penalty=l2, total=  12.7s\n",
      "[CV] clf__C=5.0, clf__penalty=l2 .....................................\n",
      "[CV] ...................... clf__C=5.0, clf__penalty=l2, total=  17.8s\n",
      "[CV] clf__C=5.0, clf__penalty=l2 .....................................\n",
      "[CV] ...................... clf__C=5.0, clf__penalty=l2, total=  12.5s\n",
      "[CV] clf__C=5.0, clf__penalty=l2 .....................................\n",
      "[CV] ...................... clf__C=5.0, clf__penalty=l2, total=  12.1s\n",
      "[CV] clf__C=5.0, clf__penalty=l1 .....................................\n",
      "[CV] ...................... clf__C=5.0, clf__penalty=l1, total=  12.0s\n",
      "[CV] clf__C=5.0, clf__penalty=l1 .....................................\n",
      "[CV] ...................... clf__C=5.0, clf__penalty=l1, total=  12.2s\n",
      "[CV] clf__C=5.0, clf__penalty=l1 .....................................\n",
      "[CV] ...................... clf__C=5.0, clf__penalty=l1, total=  12.1s\n",
      "[CV] clf__C=5.0, clf__penalty=l1 .....................................\n",
      "[CV] ...................... clf__C=5.0, clf__penalty=l1, total=  13.1s\n",
      "[CV] clf__C=5.0, clf__penalty=l1 .....................................\n",
      "[CV] ...................... clf__C=5.0, clf__penalty=l1, total=  14.0s\n",
      "[CV] clf__C=10.0, clf__penalty=l2 ....................................\n",
      "[CV] ..................... clf__C=10.0, clf__penalty=l2, total=  13.2s\n",
      "[CV] clf__C=10.0, clf__penalty=l2 ....................................\n",
      "[CV] ..................... clf__C=10.0, clf__penalty=l2, total=  12.8s\n",
      "[CV] clf__C=10.0, clf__penalty=l2 ....................................\n",
      "[CV] ..................... clf__C=10.0, clf__penalty=l2, total=  14.4s\n",
      "[CV] clf__C=10.0, clf__penalty=l2 ....................................\n",
      "[CV] ..................... clf__C=10.0, clf__penalty=l2, total=  12.8s\n",
      "[CV] clf__C=10.0, clf__penalty=l2 ....................................\n",
      "[CV] ..................... clf__C=10.0, clf__penalty=l2, total=  12.1s\n",
      "[CV] clf__C=10.0, clf__penalty=l1 ....................................\n",
      "[CV] ..................... clf__C=10.0, clf__penalty=l1, total=  13.8s\n",
      "[CV] clf__C=10.0, clf__penalty=l1 ....................................\n",
      "[CV] ..................... clf__C=10.0, clf__penalty=l1, total=  12.6s\n",
      "[CV] clf__C=10.0, clf__penalty=l1 ....................................\n",
      "[CV] ..................... clf__C=10.0, clf__penalty=l1, total=  12.2s\n",
      "[CV] clf__C=10.0, clf__penalty=l1 ....................................\n",
      "[CV] ..................... clf__C=10.0, clf__penalty=l1, total=  12.0s\n",
      "[CV] clf__C=10.0, clf__penalty=l1 ....................................\n",
      "[CV] ..................... clf__C=10.0, clf__penalty=l1, total=  12.6s\n"
     ]
    },
    {
     "name": "stderr",
     "output_type": "stream",
     "text": [
      "[Parallel(n_jobs=1)]: Done  50 out of  50 | elapsed: 11.7min finished\n"
     ]
    },
    {
     "data": {
      "text/plain": [
       "GridSearchCV(cv=5, error_score=nan,\n",
       "             estimator=Pipeline(memory=None,\n",
       "                                steps=[('clf',\n",
       "                                        LogisticRegression(C=1.0,\n",
       "                                                           class_weight=None,\n",
       "                                                           dual=False,\n",
       "                                                           fit_intercept=True,\n",
       "                                                           intercept_scaling=1,\n",
       "                                                           l1_ratio=None,\n",
       "                                                           max_iter=100,\n",
       "                                                           multi_class='auto',\n",
       "                                                           n_jobs=None,\n",
       "                                                           penalty='l2',\n",
       "                                                           random_state=0,\n",
       "                                                           solver='liblinear',\n",
       "                                                           tol=0.0001,\n",
       "                                                           verbose=0,\n",
       "                                                           warm_start=False))],\n",
       "                                verbose=False),\n",
       "             iid='deprecated', n_jobs=None,\n",
       "             param_grid=[{'clf__C': [0.1, 0.5, 1.0, 5.0, 10.0],\n",
       "                          'clf__penalty': ['l2', 'l1']}],\n",
       "             pre_dispatch='2*n_jobs', refit=True, return_train_score=False,\n",
       "             scoring='accuracy', verbose=2)"
      ]
     },
     "execution_count": 28,
     "metadata": {},
     "output_type": "execute_result"
    }
   ],
   "source": [
    "lr = Pipeline([('clf', LogisticRegression(solver = 'liblinear', random_state=0))])\n",
    "gs_lr = GridSearchCV(lr, param_grid = param_lr, scoring = 'accuracy', cv = 5, verbose = 2)\n",
    "gs_lr.fit(X_train, y_train)"
   ]
  },
  {
   "cell_type": "code",
   "execution_count": 29,
   "metadata": {
    "colab": {
     "base_uri": "https://localhost:8080/",
     "height": 53
    },
    "colab_type": "code",
    "id": "ZOjh0lCT4_wx",
    "outputId": "77f16744-d600-4024-874b-4c05d39ff30a"
   },
   "outputs": [
    {
     "name": "stdout",
     "output_type": "stream",
     "text": [
      "Logistic Model Training Accuracy with CV: 0.969\n",
      "Logistic Model Test Accuracy with CV: 0.892\n"
     ]
    }
   ],
   "source": [
    "print('Logistic Model Training Accuracy with CV: %.3f' % gs_lr.score(X_train, y_train))\n",
    "print('Logistic Model Test Accuracy with CV: %.3f' % gs_lr.score(X_test, y_test))"
   ]
  },
  {
   "cell_type": "markdown",
   "metadata": {
    "colab_type": "text",
    "id": "I7s1Ola68aqy"
   },
   "source": [
    "### **XGBoost Classifier Model**"
   ]
  },
  {
   "cell_type": "markdown",
   "metadata": {
    "colab_type": "text",
    "id": "43xsctQsnCP2"
   },
   "source": [
    "plain model without CV"
   ]
  },
  {
   "cell_type": "code",
   "execution_count": 32,
   "metadata": {
    "colab": {
     "base_uri": "https://localhost:8080/",
     "height": 180
    },
    "colab_type": "code",
    "id": "_ERqFkYBovGf",
    "outputId": "44c7da45-627f-4dea-ed05-b036c3902b35"
   },
   "outputs": [
    {
     "name": "stdout",
     "output_type": "stream",
     "text": [
      "Wall time: 0 ns\n"
     ]
    },
    {
     "data": {
      "text/plain": [
       "XGBClassifier(base_score=0.5, booster='gbtree', colsample_bylevel=1,\n",
       "              colsample_bynode=1, colsample_bytree=1, gamma=0, gpu_id=-1,\n",
       "              importance_type='gain', interaction_constraints='',\n",
       "              learning_rate=0.300000012, max_delta_step=0, max_depth=6,\n",
       "              min_child_weight=1, missing=nan, monotone_constraints='()',\n",
       "              n_estimators=100, n_jobs=0, num_parallel_tree=1,\n",
       "              objective='binary:logistic', random_state=0, reg_alpha=0,\n",
       "              reg_lambda=1, scale_pos_weight=1, subsample=1,\n",
       "              tree_method='exact', validate_parameters=1, verbosity=None)"
      ]
     },
     "execution_count": 32,
     "metadata": {},
     "output_type": "execute_result"
    }
   ],
   "source": [
    "#!pip install xgboost\n",
    "%%time\n",
    "from xgboost import XGBClassifier\n",
    "clf_xgb = XGBClassifier(random_state=0)\n",
    "clf_xgb.fit(X_train, y_train)"
   ]
  },
  {
   "cell_type": "code",
   "execution_count": 33,
   "metadata": {
    "colab": {
     "base_uri": "https://localhost:8080/",
     "height": 53
    },
    "colab_type": "code",
    "id": "FXxUQpMv83ym",
    "outputId": "6cb652d8-9706-4fd9-ca2c-8fd9a2b32b35"
   },
   "outputs": [
    {
     "name": "stdout",
     "output_type": "stream",
     "text": [
      "XGBoost Model Training Accuracy w/o CV: 0.947\n",
      "XGBoost Model Test Accuracy w/o CV: 0.853\n"
     ]
    }
   ],
   "source": [
    "print('XGBoost Model Training Accuracy w/o CV: %.3f' % clf_xgb.score(X_train, y_train))\n",
    "print('XGBoost Model Test Accuracy w/o CV: %.3f' % clf_xgb.score(X_test, y_test))"
   ]
  },
  {
   "cell_type": "markdown",
   "metadata": {
    "colab_type": "text",
    "id": "fzTJharo1gbj"
   },
   "source": [
    "Hyperparameter Tuning via CV"
   ]
  },
  {
   "cell_type": "code",
   "execution_count": 34,
   "metadata": {
    "colab": {},
    "colab_type": "code",
    "id": "5O6mcKHs1iwq"
   },
   "outputs": [],
   "source": [
    "param_xgb = [{'reg_alpha': [0.5, 1.0],\n",
    "              'reg_lambda': [0.5, 1.0],\n",
    "              'n_estimators': [1000, 1500]}]"
   ]
  },
  {
   "cell_type": "code",
   "execution_count": null,
   "metadata": {
    "colab": {
     "base_uri": "https://localhost:8080/",
     "height": 53
    },
    "colab_type": "code",
    "id": "Z5Kj5vFV1gxR",
    "outputId": "c1b63b86-a6c5-497e-81f2-c269f30d0b59"
   },
   "outputs": [
    {
     "name": "stdout",
     "output_type": "stream",
     "text": [
      "Fitting 5 folds for each of 8 candidates, totalling 40 fits\n",
      "[CV] n_estimators=1000, reg_alpha=0.5, reg_lambda=0.5 ................\n"
     ]
    },
    {
     "name": "stderr",
     "output_type": "stream",
     "text": [
      "[Parallel(n_jobs=1)]: Using backend SequentialBackend with 1 concurrent workers.\n"
     ]
    },
    {
     "name": "stdout",
     "output_type": "stream",
     "text": [
      "[CV] . n_estimators=1000, reg_alpha=0.5, reg_lambda=0.5, total=69.0min\n",
      "[CV] n_estimators=1000, reg_alpha=0.5, reg_lambda=0.5 ................\n"
     ]
    },
    {
     "name": "stderr",
     "output_type": "stream",
     "text": [
      "[Parallel(n_jobs=1)]: Done   1 out of   1 | elapsed: 69.0min remaining:    0.0s\n"
     ]
    }
   ],
   "source": [
    "gs_xgb = GridSearchCV(XGBClassifier(random_state = 0), param_xgb, cv=5, verbose = 2)\n",
    "gs_xgb.fit(X_train, y_train)"
   ]
  },
  {
   "cell_type": "markdown",
   "metadata": {
    "colab_type": "text",
    "id": "fqlvtyxv9Txm"
   },
   "source": [
    "### **LightGBM Classifier Model**"
   ]
  },
  {
   "cell_type": "markdown",
   "metadata": {
    "colab_type": "text",
    "id": "gCTTVCsI9Txp"
   },
   "source": [
    "plain model without CV"
   ]
  },
  {
   "cell_type": "code",
   "execution_count": 17,
   "metadata": {
    "colab": {
     "base_uri": "https://localhost:8080/",
     "height": 162
    },
    "colab_type": "code",
    "id": "BvBwio089Txp",
    "outputId": "3a441def-1b6b-4327-bd4f-fcf6bb2009fb"
   },
   "outputs": [
    {
     "data": {
      "text/plain": [
       "LGBMClassifier(boosting_type='gbdt', class_weight=None, colsample_bytree=1.0,\n",
       "               importance_type='split', learning_rate=0.1, max_depth=-1,\n",
       "               min_child_samples=20, min_child_weight=0.001, min_split_gain=0.0,\n",
       "               n_estimators=100, n_jobs=-1, num_leaves=31, objective=None,\n",
       "               random_state=0, reg_alpha=0.0, reg_lambda=0.0, silent=True,\n",
       "               subsample=1.0, subsample_for_bin=200000, subsample_freq=0)"
      ]
     },
     "execution_count": 17,
     "metadata": {},
     "output_type": "execute_result"
    }
   ],
   "source": [
    "#!pip install lightgbm\n",
    "\n",
    "from lightgbm import LGBMClassifier\n",
    "clf_lgb = LGBMClassifier(random_state=0, n_jobs=-1)\n",
    "clf_lgb.fit(X_train, y_train)"
   ]
  },
  {
   "cell_type": "code",
   "execution_count": 18,
   "metadata": {
    "colab": {
     "base_uri": "https://localhost:8080/",
     "height": 53
    },
    "colab_type": "code",
    "id": "jsdlcosd9Txr",
    "outputId": "4735e9b3-d2b8-4dd9-f8e8-65e2b86c3588"
   },
   "outputs": [
    {
     "name": "stdout",
     "output_type": "stream",
     "text": [
      "LightGBM Model Training Accuracy w/o CV: 0.917\n",
      "LightGBM Model Test Accuracy w/o CV: 0.860\n"
     ]
    }
   ],
   "source": [
    "print('LightGBM Model Training Accuracy w/o CV: %.3f' % clf_lgb.score(X_train, y_train))\n",
    "print('LightGBM Model Test Accuracy w/o CV: %.3f' % clf_lgb.score(X_test, y_test))"
   ]
  },
  {
   "cell_type": "markdown",
   "metadata": {
    "colab_type": "text",
    "id": "I8MWz6LMn7_w"
   },
   "source": [
    "Hyperparameter Tuning via CV"
   ]
  },
  {
   "cell_type": "code",
   "execution_count": 0,
   "metadata": {
    "colab": {},
    "colab_type": "code",
    "id": "FLq1_WhfqRx0"
   },
   "outputs": [],
   "source": [
    "param_lgb = [{'reg_alpha': [0.0, 0.25, 0.5, 0.75, 1.0],\n",
    "              'reg_lambda': [0.0, 0.25, 0.5, 0.75, 1.0],\n",
    "              'n_estimators': [100, 300, 500, 1000]}]"
   ]
  },
  {
   "cell_type": "code",
   "execution_count": 123,
   "metadata": {
    "colab": {
     "base_uri": "https://localhost:8080/",
     "height": 470
    },
    "colab_type": "code",
    "id": "MPKantr-rjZk",
    "outputId": "c7f478b1-f71e-427c-91ba-8e523500a54f"
   },
   "outputs": [
    {
     "name": "stdout",
     "output_type": "stream",
     "text": [
      "Fitting 5 folds for each of 100 candidates, totalling 500 fits\n"
     ]
    },
    {
     "name": "stderr",
     "output_type": "stream",
     "text": [
      "[Parallel(n_jobs=16)]: Using backend LokyBackend with 16 concurrent workers.\n",
      "[Parallel(n_jobs=16)]: Done   9 tasks      | elapsed:  1.6min\n",
      "[Parallel(n_jobs=16)]: Done 130 tasks      | elapsed: 11.3min\n",
      "[Parallel(n_jobs=16)]: Done 333 tasks      | elapsed: 47.6min\n",
      "[Parallel(n_jobs=16)]: Done 500 out of 500 | elapsed: 94.4min finished\n"
     ]
    },
    {
     "data": {
      "text/plain": [
       "GridSearchCV(cv=5, error_score=nan,\n",
       "             estimator=LGBMClassifier(boosting_type='gbdt', class_weight=None,\n",
       "                                      colsample_bytree=1.0,\n",
       "                                      importance_type='split',\n",
       "                                      learning_rate=0.1, max_depth=-1,\n",
       "                                      min_child_samples=20,\n",
       "                                      min_child_weight=0.001,\n",
       "                                      min_split_gain=0.0, n_estimators=100,\n",
       "                                      n_jobs=-1, num_leaves=31, objective=None,\n",
       "                                      random_state=0, reg_alpha=0.0,\n",
       "                                      reg_lambda=0.0, silent=True,\n",
       "                                      subsample=1.0, subsample_for_bin=200000,\n",
       "                                      subsample_freq=0),\n",
       "             iid='deprecated', n_jobs=16,\n",
       "             param_grid=[{'n_estimators': [100, 300, 500, 1000],\n",
       "                          'reg_alpha': [0.0, 0.25, 0.5, 0.75, 1.0],\n",
       "                          'reg_lambda': [0.0, 0.25, 0.5, 0.75, 1.0]}],\n",
       "             pre_dispatch='2*n_jobs', refit=True, return_train_score=False,\n",
       "             scoring=None, verbose=2)"
      ]
     },
     "execution_count": 123,
     "metadata": {
      "tags": []
     },
     "output_type": "execute_result"
    }
   ],
   "source": [
    "gs_lgb = GridSearchCV(LGBMClassifier(random_state = 0), param_lgb, cv=5, verbose = 2, n_jobs = 16)\n",
    "gs_lgb.fit(X_train, y_train)"
   ]
  },
  {
   "cell_type": "code",
   "execution_count": 125,
   "metadata": {
    "colab": {
     "base_uri": "https://localhost:8080/",
     "height": 35
    },
    "colab_type": "code",
    "id": "es8_dZJXhoEk",
    "outputId": "71403211-e2fa-4d32-94d3-2751dd0aa27b"
   },
   "outputs": [
    {
     "name": "stdout",
     "output_type": "stream",
     "text": [
      "{'reg_alpha': 0.0, 'reg_lambda': 0.5, 'n_estimators': 1000}\n"
     ]
    }
   ],
   "source": [
    "print(gs_lgb.best_params_)"
   ]
  },
  {
   "cell_type": "code",
   "execution_count": 124,
   "metadata": {
    "colab": {
     "base_uri": "https://localhost:8080/",
     "height": 53
    },
    "colab_type": "code",
    "id": "-4lRiF8K-P83",
    "outputId": "a40353c5-0b99-41c3-a6d0-0ac44b02924a"
   },
   "outputs": [
    {
     "name": "stdout",
     "output_type": "stream",
     "text": [
      "LightGBM Model Training Accuracy with CV: 1.000\n",
      "LightGBM Model Test Accuracy with CV: 0.882\n"
     ]
    }
   ],
   "source": [
    "print('LightGBM Model Training Accuracy with CV: %.3f' % gs_lgb.score(X_train, y_train))\n",
    "print('LightGBM Model Test Accuracy with CV: %.3f' % gs_lgb.score(X_test, y_test))"
   ]
  },
  {
   "cell_type": "markdown",
   "metadata": {
    "colab_type": "text",
    "id": "nD71xvpp1y8J"
   },
   "source": [
    "### **RandomForest Classifier Model**"
   ]
  },
  {
   "cell_type": "markdown",
   "metadata": {
    "colab_type": "text",
    "id": "3W-a--ar1y8K"
   },
   "source": [
    "plain model without CV"
   ]
  },
  {
   "cell_type": "code",
   "execution_count": 251,
   "metadata": {
    "colab": {
     "base_uri": "https://localhost:8080/",
     "height": 198
    },
    "colab_type": "code",
    "id": "3IL9Fhvd1y8L",
    "outputId": "27a7a112-b2dd-4482-e016-7a19bebd8430"
   },
   "outputs": [
    {
     "name": "stdout",
     "output_type": "stream",
     "text": [
      "CPU times: user 2h 12min 41s, sys: 1.26 s, total: 2h 12min 43s\n",
      "Wall time: 2min 14s\n"
     ]
    },
    {
     "data": {
      "text/plain": [
       "RandomForestClassifier(bootstrap=True, ccp_alpha=0.0005, class_weight=None,\n",
       "                       criterion='gini', max_depth=None, max_features='auto',\n",
       "                       max_leaf_nodes=None, max_samples=None,\n",
       "                       min_impurity_decrease=0.0, min_impurity_split=None,\n",
       "                       min_samples_leaf=1, min_samples_split=5,\n",
       "                       min_weight_fraction_leaf=0.0, n_estimators=500,\n",
       "                       n_jobs=-1, oob_score=False, random_state=0, verbose=0,\n",
       "                       warm_start=False)"
      ]
     },
     "execution_count": 251,
     "metadata": {
      "tags": []
     },
     "output_type": "execute_result"
    }
   ],
   "source": [
    "%%time\n",
    "from sklearn.ensemble import RandomForestClassifier\n",
    "clf_rf = RandomForestClassifier(random_state=0, n_jobs = -1,\n",
    "                                min_samples_split = 5,\n",
    "                                ccp_alpha = 0.0005,\n",
    "                                n_estimators = 500)\n",
    "clf_rf.fit(X_train, y_train)"
   ]
  },
  {
   "cell_type": "code",
   "execution_count": 252,
   "metadata": {
    "colab": {
     "base_uri": "https://localhost:8080/",
     "height": 53
    },
    "colab_type": "code",
    "id": "4PoS6t1Q1y8N",
    "outputId": "8d0e7825-dafd-444c-a3a6-002e6ab496bf"
   },
   "outputs": [
    {
     "name": "stdout",
     "output_type": "stream",
     "text": [
      "Random Forest Model Training Accuracy w/o CV: 0.876\n",
      "Random Forest Model Test Accuracy w/o CV: 0.851\n"
     ]
    }
   ],
   "source": [
    "print('Random Forest Model Training Accuracy w/o CV: %.3f' % clf_rf.score(X_train, y_train))\n",
    "print('Random Forest Model Test Accuracy w/o CV: %.3f' % clf_rf.score(X_test, y_test))"
   ]
  },
  {
   "cell_type": "code",
   "execution_count": 19,
   "metadata": {},
   "outputs": [
    {
     "name": "stdout",
     "output_type": "stream",
     "text": [
      "Collecting catboost\n",
      "  Downloading catboost-0.24.2-cp37-none-win_amd64.whl (65.3 MB)\n",
      "Requirement already satisfied: matplotlib in c:\\users\\ysp\\anaconda3\\lib\\site-packages (from catboost) (3.1.3)\n",
      "Requirement already satisfied: graphviz in c:\\users\\ysp\\anaconda3\\lib\\site-packages (from catboost) (0.14)\n",
      "Requirement already satisfied: scipy in c:\\users\\ysp\\anaconda3\\lib\\site-packages (from catboost) (1.4.1)\n",
      "Requirement already satisfied: pandas>=0.24.0 in c:\\users\\ysp\\anaconda3\\lib\\site-packages (from catboost) (1.0.1)\n",
      "Requirement already satisfied: numpy>=1.16.0 in c:\\users\\ysp\\anaconda3\\lib\\site-packages (from catboost) (1.18.1)\n",
      "Collecting plotly\n",
      "  Downloading plotly-4.12.0-py2.py3-none-any.whl (13.1 MB)\n",
      "Requirement already satisfied: six in c:\\users\\ysp\\anaconda3\\lib\\site-packages (from catboost) (1.14.0)\n",
      "Requirement already satisfied: cycler>=0.10 in c:\\users\\ysp\\anaconda3\\lib\\site-packages (from matplotlib->catboost) (0.10.0)\n",
      "Requirement already satisfied: pyparsing!=2.0.4,!=2.1.2,!=2.1.6,>=2.0.1 in c:\\users\\ysp\\anaconda3\\lib\\site-packages (from matplotlib->catboost) (2.4.6)\n",
      "Requirement already satisfied: python-dateutil>=2.1 in c:\\users\\ysp\\anaconda3\\lib\\site-packages (from matplotlib->catboost) (2.8.1)\n",
      "Requirement already satisfied: kiwisolver>=1.0.1 in c:\\users\\ysp\\anaconda3\\lib\\site-packages (from matplotlib->catboost) (1.1.0)\n",
      "Requirement already satisfied: pytz>=2017.2 in c:\\users\\ysp\\anaconda3\\lib\\site-packages (from pandas>=0.24.0->catboost) (2019.3)\n",
      "Collecting retrying>=1.3.3\n",
      "  Downloading retrying-1.3.3.tar.gz (10 kB)\n",
      "Requirement already satisfied: setuptools in c:\\users\\ysp\\anaconda3\\lib\\site-packages (from kiwisolver>=1.0.1->matplotlib->catboost) (45.2.0.post20200210)\n",
      "Building wheels for collected packages: retrying\n",
      "  Building wheel for retrying (setup.py): started\n",
      "  Building wheel for retrying (setup.py): finished with status 'done'\n",
      "  Created wheel for retrying: filename=retrying-1.3.3-py3-none-any.whl size=11435 sha256=cd7ff7a5655bb6ebb56c3f96931782bc36cea917a6ed7ef970b9c36c982fb37e\n",
      "  Stored in directory: c:\\users\\ysp\\appdata\\local\\pip\\cache\\wheels\\f9\\8d\\8d\\f6af3f7f9eea3553bc2fe6d53e4b287dad18b06a861ac56ddf\n",
      "Successfully built retrying\n",
      "Installing collected packages: retrying, plotly, catboost\n",
      "Successfully installed catboost-0.24.2 plotly-4.12.0 retrying-1.3.3\n"
     ]
    }
   ],
   "source": [
    "!pip install catboost"
   ]
  },
  {
   "cell_type": "code",
   "execution_count": 24,
   "metadata": {},
   "outputs": [
    {
     "name": "stdout",
     "output_type": "stream",
     "text": [
      "Learning rate set to 0.070178\n",
      "0:\tlearn: 0.6718801\ttest: 0.6719765\tbest: 0.6719765 (0)\ttotal: 1.87s\tremaining: 31m 13s\n",
      "1:\tlearn: 0.6545883\ttest: 0.6544205\tbest: 0.6544205 (1)\ttotal: 2.2s\tremaining: 18m 16s\n",
      "2:\tlearn: 0.6390135\ttest: 0.6388336\tbest: 0.6388336 (2)\ttotal: 2.48s\tremaining: 13m 45s\n",
      "3:\tlearn: 0.6258050\ttest: 0.6259080\tbest: 0.6259080 (3)\ttotal: 2.76s\tremaining: 11m 27s\n",
      "4:\tlearn: 0.6137331\ttest: 0.6138247\tbest: 0.6138247 (4)\ttotal: 3.04s\tremaining: 10m 4s\n",
      "5:\tlearn: 0.6038948\ttest: 0.6043384\tbest: 0.6043384 (5)\ttotal: 3.32s\tremaining: 9m 9s\n",
      "6:\tlearn: 0.5949607\ttest: 0.5953702\tbest: 0.5953702 (6)\ttotal: 3.6s\tremaining: 8m 30s\n",
      "7:\tlearn: 0.5869366\ttest: 0.5873902\tbest: 0.5873902 (7)\ttotal: 3.87s\tremaining: 7m 59s\n",
      "8:\tlearn: 0.5799687\ttest: 0.5805147\tbest: 0.5805147 (8)\ttotal: 4.15s\tremaining: 7m 36s\n",
      "9:\tlearn: 0.5743894\ttest: 0.5751129\tbest: 0.5751129 (9)\ttotal: 4.42s\tremaining: 7m 18s\n",
      "10:\tlearn: 0.5686241\ttest: 0.5694298\tbest: 0.5694298 (10)\ttotal: 4.7s\tremaining: 7m 2s\n",
      "11:\tlearn: 0.5623442\ttest: 0.5632868\tbest: 0.5632868 (11)\ttotal: 4.97s\tremaining: 6m 49s\n",
      "12:\tlearn: 0.5576109\ttest: 0.5587677\tbest: 0.5587677 (12)\ttotal: 5.24s\tremaining: 6m 38s\n",
      "13:\tlearn: 0.5530129\ttest: 0.5542721\tbest: 0.5542721 (13)\ttotal: 5.52s\tremaining: 6m 28s\n",
      "14:\tlearn: 0.5489231\ttest: 0.5504178\tbest: 0.5504178 (14)\ttotal: 5.79s\tremaining: 6m 20s\n",
      "15:\tlearn: 0.5440172\ttest: 0.5455598\tbest: 0.5455598 (15)\ttotal: 6.06s\tremaining: 6m 12s\n",
      "16:\tlearn: 0.5402001\ttest: 0.5420151\tbest: 0.5420151 (16)\ttotal: 6.34s\tremaining: 6m 6s\n",
      "17:\tlearn: 0.5360212\ttest: 0.5382110\tbest: 0.5382110 (17)\ttotal: 6.61s\tremaining: 6m\n",
      "18:\tlearn: 0.5328717\ttest: 0.5350489\tbest: 0.5350489 (18)\ttotal: 6.89s\tremaining: 5m 55s\n",
      "19:\tlearn: 0.5289488\ttest: 0.5314776\tbest: 0.5314776 (19)\ttotal: 7.16s\tremaining: 5m 50s\n",
      "20:\tlearn: 0.5256067\ttest: 0.5282890\tbest: 0.5282890 (20)\ttotal: 7.44s\tremaining: 5m 46s\n",
      "21:\tlearn: 0.5224311\ttest: 0.5253007\tbest: 0.5253007 (21)\ttotal: 7.71s\tremaining: 5m 42s\n",
      "22:\tlearn: 0.5191491\ttest: 0.5221935\tbest: 0.5221935 (22)\ttotal: 7.99s\tremaining: 5m 39s\n",
      "23:\tlearn: 0.5164340\ttest: 0.5195892\tbest: 0.5195892 (23)\ttotal: 8.26s\tremaining: 5m 35s\n",
      "24:\tlearn: 0.5135011\ttest: 0.5167863\tbest: 0.5167863 (24)\ttotal: 8.54s\tremaining: 5m 32s\n",
      "25:\tlearn: 0.5106443\ttest: 0.5140192\tbest: 0.5140192 (25)\ttotal: 8.81s\tremaining: 5m 29s\n",
      "26:\tlearn: 0.5078208\ttest: 0.5113558\tbest: 0.5113558 (26)\ttotal: 9.08s\tremaining: 5m 27s\n",
      "27:\tlearn: 0.5049773\ttest: 0.5084618\tbest: 0.5084618 (27)\ttotal: 9.35s\tremaining: 5m 24s\n",
      "28:\tlearn: 0.5026454\ttest: 0.5063610\tbest: 0.5063610 (28)\ttotal: 9.63s\tremaining: 5m 22s\n",
      "29:\tlearn: 0.5002693\ttest: 0.5040666\tbest: 0.5040666 (29)\ttotal: 9.9s\tremaining: 5m 20s\n",
      "30:\tlearn: 0.4978921\ttest: 0.5016702\tbest: 0.5016702 (30)\ttotal: 10.2s\tremaining: 5m 17s\n",
      "31:\tlearn: 0.4953876\ttest: 0.4994268\tbest: 0.4994268 (31)\ttotal: 10.4s\tremaining: 5m 15s\n",
      "32:\tlearn: 0.4929506\ttest: 0.4971919\tbest: 0.4971919 (32)\ttotal: 10.7s\tremaining: 5m 14s\n",
      "33:\tlearn: 0.4905209\ttest: 0.4948745\tbest: 0.4948745 (33)\ttotal: 11s\tremaining: 5m 12s\n",
      "34:\tlearn: 0.4883923\ttest: 0.4927689\tbest: 0.4927689 (34)\ttotal: 11.3s\tremaining: 5m 10s\n",
      "35:\tlearn: 0.4862486\ttest: 0.4907717\tbest: 0.4907717 (35)\ttotal: 11.5s\tremaining: 5m 8s\n",
      "36:\tlearn: 0.4840861\ttest: 0.4889635\tbest: 0.4889635 (36)\ttotal: 11.8s\tremaining: 5m 7s\n",
      "37:\tlearn: 0.4821299\ttest: 0.4871741\tbest: 0.4871741 (37)\ttotal: 12.1s\tremaining: 5m 5s\n",
      "38:\tlearn: 0.4803220\ttest: 0.4855479\tbest: 0.4855479 (38)\ttotal: 12.3s\tremaining: 5m 4s\n",
      "39:\tlearn: 0.4784402\ttest: 0.4838605\tbest: 0.4838605 (39)\ttotal: 12.6s\tremaining: 5m 2s\n",
      "40:\tlearn: 0.4764146\ttest: 0.4820539\tbest: 0.4820539 (40)\ttotal: 12.9s\tremaining: 5m 1s\n",
      "41:\tlearn: 0.4744135\ttest: 0.4801500\tbest: 0.4801500 (41)\ttotal: 13.2s\tremaining: 5m\n",
      "42:\tlearn: 0.4723854\ttest: 0.4780105\tbest: 0.4780105 (42)\ttotal: 13.4s\tremaining: 4m 58s\n",
      "43:\tlearn: 0.4704009\ttest: 0.4762643\tbest: 0.4762643 (43)\ttotal: 13.7s\tremaining: 4m 57s\n",
      "44:\tlearn: 0.4686306\ttest: 0.4745975\tbest: 0.4745975 (44)\ttotal: 14s\tremaining: 4m 56s\n",
      "45:\tlearn: 0.4667428\ttest: 0.4728339\tbest: 0.4728339 (45)\ttotal: 14.2s\tremaining: 4m 55s\n",
      "46:\tlearn: 0.4649350\ttest: 0.4710470\tbest: 0.4710470 (46)\ttotal: 14.5s\tremaining: 4m 54s\n",
      "47:\tlearn: 0.4633582\ttest: 0.4697002\tbest: 0.4697002 (47)\ttotal: 14.8s\tremaining: 4m 53s\n",
      "48:\tlearn: 0.4614772\ttest: 0.4679358\tbest: 0.4679358 (48)\ttotal: 15.1s\tremaining: 4m 52s\n",
      "49:\tlearn: 0.4598626\ttest: 0.4664181\tbest: 0.4664181 (49)\ttotal: 15.3s\tremaining: 4m 51s\n",
      "50:\tlearn: 0.4586905\ttest: 0.4654597\tbest: 0.4654597 (50)\ttotal: 15.6s\tremaining: 4m 50s\n",
      "51:\tlearn: 0.4571613\ttest: 0.4641239\tbest: 0.4641239 (51)\ttotal: 15.9s\tremaining: 4m 49s\n",
      "52:\tlearn: 0.4556091\ttest: 0.4626135\tbest: 0.4626135 (52)\ttotal: 16.2s\tremaining: 4m 48s\n",
      "53:\tlearn: 0.4540045\ttest: 0.4612477\tbest: 0.4612477 (53)\ttotal: 16.4s\tremaining: 4m 48s\n",
      "54:\tlearn: 0.4524087\ttest: 0.4597737\tbest: 0.4597737 (54)\ttotal: 16.7s\tremaining: 4m 47s\n",
      "55:\tlearn: 0.4509942\ttest: 0.4585012\tbest: 0.4585012 (55)\ttotal: 17s\tremaining: 4m 46s\n",
      "56:\tlearn: 0.4494946\ttest: 0.4569793\tbest: 0.4569793 (56)\ttotal: 17.3s\tremaining: 4m 46s\n",
      "57:\tlearn: 0.4484235\ttest: 0.4561227\tbest: 0.4561227 (57)\ttotal: 17.6s\tremaining: 4m 45s\n",
      "58:\tlearn: 0.4470829\ttest: 0.4549209\tbest: 0.4549209 (58)\ttotal: 17.9s\tremaining: 4m 45s\n",
      "59:\tlearn: 0.4457309\ttest: 0.4535763\tbest: 0.4535763 (59)\ttotal: 18.2s\tremaining: 4m 44s\n",
      "60:\tlearn: 0.4441757\ttest: 0.4521741\tbest: 0.4521741 (60)\ttotal: 18.4s\tremaining: 4m 43s\n",
      "61:\tlearn: 0.4430697\ttest: 0.4512247\tbest: 0.4512247 (61)\ttotal: 18.7s\tremaining: 4m 42s\n",
      "62:\tlearn: 0.4417512\ttest: 0.4500098\tbest: 0.4500098 (62)\ttotal: 19s\tremaining: 4m 42s\n",
      "63:\tlearn: 0.4405295\ttest: 0.4489301\tbest: 0.4489301 (63)\ttotal: 19.2s\tremaining: 4m 41s\n",
      "64:\tlearn: 0.4392997\ttest: 0.4478564\tbest: 0.4478564 (64)\ttotal: 19.5s\tremaining: 4m 40s\n",
      "65:\tlearn: 0.4379934\ttest: 0.4466606\tbest: 0.4466606 (65)\ttotal: 19.8s\tremaining: 4m 39s\n",
      "66:\tlearn: 0.4367961\ttest: 0.4456845\tbest: 0.4456845 (66)\ttotal: 20s\tremaining: 4m 39s\n",
      "67:\tlearn: 0.4357405\ttest: 0.4447938\tbest: 0.4447938 (67)\ttotal: 20.3s\tremaining: 4m 38s\n",
      "68:\tlearn: 0.4346208\ttest: 0.4437522\tbest: 0.4437522 (68)\ttotal: 20.6s\tremaining: 4m 37s\n",
      "69:\tlearn: 0.4335349\ttest: 0.4428726\tbest: 0.4428726 (69)\ttotal: 20.9s\tremaining: 4m 37s\n",
      "70:\tlearn: 0.4322108\ttest: 0.4415891\tbest: 0.4415891 (70)\ttotal: 21.1s\tremaining: 4m 36s\n",
      "71:\tlearn: 0.4312357\ttest: 0.4407217\tbest: 0.4407217 (71)\ttotal: 21.4s\tremaining: 4m 35s\n",
      "72:\tlearn: 0.4300913\ttest: 0.4397272\tbest: 0.4397272 (72)\ttotal: 21.7s\tremaining: 4m 35s\n",
      "73:\tlearn: 0.4290291\ttest: 0.4389112\tbest: 0.4389112 (73)\ttotal: 21.9s\tremaining: 4m 34s\n",
      "74:\tlearn: 0.4279461\ttest: 0.4378104\tbest: 0.4378104 (74)\ttotal: 22.2s\tremaining: 4m 34s\n",
      "75:\tlearn: 0.4268805\ttest: 0.4368514\tbest: 0.4368514 (75)\ttotal: 22.5s\tremaining: 4m 33s\n",
      "76:\tlearn: 0.4258100\ttest: 0.4359225\tbest: 0.4359225 (76)\ttotal: 22.8s\tremaining: 4m 32s\n",
      "77:\tlearn: 0.4248662\ttest: 0.4351194\tbest: 0.4351194 (77)\ttotal: 23s\tremaining: 4m 32s\n",
      "78:\tlearn: 0.4238708\ttest: 0.4343117\tbest: 0.4343117 (78)\ttotal: 23.3s\tremaining: 4m 31s\n",
      "79:\tlearn: 0.4229426\ttest: 0.4334189\tbest: 0.4334189 (79)\ttotal: 23.6s\tremaining: 4m 31s\n",
      "80:\tlearn: 0.4219367\ttest: 0.4325432\tbest: 0.4325432 (80)\ttotal: 23.8s\tremaining: 4m 30s\n",
      "81:\tlearn: 0.4207662\ttest: 0.4315578\tbest: 0.4315578 (81)\ttotal: 24.1s\tremaining: 4m 29s\n",
      "82:\tlearn: 0.4196066\ttest: 0.4304749\tbest: 0.4304749 (82)\ttotal: 24.4s\tremaining: 4m 29s\n",
      "83:\tlearn: 0.4185859\ttest: 0.4295564\tbest: 0.4295564 (83)\ttotal: 24.7s\tremaining: 4m 28s\n",
      "84:\tlearn: 0.4176257\ttest: 0.4286099\tbest: 0.4286099 (84)\ttotal: 24.9s\tremaining: 4m 28s\n",
      "85:\tlearn: 0.4167637\ttest: 0.4277724\tbest: 0.4277724 (85)\ttotal: 25.2s\tremaining: 4m 27s\n",
      "86:\tlearn: 0.4158396\ttest: 0.4268449\tbest: 0.4268449 (86)\ttotal: 25.5s\tremaining: 4m 27s\n",
      "87:\tlearn: 0.4148823\ttest: 0.4260094\tbest: 0.4260094 (87)\ttotal: 25.7s\tremaining: 4m 26s\n",
      "88:\tlearn: 0.4139059\ttest: 0.4251912\tbest: 0.4251912 (88)\ttotal: 26s\tremaining: 4m 26s\n",
      "89:\tlearn: 0.4130013\ttest: 0.4244478\tbest: 0.4244478 (89)\ttotal: 26.3s\tremaining: 4m 25s\n",
      "90:\tlearn: 0.4120922\ttest: 0.4236632\tbest: 0.4236632 (90)\ttotal: 26.6s\tremaining: 4m 25s\n",
      "91:\tlearn: 0.4112441\ttest: 0.4229928\tbest: 0.4229928 (91)\ttotal: 26.8s\tremaining: 4m 24s\n",
      "92:\tlearn: 0.4103629\ttest: 0.4222586\tbest: 0.4222586 (92)\ttotal: 27.1s\tremaining: 4m 24s\n"
     ]
    },
    {
     "name": "stdout",
     "output_type": "stream",
     "text": [
      "93:\tlearn: 0.4095653\ttest: 0.4215495\tbest: 0.4215495 (93)\ttotal: 27.4s\tremaining: 4m 23s\n",
      "94:\tlearn: 0.4088448\ttest: 0.4208086\tbest: 0.4208086 (94)\ttotal: 27.6s\tremaining: 4m 23s\n",
      "95:\tlearn: 0.4080315\ttest: 0.4200745\tbest: 0.4200745 (95)\ttotal: 27.9s\tremaining: 4m 22s\n",
      "96:\tlearn: 0.4071796\ttest: 0.4194291\tbest: 0.4194291 (96)\ttotal: 28.2s\tremaining: 4m 22s\n",
      "97:\tlearn: 0.4064440\ttest: 0.4189138\tbest: 0.4189138 (97)\ttotal: 28.5s\tremaining: 4m 21s\n",
      "98:\tlearn: 0.4056144\ttest: 0.4181019\tbest: 0.4181019 (98)\ttotal: 28.7s\tremaining: 4m 21s\n",
      "99:\tlearn: 0.4048329\ttest: 0.4175547\tbest: 0.4175547 (99)\ttotal: 29s\tremaining: 4m 21s\n",
      "100:\tlearn: 0.4040056\ttest: 0.4169212\tbest: 0.4169212 (100)\ttotal: 29.3s\tremaining: 4m 20s\n",
      "101:\tlearn: 0.4033179\ttest: 0.4163268\tbest: 0.4163268 (101)\ttotal: 29.6s\tremaining: 4m 20s\n",
      "102:\tlearn: 0.4025516\ttest: 0.4156199\tbest: 0.4156199 (102)\ttotal: 29.8s\tremaining: 4m 19s\n",
      "103:\tlearn: 0.4017691\ttest: 0.4149699\tbest: 0.4149699 (103)\ttotal: 30.1s\tremaining: 4m 19s\n",
      "104:\tlearn: 0.4008727\ttest: 0.4142358\tbest: 0.4142358 (104)\ttotal: 30.4s\tremaining: 4m 19s\n",
      "105:\tlearn: 0.4001291\ttest: 0.4135646\tbest: 0.4135646 (105)\ttotal: 30.7s\tremaining: 4m 18s\n",
      "106:\tlearn: 0.3994403\ttest: 0.4128981\tbest: 0.4128981 (106)\ttotal: 30.9s\tremaining: 4m 18s\n",
      "107:\tlearn: 0.3986938\ttest: 0.4122388\tbest: 0.4122388 (107)\ttotal: 31.2s\tremaining: 4m 17s\n",
      "108:\tlearn: 0.3980410\ttest: 0.4115976\tbest: 0.4115976 (108)\ttotal: 31.5s\tremaining: 4m 17s\n",
      "109:\tlearn: 0.3973547\ttest: 0.4109907\tbest: 0.4109907 (109)\ttotal: 31.8s\tremaining: 4m 16s\n",
      "110:\tlearn: 0.3966608\ttest: 0.4103238\tbest: 0.4103238 (110)\ttotal: 32s\tremaining: 4m 16s\n",
      "111:\tlearn: 0.3959504\ttest: 0.4096760\tbest: 0.4096760 (111)\ttotal: 32.3s\tremaining: 4m 16s\n",
      "112:\tlearn: 0.3953250\ttest: 0.4091278\tbest: 0.4091278 (112)\ttotal: 32.6s\tremaining: 4m 15s\n",
      "113:\tlearn: 0.3946794\ttest: 0.4085818\tbest: 0.4085818 (113)\ttotal: 32.9s\tremaining: 4m 15s\n",
      "114:\tlearn: 0.3940233\ttest: 0.4080159\tbest: 0.4080159 (114)\ttotal: 33.2s\tremaining: 4m 15s\n",
      "115:\tlearn: 0.3933571\ttest: 0.4075113\tbest: 0.4075113 (115)\ttotal: 33.5s\tremaining: 4m 15s\n",
      "116:\tlearn: 0.3927004\ttest: 0.4070104\tbest: 0.4070104 (116)\ttotal: 33.8s\tremaining: 4m 14s\n",
      "117:\tlearn: 0.3919896\ttest: 0.4064193\tbest: 0.4064193 (117)\ttotal: 34s\tremaining: 4m 14s\n",
      "118:\tlearn: 0.3913310\ttest: 0.4058153\tbest: 0.4058153 (118)\ttotal: 34.3s\tremaining: 4m 13s\n",
      "119:\tlearn: 0.3906324\ttest: 0.4052666\tbest: 0.4052666 (119)\ttotal: 34.6s\tremaining: 4m 13s\n",
      "120:\tlearn: 0.3899251\ttest: 0.4047253\tbest: 0.4047253 (120)\ttotal: 34.9s\tremaining: 4m 13s\n",
      "121:\tlearn: 0.3892175\ttest: 0.4041667\tbest: 0.4041667 (121)\ttotal: 35.1s\tremaining: 4m 12s\n",
      "122:\tlearn: 0.3887055\ttest: 0.4037153\tbest: 0.4037153 (122)\ttotal: 35.4s\tremaining: 4m 12s\n",
      "123:\tlearn: 0.3881735\ttest: 0.4032769\tbest: 0.4032769 (123)\ttotal: 35.7s\tremaining: 4m 12s\n",
      "124:\tlearn: 0.3875197\ttest: 0.4027119\tbest: 0.4027119 (124)\ttotal: 36s\tremaining: 4m 11s\n",
      "125:\tlearn: 0.3869627\ttest: 0.4022574\tbest: 0.4022574 (125)\ttotal: 36.2s\tremaining: 4m 11s\n",
      "126:\tlearn: 0.3863102\ttest: 0.4017182\tbest: 0.4017182 (126)\ttotal: 36.5s\tremaining: 4m 10s\n",
      "127:\tlearn: 0.3857207\ttest: 0.4011887\tbest: 0.4011887 (127)\ttotal: 36.8s\tremaining: 4m 10s\n",
      "128:\tlearn: 0.3850854\ttest: 0.4006710\tbest: 0.4006710 (128)\ttotal: 37.1s\tremaining: 4m 10s\n",
      "129:\tlearn: 0.3843539\ttest: 0.4001075\tbest: 0.4001075 (129)\ttotal: 37.3s\tremaining: 4m 9s\n",
      "130:\tlearn: 0.3837345\ttest: 0.3996168\tbest: 0.3996168 (130)\ttotal: 37.6s\tremaining: 4m 9s\n",
      "131:\tlearn: 0.3831448\ttest: 0.3991365\tbest: 0.3991365 (131)\ttotal: 37.9s\tremaining: 4m 9s\n",
      "132:\tlearn: 0.3825346\ttest: 0.3985320\tbest: 0.3985320 (132)\ttotal: 38.2s\tremaining: 4m 9s\n",
      "133:\tlearn: 0.3819383\ttest: 0.3980991\tbest: 0.3980991 (133)\ttotal: 38.5s\tremaining: 4m 8s\n",
      "134:\tlearn: 0.3811479\ttest: 0.3974155\tbest: 0.3974155 (134)\ttotal: 38.8s\tremaining: 4m 8s\n",
      "135:\tlearn: 0.3805833\ttest: 0.3968965\tbest: 0.3968965 (135)\ttotal: 39.1s\tremaining: 4m 8s\n",
      "136:\tlearn: 0.3799812\ttest: 0.3963524\tbest: 0.3963524 (136)\ttotal: 39.4s\tremaining: 4m 8s\n",
      "137:\tlearn: 0.3793723\ttest: 0.3958833\tbest: 0.3958833 (137)\ttotal: 39.7s\tremaining: 4m 7s\n",
      "138:\tlearn: 0.3787963\ttest: 0.3953775\tbest: 0.3953775 (138)\ttotal: 40s\tremaining: 4m 7s\n",
      "139:\tlearn: 0.3782461\ttest: 0.3948559\tbest: 0.3948559 (139)\ttotal: 40.2s\tremaining: 4m 7s\n",
      "140:\tlearn: 0.3775374\ttest: 0.3943657\tbest: 0.3943657 (140)\ttotal: 40.5s\tremaining: 4m 6s\n",
      "141:\tlearn: 0.3769396\ttest: 0.3938772\tbest: 0.3938772 (141)\ttotal: 40.8s\tremaining: 4m 6s\n",
      "142:\tlearn: 0.3763543\ttest: 0.3933041\tbest: 0.3933041 (142)\ttotal: 41.1s\tremaining: 4m 6s\n",
      "143:\tlearn: 0.3756568\ttest: 0.3927842\tbest: 0.3927842 (143)\ttotal: 41.3s\tremaining: 4m 5s\n",
      "144:\tlearn: 0.3748114\ttest: 0.3919690\tbest: 0.3919690 (144)\ttotal: 41.6s\tremaining: 4m 5s\n",
      "145:\tlearn: 0.3742315\ttest: 0.3916117\tbest: 0.3916117 (145)\ttotal: 41.9s\tremaining: 4m 5s\n",
      "146:\tlearn: 0.3735921\ttest: 0.3911712\tbest: 0.3911712 (146)\ttotal: 42.2s\tremaining: 4m 4s\n",
      "147:\tlearn: 0.3728371\ttest: 0.3905158\tbest: 0.3905158 (147)\ttotal: 42.4s\tremaining: 4m 4s\n",
      "148:\tlearn: 0.3722623\ttest: 0.3900627\tbest: 0.3900627 (148)\ttotal: 42.7s\tremaining: 4m 3s\n",
      "149:\tlearn: 0.3717233\ttest: 0.3896706\tbest: 0.3896706 (149)\ttotal: 43s\tremaining: 4m 3s\n",
      "150:\tlearn: 0.3711759\ttest: 0.3892022\tbest: 0.3892022 (150)\ttotal: 43.3s\tremaining: 4m 3s\n",
      "151:\tlearn: 0.3706007\ttest: 0.3888200\tbest: 0.3888200 (151)\ttotal: 43.5s\tremaining: 4m 2s\n",
      "152:\tlearn: 0.3700508\ttest: 0.3884346\tbest: 0.3884346 (152)\ttotal: 43.8s\tremaining: 4m 2s\n",
      "153:\tlearn: 0.3693988\ttest: 0.3879240\tbest: 0.3879240 (153)\ttotal: 44.1s\tremaining: 4m 2s\n",
      "154:\tlearn: 0.3688414\ttest: 0.3875228\tbest: 0.3875228 (154)\ttotal: 44.3s\tremaining: 4m 1s\n",
      "155:\tlearn: 0.3682864\ttest: 0.3871065\tbest: 0.3871065 (155)\ttotal: 44.6s\tremaining: 4m 1s\n",
      "156:\tlearn: 0.3676995\ttest: 0.3866053\tbest: 0.3866053 (156)\ttotal: 44.9s\tremaining: 4m 1s\n",
      "157:\tlearn: 0.3671083\ttest: 0.3860766\tbest: 0.3860766 (157)\ttotal: 45.2s\tremaining: 4m\n",
      "158:\tlearn: 0.3665383\ttest: 0.3856775\tbest: 0.3856775 (158)\ttotal: 45.4s\tremaining: 4m\n",
      "159:\tlearn: 0.3659740\ttest: 0.3852106\tbest: 0.3852106 (159)\ttotal: 45.7s\tremaining: 3m 59s\n",
      "160:\tlearn: 0.3654409\ttest: 0.3848345\tbest: 0.3848345 (160)\ttotal: 46s\tremaining: 3m 59s\n",
      "161:\tlearn: 0.3648928\ttest: 0.3844477\tbest: 0.3844477 (161)\ttotal: 46.2s\tremaining: 3m 59s\n",
      "162:\tlearn: 0.3643151\ttest: 0.3839063\tbest: 0.3839063 (162)\ttotal: 46.5s\tremaining: 3m 58s\n",
      "163:\tlearn: 0.3637458\ttest: 0.3834735\tbest: 0.3834735 (163)\ttotal: 46.8s\tremaining: 3m 58s\n",
      "164:\tlearn: 0.3631788\ttest: 0.3831746\tbest: 0.3831746 (164)\ttotal: 47.1s\tremaining: 3m 58s\n",
      "165:\tlearn: 0.3625918\ttest: 0.3827454\tbest: 0.3827454 (165)\ttotal: 47.3s\tremaining: 3m 57s\n",
      "166:\tlearn: 0.3620820\ttest: 0.3824522\tbest: 0.3824522 (166)\ttotal: 47.6s\tremaining: 3m 57s\n",
      "167:\tlearn: 0.3615094\ttest: 0.3821597\tbest: 0.3821597 (167)\ttotal: 47.9s\tremaining: 3m 57s\n",
      "168:\tlearn: 0.3609442\ttest: 0.3817057\tbest: 0.3817057 (168)\ttotal: 48.1s\tremaining: 3m 56s\n",
      "169:\tlearn: 0.3603646\ttest: 0.3812418\tbest: 0.3812418 (169)\ttotal: 48.4s\tremaining: 3m 56s\n",
      "170:\tlearn: 0.3598290\ttest: 0.3808363\tbest: 0.3808363 (170)\ttotal: 48.7s\tremaining: 3m 56s\n",
      "171:\tlearn: 0.3592100\ttest: 0.3803371\tbest: 0.3803371 (171)\ttotal: 49s\tremaining: 3m 55s\n",
      "172:\tlearn: 0.3585916\ttest: 0.3798288\tbest: 0.3798288 (172)\ttotal: 49.3s\tremaining: 3m 55s\n",
      "173:\tlearn: 0.3580551\ttest: 0.3794650\tbest: 0.3794650 (173)\ttotal: 49.6s\tremaining: 3m 55s\n",
      "174:\tlearn: 0.3574934\ttest: 0.3790820\tbest: 0.3790820 (174)\ttotal: 49.8s\tremaining: 3m 54s\n",
      "175:\tlearn: 0.3569097\ttest: 0.3787004\tbest: 0.3787004 (175)\ttotal: 50.1s\tremaining: 3m 54s\n",
      "176:\tlearn: 0.3564077\ttest: 0.3784321\tbest: 0.3784321 (176)\ttotal: 50.4s\tremaining: 3m 54s\n",
      "177:\tlearn: 0.3558682\ttest: 0.3780602\tbest: 0.3780602 (177)\ttotal: 50.6s\tremaining: 3m 53s\n",
      "178:\tlearn: 0.3553226\ttest: 0.3776619\tbest: 0.3776619 (178)\ttotal: 50.9s\tremaining: 3m 53s\n",
      "179:\tlearn: 0.3547378\ttest: 0.3772456\tbest: 0.3772456 (179)\ttotal: 51.2s\tremaining: 3m 53s\n",
      "180:\tlearn: 0.3541810\ttest: 0.3768551\tbest: 0.3768551 (180)\ttotal: 51.4s\tremaining: 3m 52s\n",
      "181:\tlearn: 0.3536595\ttest: 0.3765031\tbest: 0.3765031 (181)\ttotal: 51.7s\tremaining: 3m 52s\n",
      "182:\tlearn: 0.3531553\ttest: 0.3761968\tbest: 0.3761968 (182)\ttotal: 52s\tremaining: 3m 52s\n",
      "183:\tlearn: 0.3525966\ttest: 0.3757334\tbest: 0.3757334 (183)\ttotal: 52.2s\tremaining: 3m 51s\n"
     ]
    },
    {
     "name": "stdout",
     "output_type": "stream",
     "text": [
      "184:\tlearn: 0.3520300\ttest: 0.3754534\tbest: 0.3754534 (184)\ttotal: 52.5s\tremaining: 3m 51s\n",
      "185:\tlearn: 0.3512284\ttest: 0.3747232\tbest: 0.3747232 (185)\ttotal: 52.8s\tremaining: 3m 51s\n",
      "186:\tlearn: 0.3507121\ttest: 0.3743153\tbest: 0.3743153 (186)\ttotal: 53.1s\tremaining: 3m 50s\n",
      "187:\tlearn: 0.3501479\ttest: 0.3738905\tbest: 0.3738905 (187)\ttotal: 53.3s\tremaining: 3m 50s\n",
      "188:\tlearn: 0.3496423\ttest: 0.3735016\tbest: 0.3735016 (188)\ttotal: 53.6s\tremaining: 3m 49s\n",
      "189:\tlearn: 0.3491650\ttest: 0.3732324\tbest: 0.3732324 (189)\ttotal: 53.9s\tremaining: 3m 49s\n",
      "190:\tlearn: 0.3485741\ttest: 0.3729456\tbest: 0.3729456 (190)\ttotal: 54.1s\tremaining: 3m 49s\n",
      "191:\tlearn: 0.3480630\ttest: 0.3726984\tbest: 0.3726984 (191)\ttotal: 54.4s\tremaining: 3m 48s\n",
      "192:\tlearn: 0.3475337\ttest: 0.3723546\tbest: 0.3723546 (192)\ttotal: 54.7s\tremaining: 3m 48s\n",
      "193:\tlearn: 0.3470372\ttest: 0.3720996\tbest: 0.3720996 (193)\ttotal: 54.9s\tremaining: 3m 48s\n",
      "194:\tlearn: 0.3464348\ttest: 0.3715696\tbest: 0.3715696 (194)\ttotal: 55.2s\tremaining: 3m 47s\n",
      "195:\tlearn: 0.3459327\ttest: 0.3712340\tbest: 0.3712340 (195)\ttotal: 55.5s\tremaining: 3m 47s\n",
      "196:\tlearn: 0.3454518\ttest: 0.3709286\tbest: 0.3709286 (196)\ttotal: 55.8s\tremaining: 3m 47s\n",
      "197:\tlearn: 0.3449521\ttest: 0.3705819\tbest: 0.3705819 (197)\ttotal: 56s\tremaining: 3m 46s\n",
      "198:\tlearn: 0.3444499\ttest: 0.3701967\tbest: 0.3701967 (198)\ttotal: 56.3s\tremaining: 3m 46s\n",
      "199:\tlearn: 0.3439500\ttest: 0.3699543\tbest: 0.3699543 (199)\ttotal: 56.6s\tremaining: 3m 46s\n",
      "200:\tlearn: 0.3434767\ttest: 0.3696402\tbest: 0.3696402 (200)\ttotal: 56.8s\tremaining: 3m 45s\n",
      "201:\tlearn: 0.3427798\ttest: 0.3692030\tbest: 0.3692030 (201)\ttotal: 57.1s\tremaining: 3m 45s\n",
      "202:\tlearn: 0.3422755\ttest: 0.3688154\tbest: 0.3688154 (202)\ttotal: 57.4s\tremaining: 3m 45s\n",
      "203:\tlearn: 0.3417875\ttest: 0.3685216\tbest: 0.3685216 (203)\ttotal: 57.6s\tremaining: 3m 44s\n",
      "204:\tlearn: 0.3413156\ttest: 0.3681673\tbest: 0.3681673 (204)\ttotal: 57.9s\tremaining: 3m 44s\n",
      "205:\tlearn: 0.3408359\ttest: 0.3678814\tbest: 0.3678814 (205)\ttotal: 58.2s\tremaining: 3m 44s\n",
      "206:\tlearn: 0.3403565\ttest: 0.3675333\tbest: 0.3675333 (206)\ttotal: 58.5s\tremaining: 3m 43s\n",
      "207:\tlearn: 0.3398962\ttest: 0.3672815\tbest: 0.3672815 (207)\ttotal: 58.7s\tremaining: 3m 43s\n",
      "208:\tlearn: 0.3394367\ttest: 0.3670256\tbest: 0.3670256 (208)\ttotal: 59s\tremaining: 3m 43s\n",
      "209:\tlearn: 0.3390066\ttest: 0.3668058\tbest: 0.3668058 (209)\ttotal: 59.3s\tremaining: 3m 42s\n",
      "210:\tlearn: 0.3385125\ttest: 0.3664768\tbest: 0.3664768 (210)\ttotal: 59.5s\tremaining: 3m 42s\n",
      "211:\tlearn: 0.3380332\ttest: 0.3661720\tbest: 0.3661720 (211)\ttotal: 59.8s\tremaining: 3m 42s\n",
      "212:\tlearn: 0.3375876\ttest: 0.3658528\tbest: 0.3658528 (212)\ttotal: 1m\tremaining: 3m 41s\n",
      "213:\tlearn: 0.3371109\ttest: 0.3655242\tbest: 0.3655242 (213)\ttotal: 1m\tremaining: 3m 41s\n",
      "214:\tlearn: 0.3366195\ttest: 0.3652016\tbest: 0.3652016 (214)\ttotal: 1m\tremaining: 3m 41s\n",
      "215:\tlearn: 0.3361346\ttest: 0.3649140\tbest: 0.3649140 (215)\ttotal: 1m\tremaining: 3m 41s\n",
      "216:\tlearn: 0.3356971\ttest: 0.3645965\tbest: 0.3645965 (216)\ttotal: 1m 1s\tremaining: 3m 40s\n",
      "217:\tlearn: 0.3352476\ttest: 0.3642835\tbest: 0.3642835 (217)\ttotal: 1m 1s\tremaining: 3m 40s\n",
      "218:\tlearn: 0.3347885\ttest: 0.3639382\tbest: 0.3639382 (218)\ttotal: 1m 1s\tremaining: 3m 40s\n",
      "219:\tlearn: 0.3343651\ttest: 0.3638272\tbest: 0.3638272 (219)\ttotal: 1m 2s\tremaining: 3m 39s\n",
      "220:\tlearn: 0.3339226\ttest: 0.3635623\tbest: 0.3635623 (220)\ttotal: 1m 2s\tremaining: 3m 39s\n",
      "221:\tlearn: 0.3334873\ttest: 0.3631849\tbest: 0.3631849 (221)\ttotal: 1m 2s\tremaining: 3m 39s\n",
      "222:\tlearn: 0.3330330\ttest: 0.3628812\tbest: 0.3628812 (222)\ttotal: 1m 2s\tremaining: 3m 38s\n",
      "223:\tlearn: 0.3325856\ttest: 0.3625651\tbest: 0.3625651 (223)\ttotal: 1m 3s\tremaining: 3m 38s\n",
      "224:\tlearn: 0.3321505\ttest: 0.3622564\tbest: 0.3622564 (224)\ttotal: 1m 3s\tremaining: 3m 38s\n",
      "225:\tlearn: 0.3316981\ttest: 0.3620360\tbest: 0.3620360 (225)\ttotal: 1m 3s\tremaining: 3m 38s\n",
      "226:\tlearn: 0.3312124\ttest: 0.3617530\tbest: 0.3617530 (226)\ttotal: 1m 3s\tremaining: 3m 37s\n",
      "227:\tlearn: 0.3308137\ttest: 0.3615241\tbest: 0.3615241 (227)\ttotal: 1m 4s\tremaining: 3m 37s\n",
      "228:\tlearn: 0.3302942\ttest: 0.3611643\tbest: 0.3611643 (228)\ttotal: 1m 4s\tremaining: 3m 37s\n",
      "229:\tlearn: 0.3298195\ttest: 0.3608334\tbest: 0.3608334 (229)\ttotal: 1m 4s\tremaining: 3m 37s\n",
      "230:\tlearn: 0.3294026\ttest: 0.3606054\tbest: 0.3606054 (230)\ttotal: 1m 5s\tremaining: 3m 36s\n",
      "231:\tlearn: 0.3286489\ttest: 0.3599401\tbest: 0.3599401 (231)\ttotal: 1m 5s\tremaining: 3m 36s\n",
      "232:\tlearn: 0.3282071\ttest: 0.3596378\tbest: 0.3596378 (232)\ttotal: 1m 5s\tremaining: 3m 36s\n",
      "233:\tlearn: 0.3278578\ttest: 0.3594502\tbest: 0.3594502 (233)\ttotal: 1m 5s\tremaining: 3m 35s\n",
      "234:\tlearn: 0.3274336\ttest: 0.3591411\tbest: 0.3591411 (234)\ttotal: 1m 6s\tremaining: 3m 35s\n",
      "235:\tlearn: 0.3270115\ttest: 0.3588923\tbest: 0.3588923 (235)\ttotal: 1m 6s\tremaining: 3m 35s\n",
      "236:\tlearn: 0.3266067\ttest: 0.3586814\tbest: 0.3586814 (236)\ttotal: 1m 6s\tremaining: 3m 34s\n",
      "237:\tlearn: 0.3262606\ttest: 0.3584982\tbest: 0.3584982 (237)\ttotal: 1m 7s\tremaining: 3m 34s\n",
      "238:\tlearn: 0.3258252\ttest: 0.3581908\tbest: 0.3581908 (238)\ttotal: 1m 7s\tremaining: 3m 34s\n",
      "239:\tlearn: 0.3254138\ttest: 0.3580267\tbest: 0.3580267 (239)\ttotal: 1m 7s\tremaining: 3m 33s\n",
      "240:\tlearn: 0.3249947\ttest: 0.3578307\tbest: 0.3578307 (240)\ttotal: 1m 7s\tremaining: 3m 33s\n",
      "241:\tlearn: 0.3245602\ttest: 0.3575991\tbest: 0.3575991 (241)\ttotal: 1m 8s\tremaining: 3m 33s\n",
      "242:\tlearn: 0.3241153\ttest: 0.3573905\tbest: 0.3573905 (242)\ttotal: 1m 8s\tremaining: 3m 33s\n",
      "243:\tlearn: 0.3236804\ttest: 0.3571351\tbest: 0.3571351 (243)\ttotal: 1m 8s\tremaining: 3m 32s\n",
      "244:\tlearn: 0.3232788\ttest: 0.3568820\tbest: 0.3568820 (244)\ttotal: 1m 8s\tremaining: 3m 32s\n",
      "245:\tlearn: 0.3229159\ttest: 0.3566631\tbest: 0.3566631 (245)\ttotal: 1m 9s\tremaining: 3m 32s\n",
      "246:\tlearn: 0.3224867\ttest: 0.3564146\tbest: 0.3564146 (246)\ttotal: 1m 9s\tremaining: 3m 31s\n",
      "247:\tlearn: 0.3220883\ttest: 0.3562155\tbest: 0.3562155 (247)\ttotal: 1m 9s\tremaining: 3m 31s\n",
      "248:\tlearn: 0.3217170\ttest: 0.3559614\tbest: 0.3559614 (248)\ttotal: 1m 9s\tremaining: 3m 31s\n",
      "249:\tlearn: 0.3213183\ttest: 0.3558075\tbest: 0.3558075 (249)\ttotal: 1m 10s\tremaining: 3m 30s\n",
      "250:\tlearn: 0.3209265\ttest: 0.3555642\tbest: 0.3555642 (250)\ttotal: 1m 10s\tremaining: 3m 30s\n",
      "251:\tlearn: 0.3205183\ttest: 0.3552765\tbest: 0.3552765 (251)\ttotal: 1m 10s\tremaining: 3m 30s\n",
      "252:\tlearn: 0.3201219\ttest: 0.3550542\tbest: 0.3550542 (252)\ttotal: 1m 11s\tremaining: 3m 29s\n",
      "253:\tlearn: 0.3197451\ttest: 0.3547859\tbest: 0.3547859 (253)\ttotal: 1m 11s\tremaining: 3m 29s\n",
      "254:\tlearn: 0.3193855\ttest: 0.3546182\tbest: 0.3546182 (254)\ttotal: 1m 11s\tremaining: 3m 29s\n",
      "255:\tlearn: 0.3190622\ttest: 0.3544349\tbest: 0.3544349 (255)\ttotal: 1m 11s\tremaining: 3m 28s\n",
      "256:\tlearn: 0.3186619\ttest: 0.3542036\tbest: 0.3542036 (256)\ttotal: 1m 12s\tremaining: 3m 28s\n",
      "257:\tlearn: 0.3182686\ttest: 0.3539746\tbest: 0.3539746 (257)\ttotal: 1m 12s\tremaining: 3m 28s\n",
      "258:\tlearn: 0.3178668\ttest: 0.3537041\tbest: 0.3537041 (258)\ttotal: 1m 12s\tremaining: 3m 27s\n",
      "259:\tlearn: 0.3175365\ttest: 0.3535844\tbest: 0.3535844 (259)\ttotal: 1m 12s\tremaining: 3m 27s\n",
      "260:\tlearn: 0.3171869\ttest: 0.3533439\tbest: 0.3533439 (260)\ttotal: 1m 13s\tremaining: 3m 27s\n",
      "261:\tlearn: 0.3168133\ttest: 0.3530932\tbest: 0.3530932 (261)\ttotal: 1m 13s\tremaining: 3m 27s\n",
      "262:\tlearn: 0.3164692\ttest: 0.3529230\tbest: 0.3529230 (262)\ttotal: 1m 13s\tremaining: 3m 26s\n",
      "263:\tlearn: 0.3162376\ttest: 0.3528146\tbest: 0.3528146 (263)\ttotal: 1m 14s\tremaining: 3m 26s\n",
      "264:\tlearn: 0.3158643\ttest: 0.3525625\tbest: 0.3525625 (264)\ttotal: 1m 14s\tremaining: 3m 26s\n",
      "265:\tlearn: 0.3155183\ttest: 0.3522971\tbest: 0.3522971 (265)\ttotal: 1m 14s\tremaining: 3m 25s\n",
      "266:\tlearn: 0.3151415\ttest: 0.3520902\tbest: 0.3520902 (266)\ttotal: 1m 14s\tremaining: 3m 25s\n",
      "267:\tlearn: 0.3147140\ttest: 0.3517713\tbest: 0.3517713 (267)\ttotal: 1m 15s\tremaining: 3m 25s\n",
      "268:\tlearn: 0.3143511\ttest: 0.3515270\tbest: 0.3515270 (268)\ttotal: 1m 15s\tremaining: 3m 24s\n",
      "269:\tlearn: 0.3139710\ttest: 0.3513464\tbest: 0.3513464 (269)\ttotal: 1m 15s\tremaining: 3m 24s\n",
      "270:\tlearn: 0.3135921\ttest: 0.3511363\tbest: 0.3511363 (270)\ttotal: 1m 15s\tremaining: 3m 24s\n",
      "271:\tlearn: 0.3132287\ttest: 0.3509551\tbest: 0.3509551 (271)\ttotal: 1m 16s\tremaining: 3m 23s\n",
      "272:\tlearn: 0.3128170\ttest: 0.3507935\tbest: 0.3507935 (272)\ttotal: 1m 16s\tremaining: 3m 23s\n",
      "273:\tlearn: 0.3124438\ttest: 0.3506861\tbest: 0.3506861 (273)\ttotal: 1m 16s\tremaining: 3m 23s\n"
     ]
    },
    {
     "name": "stdout",
     "output_type": "stream",
     "text": [
      "274:\tlearn: 0.3120868\ttest: 0.3504871\tbest: 0.3504871 (274)\ttotal: 1m 16s\tremaining: 3m 22s\n",
      "275:\tlearn: 0.3116944\ttest: 0.3502949\tbest: 0.3502949 (275)\ttotal: 1m 17s\tremaining: 3m 22s\n",
      "276:\tlearn: 0.3113340\ttest: 0.3501089\tbest: 0.3501089 (276)\ttotal: 1m 17s\tremaining: 3m 22s\n",
      "277:\tlearn: 0.3109819\ttest: 0.3499565\tbest: 0.3499565 (277)\ttotal: 1m 17s\tremaining: 3m 22s\n",
      "278:\tlearn: 0.3106688\ttest: 0.3497213\tbest: 0.3497213 (278)\ttotal: 1m 18s\tremaining: 3m 21s\n",
      "279:\tlearn: 0.3103177\ttest: 0.3494752\tbest: 0.3494752 (279)\ttotal: 1m 18s\tremaining: 3m 21s\n",
      "280:\tlearn: 0.3099794\ttest: 0.3493378\tbest: 0.3493378 (280)\ttotal: 1m 18s\tremaining: 3m 21s\n",
      "281:\tlearn: 0.3096341\ttest: 0.3491815\tbest: 0.3491815 (281)\ttotal: 1m 18s\tremaining: 3m 20s\n",
      "282:\tlearn: 0.3093083\ttest: 0.3489946\tbest: 0.3489946 (282)\ttotal: 1m 19s\tremaining: 3m 20s\n",
      "283:\tlearn: 0.3089520\ttest: 0.3488782\tbest: 0.3488782 (283)\ttotal: 1m 19s\tremaining: 3m 20s\n",
      "284:\tlearn: 0.3085958\ttest: 0.3486973\tbest: 0.3486973 (284)\ttotal: 1m 19s\tremaining: 3m 19s\n",
      "285:\tlearn: 0.3082744\ttest: 0.3485564\tbest: 0.3485564 (285)\ttotal: 1m 19s\tremaining: 3m 19s\n",
      "286:\tlearn: 0.3079564\ttest: 0.3484802\tbest: 0.3484802 (286)\ttotal: 1m 20s\tremaining: 3m 19s\n",
      "287:\tlearn: 0.3076102\ttest: 0.3482065\tbest: 0.3482065 (287)\ttotal: 1m 20s\tremaining: 3m 18s\n",
      "288:\tlearn: 0.3072105\ttest: 0.3479559\tbest: 0.3479559 (288)\ttotal: 1m 20s\tremaining: 3m 18s\n",
      "289:\tlearn: 0.3068860\ttest: 0.3477568\tbest: 0.3477568 (289)\ttotal: 1m 21s\tremaining: 3m 18s\n",
      "290:\tlearn: 0.3065494\ttest: 0.3475957\tbest: 0.3475957 (290)\ttotal: 1m 21s\tremaining: 3m 18s\n",
      "291:\tlearn: 0.3062461\ttest: 0.3474741\tbest: 0.3474741 (291)\ttotal: 1m 21s\tremaining: 3m 17s\n",
      "292:\tlearn: 0.3058884\ttest: 0.3472871\tbest: 0.3472871 (292)\ttotal: 1m 21s\tremaining: 3m 17s\n",
      "293:\tlearn: 0.3055577\ttest: 0.3471154\tbest: 0.3471154 (293)\ttotal: 1m 22s\tremaining: 3m 17s\n",
      "294:\tlearn: 0.3051009\ttest: 0.3467804\tbest: 0.3467804 (294)\ttotal: 1m 22s\tremaining: 3m 16s\n",
      "295:\tlearn: 0.3047422\ttest: 0.3465637\tbest: 0.3465637 (295)\ttotal: 1m 22s\tremaining: 3m 16s\n",
      "296:\tlearn: 0.3043676\ttest: 0.3462918\tbest: 0.3462918 (296)\ttotal: 1m 22s\tremaining: 3m 16s\n",
      "297:\tlearn: 0.3040264\ttest: 0.3460987\tbest: 0.3460987 (297)\ttotal: 1m 23s\tremaining: 3m 16s\n",
      "298:\tlearn: 0.3037187\ttest: 0.3458690\tbest: 0.3458690 (298)\ttotal: 1m 23s\tremaining: 3m 15s\n",
      "299:\tlearn: 0.3033855\ttest: 0.3456768\tbest: 0.3456768 (299)\ttotal: 1m 23s\tremaining: 3m 15s\n",
      "300:\tlearn: 0.3030590\ttest: 0.3454989\tbest: 0.3454989 (300)\ttotal: 1m 24s\tremaining: 3m 15s\n",
      "301:\tlearn: 0.3028451\ttest: 0.3454158\tbest: 0.3454158 (301)\ttotal: 1m 24s\tremaining: 3m 14s\n",
      "302:\tlearn: 0.3025150\ttest: 0.3452074\tbest: 0.3452074 (302)\ttotal: 1m 24s\tremaining: 3m 14s\n",
      "303:\tlearn: 0.3022071\ttest: 0.3450324\tbest: 0.3450324 (303)\ttotal: 1m 24s\tremaining: 3m 14s\n",
      "304:\tlearn: 0.3017779\ttest: 0.3447977\tbest: 0.3447977 (304)\ttotal: 1m 25s\tremaining: 3m 13s\n",
      "305:\tlearn: 0.3014952\ttest: 0.3446913\tbest: 0.3446913 (305)\ttotal: 1m 25s\tremaining: 3m 13s\n",
      "306:\tlearn: 0.3011873\ttest: 0.3445466\tbest: 0.3445466 (306)\ttotal: 1m 25s\tremaining: 3m 13s\n",
      "307:\tlearn: 0.3008601\ttest: 0.3442954\tbest: 0.3442954 (307)\ttotal: 1m 25s\tremaining: 3m 13s\n",
      "308:\tlearn: 0.3005430\ttest: 0.3441728\tbest: 0.3441728 (308)\ttotal: 1m 26s\tremaining: 3m 12s\n",
      "309:\tlearn: 0.3002788\ttest: 0.3440167\tbest: 0.3440167 (309)\ttotal: 1m 26s\tremaining: 3m 12s\n",
      "310:\tlearn: 0.2999666\ttest: 0.3438519\tbest: 0.3438519 (310)\ttotal: 1m 26s\tremaining: 3m 12s\n",
      "311:\tlearn: 0.2996730\ttest: 0.3436610\tbest: 0.3436610 (311)\ttotal: 1m 27s\tremaining: 3m 11s\n",
      "312:\tlearn: 0.2994540\ttest: 0.3435599\tbest: 0.3435599 (312)\ttotal: 1m 27s\tremaining: 3m 11s\n",
      "313:\tlearn: 0.2991441\ttest: 0.3435034\tbest: 0.3435034 (313)\ttotal: 1m 27s\tremaining: 3m 11s\n",
      "314:\tlearn: 0.2988235\ttest: 0.3434243\tbest: 0.3434243 (314)\ttotal: 1m 27s\tremaining: 3m 11s\n",
      "315:\tlearn: 0.2985197\ttest: 0.3432696\tbest: 0.3432696 (315)\ttotal: 1m 28s\tremaining: 3m 10s\n",
      "316:\tlearn: 0.2982591\ttest: 0.3431520\tbest: 0.3431520 (316)\ttotal: 1m 28s\tremaining: 3m 10s\n",
      "317:\tlearn: 0.2979476\ttest: 0.3430252\tbest: 0.3430252 (317)\ttotal: 1m 28s\tremaining: 3m 10s\n",
      "318:\tlearn: 0.2976304\ttest: 0.3428614\tbest: 0.3428614 (318)\ttotal: 1m 28s\tremaining: 3m 9s\n",
      "319:\tlearn: 0.2973328\ttest: 0.3426679\tbest: 0.3426679 (319)\ttotal: 1m 29s\tremaining: 3m 9s\n",
      "320:\tlearn: 0.2970139\ttest: 0.3424455\tbest: 0.3424455 (320)\ttotal: 1m 29s\tremaining: 3m 9s\n",
      "321:\tlearn: 0.2966945\ttest: 0.3422214\tbest: 0.3422214 (321)\ttotal: 1m 29s\tremaining: 3m 9s\n",
      "322:\tlearn: 0.2962909\ttest: 0.3418690\tbest: 0.3418690 (322)\ttotal: 1m 30s\tremaining: 3m 8s\n",
      "323:\tlearn: 0.2960579\ttest: 0.3417858\tbest: 0.3417858 (323)\ttotal: 1m 30s\tremaining: 3m 8s\n",
      "324:\tlearn: 0.2957514\ttest: 0.3416490\tbest: 0.3416490 (324)\ttotal: 1m 30s\tremaining: 3m 8s\n",
      "325:\tlearn: 0.2954440\ttest: 0.3414319\tbest: 0.3414319 (325)\ttotal: 1m 30s\tremaining: 3m 7s\n",
      "326:\tlearn: 0.2951143\ttest: 0.3412793\tbest: 0.3412793 (326)\ttotal: 1m 31s\tremaining: 3m 7s\n",
      "327:\tlearn: 0.2947823\ttest: 0.3410789\tbest: 0.3410789 (327)\ttotal: 1m 31s\tremaining: 3m 7s\n",
      "328:\tlearn: 0.2944741\ttest: 0.3409110\tbest: 0.3409110 (328)\ttotal: 1m 31s\tremaining: 3m 6s\n",
      "329:\tlearn: 0.2941593\ttest: 0.3407204\tbest: 0.3407204 (329)\ttotal: 1m 31s\tremaining: 3m 6s\n",
      "330:\tlearn: 0.2939080\ttest: 0.3405706\tbest: 0.3405706 (330)\ttotal: 1m 32s\tremaining: 3m 6s\n",
      "331:\tlearn: 0.2936167\ttest: 0.3404113\tbest: 0.3404113 (331)\ttotal: 1m 32s\tremaining: 3m 6s\n",
      "332:\tlearn: 0.2933352\ttest: 0.3403178\tbest: 0.3403178 (332)\ttotal: 1m 32s\tremaining: 3m 5s\n",
      "333:\tlearn: 0.2930541\ttest: 0.3402051\tbest: 0.3402051 (333)\ttotal: 1m 33s\tremaining: 3m 5s\n",
      "334:\tlearn: 0.2927541\ttest: 0.3401077\tbest: 0.3401077 (334)\ttotal: 1m 33s\tremaining: 3m 5s\n",
      "335:\tlearn: 0.2924650\ttest: 0.3400130\tbest: 0.3400130 (335)\ttotal: 1m 33s\tremaining: 3m 4s\n",
      "336:\tlearn: 0.2921737\ttest: 0.3398286\tbest: 0.3398286 (336)\ttotal: 1m 33s\tremaining: 3m 4s\n",
      "337:\tlearn: 0.2918478\ttest: 0.3397638\tbest: 0.3397638 (337)\ttotal: 1m 34s\tremaining: 3m 4s\n",
      "338:\tlearn: 0.2915559\ttest: 0.3396359\tbest: 0.3396359 (338)\ttotal: 1m 34s\tremaining: 3m 3s\n",
      "339:\tlearn: 0.2912514\ttest: 0.3395514\tbest: 0.3395514 (339)\ttotal: 1m 34s\tremaining: 3m 3s\n",
      "340:\tlearn: 0.2909287\ttest: 0.3393655\tbest: 0.3393655 (340)\ttotal: 1m 34s\tremaining: 3m 3s\n",
      "341:\tlearn: 0.2906549\ttest: 0.3392622\tbest: 0.3392622 (341)\ttotal: 1m 35s\tremaining: 3m 3s\n",
      "342:\tlearn: 0.2903684\ttest: 0.3391174\tbest: 0.3391174 (342)\ttotal: 1m 35s\tremaining: 3m 2s\n",
      "343:\tlearn: 0.2900919\ttest: 0.3390226\tbest: 0.3390226 (343)\ttotal: 1m 35s\tremaining: 3m 2s\n",
      "344:\tlearn: 0.2897954\ttest: 0.3388453\tbest: 0.3388453 (344)\ttotal: 1m 35s\tremaining: 3m 2s\n",
      "345:\tlearn: 0.2894876\ttest: 0.3387405\tbest: 0.3387405 (345)\ttotal: 1m 36s\tremaining: 3m 1s\n",
      "346:\tlearn: 0.2892713\ttest: 0.3386946\tbest: 0.3386946 (346)\ttotal: 1m 36s\tremaining: 3m 1s\n",
      "347:\tlearn: 0.2890338\ttest: 0.3386452\tbest: 0.3386452 (347)\ttotal: 1m 36s\tremaining: 3m 1s\n",
      "348:\tlearn: 0.2887463\ttest: 0.3385372\tbest: 0.3385372 (348)\ttotal: 1m 37s\tremaining: 3m 1s\n",
      "349:\tlearn: 0.2885100\ttest: 0.3384176\tbest: 0.3384176 (349)\ttotal: 1m 37s\tremaining: 3m\n",
      "350:\tlearn: 0.2881519\ttest: 0.3382742\tbest: 0.3382742 (350)\ttotal: 1m 37s\tremaining: 3m\n",
      "351:\tlearn: 0.2878412\ttest: 0.3380972\tbest: 0.3380972 (351)\ttotal: 1m 37s\tremaining: 3m\n",
      "352:\tlearn: 0.2875771\ttest: 0.3379454\tbest: 0.3379454 (352)\ttotal: 1m 38s\tremaining: 2m 59s\n",
      "353:\tlearn: 0.2872921\ttest: 0.3377314\tbest: 0.3377314 (353)\ttotal: 1m 38s\tremaining: 2m 59s\n",
      "354:\tlearn: 0.2870241\ttest: 0.3375987\tbest: 0.3375987 (354)\ttotal: 1m 38s\tremaining: 2m 59s\n",
      "355:\tlearn: 0.2866467\ttest: 0.3374169\tbest: 0.3374169 (355)\ttotal: 1m 38s\tremaining: 2m 59s\n",
      "356:\tlearn: 0.2864165\ttest: 0.3373350\tbest: 0.3373350 (356)\ttotal: 1m 39s\tremaining: 2m 58s\n",
      "357:\tlearn: 0.2862711\ttest: 0.3373481\tbest: 0.3373350 (356)\ttotal: 1m 39s\tremaining: 2m 58s\n",
      "358:\tlearn: 0.2860250\ttest: 0.3371183\tbest: 0.3371183 (358)\ttotal: 1m 39s\tremaining: 2m 58s\n",
      "359:\tlearn: 0.2859045\ttest: 0.3371057\tbest: 0.3371057 (359)\ttotal: 1m 40s\tremaining: 2m 57s\n",
      "360:\tlearn: 0.2856134\ttest: 0.3370686\tbest: 0.3370686 (360)\ttotal: 1m 40s\tremaining: 2m 57s\n",
      "361:\tlearn: 0.2853617\ttest: 0.3369317\tbest: 0.3369317 (361)\ttotal: 1m 40s\tremaining: 2m 57s\n",
      "362:\tlearn: 0.2850877\ttest: 0.3368115\tbest: 0.3368115 (362)\ttotal: 1m 40s\tremaining: 2m 56s\n",
      "363:\tlearn: 0.2848145\ttest: 0.3366425\tbest: 0.3366425 (363)\ttotal: 1m 41s\tremaining: 2m 56s\n"
     ]
    },
    {
     "name": "stdout",
     "output_type": "stream",
     "text": [
      "364:\tlearn: 0.2845532\ttest: 0.3364761\tbest: 0.3364761 (364)\ttotal: 1m 41s\tremaining: 2m 56s\n",
      "365:\tlearn: 0.2842918\ttest: 0.3363605\tbest: 0.3363605 (365)\ttotal: 1m 41s\tremaining: 2m 56s\n",
      "366:\tlearn: 0.2839707\ttest: 0.3362050\tbest: 0.3362050 (366)\ttotal: 1m 41s\tremaining: 2m 55s\n",
      "367:\tlearn: 0.2836866\ttest: 0.3360665\tbest: 0.3360665 (367)\ttotal: 1m 42s\tremaining: 2m 55s\n",
      "368:\tlearn: 0.2834547\ttest: 0.3359638\tbest: 0.3359638 (368)\ttotal: 1m 42s\tremaining: 2m 55s\n",
      "369:\tlearn: 0.2832011\ttest: 0.3359141\tbest: 0.3359141 (369)\ttotal: 1m 42s\tremaining: 2m 54s\n",
      "370:\tlearn: 0.2829219\ttest: 0.3358396\tbest: 0.3358396 (370)\ttotal: 1m 42s\tremaining: 2m 54s\n",
      "371:\tlearn: 0.2826692\ttest: 0.3357335\tbest: 0.3357335 (371)\ttotal: 1m 43s\tremaining: 2m 54s\n",
      "372:\tlearn: 0.2824397\ttest: 0.3356055\tbest: 0.3356055 (372)\ttotal: 1m 43s\tremaining: 2m 53s\n",
      "373:\tlearn: 0.2821228\ttest: 0.3354235\tbest: 0.3354235 (373)\ttotal: 1m 43s\tremaining: 2m 53s\n",
      "374:\tlearn: 0.2818453\ttest: 0.3352963\tbest: 0.3352963 (374)\ttotal: 1m 44s\tremaining: 2m 53s\n",
      "375:\tlearn: 0.2815793\ttest: 0.3351696\tbest: 0.3351696 (375)\ttotal: 1m 44s\tremaining: 2m 53s\n",
      "376:\tlearn: 0.2812905\ttest: 0.3350689\tbest: 0.3350689 (376)\ttotal: 1m 44s\tremaining: 2m 52s\n",
      "377:\tlearn: 0.2810637\ttest: 0.3349704\tbest: 0.3349704 (377)\ttotal: 1m 44s\tremaining: 2m 52s\n",
      "378:\tlearn: 0.2807801\ttest: 0.3348951\tbest: 0.3348951 (378)\ttotal: 1m 45s\tremaining: 2m 52s\n",
      "379:\tlearn: 0.2804944\ttest: 0.3347891\tbest: 0.3347891 (379)\ttotal: 1m 45s\tremaining: 2m 51s\n",
      "380:\tlearn: 0.2802420\ttest: 0.3347222\tbest: 0.3347222 (380)\ttotal: 1m 45s\tremaining: 2m 51s\n",
      "381:\tlearn: 0.2799938\ttest: 0.3346473\tbest: 0.3346473 (381)\ttotal: 1m 45s\tremaining: 2m 51s\n",
      "382:\tlearn: 0.2795667\ttest: 0.3342537\tbest: 0.3342537 (382)\ttotal: 1m 46s\tremaining: 2m 51s\n",
      "383:\tlearn: 0.2794715\ttest: 0.3342544\tbest: 0.3342537 (382)\ttotal: 1m 46s\tremaining: 2m 50s\n",
      "384:\tlearn: 0.2792230\ttest: 0.3341789\tbest: 0.3341789 (384)\ttotal: 1m 46s\tremaining: 2m 50s\n",
      "385:\tlearn: 0.2789803\ttest: 0.3340433\tbest: 0.3340433 (385)\ttotal: 1m 46s\tremaining: 2m 50s\n",
      "386:\tlearn: 0.2787327\ttest: 0.3339339\tbest: 0.3339339 (386)\ttotal: 1m 47s\tremaining: 2m 49s\n",
      "387:\tlearn: 0.2784783\ttest: 0.3338088\tbest: 0.3338088 (387)\ttotal: 1m 47s\tremaining: 2m 49s\n",
      "388:\tlearn: 0.2782604\ttest: 0.3337199\tbest: 0.3337199 (388)\ttotal: 1m 47s\tremaining: 2m 49s\n",
      "389:\tlearn: 0.2779982\ttest: 0.3336089\tbest: 0.3336089 (389)\ttotal: 1m 47s\tremaining: 2m 48s\n",
      "390:\tlearn: 0.2777396\ttest: 0.3335379\tbest: 0.3335379 (390)\ttotal: 1m 48s\tremaining: 2m 48s\n",
      "391:\tlearn: 0.2774911\ttest: 0.3334008\tbest: 0.3334008 (391)\ttotal: 1m 48s\tremaining: 2m 48s\n",
      "392:\tlearn: 0.2772587\ttest: 0.3333281\tbest: 0.3333281 (392)\ttotal: 1m 48s\tremaining: 2m 48s\n",
      "393:\tlearn: 0.2770501\ttest: 0.3332813\tbest: 0.3332813 (393)\ttotal: 1m 49s\tremaining: 2m 47s\n",
      "394:\tlearn: 0.2767949\ttest: 0.3332134\tbest: 0.3332134 (394)\ttotal: 1m 49s\tremaining: 2m 47s\n",
      "395:\tlearn: 0.2765376\ttest: 0.3331857\tbest: 0.3331857 (395)\ttotal: 1m 49s\tremaining: 2m 47s\n",
      "396:\tlearn: 0.2762649\ttest: 0.3330264\tbest: 0.3330264 (396)\ttotal: 1m 49s\tremaining: 2m 46s\n",
      "397:\tlearn: 0.2760684\ttest: 0.3329043\tbest: 0.3329043 (397)\ttotal: 1m 50s\tremaining: 2m 46s\n",
      "398:\tlearn: 0.2758134\ttest: 0.3328980\tbest: 0.3328980 (398)\ttotal: 1m 50s\tremaining: 2m 46s\n",
      "399:\tlearn: 0.2755595\ttest: 0.3327578\tbest: 0.3327578 (399)\ttotal: 1m 50s\tremaining: 2m 45s\n",
      "400:\tlearn: 0.2752870\ttest: 0.3326980\tbest: 0.3326980 (400)\ttotal: 1m 50s\tremaining: 2m 45s\n",
      "401:\tlearn: 0.2750481\ttest: 0.3325817\tbest: 0.3325817 (401)\ttotal: 1m 51s\tremaining: 2m 45s\n",
      "402:\tlearn: 0.2748245\ttest: 0.3324999\tbest: 0.3324999 (402)\ttotal: 1m 51s\tremaining: 2m 45s\n",
      "403:\tlearn: 0.2745527\ttest: 0.3323699\tbest: 0.3323699 (403)\ttotal: 1m 51s\tremaining: 2m 44s\n",
      "404:\tlearn: 0.2743031\ttest: 0.3322371\tbest: 0.3322371 (404)\ttotal: 1m 51s\tremaining: 2m 44s\n",
      "405:\tlearn: 0.2740271\ttest: 0.3321856\tbest: 0.3321856 (405)\ttotal: 1m 52s\tremaining: 2m 44s\n",
      "406:\tlearn: 0.2738225\ttest: 0.3321003\tbest: 0.3321003 (406)\ttotal: 1m 52s\tremaining: 2m 43s\n",
      "407:\tlearn: 0.2735581\ttest: 0.3319611\tbest: 0.3319611 (407)\ttotal: 1m 52s\tremaining: 2m 43s\n",
      "408:\tlearn: 0.2733275\ttest: 0.3318856\tbest: 0.3318856 (408)\ttotal: 1m 53s\tremaining: 2m 43s\n",
      "409:\tlearn: 0.2731217\ttest: 0.3318017\tbest: 0.3318017 (409)\ttotal: 1m 53s\tremaining: 2m 43s\n",
      "410:\tlearn: 0.2727160\ttest: 0.3315570\tbest: 0.3315570 (410)\ttotal: 1m 53s\tremaining: 2m 42s\n",
      "411:\tlearn: 0.2724719\ttest: 0.3314782\tbest: 0.3314782 (411)\ttotal: 1m 53s\tremaining: 2m 42s\n",
      "412:\tlearn: 0.2723170\ttest: 0.3314285\tbest: 0.3314285 (412)\ttotal: 1m 54s\tremaining: 2m 42s\n",
      "413:\tlearn: 0.2720959\ttest: 0.3312507\tbest: 0.3312507 (413)\ttotal: 1m 54s\tremaining: 2m 41s\n",
      "414:\tlearn: 0.2719515\ttest: 0.3312064\tbest: 0.3312064 (414)\ttotal: 1m 54s\tremaining: 2m 41s\n",
      "415:\tlearn: 0.2717142\ttest: 0.3311369\tbest: 0.3311369 (415)\ttotal: 1m 54s\tremaining: 2m 41s\n",
      "416:\tlearn: 0.2714950\ttest: 0.3309880\tbest: 0.3309880 (416)\ttotal: 1m 55s\tremaining: 2m 41s\n",
      "417:\tlearn: 0.2712476\ttest: 0.3308948\tbest: 0.3308948 (417)\ttotal: 1m 55s\tremaining: 2m 40s\n",
      "418:\tlearn: 0.2710020\ttest: 0.3307532\tbest: 0.3307532 (418)\ttotal: 1m 55s\tremaining: 2m 40s\n",
      "419:\tlearn: 0.2707483\ttest: 0.3307226\tbest: 0.3307226 (419)\ttotal: 1m 55s\tremaining: 2m 40s\n",
      "420:\tlearn: 0.2705060\ttest: 0.3306438\tbest: 0.3306438 (420)\ttotal: 1m 56s\tremaining: 2m 39s\n",
      "421:\tlearn: 0.2702815\ttest: 0.3306090\tbest: 0.3306090 (421)\ttotal: 1m 56s\tremaining: 2m 39s\n",
      "422:\tlearn: 0.2699831\ttest: 0.3304655\tbest: 0.3304655 (422)\ttotal: 1m 56s\tremaining: 2m 39s\n",
      "423:\tlearn: 0.2697310\ttest: 0.3303438\tbest: 0.3303438 (423)\ttotal: 1m 57s\tremaining: 2m 39s\n",
      "424:\tlearn: 0.2694677\ttest: 0.3302226\tbest: 0.3302226 (424)\ttotal: 1m 57s\tremaining: 2m 38s\n",
      "425:\tlearn: 0.2692883\ttest: 0.3301438\tbest: 0.3301438 (425)\ttotal: 1m 57s\tremaining: 2m 38s\n",
      "426:\tlearn: 0.2690344\ttest: 0.3300309\tbest: 0.3300309 (426)\ttotal: 1m 57s\tremaining: 2m 38s\n",
      "427:\tlearn: 0.2688530\ttest: 0.3299646\tbest: 0.3299646 (427)\ttotal: 1m 58s\tremaining: 2m 37s\n",
      "428:\tlearn: 0.2686205\ttest: 0.3298403\tbest: 0.3298403 (428)\ttotal: 1m 58s\tremaining: 2m 37s\n",
      "429:\tlearn: 0.2684206\ttest: 0.3297425\tbest: 0.3297425 (429)\ttotal: 1m 58s\tremaining: 2m 37s\n",
      "430:\tlearn: 0.2683280\ttest: 0.3297053\tbest: 0.3297053 (430)\ttotal: 1m 58s\tremaining: 2m 36s\n",
      "431:\tlearn: 0.2680906\ttest: 0.3296437\tbest: 0.3296437 (431)\ttotal: 1m 59s\tremaining: 2m 36s\n",
      "432:\tlearn: 0.2678593\ttest: 0.3295500\tbest: 0.3295500 (432)\ttotal: 1m 59s\tremaining: 2m 36s\n",
      "433:\tlearn: 0.2676121\ttest: 0.3294502\tbest: 0.3294502 (433)\ttotal: 1m 59s\tremaining: 2m 36s\n",
      "434:\tlearn: 0.2674190\ttest: 0.3294014\tbest: 0.3294014 (434)\ttotal: 1m 59s\tremaining: 2m 35s\n",
      "435:\tlearn: 0.2671904\ttest: 0.3293164\tbest: 0.3293164 (435)\ttotal: 2m\tremaining: 2m 35s\n",
      "436:\tlearn: 0.2669464\ttest: 0.3292896\tbest: 0.3292896 (436)\ttotal: 2m\tremaining: 2m 35s\n",
      "437:\tlearn: 0.2668199\ttest: 0.3292889\tbest: 0.3292889 (437)\ttotal: 2m\tremaining: 2m 34s\n",
      "438:\tlearn: 0.2666097\ttest: 0.3291947\tbest: 0.3291947 (438)\ttotal: 2m 1s\tremaining: 2m 34s\n",
      "439:\tlearn: 0.2663611\ttest: 0.3290586\tbest: 0.3290586 (439)\ttotal: 2m 1s\tremaining: 2m 34s\n",
      "440:\tlearn: 0.2661576\ttest: 0.3290019\tbest: 0.3290019 (440)\ttotal: 2m 1s\tremaining: 2m 34s\n",
      "441:\tlearn: 0.2659193\ttest: 0.3289358\tbest: 0.3289358 (441)\ttotal: 2m 1s\tremaining: 2m 33s\n",
      "442:\tlearn: 0.2657392\ttest: 0.3288558\tbest: 0.3288558 (442)\ttotal: 2m 2s\tremaining: 2m 33s\n",
      "443:\tlearn: 0.2656549\ttest: 0.3288262\tbest: 0.3288262 (443)\ttotal: 2m 2s\tremaining: 2m 33s\n",
      "444:\tlearn: 0.2654462\ttest: 0.3287552\tbest: 0.3287552 (444)\ttotal: 2m 2s\tremaining: 2m 32s\n",
      "445:\tlearn: 0.2652276\ttest: 0.3286741\tbest: 0.3286741 (445)\ttotal: 2m 2s\tremaining: 2m 32s\n",
      "446:\tlearn: 0.2650119\ttest: 0.3285548\tbest: 0.3285548 (446)\ttotal: 2m 3s\tremaining: 2m 32s\n",
      "447:\tlearn: 0.2647232\ttest: 0.3283936\tbest: 0.3283936 (447)\ttotal: 2m 3s\tremaining: 2m 32s\n",
      "448:\tlearn: 0.2645007\ttest: 0.3282926\tbest: 0.3282926 (448)\ttotal: 2m 3s\tremaining: 2m 31s\n",
      "449:\tlearn: 0.2642540\ttest: 0.3282383\tbest: 0.3282383 (449)\ttotal: 2m 3s\tremaining: 2m 31s\n",
      "450:\tlearn: 0.2639835\ttest: 0.3281175\tbest: 0.3281175 (450)\ttotal: 2m 4s\tremaining: 2m 31s\n",
      "451:\tlearn: 0.2637674\ttest: 0.3280411\tbest: 0.3280411 (451)\ttotal: 2m 4s\tremaining: 2m 30s\n",
      "452:\tlearn: 0.2635443\ttest: 0.3280044\tbest: 0.3280044 (452)\ttotal: 2m 4s\tremaining: 2m 30s\n",
      "453:\tlearn: 0.2633345\ttest: 0.3279061\tbest: 0.3279061 (453)\ttotal: 2m 4s\tremaining: 2m 30s\n"
     ]
    },
    {
     "name": "stdout",
     "output_type": "stream",
     "text": [
      "454:\tlearn: 0.2631164\ttest: 0.3278050\tbest: 0.3278050 (454)\ttotal: 2m 5s\tremaining: 2m 29s\n",
      "455:\tlearn: 0.2629098\ttest: 0.3277407\tbest: 0.3277407 (455)\ttotal: 2m 5s\tremaining: 2m 29s\n",
      "456:\tlearn: 0.2627592\ttest: 0.3276864\tbest: 0.3276864 (456)\ttotal: 2m 5s\tremaining: 2m 29s\n",
      "457:\tlearn: 0.2625205\ttest: 0.3276088\tbest: 0.3276088 (457)\ttotal: 2m 6s\tremaining: 2m 29s\n",
      "458:\tlearn: 0.2622937\ttest: 0.3275120\tbest: 0.3275120 (458)\ttotal: 2m 6s\tremaining: 2m 28s\n",
      "459:\tlearn: 0.2621165\ttest: 0.3274717\tbest: 0.3274717 (459)\ttotal: 2m 6s\tremaining: 2m 28s\n",
      "460:\tlearn: 0.2619884\ttest: 0.3274486\tbest: 0.3274486 (460)\ttotal: 2m 6s\tremaining: 2m 28s\n",
      "461:\tlearn: 0.2617786\ttest: 0.3273583\tbest: 0.3273583 (461)\ttotal: 2m 7s\tremaining: 2m 27s\n",
      "462:\tlearn: 0.2615369\ttest: 0.3272292\tbest: 0.3272292 (462)\ttotal: 2m 7s\tremaining: 2m 27s\n",
      "463:\tlearn: 0.2612752\ttest: 0.3271274\tbest: 0.3271274 (463)\ttotal: 2m 7s\tremaining: 2m 27s\n",
      "464:\tlearn: 0.2610687\ttest: 0.3270467\tbest: 0.3270467 (464)\ttotal: 2m 7s\tremaining: 2m 27s\n",
      "465:\tlearn: 0.2608149\ttest: 0.3269775\tbest: 0.3269775 (465)\ttotal: 2m 8s\tremaining: 2m 26s\n",
      "466:\tlearn: 0.2605575\ttest: 0.3269145\tbest: 0.3269145 (466)\ttotal: 2m 8s\tremaining: 2m 26s\n",
      "467:\tlearn: 0.2604565\ttest: 0.3269157\tbest: 0.3269145 (466)\ttotal: 2m 8s\tremaining: 2m 26s\n",
      "468:\tlearn: 0.2602328\ttest: 0.3268051\tbest: 0.3268051 (468)\ttotal: 2m 8s\tremaining: 2m 25s\n",
      "469:\tlearn: 0.2600285\ttest: 0.3267124\tbest: 0.3267124 (469)\ttotal: 2m 9s\tremaining: 2m 25s\n",
      "470:\tlearn: 0.2598098\ttest: 0.3266004\tbest: 0.3266004 (470)\ttotal: 2m 9s\tremaining: 2m 25s\n",
      "471:\tlearn: 0.2595400\ttest: 0.3265385\tbest: 0.3265385 (471)\ttotal: 2m 9s\tremaining: 2m 25s\n",
      "472:\tlearn: 0.2593480\ttest: 0.3264898\tbest: 0.3264898 (472)\ttotal: 2m 10s\tremaining: 2m 24s\n",
      "473:\tlearn: 0.2591309\ttest: 0.3264294\tbest: 0.3264294 (473)\ttotal: 2m 10s\tremaining: 2m 24s\n",
      "474:\tlearn: 0.2589026\ttest: 0.3263231\tbest: 0.3263231 (474)\ttotal: 2m 10s\tremaining: 2m 24s\n",
      "475:\tlearn: 0.2586840\ttest: 0.3261895\tbest: 0.3261895 (475)\ttotal: 2m 10s\tremaining: 2m 24s\n",
      "476:\tlearn: 0.2585803\ttest: 0.3261716\tbest: 0.3261716 (476)\ttotal: 2m 11s\tremaining: 2m 23s\n",
      "477:\tlearn: 0.2583985\ttest: 0.3261317\tbest: 0.3261317 (477)\ttotal: 2m 11s\tremaining: 2m 23s\n",
      "478:\tlearn: 0.2581847\ttest: 0.3260441\tbest: 0.3260441 (478)\ttotal: 2m 11s\tremaining: 2m 23s\n",
      "479:\tlearn: 0.2579358\ttest: 0.3259564\tbest: 0.3259564 (479)\ttotal: 2m 11s\tremaining: 2m 22s\n",
      "480:\tlearn: 0.2577434\ttest: 0.3258978\tbest: 0.3258978 (480)\ttotal: 2m 12s\tremaining: 2m 22s\n",
      "481:\tlearn: 0.2574817\ttest: 0.3257426\tbest: 0.3257426 (481)\ttotal: 2m 12s\tremaining: 2m 22s\n",
      "482:\tlearn: 0.2572943\ttest: 0.3256312\tbest: 0.3256312 (482)\ttotal: 2m 12s\tremaining: 2m 22s\n",
      "483:\tlearn: 0.2570652\ttest: 0.3255081\tbest: 0.3255081 (483)\ttotal: 2m 12s\tremaining: 2m 21s\n",
      "484:\tlearn: 0.2568387\ttest: 0.3254322\tbest: 0.3254322 (484)\ttotal: 2m 13s\tremaining: 2m 21s\n",
      "485:\tlearn: 0.2566623\ttest: 0.3253299\tbest: 0.3253299 (485)\ttotal: 2m 13s\tremaining: 2m 21s\n",
      "486:\tlearn: 0.2564777\ttest: 0.3252474\tbest: 0.3252474 (486)\ttotal: 2m 13s\tremaining: 2m 20s\n",
      "487:\tlearn: 0.2564037\ttest: 0.3252311\tbest: 0.3252311 (487)\ttotal: 2m 14s\tremaining: 2m 20s\n",
      "488:\tlearn: 0.2561793\ttest: 0.3251519\tbest: 0.3251519 (488)\ttotal: 2m 14s\tremaining: 2m 20s\n",
      "489:\tlearn: 0.2559524\ttest: 0.3250617\tbest: 0.3250617 (489)\ttotal: 2m 14s\tremaining: 2m 20s\n",
      "490:\tlearn: 0.2557471\ttest: 0.3250029\tbest: 0.3250029 (490)\ttotal: 2m 14s\tremaining: 2m 19s\n",
      "491:\tlearn: 0.2555311\ttest: 0.3249268\tbest: 0.3249268 (491)\ttotal: 2m 15s\tremaining: 2m 19s\n",
      "492:\tlearn: 0.2553499\ttest: 0.3248397\tbest: 0.3248397 (492)\ttotal: 2m 15s\tremaining: 2m 19s\n",
      "493:\tlearn: 0.2552777\ttest: 0.3248373\tbest: 0.3248373 (493)\ttotal: 2m 15s\tremaining: 2m 18s\n",
      "494:\tlearn: 0.2550737\ttest: 0.3247156\tbest: 0.3247156 (494)\ttotal: 2m 15s\tremaining: 2m 18s\n",
      "495:\tlearn: 0.2548698\ttest: 0.3246094\tbest: 0.3246094 (495)\ttotal: 2m 16s\tremaining: 2m 18s\n",
      "496:\tlearn: 0.2546521\ttest: 0.3245400\tbest: 0.3245400 (496)\ttotal: 2m 16s\tremaining: 2m 18s\n",
      "497:\tlearn: 0.2544230\ttest: 0.3244494\tbest: 0.3244494 (497)\ttotal: 2m 16s\tremaining: 2m 17s\n",
      "498:\tlearn: 0.2542332\ttest: 0.3243956\tbest: 0.3243956 (498)\ttotal: 2m 16s\tremaining: 2m 17s\n",
      "499:\tlearn: 0.2540560\ttest: 0.3243797\tbest: 0.3243797 (499)\ttotal: 2m 17s\tremaining: 2m 17s\n",
      "500:\tlearn: 0.2538350\ttest: 0.3242419\tbest: 0.3242419 (500)\ttotal: 2m 17s\tremaining: 2m 16s\n",
      "501:\tlearn: 0.2536846\ttest: 0.3242044\tbest: 0.3242044 (501)\ttotal: 2m 17s\tremaining: 2m 16s\n",
      "502:\tlearn: 0.2535102\ttest: 0.3241812\tbest: 0.3241812 (502)\ttotal: 2m 18s\tremaining: 2m 16s\n",
      "503:\tlearn: 0.2533163\ttest: 0.3241182\tbest: 0.3241182 (503)\ttotal: 2m 18s\tremaining: 2m 16s\n",
      "504:\tlearn: 0.2531022\ttest: 0.3240190\tbest: 0.3240190 (504)\ttotal: 2m 18s\tremaining: 2m 15s\n",
      "505:\tlearn: 0.2528817\ttest: 0.3239971\tbest: 0.3239971 (505)\ttotal: 2m 18s\tremaining: 2m 15s\n",
      "506:\tlearn: 0.2527066\ttest: 0.3239312\tbest: 0.3239312 (506)\ttotal: 2m 19s\tremaining: 2m 15s\n",
      "507:\tlearn: 0.2525113\ttest: 0.3239217\tbest: 0.3239217 (507)\ttotal: 2m 19s\tremaining: 2m 14s\n",
      "508:\tlearn: 0.2523142\ttest: 0.3239027\tbest: 0.3239027 (508)\ttotal: 2m 19s\tremaining: 2m 14s\n",
      "509:\tlearn: 0.2521105\ttest: 0.3238155\tbest: 0.3238155 (509)\ttotal: 2m 19s\tremaining: 2m 14s\n",
      "510:\tlearn: 0.2519675\ttest: 0.3237508\tbest: 0.3237508 (510)\ttotal: 2m 20s\tremaining: 2m 14s\n",
      "511:\tlearn: 0.2517791\ttest: 0.3237133\tbest: 0.3237133 (511)\ttotal: 2m 20s\tremaining: 2m 13s\n",
      "512:\tlearn: 0.2516067\ttest: 0.3236966\tbest: 0.3236966 (512)\ttotal: 2m 20s\tremaining: 2m 13s\n",
      "513:\tlearn: 0.2513724\ttest: 0.3235760\tbest: 0.3235760 (513)\ttotal: 2m 20s\tremaining: 2m 13s\n",
      "514:\tlearn: 0.2511786\ttest: 0.3235374\tbest: 0.3235374 (514)\ttotal: 2m 21s\tremaining: 2m 12s\n",
      "515:\tlearn: 0.2509726\ttest: 0.3235191\tbest: 0.3235191 (515)\ttotal: 2m 21s\tremaining: 2m 12s\n",
      "516:\tlearn: 0.2507675\ttest: 0.3234469\tbest: 0.3234469 (516)\ttotal: 2m 21s\tremaining: 2m 12s\n",
      "517:\tlearn: 0.2506416\ttest: 0.3234014\tbest: 0.3234014 (517)\ttotal: 2m 21s\tremaining: 2m 12s\n",
      "518:\tlearn: 0.2504024\ttest: 0.3232668\tbest: 0.3232668 (518)\ttotal: 2m 22s\tremaining: 2m 11s\n",
      "519:\tlearn: 0.2501809\ttest: 0.3231899\tbest: 0.3231899 (519)\ttotal: 2m 22s\tremaining: 2m 11s\n",
      "520:\tlearn: 0.2500896\ttest: 0.3231545\tbest: 0.3231545 (520)\ttotal: 2m 22s\tremaining: 2m 11s\n",
      "521:\tlearn: 0.2498658\ttest: 0.3230319\tbest: 0.3230319 (521)\ttotal: 2m 23s\tremaining: 2m 10s\n",
      "522:\tlearn: 0.2497922\ttest: 0.3230159\tbest: 0.3230159 (522)\ttotal: 2m 23s\tremaining: 2m 10s\n",
      "523:\tlearn: 0.2495482\ttest: 0.3228720\tbest: 0.3228720 (523)\ttotal: 2m 23s\tremaining: 2m 10s\n",
      "524:\tlearn: 0.2493866\ttest: 0.3228479\tbest: 0.3228479 (524)\ttotal: 2m 23s\tremaining: 2m 10s\n",
      "525:\tlearn: 0.2491999\ttest: 0.3227900\tbest: 0.3227900 (525)\ttotal: 2m 24s\tremaining: 2m 9s\n",
      "526:\tlearn: 0.2489588\ttest: 0.3227356\tbest: 0.3227356 (526)\ttotal: 2m 24s\tremaining: 2m 9s\n",
      "527:\tlearn: 0.2488587\ttest: 0.3226840\tbest: 0.3226840 (527)\ttotal: 2m 24s\tremaining: 2m 9s\n",
      "528:\tlearn: 0.2486651\ttest: 0.3226536\tbest: 0.3226536 (528)\ttotal: 2m 24s\tremaining: 2m 9s\n",
      "529:\tlearn: 0.2484846\ttest: 0.3226001\tbest: 0.3226001 (529)\ttotal: 2m 25s\tremaining: 2m 8s\n",
      "530:\tlearn: 0.2482946\ttest: 0.3225080\tbest: 0.3225080 (530)\ttotal: 2m 25s\tremaining: 2m 8s\n",
      "531:\tlearn: 0.2480855\ttest: 0.3224499\tbest: 0.3224499 (531)\ttotal: 2m 25s\tremaining: 2m 8s\n",
      "532:\tlearn: 0.2479173\ttest: 0.3224084\tbest: 0.3224084 (532)\ttotal: 2m 25s\tremaining: 2m 7s\n",
      "533:\tlearn: 0.2478076\ttest: 0.3223635\tbest: 0.3223635 (533)\ttotal: 2m 26s\tremaining: 2m 7s\n",
      "534:\tlearn: 0.2476124\ttest: 0.3223312\tbest: 0.3223312 (534)\ttotal: 2m 26s\tremaining: 2m 7s\n",
      "535:\tlearn: 0.2474246\ttest: 0.3222500\tbest: 0.3222500 (535)\ttotal: 2m 26s\tremaining: 2m 7s\n",
      "536:\tlearn: 0.2472290\ttest: 0.3221433\tbest: 0.3221433 (536)\ttotal: 2m 27s\tremaining: 2m 6s\n",
      "537:\tlearn: 0.2470463\ttest: 0.3221126\tbest: 0.3221126 (537)\ttotal: 2m 27s\tremaining: 2m 6s\n",
      "538:\tlearn: 0.2468377\ttest: 0.3220110\tbest: 0.3220110 (538)\ttotal: 2m 27s\tremaining: 2m 6s\n",
      "539:\tlearn: 0.2465990\ttest: 0.3220046\tbest: 0.3220046 (539)\ttotal: 2m 27s\tremaining: 2m 5s\n",
      "540:\tlearn: 0.2463646\ttest: 0.3219019\tbest: 0.3219019 (540)\ttotal: 2m 28s\tremaining: 2m 5s\n",
      "541:\tlearn: 0.2461645\ttest: 0.3218232\tbest: 0.3218232 (541)\ttotal: 2m 28s\tremaining: 2m 5s\n",
      "542:\tlearn: 0.2460371\ttest: 0.3217868\tbest: 0.3217868 (542)\ttotal: 2m 28s\tremaining: 2m 5s\n",
      "543:\tlearn: 0.2459784\ttest: 0.3217837\tbest: 0.3217837 (543)\ttotal: 2m 28s\tremaining: 2m 4s\n"
     ]
    },
    {
     "name": "stdout",
     "output_type": "stream",
     "text": [
      "544:\tlearn: 0.2457409\ttest: 0.3216719\tbest: 0.3216719 (544)\ttotal: 2m 29s\tremaining: 2m 4s\n",
      "545:\tlearn: 0.2455824\ttest: 0.3215783\tbest: 0.3215783 (545)\ttotal: 2m 29s\tremaining: 2m 4s\n",
      "546:\tlearn: 0.2453401\ttest: 0.3214780\tbest: 0.3214780 (546)\ttotal: 2m 29s\tremaining: 2m 3s\n",
      "547:\tlearn: 0.2451391\ttest: 0.3214198\tbest: 0.3214198 (547)\ttotal: 2m 29s\tremaining: 2m 3s\n",
      "548:\tlearn: 0.2449474\ttest: 0.3213542\tbest: 0.3213542 (548)\ttotal: 2m 30s\tremaining: 2m 3s\n",
      "549:\tlearn: 0.2448667\ttest: 0.3213273\tbest: 0.3213273 (549)\ttotal: 2m 30s\tremaining: 2m 3s\n",
      "550:\tlearn: 0.2446603\ttest: 0.3212858\tbest: 0.3212858 (550)\ttotal: 2m 30s\tremaining: 2m 2s\n",
      "551:\tlearn: 0.2444474\ttest: 0.3212421\tbest: 0.3212421 (551)\ttotal: 2m 30s\tremaining: 2m 2s\n",
      "552:\tlearn: 0.2442205\ttest: 0.3211573\tbest: 0.3211573 (552)\ttotal: 2m 31s\tremaining: 2m 2s\n",
      "553:\tlearn: 0.2440313\ttest: 0.3211017\tbest: 0.3211017 (553)\ttotal: 2m 31s\tremaining: 2m 1s\n",
      "554:\tlearn: 0.2438232\ttest: 0.3210416\tbest: 0.3210416 (554)\ttotal: 2m 31s\tremaining: 2m 1s\n",
      "555:\tlearn: 0.2437564\ttest: 0.3210419\tbest: 0.3210416 (554)\ttotal: 2m 32s\tremaining: 2m 1s\n",
      "556:\tlearn: 0.2435681\ttest: 0.3209834\tbest: 0.3209834 (556)\ttotal: 2m 32s\tremaining: 2m 1s\n",
      "557:\tlearn: 0.2434103\ttest: 0.3209722\tbest: 0.3209722 (557)\ttotal: 2m 32s\tremaining: 2m\n",
      "558:\tlearn: 0.2432636\ttest: 0.3209469\tbest: 0.3209469 (558)\ttotal: 2m 32s\tremaining: 2m\n",
      "559:\tlearn: 0.2430262\ttest: 0.3208358\tbest: 0.3208358 (559)\ttotal: 2m 33s\tremaining: 2m\n",
      "560:\tlearn: 0.2428260\ttest: 0.3207814\tbest: 0.3207814 (560)\ttotal: 2m 33s\tremaining: 2m\n",
      "561:\tlearn: 0.2426284\ttest: 0.3207092\tbest: 0.3207092 (561)\ttotal: 2m 33s\tremaining: 1m 59s\n",
      "562:\tlearn: 0.2424244\ttest: 0.3206088\tbest: 0.3206088 (562)\ttotal: 2m 33s\tremaining: 1m 59s\n",
      "563:\tlearn: 0.2423421\ttest: 0.3205946\tbest: 0.3205946 (563)\ttotal: 2m 34s\tremaining: 1m 59s\n",
      "564:\tlearn: 0.2421804\ttest: 0.3205181\tbest: 0.3205181 (564)\ttotal: 2m 34s\tremaining: 1m 58s\n",
      "565:\tlearn: 0.2419683\ttest: 0.3204666\tbest: 0.3204666 (565)\ttotal: 2m 34s\tremaining: 1m 58s\n",
      "566:\tlearn: 0.2419119\ttest: 0.3204514\tbest: 0.3204514 (566)\ttotal: 2m 34s\tremaining: 1m 58s\n",
      "567:\tlearn: 0.2417443\ttest: 0.3204027\tbest: 0.3204027 (567)\ttotal: 2m 35s\tremaining: 1m 58s\n",
      "568:\tlearn: 0.2415553\ttest: 0.3203298\tbest: 0.3203298 (568)\ttotal: 2m 35s\tremaining: 1m 57s\n",
      "569:\tlearn: 0.2413474\ttest: 0.3202199\tbest: 0.3202199 (569)\ttotal: 2m 35s\tremaining: 1m 57s\n",
      "570:\tlearn: 0.2411960\ttest: 0.3201966\tbest: 0.3201966 (570)\ttotal: 2m 35s\tremaining: 1m 57s\n",
      "571:\tlearn: 0.2410348\ttest: 0.3200938\tbest: 0.3200938 (571)\ttotal: 2m 36s\tremaining: 1m 56s\n",
      "572:\tlearn: 0.2409366\ttest: 0.3200798\tbest: 0.3200798 (572)\ttotal: 2m 36s\tremaining: 1m 56s\n",
      "573:\tlearn: 0.2407668\ttest: 0.3200614\tbest: 0.3200614 (573)\ttotal: 2m 36s\tremaining: 1m 56s\n",
      "574:\tlearn: 0.2406190\ttest: 0.3200052\tbest: 0.3200052 (574)\ttotal: 2m 37s\tremaining: 1m 56s\n",
      "575:\tlearn: 0.2404093\ttest: 0.3198980\tbest: 0.3198980 (575)\ttotal: 2m 37s\tremaining: 1m 55s\n",
      "576:\tlearn: 0.2401972\ttest: 0.3198191\tbest: 0.3198191 (576)\ttotal: 2m 37s\tremaining: 1m 55s\n",
      "577:\tlearn: 0.2399959\ttest: 0.3197093\tbest: 0.3197093 (577)\ttotal: 2m 37s\tremaining: 1m 55s\n",
      "578:\tlearn: 0.2397805\ttest: 0.3196098\tbest: 0.3196098 (578)\ttotal: 2m 38s\tremaining: 1m 54s\n",
      "579:\tlearn: 0.2395534\ttest: 0.3195122\tbest: 0.3195122 (579)\ttotal: 2m 38s\tremaining: 1m 54s\n",
      "580:\tlearn: 0.2393645\ttest: 0.3194140\tbest: 0.3194140 (580)\ttotal: 2m 38s\tremaining: 1m 54s\n",
      "581:\tlearn: 0.2391907\ttest: 0.3193651\tbest: 0.3193651 (581)\ttotal: 2m 38s\tremaining: 1m 54s\n",
      "582:\tlearn: 0.2390492\ttest: 0.3193632\tbest: 0.3193632 (582)\ttotal: 2m 39s\tremaining: 1m 53s\n",
      "583:\tlearn: 0.2388545\ttest: 0.3192485\tbest: 0.3192485 (583)\ttotal: 2m 39s\tremaining: 1m 53s\n",
      "584:\tlearn: 0.2386908\ttest: 0.3192004\tbest: 0.3192004 (584)\ttotal: 2m 39s\tremaining: 1m 53s\n",
      "585:\tlearn: 0.2386362\ttest: 0.3191882\tbest: 0.3191882 (585)\ttotal: 2m 40s\tremaining: 1m 53s\n",
      "586:\tlearn: 0.2384524\ttest: 0.3191531\tbest: 0.3191531 (586)\ttotal: 2m 40s\tremaining: 1m 52s\n",
      "587:\tlearn: 0.2383322\ttest: 0.3191228\tbest: 0.3191228 (587)\ttotal: 2m 40s\tremaining: 1m 52s\n",
      "588:\tlearn: 0.2381510\ttest: 0.3190659\tbest: 0.3190659 (588)\ttotal: 2m 40s\tremaining: 1m 52s\n",
      "589:\tlearn: 0.2379880\ttest: 0.3190093\tbest: 0.3190093 (589)\ttotal: 2m 41s\tremaining: 1m 52s\n",
      "590:\tlearn: 0.2378205\ttest: 0.3190044\tbest: 0.3190044 (590)\ttotal: 2m 41s\tremaining: 1m 51s\n",
      "591:\tlearn: 0.2376514\ttest: 0.3189812\tbest: 0.3189812 (591)\ttotal: 2m 41s\tremaining: 1m 51s\n",
      "592:\tlearn: 0.2374597\ttest: 0.3188765\tbest: 0.3188765 (592)\ttotal: 2m 42s\tremaining: 1m 51s\n",
      "593:\tlearn: 0.2372824\ttest: 0.3188326\tbest: 0.3188326 (593)\ttotal: 2m 42s\tremaining: 1m 50s\n",
      "594:\tlearn: 0.2372219\ttest: 0.3188380\tbest: 0.3188326 (593)\ttotal: 2m 42s\tremaining: 1m 50s\n",
      "595:\tlearn: 0.2370172\ttest: 0.3187298\tbest: 0.3187298 (595)\ttotal: 2m 42s\tremaining: 1m 50s\n",
      "596:\tlearn: 0.2369223\ttest: 0.3187077\tbest: 0.3187077 (596)\ttotal: 2m 43s\tremaining: 1m 50s\n",
      "597:\tlearn: 0.2367392\ttest: 0.3186699\tbest: 0.3186699 (597)\ttotal: 2m 43s\tremaining: 1m 49s\n",
      "598:\tlearn: 0.2365234\ttest: 0.3185974\tbest: 0.3185974 (598)\ttotal: 2m 43s\tremaining: 1m 49s\n",
      "599:\tlearn: 0.2363600\ttest: 0.3185362\tbest: 0.3185362 (599)\ttotal: 2m 44s\tremaining: 1m 49s\n",
      "600:\tlearn: 0.2361646\ttest: 0.3184959\tbest: 0.3184959 (600)\ttotal: 2m 44s\tremaining: 1m 49s\n",
      "601:\tlearn: 0.2360125\ttest: 0.3184727\tbest: 0.3184727 (601)\ttotal: 2m 44s\tremaining: 1m 48s\n",
      "602:\tlearn: 0.2358547\ttest: 0.3184442\tbest: 0.3184442 (602)\ttotal: 2m 44s\tremaining: 1m 48s\n",
      "603:\tlearn: 0.2356303\ttest: 0.3183233\tbest: 0.3183233 (603)\ttotal: 2m 45s\tremaining: 1m 48s\n",
      "604:\tlearn: 0.2354554\ttest: 0.3183273\tbest: 0.3183233 (603)\ttotal: 2m 45s\tremaining: 1m 48s\n",
      "605:\tlearn: 0.2352773\ttest: 0.3182693\tbest: 0.3182693 (605)\ttotal: 2m 45s\tremaining: 1m 47s\n",
      "606:\tlearn: 0.2351085\ttest: 0.3181843\tbest: 0.3181843 (606)\ttotal: 2m 45s\tremaining: 1m 47s\n",
      "607:\tlearn: 0.2349519\ttest: 0.3181499\tbest: 0.3181499 (607)\ttotal: 2m 46s\tremaining: 1m 47s\n",
      "608:\tlearn: 0.2348009\ttest: 0.3181234\tbest: 0.3181234 (608)\ttotal: 2m 46s\tremaining: 1m 46s\n",
      "609:\tlearn: 0.2346363\ttest: 0.3180758\tbest: 0.3180758 (609)\ttotal: 2m 46s\tremaining: 1m 46s\n",
      "610:\tlearn: 0.2344457\ttest: 0.3180154\tbest: 0.3180154 (610)\ttotal: 2m 47s\tremaining: 1m 46s\n",
      "611:\tlearn: 0.2342818\ttest: 0.3179290\tbest: 0.3179290 (611)\ttotal: 2m 47s\tremaining: 1m 46s\n",
      "612:\tlearn: 0.2341470\ttest: 0.3178763\tbest: 0.3178763 (612)\ttotal: 2m 47s\tremaining: 1m 45s\n",
      "613:\tlearn: 0.2339249\ttest: 0.3178140\tbest: 0.3178140 (613)\ttotal: 2m 47s\tremaining: 1m 45s\n",
      "614:\tlearn: 0.2337680\ttest: 0.3177758\tbest: 0.3177758 (614)\ttotal: 2m 48s\tremaining: 1m 45s\n",
      "615:\tlearn: 0.2335865\ttest: 0.3177030\tbest: 0.3177030 (615)\ttotal: 2m 48s\tremaining: 1m 45s\n",
      "616:\tlearn: 0.2334768\ttest: 0.3176953\tbest: 0.3176953 (616)\ttotal: 2m 48s\tremaining: 1m 44s\n",
      "617:\tlearn: 0.2333216\ttest: 0.3176427\tbest: 0.3176427 (617)\ttotal: 2m 49s\tremaining: 1m 44s\n",
      "618:\tlearn: 0.2331712\ttest: 0.3175999\tbest: 0.3175999 (618)\ttotal: 2m 49s\tremaining: 1m 44s\n",
      "619:\tlearn: 0.2330658\ttest: 0.3175781\tbest: 0.3175781 (619)\ttotal: 2m 49s\tremaining: 1m 44s\n",
      "620:\tlearn: 0.2329085\ttest: 0.3175403\tbest: 0.3175403 (620)\ttotal: 2m 50s\tremaining: 1m 43s\n",
      "621:\tlearn: 0.2327305\ttest: 0.3174784\tbest: 0.3174784 (621)\ttotal: 2m 50s\tremaining: 1m 43s\n",
      "622:\tlearn: 0.2325781\ttest: 0.3174397\tbest: 0.3174397 (622)\ttotal: 2m 50s\tremaining: 1m 43s\n",
      "623:\tlearn: 0.2324154\ttest: 0.3174099\tbest: 0.3174099 (623)\ttotal: 2m 50s\tremaining: 1m 43s\n",
      "624:\tlearn: 0.2323528\ttest: 0.3173909\tbest: 0.3173909 (624)\ttotal: 2m 51s\tremaining: 1m 42s\n",
      "625:\tlearn: 0.2321512\ttest: 0.3173136\tbest: 0.3173136 (625)\ttotal: 2m 51s\tremaining: 1m 42s\n",
      "626:\tlearn: 0.2319672\ttest: 0.3172878\tbest: 0.3172878 (626)\ttotal: 2m 51s\tremaining: 1m 42s\n",
      "627:\tlearn: 0.2318154\ttest: 0.3171987\tbest: 0.3171987 (627)\ttotal: 2m 52s\tremaining: 1m 41s\n",
      "628:\tlearn: 0.2315989\ttest: 0.3171521\tbest: 0.3171521 (628)\ttotal: 2m 52s\tremaining: 1m 41s\n",
      "629:\tlearn: 0.2314520\ttest: 0.3170695\tbest: 0.3170695 (629)\ttotal: 2m 52s\tremaining: 1m 41s\n",
      "630:\tlearn: 0.2312748\ttest: 0.3170139\tbest: 0.3170139 (630)\ttotal: 2m 52s\tremaining: 1m 41s\n",
      "631:\tlearn: 0.2311537\ttest: 0.3169682\tbest: 0.3169682 (631)\ttotal: 2m 53s\tremaining: 1m 40s\n",
      "632:\tlearn: 0.2310159\ttest: 0.3169430\tbest: 0.3169430 (632)\ttotal: 2m 53s\tremaining: 1m 40s\n",
      "633:\tlearn: 0.2309655\ttest: 0.3169386\tbest: 0.3169386 (633)\ttotal: 2m 53s\tremaining: 1m 40s\n"
     ]
    },
    {
     "name": "stdout",
     "output_type": "stream",
     "text": [
      "634:\tlearn: 0.2308915\ttest: 0.3169496\tbest: 0.3169386 (633)\ttotal: 2m 54s\tremaining: 1m 40s\n",
      "635:\tlearn: 0.2307451\ttest: 0.3168512\tbest: 0.3168512 (635)\ttotal: 2m 54s\tremaining: 1m 39s\n",
      "636:\tlearn: 0.2305835\ttest: 0.3168324\tbest: 0.3168324 (636)\ttotal: 2m 54s\tremaining: 1m 39s\n",
      "637:\tlearn: 0.2304302\ttest: 0.3167655\tbest: 0.3167655 (637)\ttotal: 2m 54s\tremaining: 1m 39s\n",
      "638:\tlearn: 0.2303639\ttest: 0.3167670\tbest: 0.3167655 (637)\ttotal: 2m 55s\tremaining: 1m 38s\n",
      "639:\tlearn: 0.2301913\ttest: 0.3167794\tbest: 0.3167655 (637)\ttotal: 2m 55s\tremaining: 1m 38s\n",
      "640:\tlearn: 0.2300154\ttest: 0.3167259\tbest: 0.3167259 (640)\ttotal: 2m 55s\tremaining: 1m 38s\n",
      "641:\tlearn: 0.2298350\ttest: 0.3167378\tbest: 0.3167259 (640)\ttotal: 2m 55s\tremaining: 1m 38s\n",
      "642:\tlearn: 0.2297486\ttest: 0.3167376\tbest: 0.3167259 (640)\ttotal: 2m 56s\tremaining: 1m 37s\n",
      "643:\tlearn: 0.2295689\ttest: 0.3166471\tbest: 0.3166471 (643)\ttotal: 2m 56s\tremaining: 1m 37s\n",
      "644:\tlearn: 0.2293267\ttest: 0.3165894\tbest: 0.3165894 (644)\ttotal: 2m 56s\tremaining: 1m 37s\n",
      "645:\tlearn: 0.2292291\ttest: 0.3165767\tbest: 0.3165767 (645)\ttotal: 2m 57s\tremaining: 1m 37s\n",
      "646:\tlearn: 0.2290664\ttest: 0.3165075\tbest: 0.3165075 (646)\ttotal: 2m 57s\tremaining: 1m 36s\n",
      "647:\tlearn: 0.2290163\ttest: 0.3164901\tbest: 0.3164901 (647)\ttotal: 2m 57s\tremaining: 1m 36s\n",
      "648:\tlearn: 0.2288256\ttest: 0.3164261\tbest: 0.3164261 (648)\ttotal: 2m 57s\tremaining: 1m 36s\n",
      "649:\tlearn: 0.2286395\ttest: 0.3163455\tbest: 0.3163455 (649)\ttotal: 2m 58s\tremaining: 1m 35s\n",
      "650:\tlearn: 0.2285134\ttest: 0.3163237\tbest: 0.3163237 (650)\ttotal: 2m 58s\tremaining: 1m 35s\n",
      "651:\tlearn: 0.2283308\ttest: 0.3162207\tbest: 0.3162207 (651)\ttotal: 2m 58s\tremaining: 1m 35s\n",
      "652:\tlearn: 0.2281179\ttest: 0.3161309\tbest: 0.3161309 (652)\ttotal: 2m 58s\tremaining: 1m 35s\n",
      "653:\tlearn: 0.2279851\ttest: 0.3160733\tbest: 0.3160733 (653)\ttotal: 2m 59s\tremaining: 1m 34s\n",
      "654:\tlearn: 0.2279152\ttest: 0.3160788\tbest: 0.3160733 (653)\ttotal: 2m 59s\tremaining: 1m 34s\n",
      "655:\tlearn: 0.2277619\ttest: 0.3159979\tbest: 0.3159979 (655)\ttotal: 2m 59s\tremaining: 1m 34s\n",
      "656:\tlearn: 0.2276618\ttest: 0.3159787\tbest: 0.3159787 (656)\ttotal: 2m 59s\tremaining: 1m 33s\n",
      "657:\tlearn: 0.2274815\ttest: 0.3159154\tbest: 0.3159154 (657)\ttotal: 3m\tremaining: 1m 33s\n",
      "658:\tlearn: 0.2272869\ttest: 0.3158393\tbest: 0.3158393 (658)\ttotal: 3m\tremaining: 1m 33s\n",
      "659:\tlearn: 0.2271129\ttest: 0.3157938\tbest: 0.3157938 (659)\ttotal: 3m\tremaining: 1m 33s\n",
      "660:\tlearn: 0.2269203\ttest: 0.3157376\tbest: 0.3157376 (660)\ttotal: 3m\tremaining: 1m 32s\n",
      "661:\tlearn: 0.2268714\ttest: 0.3157250\tbest: 0.3157250 (661)\ttotal: 3m 1s\tremaining: 1m 32s\n",
      "662:\tlearn: 0.2267097\ttest: 0.3156547\tbest: 0.3156547 (662)\ttotal: 3m 1s\tremaining: 1m 32s\n",
      "663:\tlearn: 0.2266616\ttest: 0.3156460\tbest: 0.3156460 (663)\ttotal: 3m 1s\tremaining: 1m 31s\n",
      "664:\tlearn: 0.2264844\ttest: 0.3155887\tbest: 0.3155887 (664)\ttotal: 3m 1s\tremaining: 1m 31s\n",
      "665:\tlearn: 0.2264225\ttest: 0.3155939\tbest: 0.3155887 (664)\ttotal: 3m 2s\tremaining: 1m 31s\n",
      "666:\tlearn: 0.2262732\ttest: 0.3155601\tbest: 0.3155601 (666)\ttotal: 3m 2s\tremaining: 1m 31s\n",
      "667:\tlearn: 0.2260846\ttest: 0.3155259\tbest: 0.3155259 (667)\ttotal: 3m 2s\tremaining: 1m 30s\n",
      "668:\tlearn: 0.2258918\ttest: 0.3154832\tbest: 0.3154832 (668)\ttotal: 3m 3s\tremaining: 1m 30s\n",
      "669:\tlearn: 0.2257048\ttest: 0.3153859\tbest: 0.3153859 (669)\ttotal: 3m 3s\tremaining: 1m 30s\n",
      "670:\tlearn: 0.2255063\ttest: 0.3153026\tbest: 0.3153026 (670)\ttotal: 3m 3s\tremaining: 1m 30s\n",
      "671:\tlearn: 0.2254625\ttest: 0.3153136\tbest: 0.3153026 (670)\ttotal: 3m 3s\tremaining: 1m 29s\n",
      "672:\tlearn: 0.2253906\ttest: 0.3152933\tbest: 0.3152933 (672)\ttotal: 3m 4s\tremaining: 1m 29s\n",
      "673:\tlearn: 0.2252019\ttest: 0.3152154\tbest: 0.3152154 (673)\ttotal: 3m 4s\tremaining: 1m 29s\n",
      "674:\tlearn: 0.2250407\ttest: 0.3151803\tbest: 0.3151803 (674)\ttotal: 3m 4s\tremaining: 1m 28s\n",
      "675:\tlearn: 0.2248688\ttest: 0.3150500\tbest: 0.3150500 (675)\ttotal: 3m 4s\tremaining: 1m 28s\n",
      "676:\tlearn: 0.2247047\ttest: 0.3149904\tbest: 0.3149904 (676)\ttotal: 3m 5s\tremaining: 1m 28s\n",
      "677:\tlearn: 0.2245307\ttest: 0.3149599\tbest: 0.3149599 (677)\ttotal: 3m 5s\tremaining: 1m 28s\n",
      "678:\tlearn: 0.2243602\ttest: 0.3148932\tbest: 0.3148932 (678)\ttotal: 3m 5s\tremaining: 1m 27s\n",
      "679:\tlearn: 0.2241895\ttest: 0.3148086\tbest: 0.3148086 (679)\ttotal: 3m 5s\tremaining: 1m 27s\n",
      "680:\tlearn: 0.2240291\ttest: 0.3147778\tbest: 0.3147778 (680)\ttotal: 3m 6s\tremaining: 1m 27s\n",
      "681:\tlearn: 0.2238584\ttest: 0.3147158\tbest: 0.3147158 (681)\ttotal: 3m 6s\tremaining: 1m 26s\n",
      "682:\tlearn: 0.2236906\ttest: 0.3146470\tbest: 0.3146470 (682)\ttotal: 3m 6s\tremaining: 1m 26s\n",
      "683:\tlearn: 0.2235149\ttest: 0.3145909\tbest: 0.3145909 (683)\ttotal: 3m 6s\tremaining: 1m 26s\n",
      "684:\tlearn: 0.2234606\ttest: 0.3145772\tbest: 0.3145772 (684)\ttotal: 3m 7s\tremaining: 1m 26s\n",
      "685:\tlearn: 0.2232993\ttest: 0.3145358\tbest: 0.3145358 (685)\ttotal: 3m 7s\tremaining: 1m 25s\n",
      "686:\tlearn: 0.2231702\ttest: 0.3145268\tbest: 0.3145268 (686)\ttotal: 3m 7s\tremaining: 1m 25s\n",
      "687:\tlearn: 0.2229906\ttest: 0.3144941\tbest: 0.3144941 (687)\ttotal: 3m 8s\tremaining: 1m 25s\n",
      "688:\tlearn: 0.2229406\ttest: 0.3144878\tbest: 0.3144878 (688)\ttotal: 3m 8s\tremaining: 1m 24s\n",
      "689:\tlearn: 0.2227672\ttest: 0.3144038\tbest: 0.3144038 (689)\ttotal: 3m 8s\tremaining: 1m 24s\n",
      "690:\tlearn: 0.2227111\ttest: 0.3144046\tbest: 0.3144038 (689)\ttotal: 3m 8s\tremaining: 1m 24s\n",
      "691:\tlearn: 0.2225263\ttest: 0.3143440\tbest: 0.3143440 (691)\ttotal: 3m 9s\tremaining: 1m 24s\n",
      "692:\tlearn: 0.2223458\ttest: 0.3142630\tbest: 0.3142630 (692)\ttotal: 3m 9s\tremaining: 1m 23s\n",
      "693:\tlearn: 0.2221688\ttest: 0.3141958\tbest: 0.3141958 (693)\ttotal: 3m 9s\tremaining: 1m 23s\n",
      "694:\tlearn: 0.2220299\ttest: 0.3141505\tbest: 0.3141505 (694)\ttotal: 3m 9s\tremaining: 1m 23s\n",
      "695:\tlearn: 0.2218497\ttest: 0.3140470\tbest: 0.3140470 (695)\ttotal: 3m 10s\tremaining: 1m 23s\n",
      "696:\tlearn: 0.2217921\ttest: 0.3140332\tbest: 0.3140332 (696)\ttotal: 3m 10s\tremaining: 1m 22s\n",
      "697:\tlearn: 0.2216453\ttest: 0.3139586\tbest: 0.3139586 (697)\ttotal: 3m 10s\tremaining: 1m 22s\n",
      "698:\tlearn: 0.2215052\ttest: 0.3139133\tbest: 0.3139133 (698)\ttotal: 3m 10s\tremaining: 1m 22s\n",
      "699:\tlearn: 0.2213456\ttest: 0.3138636\tbest: 0.3138636 (699)\ttotal: 3m 11s\tremaining: 1m 21s\n",
      "700:\tlearn: 0.2213087\ttest: 0.3138659\tbest: 0.3138636 (699)\ttotal: 3m 11s\tremaining: 1m 21s\n",
      "701:\tlearn: 0.2211324\ttest: 0.3137563\tbest: 0.3137563 (701)\ttotal: 3m 11s\tremaining: 1m 21s\n",
      "702:\tlearn: 0.2210825\ttest: 0.3137391\tbest: 0.3137391 (702)\ttotal: 3m 11s\tremaining: 1m 21s\n",
      "703:\tlearn: 0.2209641\ttest: 0.3137231\tbest: 0.3137231 (703)\ttotal: 3m 12s\tremaining: 1m 20s\n",
      "704:\tlearn: 0.2208091\ttest: 0.3137003\tbest: 0.3137003 (704)\ttotal: 3m 12s\tremaining: 1m 20s\n",
      "705:\tlearn: 0.2206472\ttest: 0.3136442\tbest: 0.3136442 (705)\ttotal: 3m 12s\tremaining: 1m 20s\n",
      "706:\tlearn: 0.2204782\ttest: 0.3135738\tbest: 0.3135738 (706)\ttotal: 3m 13s\tremaining: 1m 20s\n",
      "707:\tlearn: 0.2203441\ttest: 0.3135582\tbest: 0.3135582 (707)\ttotal: 3m 13s\tremaining: 1m 19s\n",
      "708:\tlearn: 0.2202125\ttest: 0.3135396\tbest: 0.3135396 (708)\ttotal: 3m 13s\tremaining: 1m 19s\n",
      "709:\tlearn: 0.2201385\ttest: 0.3135407\tbest: 0.3135396 (708)\ttotal: 3m 13s\tremaining: 1m 19s\n",
      "710:\tlearn: 0.2199855\ttest: 0.3134855\tbest: 0.3134855 (710)\ttotal: 3m 14s\tremaining: 1m 18s\n",
      "711:\tlearn: 0.2198737\ttest: 0.3134493\tbest: 0.3134493 (711)\ttotal: 3m 14s\tremaining: 1m 18s\n",
      "712:\tlearn: 0.2198388\ttest: 0.3134490\tbest: 0.3134490 (712)\ttotal: 3m 14s\tremaining: 1m 18s\n",
      "713:\tlearn: 0.2196699\ttest: 0.3133556\tbest: 0.3133556 (713)\ttotal: 3m 14s\tremaining: 1m 18s\n",
      "714:\tlearn: 0.2195332\ttest: 0.3133191\tbest: 0.3133191 (714)\ttotal: 3m 15s\tremaining: 1m 17s\n",
      "715:\tlearn: 0.2193737\ttest: 0.3132793\tbest: 0.3132793 (715)\ttotal: 3m 15s\tremaining: 1m 17s\n",
      "716:\tlearn: 0.2192652\ttest: 0.3132607\tbest: 0.3132607 (716)\ttotal: 3m 15s\tremaining: 1m 17s\n",
      "717:\tlearn: 0.2191115\ttest: 0.3132889\tbest: 0.3132607 (716)\ttotal: 3m 15s\tremaining: 1m 16s\n",
      "718:\tlearn: 0.2189389\ttest: 0.3132370\tbest: 0.3132370 (718)\ttotal: 3m 16s\tremaining: 1m 16s\n",
      "719:\tlearn: 0.2187771\ttest: 0.3131740\tbest: 0.3131740 (719)\ttotal: 3m 16s\tremaining: 1m 16s\n",
      "720:\tlearn: 0.2186408\ttest: 0.3131254\tbest: 0.3131254 (720)\ttotal: 3m 16s\tremaining: 1m 16s\n",
      "721:\tlearn: 0.2184606\ttest: 0.3130608\tbest: 0.3130608 (721)\ttotal: 3m 17s\tremaining: 1m 15s\n",
      "722:\tlearn: 0.2183180\ttest: 0.3129805\tbest: 0.3129805 (722)\ttotal: 3m 17s\tremaining: 1m 15s\n",
      "723:\tlearn: 0.2181490\ttest: 0.3128904\tbest: 0.3128904 (723)\ttotal: 3m 17s\tremaining: 1m 15s\n"
     ]
    },
    {
     "name": "stdout",
     "output_type": "stream",
     "text": [
      "724:\tlearn: 0.2179747\ttest: 0.3128449\tbest: 0.3128449 (724)\ttotal: 3m 17s\tremaining: 1m 15s\n",
      "725:\tlearn: 0.2177884\ttest: 0.3127308\tbest: 0.3127308 (725)\ttotal: 3m 18s\tremaining: 1m 14s\n",
      "726:\tlearn: 0.2177330\ttest: 0.3127181\tbest: 0.3127181 (726)\ttotal: 3m 18s\tremaining: 1m 14s\n",
      "727:\tlearn: 0.2176916\ttest: 0.3127015\tbest: 0.3127015 (727)\ttotal: 3m 18s\tremaining: 1m 14s\n",
      "728:\tlearn: 0.2175677\ttest: 0.3126936\tbest: 0.3126936 (728)\ttotal: 3m 18s\tremaining: 1m 13s\n",
      "729:\tlearn: 0.2174040\ttest: 0.3126594\tbest: 0.3126594 (729)\ttotal: 3m 19s\tremaining: 1m 13s\n",
      "730:\tlearn: 0.2172677\ttest: 0.3126625\tbest: 0.3126594 (729)\ttotal: 3m 19s\tremaining: 1m 13s\n",
      "731:\tlearn: 0.2172339\ttest: 0.3126664\tbest: 0.3126594 (729)\ttotal: 3m 19s\tremaining: 1m 13s\n",
      "732:\tlearn: 0.2170729\ttest: 0.3125992\tbest: 0.3125992 (732)\ttotal: 3m 19s\tremaining: 1m 12s\n",
      "733:\tlearn: 0.2169357\ttest: 0.3125434\tbest: 0.3125434 (733)\ttotal: 3m 20s\tremaining: 1m 12s\n",
      "734:\tlearn: 0.2168717\ttest: 0.3125213\tbest: 0.3125213 (734)\ttotal: 3m 20s\tremaining: 1m 12s\n",
      "735:\tlearn: 0.2166807\ttest: 0.3124982\tbest: 0.3124982 (735)\ttotal: 3m 20s\tremaining: 1m 12s\n",
      "736:\tlearn: 0.2165561\ttest: 0.3124596\tbest: 0.3124596 (736)\ttotal: 3m 21s\tremaining: 1m 11s\n",
      "737:\tlearn: 0.2165106\ttest: 0.3124500\tbest: 0.3124500 (737)\ttotal: 3m 21s\tremaining: 1m 11s\n",
      "738:\tlearn: 0.2163458\ttest: 0.3123682\tbest: 0.3123682 (738)\ttotal: 3m 21s\tremaining: 1m 11s\n",
      "739:\tlearn: 0.2162398\ttest: 0.3123776\tbest: 0.3123682 (738)\ttotal: 3m 21s\tremaining: 1m 10s\n",
      "740:\tlearn: 0.2161898\ttest: 0.3124044\tbest: 0.3123682 (738)\ttotal: 3m 22s\tremaining: 1m 10s\n",
      "741:\tlearn: 0.2160152\ttest: 0.3123521\tbest: 0.3123521 (741)\ttotal: 3m 22s\tremaining: 1m 10s\n",
      "742:\tlearn: 0.2158784\ttest: 0.3122930\tbest: 0.3122930 (742)\ttotal: 3m 22s\tremaining: 1m 10s\n",
      "743:\tlearn: 0.2157282\ttest: 0.3122612\tbest: 0.3122612 (743)\ttotal: 3m 22s\tremaining: 1m 9s\n",
      "744:\tlearn: 0.2156838\ttest: 0.3122543\tbest: 0.3122543 (744)\ttotal: 3m 23s\tremaining: 1m 9s\n",
      "745:\tlearn: 0.2155300\ttest: 0.3122024\tbest: 0.3122024 (745)\ttotal: 3m 23s\tremaining: 1m 9s\n",
      "746:\tlearn: 0.2154075\ttest: 0.3121593\tbest: 0.3121593 (746)\ttotal: 3m 23s\tremaining: 1m 8s\n",
      "747:\tlearn: 0.2152642\ttest: 0.3120945\tbest: 0.3120945 (747)\ttotal: 3m 23s\tremaining: 1m 8s\n",
      "748:\tlearn: 0.2150954\ttest: 0.3120588\tbest: 0.3120588 (748)\ttotal: 3m 24s\tremaining: 1m 8s\n",
      "749:\tlearn: 0.2150548\ttest: 0.3120607\tbest: 0.3120588 (748)\ttotal: 3m 24s\tremaining: 1m 8s\n",
      "750:\tlearn: 0.2149176\ttest: 0.3119981\tbest: 0.3119981 (750)\ttotal: 3m 24s\tremaining: 1m 7s\n",
      "751:\tlearn: 0.2147543\ttest: 0.3119411\tbest: 0.3119411 (751)\ttotal: 3m 24s\tremaining: 1m 7s\n",
      "752:\tlearn: 0.2146939\ttest: 0.3119344\tbest: 0.3119344 (752)\ttotal: 3m 25s\tremaining: 1m 7s\n",
      "753:\tlearn: 0.2145380\ttest: 0.3119278\tbest: 0.3119278 (753)\ttotal: 3m 25s\tremaining: 1m 7s\n",
      "754:\tlearn: 0.2145069\ttest: 0.3119295\tbest: 0.3119278 (753)\ttotal: 3m 25s\tremaining: 1m 6s\n",
      "755:\tlearn: 0.2143590\ttest: 0.3119030\tbest: 0.3119030 (755)\ttotal: 3m 25s\tremaining: 1m 6s\n",
      "756:\tlearn: 0.2142365\ttest: 0.3118623\tbest: 0.3118623 (756)\ttotal: 3m 26s\tremaining: 1m 6s\n",
      "757:\tlearn: 0.2141946\ttest: 0.3118638\tbest: 0.3118623 (756)\ttotal: 3m 26s\tremaining: 1m 5s\n",
      "758:\tlearn: 0.2140377\ttest: 0.3118260\tbest: 0.3118260 (758)\ttotal: 3m 26s\tremaining: 1m 5s\n",
      "759:\tlearn: 0.2138947\ttest: 0.3117461\tbest: 0.3117461 (759)\ttotal: 3m 26s\tremaining: 1m 5s\n",
      "760:\tlearn: 0.2137409\ttest: 0.3116599\tbest: 0.3116599 (760)\ttotal: 3m 27s\tremaining: 1m 5s\n",
      "761:\tlearn: 0.2136023\ttest: 0.3115764\tbest: 0.3115764 (761)\ttotal: 3m 27s\tremaining: 1m 4s\n",
      "762:\tlearn: 0.2135143\ttest: 0.3115932\tbest: 0.3115764 (761)\ttotal: 3m 27s\tremaining: 1m 4s\n",
      "763:\tlearn: 0.2133584\ttest: 0.3115463\tbest: 0.3115463 (763)\ttotal: 3m 28s\tremaining: 1m 4s\n",
      "764:\tlearn: 0.2131952\ttest: 0.3114923\tbest: 0.3114923 (764)\ttotal: 3m 28s\tremaining: 1m 3s\n",
      "765:\tlearn: 0.2130166\ttest: 0.3113948\tbest: 0.3113948 (765)\ttotal: 3m 28s\tremaining: 1m 3s\n",
      "766:\tlearn: 0.2129061\ttest: 0.3113921\tbest: 0.3113921 (766)\ttotal: 3m 28s\tremaining: 1m 3s\n",
      "767:\tlearn: 0.2128757\ttest: 0.3113990\tbest: 0.3113921 (766)\ttotal: 3m 29s\tremaining: 1m 3s\n",
      "768:\tlearn: 0.2127200\ttest: 0.3113239\tbest: 0.3113239 (768)\ttotal: 3m 29s\tremaining: 1m 2s\n",
      "769:\tlearn: 0.2126908\ttest: 0.3113245\tbest: 0.3113239 (768)\ttotal: 3m 29s\tremaining: 1m 2s\n",
      "770:\tlearn: 0.2125363\ttest: 0.3113039\tbest: 0.3113039 (770)\ttotal: 3m 29s\tremaining: 1m 2s\n",
      "771:\tlearn: 0.2123958\ttest: 0.3112751\tbest: 0.3112751 (771)\ttotal: 3m 30s\tremaining: 1m 2s\n",
      "772:\tlearn: 0.2122656\ttest: 0.3112351\tbest: 0.3112351 (772)\ttotal: 3m 30s\tremaining: 1m 1s\n",
      "773:\tlearn: 0.2121854\ttest: 0.3112357\tbest: 0.3112351 (772)\ttotal: 3m 30s\tremaining: 1m 1s\n",
      "774:\tlearn: 0.2120248\ttest: 0.3111387\tbest: 0.3111387 (774)\ttotal: 3m 30s\tremaining: 1m 1s\n",
      "775:\tlearn: 0.2118784\ttest: 0.3110848\tbest: 0.3110848 (775)\ttotal: 3m 31s\tremaining: 1m\n",
      "776:\tlearn: 0.2117844\ttest: 0.3110587\tbest: 0.3110587 (776)\ttotal: 3m 31s\tremaining: 1m\n",
      "777:\tlearn: 0.2116437\ttest: 0.3110348\tbest: 0.3110348 (777)\ttotal: 3m 31s\tremaining: 1m\n",
      "778:\tlearn: 0.2114901\ttest: 0.3110162\tbest: 0.3110162 (778)\ttotal: 3m 32s\tremaining: 1m\n",
      "779:\tlearn: 0.2113745\ttest: 0.3109896\tbest: 0.3109896 (779)\ttotal: 3m 32s\tremaining: 59.9s\n",
      "780:\tlearn: 0.2113137\ttest: 0.3109805\tbest: 0.3109805 (780)\ttotal: 3m 32s\tremaining: 59.6s\n",
      "781:\tlearn: 0.2111669\ttest: 0.3109618\tbest: 0.3109618 (781)\ttotal: 3m 32s\tremaining: 59.3s\n",
      "782:\tlearn: 0.2110126\ttest: 0.3109247\tbest: 0.3109247 (782)\ttotal: 3m 33s\tremaining: 59.1s\n",
      "783:\tlearn: 0.2109172\ttest: 0.3108724\tbest: 0.3108724 (783)\ttotal: 3m 33s\tremaining: 58.8s\n",
      "784:\tlearn: 0.2108047\ttest: 0.3108715\tbest: 0.3108715 (784)\ttotal: 3m 33s\tremaining: 58.5s\n",
      "785:\tlearn: 0.2106745\ttest: 0.3108479\tbest: 0.3108479 (785)\ttotal: 3m 33s\tremaining: 58.2s\n",
      "786:\tlearn: 0.2105091\ttest: 0.3108071\tbest: 0.3108071 (786)\ttotal: 3m 34s\tremaining: 58s\n",
      "787:\tlearn: 0.2103785\ttest: 0.3107870\tbest: 0.3107870 (787)\ttotal: 3m 34s\tremaining: 57.7s\n",
      "788:\tlearn: 0.2102046\ttest: 0.3107191\tbest: 0.3107191 (788)\ttotal: 3m 34s\tremaining: 57.4s\n",
      "789:\tlearn: 0.2101755\ttest: 0.3107228\tbest: 0.3107191 (788)\ttotal: 3m 34s\tremaining: 57.1s\n",
      "790:\tlearn: 0.2101123\ttest: 0.3107213\tbest: 0.3107191 (788)\ttotal: 3m 35s\tremaining: 56.9s\n",
      "791:\tlearn: 0.2100580\ttest: 0.3107352\tbest: 0.3107191 (788)\ttotal: 3m 35s\tremaining: 56.6s\n",
      "792:\tlearn: 0.2099192\ttest: 0.3106625\tbest: 0.3106625 (792)\ttotal: 3m 35s\tremaining: 56.3s\n",
      "793:\tlearn: 0.2097930\ttest: 0.3105916\tbest: 0.3105916 (793)\ttotal: 3m 35s\tremaining: 56s\n",
      "794:\tlearn: 0.2096647\ttest: 0.3105604\tbest: 0.3105604 (794)\ttotal: 3m 36s\tremaining: 55.8s\n",
      "795:\tlearn: 0.2095363\ttest: 0.3105297\tbest: 0.3105297 (795)\ttotal: 3m 36s\tremaining: 55.5s\n",
      "796:\tlearn: 0.2094947\ttest: 0.3105182\tbest: 0.3105182 (796)\ttotal: 3m 36s\tremaining: 55.2s\n",
      "797:\tlearn: 0.2094323\ttest: 0.3105144\tbest: 0.3105144 (797)\ttotal: 3m 36s\tremaining: 54.9s\n",
      "798:\tlearn: 0.2093167\ttest: 0.3104980\tbest: 0.3104980 (798)\ttotal: 3m 37s\tremaining: 54.7s\n",
      "799:\tlearn: 0.2091273\ttest: 0.3104826\tbest: 0.3104826 (799)\ttotal: 3m 37s\tremaining: 54.4s\n",
      "800:\tlearn: 0.2090016\ttest: 0.3104403\tbest: 0.3104403 (800)\ttotal: 3m 37s\tremaining: 54.1s\n",
      "801:\tlearn: 0.2088857\ttest: 0.3104116\tbest: 0.3104116 (801)\ttotal: 3m 38s\tremaining: 53.8s\n",
      "802:\tlearn: 0.2087914\ttest: 0.3103733\tbest: 0.3103733 (802)\ttotal: 3m 38s\tremaining: 53.6s\n",
      "803:\tlearn: 0.2087518\ttest: 0.3103775\tbest: 0.3103733 (802)\ttotal: 3m 38s\tremaining: 53.3s\n",
      "804:\tlearn: 0.2086061\ttest: 0.3103359\tbest: 0.3103359 (804)\ttotal: 3m 38s\tremaining: 53s\n",
      "805:\tlearn: 0.2084767\ttest: 0.3103143\tbest: 0.3103143 (805)\ttotal: 3m 39s\tremaining: 52.7s\n",
      "806:\tlearn: 0.2083435\ttest: 0.3102757\tbest: 0.3102757 (806)\ttotal: 3m 39s\tremaining: 52.5s\n",
      "807:\tlearn: 0.2082067\ttest: 0.3102244\tbest: 0.3102244 (807)\ttotal: 3m 39s\tremaining: 52.2s\n",
      "808:\tlearn: 0.2080493\ttest: 0.3101835\tbest: 0.3101835 (808)\ttotal: 3m 39s\tremaining: 51.9s\n",
      "809:\tlearn: 0.2078940\ttest: 0.3101460\tbest: 0.3101460 (809)\ttotal: 3m 40s\tremaining: 51.7s\n",
      "810:\tlearn: 0.2077694\ttest: 0.3100897\tbest: 0.3100897 (810)\ttotal: 3m 40s\tremaining: 51.4s\n",
      "811:\tlearn: 0.2076464\ttest: 0.3100760\tbest: 0.3100760 (811)\ttotal: 3m 40s\tremaining: 51.1s\n",
      "812:\tlearn: 0.2075030\ttest: 0.3100080\tbest: 0.3100080 (812)\ttotal: 3m 41s\tremaining: 50.8s\n",
      "813:\tlearn: 0.2073627\ttest: 0.3099909\tbest: 0.3099909 (813)\ttotal: 3m 41s\tremaining: 50.6s\n",
      "814:\tlearn: 0.2073165\ttest: 0.3099811\tbest: 0.3099811 (814)\ttotal: 3m 41s\tremaining: 50.3s\n"
     ]
    },
    {
     "name": "stdout",
     "output_type": "stream",
     "text": [
      "815:\tlearn: 0.2071742\ttest: 0.3098974\tbest: 0.3098974 (815)\ttotal: 3m 41s\tremaining: 50s\n",
      "816:\tlearn: 0.2071265\ttest: 0.3098865\tbest: 0.3098865 (816)\ttotal: 3m 42s\tremaining: 49.7s\n",
      "817:\tlearn: 0.2069640\ttest: 0.3098262\tbest: 0.3098262 (817)\ttotal: 3m 42s\tremaining: 49.5s\n",
      "818:\tlearn: 0.2068290\ttest: 0.3098191\tbest: 0.3098191 (818)\ttotal: 3m 42s\tremaining: 49.2s\n",
      "819:\tlearn: 0.2066878\ttest: 0.3097794\tbest: 0.3097794 (819)\ttotal: 3m 42s\tremaining: 48.9s\n",
      "820:\tlearn: 0.2065516\ttest: 0.3097480\tbest: 0.3097480 (820)\ttotal: 3m 43s\tremaining: 48.7s\n",
      "821:\tlearn: 0.2064619\ttest: 0.3097043\tbest: 0.3097043 (821)\ttotal: 3m 43s\tremaining: 48.4s\n",
      "822:\tlearn: 0.2063067\ttest: 0.3096728\tbest: 0.3096728 (822)\ttotal: 3m 43s\tremaining: 48.1s\n",
      "823:\tlearn: 0.2062186\ttest: 0.3096525\tbest: 0.3096525 (823)\ttotal: 3m 43s\tremaining: 47.8s\n",
      "824:\tlearn: 0.2060929\ttest: 0.3096162\tbest: 0.3096162 (824)\ttotal: 3m 44s\tremaining: 47.6s\n",
      "825:\tlearn: 0.2059597\ttest: 0.3096036\tbest: 0.3096036 (825)\ttotal: 3m 44s\tremaining: 47.3s\n",
      "826:\tlearn: 0.2058984\ttest: 0.3095847\tbest: 0.3095847 (826)\ttotal: 3m 44s\tremaining: 47s\n",
      "827:\tlearn: 0.2057840\ttest: 0.3095567\tbest: 0.3095567 (827)\ttotal: 3m 45s\tremaining: 46.7s\n",
      "828:\tlearn: 0.2056352\ttest: 0.3094423\tbest: 0.3094423 (828)\ttotal: 3m 45s\tremaining: 46.5s\n",
      "829:\tlearn: 0.2056074\ttest: 0.3094509\tbest: 0.3094423 (828)\ttotal: 3m 45s\tremaining: 46.2s\n",
      "830:\tlearn: 0.2054992\ttest: 0.3094465\tbest: 0.3094423 (828)\ttotal: 3m 45s\tremaining: 45.9s\n",
      "831:\tlearn: 0.2053495\ttest: 0.3094059\tbest: 0.3094059 (831)\ttotal: 3m 46s\tremaining: 45.7s\n",
      "832:\tlearn: 0.2052295\ttest: 0.3093556\tbest: 0.3093556 (832)\ttotal: 3m 46s\tremaining: 45.4s\n",
      "833:\tlearn: 0.2051107\ttest: 0.3093257\tbest: 0.3093257 (833)\ttotal: 3m 46s\tremaining: 45.1s\n",
      "834:\tlearn: 0.2050837\ttest: 0.3093255\tbest: 0.3093255 (834)\ttotal: 3m 46s\tremaining: 44.8s\n",
      "835:\tlearn: 0.2050031\ttest: 0.3093233\tbest: 0.3093233 (835)\ttotal: 3m 47s\tremaining: 44.6s\n",
      "836:\tlearn: 0.2048598\ttest: 0.3092642\tbest: 0.3092642 (836)\ttotal: 3m 47s\tremaining: 44.3s\n",
      "837:\tlearn: 0.2047193\ttest: 0.3091882\tbest: 0.3091882 (837)\ttotal: 3m 47s\tremaining: 44s\n",
      "838:\tlearn: 0.2045563\ttest: 0.3091379\tbest: 0.3091379 (838)\ttotal: 3m 47s\tremaining: 43.7s\n",
      "839:\tlearn: 0.2044603\ttest: 0.3091162\tbest: 0.3091162 (839)\ttotal: 3m 48s\tremaining: 43.5s\n",
      "840:\tlearn: 0.2043016\ttest: 0.3090999\tbest: 0.3090999 (840)\ttotal: 3m 48s\tremaining: 43.2s\n",
      "841:\tlearn: 0.2041657\ttest: 0.3090644\tbest: 0.3090644 (841)\ttotal: 3m 48s\tremaining: 42.9s\n",
      "842:\tlearn: 0.2039984\ttest: 0.3089645\tbest: 0.3089645 (842)\ttotal: 3m 48s\tremaining: 42.6s\n",
      "843:\tlearn: 0.2038394\ttest: 0.3089435\tbest: 0.3089435 (843)\ttotal: 3m 49s\tremaining: 42.4s\n",
      "844:\tlearn: 0.2036899\ttest: 0.3088797\tbest: 0.3088797 (844)\ttotal: 3m 49s\tremaining: 42.1s\n",
      "845:\tlearn: 0.2036384\ttest: 0.3088672\tbest: 0.3088672 (845)\ttotal: 3m 49s\tremaining: 41.8s\n",
      "846:\tlearn: 0.2035221\ttest: 0.3088432\tbest: 0.3088432 (846)\ttotal: 3m 49s\tremaining: 41.5s\n",
      "847:\tlearn: 0.2034835\ttest: 0.3088465\tbest: 0.3088432 (846)\ttotal: 3m 50s\tremaining: 41.3s\n",
      "848:\tlearn: 0.2034181\ttest: 0.3088451\tbest: 0.3088432 (846)\ttotal: 3m 50s\tremaining: 41s\n",
      "849:\tlearn: 0.2032633\ttest: 0.3087688\tbest: 0.3087688 (849)\ttotal: 3m 50s\tremaining: 40.7s\n",
      "850:\tlearn: 0.2031259\ttest: 0.3087568\tbest: 0.3087568 (850)\ttotal: 3m 51s\tremaining: 40.4s\n",
      "851:\tlearn: 0.2029795\ttest: 0.3087067\tbest: 0.3087067 (851)\ttotal: 3m 51s\tremaining: 40.2s\n",
      "852:\tlearn: 0.2029421\ttest: 0.3087104\tbest: 0.3087067 (851)\ttotal: 3m 51s\tremaining: 39.9s\n",
      "853:\tlearn: 0.2027815\ttest: 0.3086646\tbest: 0.3086646 (853)\ttotal: 3m 51s\tremaining: 39.6s\n",
      "854:\tlearn: 0.2026656\ttest: 0.3086403\tbest: 0.3086403 (854)\ttotal: 3m 52s\tremaining: 39.4s\n",
      "855:\tlearn: 0.2025173\ttest: 0.3086191\tbest: 0.3086191 (855)\ttotal: 3m 52s\tremaining: 39.1s\n",
      "856:\tlearn: 0.2024010\ttest: 0.3086057\tbest: 0.3086057 (856)\ttotal: 3m 52s\tremaining: 38.8s\n",
      "857:\tlearn: 0.2022858\ttest: 0.3085605\tbest: 0.3085605 (857)\ttotal: 3m 52s\tremaining: 38.5s\n",
      "858:\tlearn: 0.2021401\ttest: 0.3085671\tbest: 0.3085605 (857)\ttotal: 3m 53s\tremaining: 38.3s\n",
      "859:\tlearn: 0.2021035\ttest: 0.3085691\tbest: 0.3085605 (857)\ttotal: 3m 53s\tremaining: 38s\n",
      "860:\tlearn: 0.2019871\ttest: 0.3085185\tbest: 0.3085185 (860)\ttotal: 3m 53s\tremaining: 37.7s\n",
      "861:\tlearn: 0.2019605\ttest: 0.3085164\tbest: 0.3085164 (861)\ttotal: 3m 53s\tremaining: 37.4s\n",
      "862:\tlearn: 0.2018490\ttest: 0.3084650\tbest: 0.3084650 (862)\ttotal: 3m 54s\tremaining: 37.2s\n",
      "863:\tlearn: 0.2016897\ttest: 0.3084131\tbest: 0.3084131 (863)\ttotal: 3m 54s\tremaining: 36.9s\n",
      "864:\tlearn: 0.2016453\ttest: 0.3083996\tbest: 0.3083996 (864)\ttotal: 3m 54s\tremaining: 36.6s\n",
      "865:\tlearn: 0.2015300\ttest: 0.3083289\tbest: 0.3083289 (865)\ttotal: 3m 54s\tremaining: 36.3s\n",
      "866:\tlearn: 0.2013743\ttest: 0.3082859\tbest: 0.3082859 (866)\ttotal: 3m 55s\tremaining: 36.1s\n",
      "867:\tlearn: 0.2012733\ttest: 0.3082381\tbest: 0.3082381 (867)\ttotal: 3m 55s\tremaining: 35.8s\n",
      "868:\tlearn: 0.2011312\ttest: 0.3081681\tbest: 0.3081681 (868)\ttotal: 3m 55s\tremaining: 35.5s\n",
      "869:\tlearn: 0.2009880\ttest: 0.3081235\tbest: 0.3081235 (869)\ttotal: 3m 55s\tremaining: 35.3s\n",
      "870:\tlearn: 0.2009072\ttest: 0.3081089\tbest: 0.3081089 (870)\ttotal: 3m 56s\tremaining: 35s\n",
      "871:\tlearn: 0.2008605\ttest: 0.3081230\tbest: 0.3081089 (870)\ttotal: 3m 56s\tremaining: 34.7s\n",
      "872:\tlearn: 0.2005292\ttest: 0.3078269\tbest: 0.3078269 (872)\ttotal: 3m 56s\tremaining: 34.4s\n",
      "873:\tlearn: 0.2003655\ttest: 0.3078058\tbest: 0.3078058 (873)\ttotal: 3m 57s\tremaining: 34.2s\n",
      "874:\tlearn: 0.2003154\ttest: 0.3077941\tbest: 0.3077941 (874)\ttotal: 3m 57s\tremaining: 33.9s\n",
      "875:\tlearn: 0.2001683\ttest: 0.3077590\tbest: 0.3077590 (875)\ttotal: 3m 57s\tremaining: 33.6s\n",
      "876:\tlearn: 0.2000146\ttest: 0.3076602\tbest: 0.3076602 (876)\ttotal: 3m 57s\tremaining: 33.4s\n",
      "877:\tlearn: 0.1998825\ttest: 0.3076313\tbest: 0.3076313 (877)\ttotal: 3m 58s\tremaining: 33.1s\n",
      "878:\tlearn: 0.1997404\ttest: 0.3075718\tbest: 0.3075718 (878)\ttotal: 3m 58s\tremaining: 32.8s\n",
      "879:\tlearn: 0.1996460\ttest: 0.3075442\tbest: 0.3075442 (879)\ttotal: 3m 58s\tremaining: 32.5s\n",
      "880:\tlearn: 0.1995281\ttest: 0.3074840\tbest: 0.3074840 (880)\ttotal: 3m 58s\tremaining: 32.3s\n",
      "881:\tlearn: 0.1995011\ttest: 0.3074867\tbest: 0.3074840 (880)\ttotal: 3m 59s\tremaining: 32s\n",
      "882:\tlearn: 0.1993521\ttest: 0.3074433\tbest: 0.3074433 (882)\ttotal: 3m 59s\tremaining: 31.7s\n",
      "883:\tlearn: 0.1993144\ttest: 0.3074468\tbest: 0.3074433 (882)\ttotal: 3m 59s\tremaining: 31.4s\n",
      "884:\tlearn: 0.1992253\ttest: 0.3074124\tbest: 0.3074124 (884)\ttotal: 3m 59s\tremaining: 31.2s\n",
      "885:\tlearn: 0.1990976\ttest: 0.3074192\tbest: 0.3074124 (884)\ttotal: 4m\tremaining: 30.9s\n",
      "886:\tlearn: 0.1989297\ttest: 0.3073877\tbest: 0.3073877 (886)\ttotal: 4m\tremaining: 30.6s\n",
      "887:\tlearn: 0.1988009\ttest: 0.3073703\tbest: 0.3073703 (887)\ttotal: 4m\tremaining: 30.4s\n",
      "888:\tlearn: 0.1986476\ttest: 0.3072888\tbest: 0.3072888 (888)\ttotal: 4m 1s\tremaining: 30.1s\n",
      "889:\tlearn: 0.1985000\ttest: 0.3072981\tbest: 0.3072888 (888)\ttotal: 4m 1s\tremaining: 29.8s\n",
      "890:\tlearn: 0.1983636\ttest: 0.3072629\tbest: 0.3072629 (890)\ttotal: 4m 1s\tremaining: 29.6s\n",
      "891:\tlearn: 0.1983377\ttest: 0.3072628\tbest: 0.3072628 (891)\ttotal: 4m 1s\tremaining: 29.3s\n",
      "892:\tlearn: 0.1982260\ttest: 0.3072113\tbest: 0.3072113 (892)\ttotal: 4m 2s\tremaining: 29s\n",
      "893:\tlearn: 0.1981316\ttest: 0.3071844\tbest: 0.3071844 (893)\ttotal: 4m 2s\tremaining: 28.7s\n",
      "894:\tlearn: 0.1980908\ttest: 0.3071783\tbest: 0.3071783 (894)\ttotal: 4m 2s\tremaining: 28.5s\n",
      "895:\tlearn: 0.1979448\ttest: 0.3071030\tbest: 0.3071030 (895)\ttotal: 4m 2s\tremaining: 28.2s\n",
      "896:\tlearn: 0.1977794\ttest: 0.3071019\tbest: 0.3071019 (896)\ttotal: 4m 3s\tremaining: 27.9s\n",
      "897:\tlearn: 0.1977325\ttest: 0.3070945\tbest: 0.3070945 (897)\ttotal: 4m 3s\tremaining: 27.6s\n",
      "898:\tlearn: 0.1976573\ttest: 0.3070731\tbest: 0.3070731 (898)\ttotal: 4m 3s\tremaining: 27.4s\n",
      "899:\tlearn: 0.1976232\ttest: 0.3070733\tbest: 0.3070731 (898)\ttotal: 4m 3s\tremaining: 27.1s\n",
      "900:\tlearn: 0.1975079\ttest: 0.3070792\tbest: 0.3070731 (898)\ttotal: 4m 4s\tremaining: 26.8s\n",
      "901:\tlearn: 0.1974512\ttest: 0.3070582\tbest: 0.3070582 (901)\ttotal: 4m 4s\tremaining: 26.6s\n",
      "902:\tlearn: 0.1973176\ttest: 0.3069853\tbest: 0.3069853 (902)\ttotal: 4m 4s\tremaining: 26.3s\n",
      "903:\tlearn: 0.1971611\ttest: 0.3068698\tbest: 0.3068698 (903)\ttotal: 4m 4s\tremaining: 26s\n",
      "904:\tlearn: 0.1971249\ttest: 0.3068757\tbest: 0.3068698 (903)\ttotal: 4m 5s\tremaining: 25.7s\n",
      "905:\tlearn: 0.1969314\ttest: 0.3068074\tbest: 0.3068074 (905)\ttotal: 4m 5s\tremaining: 25.5s\n"
     ]
    },
    {
     "name": "stdout",
     "output_type": "stream",
     "text": [
      "906:\tlearn: 0.1968860\ttest: 0.3068117\tbest: 0.3068074 (905)\ttotal: 4m 5s\tremaining: 25.2s\n",
      "907:\tlearn: 0.1967394\ttest: 0.3067398\tbest: 0.3067398 (907)\ttotal: 4m 6s\tremaining: 24.9s\n",
      "908:\tlearn: 0.1966167\ttest: 0.3067259\tbest: 0.3067259 (908)\ttotal: 4m 6s\tremaining: 24.7s\n",
      "909:\tlearn: 0.1964408\ttest: 0.3067039\tbest: 0.3067039 (909)\ttotal: 4m 6s\tremaining: 24.4s\n",
      "910:\tlearn: 0.1963346\ttest: 0.3066684\tbest: 0.3066684 (910)\ttotal: 4m 6s\tremaining: 24.1s\n",
      "911:\tlearn: 0.1962996\ttest: 0.3066656\tbest: 0.3066656 (911)\ttotal: 4m 7s\tremaining: 23.8s\n",
      "912:\tlearn: 0.1961738\ttest: 0.3066013\tbest: 0.3066013 (912)\ttotal: 4m 7s\tremaining: 23.6s\n",
      "913:\tlearn: 0.1961121\ttest: 0.3065745\tbest: 0.3065745 (913)\ttotal: 4m 7s\tremaining: 23.3s\n",
      "914:\tlearn: 0.1959262\ttest: 0.3065340\tbest: 0.3065340 (914)\ttotal: 4m 7s\tremaining: 23s\n",
      "915:\tlearn: 0.1958351\ttest: 0.3065353\tbest: 0.3065340 (914)\ttotal: 4m 8s\tremaining: 22.8s\n",
      "916:\tlearn: 0.1957321\ttest: 0.3064731\tbest: 0.3064731 (916)\ttotal: 4m 8s\tremaining: 22.5s\n",
      "917:\tlearn: 0.1956386\ttest: 0.3064596\tbest: 0.3064596 (917)\ttotal: 4m 8s\tremaining: 22.2s\n",
      "918:\tlearn: 0.1954966\ttest: 0.3064358\tbest: 0.3064358 (918)\ttotal: 4m 8s\tremaining: 21.9s\n",
      "919:\tlearn: 0.1954711\ttest: 0.3064391\tbest: 0.3064358 (918)\ttotal: 4m 9s\tremaining: 21.7s\n",
      "920:\tlearn: 0.1953127\ttest: 0.3064109\tbest: 0.3064109 (920)\ttotal: 4m 9s\tremaining: 21.4s\n",
      "921:\tlearn: 0.1951644\ttest: 0.3063300\tbest: 0.3063300 (921)\ttotal: 4m 9s\tremaining: 21.1s\n",
      "922:\tlearn: 0.1950428\ttest: 0.3063317\tbest: 0.3063300 (921)\ttotal: 4m 9s\tremaining: 20.9s\n",
      "923:\tlearn: 0.1950179\ttest: 0.3063306\tbest: 0.3063300 (921)\ttotal: 4m 10s\tremaining: 20.6s\n",
      "924:\tlearn: 0.1948961\ttest: 0.3062545\tbest: 0.3062545 (924)\ttotal: 4m 10s\tremaining: 20.3s\n",
      "925:\tlearn: 0.1947721\ttest: 0.3061966\tbest: 0.3061966 (925)\ttotal: 4m 10s\tremaining: 20s\n",
      "926:\tlearn: 0.1946566\ttest: 0.3061650\tbest: 0.3061650 (926)\ttotal: 4m 11s\tremaining: 19.8s\n",
      "927:\tlearn: 0.1945272\ttest: 0.3061110\tbest: 0.3061110 (927)\ttotal: 4m 11s\tremaining: 19.5s\n",
      "928:\tlearn: 0.1944637\ttest: 0.3061329\tbest: 0.3061110 (927)\ttotal: 4m 11s\tremaining: 19.2s\n",
      "929:\tlearn: 0.1943357\ttest: 0.3061253\tbest: 0.3061110 (927)\ttotal: 4m 11s\tremaining: 19s\n",
      "930:\tlearn: 0.1943146\ttest: 0.3061212\tbest: 0.3061110 (927)\ttotal: 4m 12s\tremaining: 18.7s\n",
      "931:\tlearn: 0.1941774\ttest: 0.3060846\tbest: 0.3060846 (931)\ttotal: 4m 12s\tremaining: 18.4s\n",
      "932:\tlearn: 0.1940994\ttest: 0.3060683\tbest: 0.3060683 (932)\ttotal: 4m 12s\tremaining: 18.1s\n",
      "933:\tlearn: 0.1939419\ttest: 0.3060175\tbest: 0.3060175 (933)\ttotal: 4m 12s\tremaining: 17.9s\n",
      "934:\tlearn: 0.1939065\ttest: 0.3060213\tbest: 0.3060175 (933)\ttotal: 4m 13s\tremaining: 17.6s\n",
      "935:\tlearn: 0.1937374\ttest: 0.3059536\tbest: 0.3059536 (935)\ttotal: 4m 13s\tremaining: 17.3s\n",
      "936:\tlearn: 0.1936655\ttest: 0.3059626\tbest: 0.3059536 (935)\ttotal: 4m 13s\tremaining: 17.1s\n",
      "937:\tlearn: 0.1935804\ttest: 0.3059358\tbest: 0.3059358 (937)\ttotal: 4m 13s\tremaining: 16.8s\n",
      "938:\tlearn: 0.1934959\ttest: 0.3059265\tbest: 0.3059265 (938)\ttotal: 4m 14s\tremaining: 16.5s\n",
      "939:\tlearn: 0.1934269\ttest: 0.3058940\tbest: 0.3058940 (939)\ttotal: 4m 14s\tremaining: 16.2s\n",
      "940:\tlearn: 0.1933821\ttest: 0.3058965\tbest: 0.3058940 (939)\ttotal: 4m 14s\tremaining: 16s\n",
      "941:\tlearn: 0.1932442\ttest: 0.3058670\tbest: 0.3058670 (941)\ttotal: 4m 14s\tremaining: 15.7s\n",
      "942:\tlearn: 0.1931722\ttest: 0.3058509\tbest: 0.3058509 (942)\ttotal: 4m 15s\tremaining: 15.4s\n",
      "943:\tlearn: 0.1930724\ttest: 0.3058167\tbest: 0.3058167 (943)\ttotal: 4m 15s\tremaining: 15.2s\n",
      "944:\tlearn: 0.1929118\ttest: 0.3057050\tbest: 0.3057050 (944)\ttotal: 4m 15s\tremaining: 14.9s\n",
      "945:\tlearn: 0.1928314\ttest: 0.3056875\tbest: 0.3056875 (945)\ttotal: 4m 15s\tremaining: 14.6s\n",
      "946:\tlearn: 0.1926931\ttest: 0.3056401\tbest: 0.3056401 (946)\ttotal: 4m 16s\tremaining: 14.3s\n",
      "947:\tlearn: 0.1925669\ttest: 0.3055523\tbest: 0.3055523 (947)\ttotal: 4m 16s\tremaining: 14.1s\n",
      "948:\tlearn: 0.1924888\ttest: 0.3055476\tbest: 0.3055476 (948)\ttotal: 4m 16s\tremaining: 13.8s\n",
      "949:\tlearn: 0.1924129\ttest: 0.3055224\tbest: 0.3055224 (949)\ttotal: 4m 17s\tremaining: 13.5s\n",
      "950:\tlearn: 0.1922798\ttest: 0.3054928\tbest: 0.3054928 (950)\ttotal: 4m 17s\tremaining: 13.3s\n",
      "951:\tlearn: 0.1922467\ttest: 0.3054920\tbest: 0.3054920 (951)\ttotal: 4m 17s\tremaining: 13s\n",
      "952:\tlearn: 0.1921279\ttest: 0.3054479\tbest: 0.3054479 (952)\ttotal: 4m 17s\tremaining: 12.7s\n",
      "953:\tlearn: 0.1919865\ttest: 0.3054203\tbest: 0.3054203 (953)\ttotal: 4m 18s\tremaining: 12.4s\n",
      "954:\tlearn: 0.1919006\ttest: 0.3054011\tbest: 0.3054011 (954)\ttotal: 4m 18s\tremaining: 12.2s\n",
      "955:\tlearn: 0.1918530\ttest: 0.3054008\tbest: 0.3054008 (955)\ttotal: 4m 18s\tremaining: 11.9s\n",
      "956:\tlearn: 0.1917299\ttest: 0.3053406\tbest: 0.3053406 (956)\ttotal: 4m 18s\tremaining: 11.6s\n",
      "957:\tlearn: 0.1916192\ttest: 0.3052946\tbest: 0.3052946 (957)\ttotal: 4m 19s\tremaining: 11.4s\n",
      "958:\tlearn: 0.1915147\ttest: 0.3052652\tbest: 0.3052652 (958)\ttotal: 4m 19s\tremaining: 11.1s\n",
      "959:\tlearn: 0.1913678\ttest: 0.3052145\tbest: 0.3052145 (959)\ttotal: 4m 19s\tremaining: 10.8s\n",
      "960:\tlearn: 0.1912982\ttest: 0.3052199\tbest: 0.3052145 (959)\ttotal: 4m 19s\tremaining: 10.6s\n",
      "961:\tlearn: 0.1911095\ttest: 0.3051547\tbest: 0.3051547 (961)\ttotal: 4m 20s\tremaining: 10.3s\n",
      "962:\tlearn: 0.1910668\ttest: 0.3051638\tbest: 0.3051547 (961)\ttotal: 4m 20s\tremaining: 10s\n",
      "963:\tlearn: 0.1909481\ttest: 0.3051661\tbest: 0.3051547 (961)\ttotal: 4m 20s\tremaining: 9.74s\n",
      "964:\tlearn: 0.1908150\ttest: 0.3051092\tbest: 0.3051092 (964)\ttotal: 4m 21s\tremaining: 9.47s\n",
      "965:\tlearn: 0.1906825\ttest: 0.3051016\tbest: 0.3051016 (965)\ttotal: 4m 21s\tremaining: 9.2s\n",
      "966:\tlearn: 0.1905644\ttest: 0.3050713\tbest: 0.3050713 (966)\ttotal: 4m 21s\tremaining: 8.93s\n",
      "967:\tlearn: 0.1905411\ttest: 0.3050715\tbest: 0.3050713 (966)\ttotal: 4m 21s\tremaining: 8.65s\n",
      "968:\tlearn: 0.1904097\ttest: 0.3050125\tbest: 0.3050125 (968)\ttotal: 4m 22s\tremaining: 8.38s\n",
      "969:\tlearn: 0.1903124\ttest: 0.3050128\tbest: 0.3050125 (968)\ttotal: 4m 22s\tremaining: 8.11s\n",
      "970:\tlearn: 0.1902791\ttest: 0.3050101\tbest: 0.3050101 (970)\ttotal: 4m 22s\tremaining: 7.84s\n",
      "971:\tlearn: 0.1901711\ttest: 0.3049952\tbest: 0.3049952 (971)\ttotal: 4m 22s\tremaining: 7.57s\n",
      "972:\tlearn: 0.1900412\ttest: 0.3049603\tbest: 0.3049603 (972)\ttotal: 4m 23s\tremaining: 7.3s\n",
      "973:\tlearn: 0.1899981\ttest: 0.3049704\tbest: 0.3049603 (972)\ttotal: 4m 23s\tremaining: 7.03s\n",
      "974:\tlearn: 0.1898540\ttest: 0.3049515\tbest: 0.3049515 (974)\ttotal: 4m 23s\tremaining: 6.76s\n",
      "975:\tlearn: 0.1897370\ttest: 0.3049231\tbest: 0.3049231 (975)\ttotal: 4m 23s\tremaining: 6.49s\n",
      "976:\tlearn: 0.1896900\ttest: 0.3049369\tbest: 0.3049231 (975)\ttotal: 4m 24s\tremaining: 6.22s\n",
      "977:\tlearn: 0.1896358\ttest: 0.3049346\tbest: 0.3049231 (975)\ttotal: 4m 24s\tremaining: 5.95s\n",
      "978:\tlearn: 0.1895170\ttest: 0.3049189\tbest: 0.3049189 (978)\ttotal: 4m 24s\tremaining: 5.68s\n",
      "979:\tlearn: 0.1893775\ttest: 0.3048742\tbest: 0.3048742 (979)\ttotal: 4m 24s\tremaining: 5.41s\n",
      "980:\tlearn: 0.1893541\ttest: 0.3048752\tbest: 0.3048742 (979)\ttotal: 4m 25s\tremaining: 5.13s\n",
      "981:\tlearn: 0.1893105\ttest: 0.3048688\tbest: 0.3048688 (981)\ttotal: 4m 25s\tremaining: 4.87s\n",
      "982:\tlearn: 0.1891726\ttest: 0.3048126\tbest: 0.3048126 (982)\ttotal: 4m 25s\tremaining: 4.59s\n",
      "983:\tlearn: 0.1890515\ttest: 0.3047954\tbest: 0.3047954 (983)\ttotal: 4m 25s\tremaining: 4.32s\n",
      "984:\tlearn: 0.1889914\ttest: 0.3047830\tbest: 0.3047830 (984)\ttotal: 4m 26s\tremaining: 4.05s\n",
      "985:\tlearn: 0.1888584\ttest: 0.3047356\tbest: 0.3047356 (985)\ttotal: 4m 26s\tremaining: 3.78s\n",
      "986:\tlearn: 0.1887837\ttest: 0.3047136\tbest: 0.3047136 (986)\ttotal: 4m 26s\tremaining: 3.51s\n",
      "987:\tlearn: 0.1886545\ttest: 0.3046988\tbest: 0.3046988 (987)\ttotal: 4m 26s\tremaining: 3.24s\n",
      "988:\tlearn: 0.1886305\ttest: 0.3046984\tbest: 0.3046984 (988)\ttotal: 4m 27s\tremaining: 2.97s\n",
      "989:\tlearn: 0.1884780\ttest: 0.3047234\tbest: 0.3046984 (988)\ttotal: 4m 27s\tremaining: 2.7s\n",
      "990:\tlearn: 0.1883412\ttest: 0.3046492\tbest: 0.3046492 (990)\ttotal: 4m 27s\tremaining: 2.43s\n",
      "991:\tlearn: 0.1882320\ttest: 0.3046037\tbest: 0.3046037 (991)\ttotal: 4m 28s\tremaining: 2.16s\n",
      "992:\tlearn: 0.1881126\ttest: 0.3045656\tbest: 0.3045656 (992)\ttotal: 4m 28s\tremaining: 1.89s\n",
      "993:\tlearn: 0.1879845\ttest: 0.3045416\tbest: 0.3045416 (993)\ttotal: 4m 28s\tremaining: 1.62s\n",
      "994:\tlearn: 0.1879517\ttest: 0.3045426\tbest: 0.3045416 (993)\ttotal: 4m 28s\tremaining: 1.35s\n",
      "995:\tlearn: 0.1878402\ttest: 0.3045101\tbest: 0.3045101 (995)\ttotal: 4m 29s\tremaining: 1.08s\n",
      "996:\tlearn: 0.1876879\ttest: 0.3044601\tbest: 0.3044601 (996)\ttotal: 4m 29s\tremaining: 810ms\n"
     ]
    },
    {
     "name": "stdout",
     "output_type": "stream",
     "text": [
      "997:\tlearn: 0.1875474\ttest: 0.3044329\tbest: 0.3044329 (997)\ttotal: 4m 29s\tremaining: 540ms\n",
      "998:\tlearn: 0.1874564\ttest: 0.3044083\tbest: 0.3044083 (998)\ttotal: 4m 29s\tremaining: 270ms\n",
      "999:\tlearn: 0.1873317\ttest: 0.3043707\tbest: 0.3043707 (999)\ttotal: 4m 30s\tremaining: 0us\n",
      "\n",
      "bestTest = 0.3043707278\n",
      "bestIteration = 999\n",
      "\n"
     ]
    },
    {
     "data": {
      "text/plain": [
       "<catboost.core.CatBoostClassifier at 0x29092904208>"
      ]
     },
     "execution_count": 24,
     "metadata": {},
     "output_type": "execute_result"
    }
   ],
   "source": [
    "from catboost import CatBoostClassifier,Pool\n",
    "train_dataset=Pool(data=X_train, label=y_train)\n",
    "eval_dataset=Pool(data=X_test, label=y_test)\n",
    "cat_cl=CatBoostClassifier()\n",
    "cat_cl.fit(train_dataset,use_best_model=True, eval_set=eval_dataset)"
   ]
  },
  {
   "cell_type": "code",
   "execution_count": 25,
   "metadata": {},
   "outputs": [
    {
     "name": "stdout",
     "output_type": "stream",
     "text": [
      "CatBoost Training Accuracy w/o CV: 0.961\n",
      "Random Forest Model Test Accuracy w/o CV: 0.874\n"
     ]
    }
   ],
   "source": [
    "print('CatBoost Training Accuracy w/o CV: %.3f' % cat_cl.score(X_train, y_train))\n",
    "print('Random Forest Model Test Accuracy w/o CV: %.3f' % cat_cl.score(X_test, y_test))"
   ]
  }
 ],
 "metadata": {
  "colab": {
   "collapsed_sections": [],
   "name": "ML 13장_프로그램(SentimentAnalysis)_GBM 적용.ipynb",
   "provenance": []
  },
  "kernelspec": {
   "display_name": "Python 3 (ipykernel)",
   "language": "python",
   "name": "python3"
  },
  "language_info": {
   "codemirror_mode": {
    "name": "ipython",
    "version": 3
   },
   "file_extension": ".py",
   "mimetype": "text/x-python",
   "name": "python",
   "nbconvert_exporter": "python",
   "pygments_lexer": "ipython3",
   "version": "3.8.2"
  }
 },
 "nbformat": 4,
 "nbformat_minor": 1
}
