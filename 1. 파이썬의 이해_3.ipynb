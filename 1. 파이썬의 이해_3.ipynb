{
 "cells": [
  {
   "cell_type": "markdown",
   "metadata": {},
   "source": [
    "## 7. Pandas"
   ]
  },
  {
   "cell_type": "code",
   "execution_count": 1,
   "metadata": {},
   "outputs": [
    {
     "name": "stdout",
     "output_type": "stream",
     "text": [
      "a    0.1\n",
      "b    0.2\n",
      "c    0.3\n",
      "d    0.4\n",
      "dtype: float64\n"
     ]
    }
   ],
   "source": [
    "import pandas as pd   #판다스 Package를 불러오는 명령어\n",
    "X1=pd.Series([0.1,0.2,0.3,0.4], index=['a','b','c','d'])  #행렬에 index를 부여할 수 있다. numpy와 다른점.\n",
    "print(X1); "
   ]
  },
  {
   "cell_type": "code",
   "execution_count": null,
   "metadata": {},
   "outputs": [],
   "source": [
    "print(X1.index)   #Series의 인덱스 \n",
    "print(X1.values)  #Series의 value"
   ]
  },
  {
   "cell_type": "code",
   "execution_count": null,
   "metadata": {},
   "outputs": [],
   "source": [
    "print(X1['a':'c'])   #자료의 Slicing   1.index가 a~c까지\n",
    "print(X1[0:3])       #자료의 Slicing   2.0~2행 까지"
   ]
  },
  {
   "cell_type": "code",
   "execution_count": null,
   "metadata": {},
   "outputs": [],
   "source": [
    "#Dictionary 형식 데이터를 1차원 자료로 환원\n",
    "population1={'서울':9700000,\n",
    "             '부산':4500000,\n",
    "             '인천':4000000,\n",
    "             '광주':2000000,\n",
    "             '대구':2500000}\n",
    "popu=pd.Series(population1)\n",
    "print(popu)      #dictionary 형식 데이터에서 key가 Series의 index로 변한"
   ]
  },
  {
   "cell_type": "code",
   "execution_count": null,
   "metadata": {},
   "outputs": [],
   "source": [
    "#행 이름과 열이름의 부여\n",
    "X2=pd.DataFrame([[1,2,3],[4,5,6],[7,8,9]],columns=['a','b','c'],index=[1,2,3])\n",
    "print(X2)"
   ]
  },
  {
   "cell_type": "code",
   "execution_count": null,
   "metadata": {},
   "outputs": [],
   "source": [
    "#앞의 예제에서 population에 열이름에 'pop'를 붙임.\n",
    "pd.DataFrame(popu,columns=['pop'])\n",
    "\n",
    "# 1차원 array-->  2차원 행렬자료\n",
    "#열 벡터의 열 이름을 부여할 수 있음."
   ]
  },
  {
   "cell_type": "code",
   "execution_count": null,
   "metadata": {},
   "outputs": [],
   "source": [
    "ind1={'서울':95,\n",
    "     '부산':80,\n",
    "     '인천':85,\n",
    "     '광주':75,\n",
    "     '대구':80}\n",
    "print(ind1)"
   ]
  },
  {
   "cell_type": "code",
   "execution_count": null,
   "metadata": {},
   "outputs": [],
   "source": [
    "#Series 로 변환\n",
    "ind=pd.Series(ind1)\n",
    "print(ind)"
   ]
  },
  {
   "cell_type": "code",
   "execution_count": null,
   "metadata": {},
   "outputs": [],
   "source": [
    "#지역 이름을 index로 하는 DataFrame 생성\n",
    "y=pd.DataFrame({'pop':popu,'자립도(%)':ind})\n",
    "print(y)"
   ]
  },
  {
   "cell_type": "code",
   "execution_count": null,
   "metadata": {},
   "outputs": [],
   "source": [
    "#자료의 편집(Slicing)\n",
    "print(y['자립도(%)'])  #열의 이름을 그대로 사용"
   ]
  },
  {
   "cell_type": "code",
   "execution_count": null,
   "metadata": {},
   "outputs": [],
   "source": [
    "#자료의 편진(Slicing)\n",
    "print(y['부산':'광주']) #index를 기준으로한 Sclicing"
   ]
  },
  {
   "cell_type": "code",
   "execution_count": 7,
   "metadata": {},
   "outputs": [
    {
     "name": "stdout",
     "output_type": "stream",
     "text": [
      "   a  b   c   d\n",
      "0  0  1   2   3\n",
      "1  4  5   6   7\n",
      "2  8  9  10  11\n",
      "   a  b   c   d\n",
      "0  0  1   2   3\n",
      "1  8  9  10  11\n",
      "2  4  5   6   7\n"
     ]
    }
   ],
   "source": [
    "#pd.DataFrame의 편집(Slicing)은 Numpy의 Slicing도 사용가능.\n",
    "import pandas as pd\n",
    "import numpy as np #Nunpy Pakage를 불러오는 명령어\n",
    "W=pd.DataFrame(np.arange(12).reshape(3,4),columns=['a','b','c','d']) #예제 data의 생성\n",
    "print(W)\n",
    "import numpy as np\n",
    "np.random.shuffle(W.values)\n",
    "print(W)"
   ]
  },
  {
   "cell_type": "code",
   "execution_count": 20,
   "metadata": {},
   "outputs": [
    {
     "name": "stdout",
     "output_type": "stream",
     "text": [
      "[0, 4, 4]\n",
      "   e\n",
      "0  0\n",
      "1  4\n",
      "2  4\n"
     ]
    },
    {
     "data": {
      "text/html": [
       "<div>\n",
       "<style scoped>\n",
       "    .dataframe tbody tr th:only-of-type {\n",
       "        vertical-align: middle;\n",
       "    }\n",
       "\n",
       "    .dataframe tbody tr th {\n",
       "        vertical-align: top;\n",
       "    }\n",
       "\n",
       "    .dataframe thead th {\n",
       "        text-align: right;\n",
       "    }\n",
       "</style>\n",
       "<table border=\"1\" class=\"dataframe\">\n",
       "  <thead>\n",
       "    <tr style=\"text-align: right;\">\n",
       "      <th></th>\n",
       "      <th>a</th>\n",
       "      <th>b</th>\n",
       "      <th>c</th>\n",
       "      <th>d</th>\n",
       "      <th>e</th>\n",
       "    </tr>\n",
       "  </thead>\n",
       "  <tbody>\n",
       "    <tr>\n",
       "      <th>0</th>\n",
       "      <td>0</td>\n",
       "      <td>1</td>\n",
       "      <td>2</td>\n",
       "      <td>3</td>\n",
       "      <td>0</td>\n",
       "    </tr>\n",
       "    <tr>\n",
       "      <th>1</th>\n",
       "      <td>4</td>\n",
       "      <td>5</td>\n",
       "      <td>6</td>\n",
       "      <td>7</td>\n",
       "      <td>4</td>\n",
       "    </tr>\n",
       "    <tr>\n",
       "      <th>2</th>\n",
       "      <td>8</td>\n",
       "      <td>9</td>\n",
       "      <td>10</td>\n",
       "      <td>11</td>\n",
       "      <td>4</td>\n",
       "    </tr>\n",
       "  </tbody>\n",
       "</table>\n",
       "</div>"
      ],
      "text/plain": [
       "   a  b   c   d  e\n",
       "0  0  1   2   3  0\n",
       "1  4  5   6   7  4\n",
       "2  8  9  10  11  4"
      ]
     },
     "execution_count": 20,
     "metadata": {},
     "output_type": "execute_result"
    }
   ],
   "source": [
    "w1=W.loc[:,'b']\n",
    "w22=[0]\n",
    "for i in range(1,len(w1)):\n",
    "    w11=w1[i]-w1[i-1]\n",
    "    w22.append(w11)\n",
    "print(w22)\n",
    "ww=pd.DataFrame(w22,columns=['e'])\n",
    "print(ww)\n",
    "www=pd.concat([W,ww], axis=1)\n",
    "www"
   ]
  },
  {
   "cell_type": "code",
   "execution_count": null,
   "metadata": {},
   "outputs": [],
   "source": [
    "## data Slicing1: loc\n",
    "print(W.loc[0:1,:]) #0행~1행까지의 자료를 Slicing : [a:b]는 a에서 b자리수 까지를 의미"
   ]
  },
  {
   "cell_type": "code",
   "execution_count": null,
   "metadata": {},
   "outputs": [],
   "source": [
    "## data Slicing1: iloc\n",
    "print(W.iloc[0:1,:])   #0행 자료를 Slicing  :[a:b]는 a에서 b-1 자리수 까지를 의미\n",
    "\n",
    "# loc vs iloc"
   ]
  },
  {
   "cell_type": "code",
   "execution_count": null,
   "metadata": {},
   "outputs": [],
   "source": [
    "# 서로 다른 차원의 합\n",
    "D1=pd.DataFrame([[1,2],[3,4]],columns=['a','b'])\n",
    "print(D1)"
   ]
  },
  {
   "cell_type": "code",
   "execution_count": null,
   "metadata": {},
   "outputs": [],
   "source": [
    "D2=pd.DataFrame([[11,22,33],[44,55,66],[77,88,99]],columns=['a','b','c'])\n",
    "print(D2)"
   ]
  },
  {
   "cell_type": "code",
   "execution_count": null,
   "metadata": {},
   "outputs": [],
   "source": [
    "print(D1+D2)  #연산은 두 개의 자료 size가 다르더라도 error 메시지 없이 실행된다는 점에서 매우 유용한 기능"
   ]
  },
  {
   "cell_type": "markdown",
   "metadata": {},
   "source": [
    "### 7.1 결측 자료의 처리"
   ]
  },
  {
   "cell_type": "code",
   "execution_count": null,
   "metadata": {},
   "outputs": [],
   "source": [
    "N=pd.Series([1,np.nan,'missing',None])\n",
    "print(N)\n",
    "N.isnull() # missing이면 True의 논리형 자료를 출력"
   ]
  },
  {
   "cell_type": "code",
   "execution_count": null,
   "metadata": {},
   "outputs": [],
   "source": [
    "N[N.notnull()] #결측이 없는 자료만 추출"
   ]
  },
  {
   "cell_type": "code",
   "execution_count": null,
   "metadata": {},
   "outputs": [],
   "source": [
    "N.fillna(0) #특정 숫자로 NaN을 대체하고 싶을 경우"
   ]
  },
  {
   "cell_type": "code",
   "execution_count": null,
   "metadata": {},
   "outputs": [],
   "source": [
    "M=pd.DataFrame([[1,None,2,None],[4,5,6,None],[None,7,8,None]],index=list('123'),columns=list('abcd')) #새로운 데이터의 정의\n",
    "print(M)"
   ]
  },
  {
   "cell_type": "code",
   "execution_count": null,
   "metadata": {},
   "outputs": [],
   "source": [
    "print(M.dropna(axis='columns',how='all')) #열을 기준으로 모두 NaN이면 열을 제거"
   ]
  },
  {
   "cell_type": "code",
   "execution_count": null,
   "metadata": {},
   "outputs": [],
   "source": [
    "print(M.dropna(axis='rows',thresh=3)) #3개이상의 non-missing인 행만 남김."
   ]
  },
  {
   "cell_type": "code",
   "execution_count": null,
   "metadata": {},
   "outputs": [],
   "source": [
    "print(M.fillna(method='bfill',axis=1)) #각 행별로(axis=1 이므로 across columns의 의미이다.) NaN의 바로 뒤 열값으로 채움"
   ]
  },
  {
   "cell_type": "code",
   "execution_count": null,
   "metadata": {},
   "outputs": [],
   "source": [
    "print(M.fillna(method='ffill',axis=1)) #각 행별로 NaN의 바로 전 열의 값으로 결측치를 채움."
   ]
  },
  {
   "cell_type": "markdown",
   "metadata": {},
   "source": [
    "### 7.2 논리적 인덱스"
   ]
  },
  {
   "cell_type": "code",
   "execution_count": null,
   "metadata": {},
   "outputs": [],
   "source": [
    "x=pd.DataFrame([[1,None,2,None],[3,4,5,None],[None,6,7,None]],index=list('123'),columns=list('abcd')) #새로운 데이터의 정의\n",
    "print(x)"
   ]
  },
  {
   "cell_type": "code",
   "execution_count": null,
   "metadata": {},
   "outputs": [],
   "source": [
    "x.loc['2','d']=99  #원소만 값을 변경\n",
    "print(x)"
   ]
  },
  {
   "cell_type": "code",
   "execution_count": null,
   "metadata": {},
   "outputs": [],
   "source": [
    "print(x[pd.isnull(x['b'])]) #조건문을 만족하는 행을 출력"
   ]
  },
  {
   "cell_type": "code",
   "execution_count": null,
   "metadata": {},
   "outputs": [],
   "source": [
    "x[pd.isnull(x).any(axis=1)]['b'] #x의 각행에서 하나라도 결측치가 있는 행에서   'b'열의 값을 출력"
   ]
  },
  {
   "cell_type": "code",
   "execution_count": null,
   "metadata": {},
   "outputs": [],
   "source": [
    "x.loc[pd.isnull(x).any(axis=1),'b'] #위와 동일한 결과"
   ]
  },
  {
   "cell_type": "code",
   "execution_count": null,
   "metadata": {},
   "outputs": [],
   "source": [
    "x[pd.isnull(x).any(axis=1),'b']  # Error 발생"
   ]
  },
  {
   "cell_type": "code",
   "execution_count": null,
   "metadata": {},
   "outputs": [],
   "source": [
    "K=pd.DataFrame(np.arange(12).reshape(3, 4),columns=list('abcd'))  # 새로운 data의 정의\n",
    "print(K)"
   ]
  },
  {
   "cell_type": "code",
   "execution_count": null,
   "metadata": {},
   "outputs": [],
   "source": [
    "print(K.loc[K['b']>4]['c']) #b’열이 4보다 큰 행(두번째와 세 번째행)을 대상으로 ‘c’열의 값"
   ]
  },
  {
   "cell_type": "code",
   "execution_count": null,
   "metadata": {},
   "outputs": [],
   "source": [
    "print(K.loc[K['b']>4,'c']) #위와 동일한 결과"
   ]
  },
  {
   "cell_type": "code",
   "execution_count": null,
   "metadata": {},
   "outputs": [],
   "source": [
    "print(K.loc[K['b']>4,['b','d']]) #b’열이 4보다 큰 행(두번째와 세 번째행)을 대상으로 ‘c’,'d'열의 값"
   ]
  },
  {
   "cell_type": "code",
   "execution_count": null,
   "metadata": {},
   "outputs": [],
   "source": [
    "P=pd.DataFrame(np.arange(6).reshape(2, 3),index=list('ab'),columns=list('123'))  #새로운 data의 설정\n",
    "print(P)"
   ]
  },
  {
   "cell_type": "code",
   "execution_count": null,
   "metadata": {},
   "outputs": [],
   "source": [
    "print(P.stack()) #행 index와 열 index를 만들어 자료를 재정리"
   ]
  },
  {
   "cell_type": "code",
   "execution_count": null,
   "metadata": {},
   "outputs": [],
   "source": [
    "print(P.stack().unstack())  #위 과정의 반대방향."
   ]
  },
  {
   "cell_type": "markdown",
   "metadata": {},
   "source": [
    "### 7.3 데이터 이어붙이기"
   ]
  },
  {
   "cell_type": "code",
   "execution_count": null,
   "metadata": {},
   "outputs": [],
   "source": [
    "Q1=pd.DataFrame([[1,2,3],[4,5,6]],columns=list('abc'))           #새로운 data의 생성\n",
    "Q2=pd.DataFrame([[11,22,33],[44,55,66]],columns=list('bcd'))\n",
    "print(Q1)\n",
    "print('-------------------------')\n",
    "print(Q2)"
   ]
  },
  {
   "cell_type": "code",
   "execution_count": null,
   "metadata": {},
   "outputs": [],
   "source": [
    "#밑으로 붙이기.\n",
    "print(pd.concat([Q1,Q2]))                   #밑으로 붙이기\n",
    "print('-------------------------')\n",
    "print(pd.concat([Q1,Q2],ignore_index=True))  #순서있는 인덱스를 원할 경우\n",
    "print('-------------------------')\n",
    "print(pd.concat([Q1,Q2],join='inner'))      #공통으로 가지고 있는 열 ‘b’와 ‘c’로만 구성된 자료의 아래로 붙이기"
   ]
  },
  {
   "cell_type": "code",
   "execution_count": 2,
   "metadata": {},
   "outputs": [
    {
     "name": "stdout",
     "output_type": "stream",
     "text": [
      "   a  b  c\n",
      "0  1  2  3\n",
      "1  4  5  6\n",
      "    d   e\n",
      "0  11  22\n",
      "1  33  44\n",
      "-------------------------\n",
      "   a  b  c   d   e\n",
      "0  1  2  3  11  22\n",
      "1  4  5  6  33  44\n"
     ]
    }
   ],
   "source": [
    "#옆으로 붙이기.\n",
    "import pandas as pd\n",
    "R1=pd.DataFrame([[1,2,3],[4,5,6]],columns=list('abc'))\n",
    "R2=pd.DataFrame([[11,22],[33,44]],columns=list('de'))\n",
    "print(R1)\n",
    "print(R2)\n",
    "print('-------------------------')\n",
    "R3=pd.concat([R1,R2],axis=1)         # 옆으로 붙이기 :axis=1추가\n",
    "print(R3)"
   ]
  },
  {
   "cell_type": "code",
   "execution_count": 3,
   "metadata": {},
   "outputs": [
    {
     "name": "stdout",
     "output_type": "stream",
     "text": [
      "   a   b  c\n",
      "0  1  aa  3\n",
      "1  4  bb  5\n",
      "    d   b\n",
      "0  11  bb\n",
      "1  22  aa\n",
      "-------------------------\n",
      "   a   b  c   d\n",
      "0  1  aa  3  22\n",
      "1  4  bb  5  11\n"
     ]
    }
   ],
   "source": [
    "#공통된 열이 있을때의 옆으로 붙이기.\n",
    "S1=pd.DataFrame([[1,'aa',3],[4,'bb',5]],columns=list('abc')) #새로운 data의 생성\n",
    "S2=pd.DataFrame([[11,'bb'],[22,'aa']],columns=list('db'))\n",
    "print(S1)\n",
    "print(S2)\n",
    "print('-------------------------')\n",
    "S3=pd.merge(S1,S2,on='b') #'b'열을 기준으로 옆으로 붙이기.\n",
    "print(S3) "
   ]
  },
  {
   "cell_type": "code",
   "execution_count": 4,
   "metadata": {},
   "outputs": [
    {
     "name": "stdout",
     "output_type": "stream",
     "text": [
      "   a   b  c\n",
      "0  1  aa  3\n",
      "1  4  bb  5\n",
      "2  6  aa  7\n",
      "    d   b\n",
      "0  11  bb\n",
      "1  22  aa\n",
      "2  33  bb\n",
      "-------------------------\n",
      "   a   b  c   d\n",
      "0  1  aa  3  22\n",
      "1  6  aa  7  22\n",
      "2  4  bb  5  11\n",
      "3  4  bb  5  33\n"
     ]
    }
   ],
   "source": [
    "#공통된 열이 있을때의 옆으로 붙이기.:공통 열에 반복이 있는 경우.\n",
    "S11=pd.DataFrame([[1,'aa',3],[4,'bb',5],[6,'aa',7]],columns=list('abc'))\n",
    "S21=pd.DataFrame([[11,'bb'],[22,'aa'],[33,'bb']],columns=list('db'))\n",
    "print(S11)\n",
    "print(S21)\n",
    "print('-------------------------')\n",
    "S31=pd.merge(S11,S21,on='b')\n",
    "print(S31)"
   ]
  },
  {
   "cell_type": "code",
   "execution_count": 5,
   "metadata": {},
   "outputs": [
    {
     "name": "stdout",
     "output_type": "stream",
     "text": [
      "    a  b\n",
      "0  aa  3\n",
      "1  bb  5\n",
      "2  aa  7\n",
      "    b   a\n",
      "0  11  bb\n",
      "1  22  aa\n",
      "=========================\n",
      "    a  b_x  b_y\n",
      "0  aa    3   22\n",
      "1  aa    7   22\n",
      "2  bb    5   11\n"
     ]
    }
   ],
   "source": [
    "#공통된 열이 있을때의 옆으로 붙이기.: 공통 열 이외의 열에 반복이 있는 경우.\n",
    "S12=pd.DataFrame([['aa',3],['bb',5],['aa',7]],columns=list('ab'))\n",
    "S22=pd.DataFrame([[11,'bb'],[22,'aa']],columns=list('ba'))\n",
    "print(S12)\n",
    "print(S22)\n",
    "print('=========================')\n",
    "S32=pd.merge(S12,S22,on='a')\n",
    "print(S32)"
   ]
  },
  {
   "cell_type": "code",
   "execution_count": 6,
   "metadata": {},
   "outputs": [
    {
     "name": "stdout",
     "output_type": "stream",
     "text": [
      "   a   b  c\n",
      "0  1  aa  3\n",
      "1  4  bb  5\n",
      "    d   e\n",
      "0  11  bb\n",
      "1  22  aa\n",
      "-------------------------\n",
      "   a   b  c   d   e\n",
      "0  1  aa  3  22  aa\n",
      "1  4  bb  5  11  bb\n",
      "-------------------------\n",
      "   a   b  c   d\n",
      "0  1  aa  3  22\n",
      "1  4  bb  5  11\n"
     ]
    }
   ],
   "source": [
    "#공통된 열이 있을때의 옆으로 붙이기.: 공통 열의 이름이 다른 경우 \n",
    "U1=pd.DataFrame([[1,'aa',3],[4,'bb',5]],columns=list('abc'))\n",
    "U2=pd.DataFrame([[11,'bb'],[22,'aa']],columns=list('de'))\n",
    "print(U1)\n",
    "print(U2)\n",
    "print('-------------------------')\n",
    "U3=pd.merge(U1,U2,left_on='b',right_on='e')\n",
    "print(U3)\n",
    "print('-------------------------')\n",
    "U4=pd.merge(U1,U2,left_on='b',right_on='e').drop('e',axis=1)  #공통 열중 'e'열의 제거\n",
    "print(U4)"
   ]
  },
  {
   "cell_type": "code",
   "execution_count": 7,
   "metadata": {},
   "outputs": [
    {
     "name": "stdout",
     "output_type": "stream",
     "text": [
      "   a   b  c\n",
      "0  1  aa  3\n",
      "1  4  bb  5\n",
      "-------------------------\n",
      "    d   b\n",
      "0  11  cc\n",
      "1  22  aa\n"
     ]
    }
   ],
   "source": [
    "V1=pd.DataFrame([[1,'aa',3],[4,'bb',5]],columns=list('abc')) #새로운 data의 생성\n",
    "V2=pd.DataFrame([[11,'cc'],[22,'aa']],columns=list('db'))\n",
    "print(V1)\n",
    "print('-------------------------')\n",
    "print(V2)"
   ]
  },
  {
   "cell_type": "code",
   "execution_count": 10,
   "metadata": {},
   "outputs": [
    {
     "name": "stdout",
     "output_type": "stream",
     "text": [
      "   a   b  c   d\n",
      "0  1  aa  3  22\n",
      "-------------------------\n",
      "     a   b    c     d\n",
      "0  1.0  aa  3.0  22.0\n",
      "1  4.0  bb  5.0   NaN\n",
      "2  NaN  cc  NaN  11.0\n",
      "-------------------------\n",
      "   a   b  c     d\n",
      "0  1  aa  3  22.0\n",
      "1  4  bb  5   NaN\n"
     ]
    }
   ],
   "source": [
    "#공통된 열이 있을때의 옆으로 붙이기.: inner vs outer vs left\n",
    "V3=pd.merge(V1,V2,how='inner')  #공통 열 ‘b’를 기준으로 교집합\n",
    "print(V3)\n",
    "print('-------------------------')\n",
    "V4=pd.merge(V1,V2,how='outer')    #공통 열 ‘b’를 기준으로 합집합\n",
    "print(V4)\n",
    "print('-------------------------') \n",
    "V5=pd.merge(V1,V2,how='left')    #V1을 기준으로 ‘b’열에 있는 ID가 있는 V2의 행만 옆 붙이기\n",
    "print(V5)"
   ]
  },
  {
   "cell_type": "code",
   "execution_count": 12,
   "metadata": {},
   "outputs": [
    {
     "name": "stdout",
     "output_type": "stream",
     "text": [
      "  ID  x1  x2\n",
      "0  A   0   5\n",
      "1  B   1   8\n",
      "2  C   2   9\n",
      "3  A   3   5\n",
      "4  B   4   0\n",
      "5  C   5   0\n"
     ]
    }
   ],
   "source": [
    "import numpy as np\n",
    "rng=np.random.RandomState(1)\n",
    "dset=pd.DataFrame({'ID':['A','B','C','A','B','C'],\n",
    "                   'x1':range(6),\n",
    "                   'x2':rng.randint(0,10,6)})  #DataFrame에서 dictionary 데이터의 key에 list데이터가 연결\n",
    "print(dset)"
   ]
  },
  {
   "cell_type": "code",
   "execution_count": 13,
   "metadata": {},
   "outputs": [
    {
     "name": "stdout",
     "output_type": "stream",
     "text": [
      "     x1   x2\n",
      "ID          \n",
      "A   1.5  5.0\n",
      "B   2.5  4.0\n",
      "C   3.5  4.5\n",
      "-------------------------\n",
      "         x1        x2\n",
      "ID                   \n",
      "A   2.12132  0.000000\n",
      "B   2.12132  5.656854\n",
      "C   2.12132  6.363961\n"
     ]
    }
   ],
   "source": [
    "print(dset.groupby('ID').mean())  #groupby( ) 함수의 이용\n",
    "print('-------------------------')\n",
    "print(dset.groupby('ID').std())"
   ]
  },
  {
   "cell_type": "code",
   "execution_count": 14,
   "metadata": {},
   "outputs": [
    {
     "name": "stdout",
     "output_type": "stream",
     "text": [
      "    x1                           x2                          \n",
      "   min max mean median      std min max mean median       std\n",
      "ID                                                           \n",
      "A    0   3  1.5    1.5  2.12132   5   5  5.0    5.0  0.000000\n",
      "B    1   4  2.5    2.5  2.12132   0   8  4.0    4.0  5.656854\n",
      "C    2   5  3.5    3.5  2.12132   0   9  4.5    4.5  6.363961\n"
     ]
    }
   ],
   "source": [
    "#여러 가지 통계량 한번에 구하기\n",
    "print(dset.groupby('ID').aggregate([min,max,np.mean,np.median,np.std]))"
   ]
  },
  {
   "cell_type": "code",
   "execution_count": 15,
   "metadata": {},
   "outputs": [
    {
     "name": "stdout",
     "output_type": "stream",
     "text": [
      "    count  mean      std  min   25%  50%   75%  max\n",
      "ID                                                 \n",
      "A     2.0   1.5  2.12132  0.0  0.75  1.5  2.25  3.0\n",
      "B     2.0   2.5  2.12132  1.0  1.75  2.5  3.25  4.0\n",
      "C     2.0   3.5  2.12132  2.0  2.75  3.5  4.25  5.0\n"
     ]
    }
   ],
   "source": [
    "#기초 통계량 구하기 \n",
    "print(dset.groupby('ID')['x1'].describe()) #pandas의 describe()함수의 이용"
   ]
  },
  {
   "cell_type": "code",
   "execution_count": 3,
   "metadata": {},
   "outputs": [
    {
     "name": "stdout",
     "output_type": "stream",
     "text": [
      "Collecting pandas\n",
      "  Downloading https://files.pythonhosted.org/packages/af/b2/51c178d516b85be51f3a3bd30c654453a3884a34d6329343555418b5d7cb/pandas-0.25.1-cp36-cp36m-win_amd64.whl (9.0MB)\n",
      "Requirement already satisfied: numpy>=1.13.3 in c:\\anaconda3\\lib\\site-packages (from pandas) (1.17.2)\n",
      "Requirement already satisfied: pytz>=2017.2 in c:\\anaconda3\\lib\\site-packages (from pandas) (2019.2)\n",
      "Requirement already satisfied: python-dateutil>=2.6.1 in c:\\anaconda3\\lib\\site-packages (from pandas) (2.8.0)\n",
      "Requirement already satisfied: six>=1.5 in c:\\anaconda3\\lib\\site-packages (from python-dateutil>=2.6.1->pandas) (1.12.0)\n",
      "Installing collected packages: pandas\n",
      "Successfully installed pandas-0.25.1\n"
     ]
    }
   ],
   "source": [
    "!pip3 install pandas"
   ]
  },
  {
   "cell_type": "code",
   "execution_count": 4,
   "metadata": {
    "scrolled": true
   },
   "outputs": [
    {
     "data": {
      "text/html": [
       "<div>\n",
       "<style scoped>\n",
       "    .dataframe tbody tr th:only-of-type {\n",
       "        vertical-align: middle;\n",
       "    }\n",
       "\n",
       "    .dataframe tbody tr th {\n",
       "        vertical-align: top;\n",
       "    }\n",
       "\n",
       "    .dataframe thead th {\n",
       "        text-align: right;\n",
       "    }\n",
       "</style>\n",
       "<table border=\"1\" class=\"dataframe\">\n",
       "  <thead>\n",
       "    <tr style=\"text-align: right;\">\n",
       "      <th></th>\n",
       "      <th>b1</th>\n",
       "      <th>b2</th>\n",
       "      <th>b3</th>\n",
       "    </tr>\n",
       "  </thead>\n",
       "  <tbody>\n",
       "    <tr>\n",
       "      <td>a1</td>\n",
       "      <td>1</td>\n",
       "      <td>3</td>\n",
       "      <td>5</td>\n",
       "    </tr>\n",
       "    <tr>\n",
       "      <td>a2</td>\n",
       "      <td>2</td>\n",
       "      <td>4</td>\n",
       "      <td>6</td>\n",
       "    </tr>\n",
       "  </tbody>\n",
       "</table>\n",
       "</div>"
      ],
      "text/plain": [
       "    b1  b2  b3\n",
       "a1   1   3   5\n",
       "a2   2   4   6"
      ]
     },
     "execution_count": 4,
     "metadata": {},
     "output_type": "execute_result"
    }
   ],
   "source": [
    "import pandas as pd\n",
    "df=pd.DataFrame([[1,3,5],[2,4,6]],index=['a1','a2'], columns=['b1','b2','b3'])\n",
    "df"
   ]
  },
  {
   "cell_type": "code",
   "execution_count": 6,
   "metadata": {},
   "outputs": [],
   "source": [
    "df.to_excel('C:/Users/yspark/Desktop/python prog/df1.xlsx',sheet_name='data')"
   ]
  },
  {
   "cell_type": "code",
   "execution_count": 5,
   "metadata": {},
   "outputs": [
    {
     "name": "stdout",
     "output_type": "stream",
     "text": [
      "Collecting openpyxl\n",
      "  Downloading https://files.pythonhosted.org/packages/f5/39/942a406621c1ff0de38d7e4782991b1bac046415bf54a66655c959ee66e8/openpyxl-2.6.3.tar.gz (173kB)\n",
      "Collecting jdcal (from openpyxl)\n",
      "  Downloading https://files.pythonhosted.org/packages/f0/da/572cbc0bc582390480bbd7c4e93d14dc46079778ed915b505dc494b37c57/jdcal-1.4.1-py2.py3-none-any.whl\n",
      "Collecting et_xmlfile (from openpyxl)\n",
      "  Downloading https://files.pythonhosted.org/packages/22/28/a99c42aea746e18382ad9fb36f64c1c1f04216f41797f2f0fa567da11388/et_xmlfile-1.0.1.tar.gz\n",
      "Building wheels for collected packages: openpyxl, et-xmlfile\n",
      "  Building wheel for openpyxl (setup.py): started\n",
      "  Building wheel for openpyxl (setup.py): finished with status 'done'\n",
      "  Created wheel for openpyxl: filename=openpyxl-2.6.3-py2.py3-none-any.whl size=245706 sha256=db35536b82fd59c644342b590c93f2bba8db9c357456bc73cace1cef3ab3a083\n",
      "  Stored in directory: C:\\Users\\yspark\\AppData\\Local\\pip\\Cache\\wheels\\51\\fa\\dc\\7eb403214c40a01befafce3ec0d215176d451d106a431d6781\n",
      "  Building wheel for et-xmlfile (setup.py): started\n",
      "  Building wheel for et-xmlfile (setup.py): finished with status 'done'\n",
      "  Created wheel for et-xmlfile: filename=et_xmlfile-1.0.1-cp36-none-any.whl size=8920 sha256=8f4c4657265b7e761234ed05f02e7c1597e09348e5825aacc8a1f276d76700a5\n",
      "  Stored in directory: C:\\Users\\yspark\\AppData\\Local\\pip\\Cache\\wheels\\2a\\77\\35\\0da0965a057698121fc7d8c5a7a9955cdbfb3cc4e2423cad39\n",
      "Successfully built openpyxl et-xmlfile\n",
      "Installing collected packages: jdcal, et-xmlfile, openpyxl\n",
      "Successfully installed et-xmlfile-1.0.1 jdcal-1.4.1 openpyxl-2.6.3\n"
     ]
    }
   ],
   "source": [
    "!pip install openpyxl"
   ]
  },
  {
   "cell_type": "code",
   "execution_count": 9,
   "metadata": {},
   "outputs": [
    {
     "name": "stdout",
     "output_type": "stream",
     "text": [
      "    b1  b2  b3\n",
      "a1   1   3   5\n",
      "a2   2   4   6\n",
      "     0   1   2   3\n",
      "0  NaN  b1  b2  b3\n",
      "1   a1   1   3   5\n",
      "2   a2   2   4   6\n"
     ]
    }
   ],
   "source": [
    "df1=pd.read_excel('C:/Users/yspark/Desktop/python prog/df1.xlsx',sheet_name='data', index_col=0, header=0)\n",
    "print(df1)\n",
    "df2=pd.read_excel('C:/Users/yspark/Desktop/python prog/df1.xlsx',sheet_name='data', index_col=None, header=None)\n",
    "print(df2)"
   ]
  },
  {
   "cell_type": "code",
   "execution_count": 10,
   "metadata": {},
   "outputs": [
    {
     "name": "stdout",
     "output_type": "stream",
     "text": [
      "    b1  b2  b3\n",
      "a1   1   3   5\n",
      "a2   2   4   6\n",
      "     0   1   2   3\n",
      "0  NaN  b1  b2  b3\n",
      "1   a1   1   3   5\n",
      "2   a2   2   4   6\n"
     ]
    }
   ],
   "source": [
    "df.to_csv('C:/Users/yspark/Desktop/python prog/out.csv')\n",
    "df3=pd.read_csv('C:/Users/yspark/Desktop/python prog/out.csv', index_col=0, header=0)\n",
    "print(df3)\n",
    "df4=pd.read_csv('C:/Users/yspark/Desktop/python prog/out.csv',index_col=None, header=None)\n",
    "print(df4)"
   ]
  },
  {
   "cell_type": "code",
   "execution_count": 8,
   "metadata": {},
   "outputs": [
    {
     "name": "stdout",
     "output_type": "stream",
     "text": [
      "Collecting xlrd\n",
      "  Downloading https://files.pythonhosted.org/packages/b0/16/63576a1a001752e34bf8ea62e367997530dc553b689356b9879339cf45a4/xlrd-1.2.0-py2.py3-none-any.whl (103kB)\n",
      "Installing collected packages: xlrd\n",
      "Successfully installed xlrd-1.2.0\n"
     ]
    }
   ],
   "source": [
    "!pip install xlrd"
   ]
  },
  {
   "cell_type": "code",
   "execution_count": 11,
   "metadata": {},
   "outputs": [
    {
     "name": "stdout",
     "output_type": "stream",
     "text": [
      "   b1  b2  b3\n",
      "0   1   3   5\n",
      "1   2   4   6\n",
      "   0  1  2\n",
      "0  1  3  5\n",
      "1  2  4  6\n",
      "[[1 3 5]\n",
      " [2 4 6]]\n"
     ]
    }
   ],
   "source": [
    "df5=df3.reset_index(drop=True)\n",
    "print(df5)\n",
    "df6=df5.T.reset_index(drop=True).T\n",
    "print(df6)\n",
    "df7=df3.values\n",
    "print(df7)"
   ]
  },
  {
   "cell_type": "code",
   "execution_count": 12,
   "metadata": {},
   "outputs": [],
   "source": [
    "text=open('C:/Users/yspark/Desktop/python prog/aa.txt','w')\n",
    "text.close()"
   ]
  },
  {
   "cell_type": "code",
   "execution_count": 13,
   "metadata": {},
   "outputs": [],
   "source": [
    "#생성된 file에 데이터 작성하기\n",
    "text=open('C:/Users/yspark/Desktop/python prog/aa.txt','w')\n",
    "for i in range(10):\n",
    "    data=('Player%d.\\n' %i)\n",
    "    text.write(data)\n",
    "text.close()"
   ]
  },
  {
   "cell_type": "code",
   "execution_count": 14,
   "metadata": {},
   "outputs": [
    {
     "name": "stdout",
     "output_type": "stream",
     "text": [
      "Player0.\n",
      "\n"
     ]
    }
   ],
   "source": [
    "#file 한줄씩 읽기\n",
    "text=open('C:/Users/yspark/Desktop/python prog/aa.txt','r')\n",
    "line=text.readline()\n",
    "print(line)\n",
    "text.close()"
   ]
  },
  {
   "cell_type": "code",
   "execution_count": 15,
   "metadata": {},
   "outputs": [
    {
     "name": "stdout",
     "output_type": "stream",
     "text": [
      "Player0.\n",
      "Player1.\n",
      "Player2.\n",
      "Player3.\n",
      "Player4.\n",
      "Player5.\n",
      "Player6.\n",
      "Player7.\n",
      "Player8.\n",
      "Player9.\n",
      "\n"
     ]
    }
   ],
   "source": [
    "#전체 file 읽기\n",
    "text=open('C:/Users/yspark/Desktop/python prog/aa.txt','r')\n",
    "data=text.read()\n",
    "print(data)\n",
    "text.close()"
   ]
  },
  {
   "cell_type": "code",
   "execution_count": 16,
   "metadata": {},
   "outputs": [],
   "source": [
    "#기존 file에 데이터 추가\n",
    "text=open('C:/Users/yspark/Desktop/python prog/aa.txt','a')\n",
    "for i in range(10,12):\n",
    "    data=('Player%d.\\n' %i)\n",
    "    text.write(data)\n",
    "text.close()"
   ]
  },
  {
   "cell_type": "code",
   "execution_count": null,
   "metadata": {},
   "outputs": [],
   "source": [
    "#close 자동으로 하기\n",
    "with open('C:/Users/yspark/Desktop/python prog/aa.txt','a') as text:\n",
    "    for i in range(12,16):\n",
    "    data=('writer%d.\\n' %i)\n",
    "    text.write(data)"
   ]
  }
 ],
 "metadata": {
  "kernelspec": {
   "display_name": "Python 3 (ipykernel)",
   "language": "python",
   "name": "python3"
  },
  "language_info": {
   "codemirror_mode": {
    "name": "ipython",
    "version": 3
   },
   "file_extension": ".py",
   "mimetype": "text/x-python",
   "name": "python",
   "nbconvert_exporter": "python",
   "pygments_lexer": "ipython3",
   "version": "3.8.2"
  }
 },
 "nbformat": 4,
 "nbformat_minor": 2
}
