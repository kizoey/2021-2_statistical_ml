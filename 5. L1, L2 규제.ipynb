{
 "cells": [
  {
   "cell_type": "markdown",
   "metadata": {},
   "source": [
    "목적변수가 3개의 범주, 13개의 특성변수로 이루어져 있는 와인 데이터를 이용해 실습을 진행해본다."
   ]
  },
  {
   "cell_type": "code",
   "execution_count": 1,
   "metadata": {},
   "outputs": [],
   "source": [
    "import pandas as pd\n",
    "import numpy as np"
   ]
  },
  {
   "cell_type": "code",
   "execution_count": null,
   "metadata": {},
   "outputs": [],
   "source": [
    "# 데이터 불러오기. y값은 이미 범주형으로 되어있음.\n",
    "dat_wine=pd.read_csv('http://archive.ics.uci.edu/ml/machine-learning-databases/'\n",
    "                     'wine/wine.data',header=None)\n",
    "print(dat_wine.head())\n",
    "dat_wine.columns = ['class label', 'alchohol', 'malic acid', 'ash', \n",
    "                    'alcalinity of ash', 'magnesium', 'total phenols', \n",
    "                    'flavanoids', 'nonflavanoid phenols', \n",
    "                    'proanthocyanins', 'color intensity', 'hue', \n",
    "                    'OD208', 'proline']  # Column names\n",
    "print('class label:', np.unique(dat_wine['class label']))  # Class 출력\n",
    "dat_wine.head()"
   ]
  },
  {
   "cell_type": "code",
   "execution_count": 4,
   "metadata": {},
   "outputs": [],
   "source": [
    "# 전체 data를 training set과 test set으로 split\n",
    "from sklearn.model_selection import train_test_split\n",
    "\n",
    "X, y = dat_wine.iloc[:,1:].values, dat_wine.iloc[:,0].values\n",
    "X_train, X_test, y_train,y_test = \\\n",
    "    train_test_split(X, y, test_size=0.3, random_state=1, stratify=y)"
   ]
  },
  {
   "cell_type": "code",
   "execution_count": 5,
   "metadata": {},
   "outputs": [],
   "source": [
    "# 표준화\n",
    "from sklearn.preprocessing import StandardScaler\n",
    "\n",
    "std = StandardScaler()\n",
    "X_train_std = std.fit_transform(X_train)\n",
    "X_test_std = std.transform(X_test)"
   ]
  },
  {
   "cell_type": "code",
   "execution_count": 10,
   "metadata": {},
   "outputs": [],
   "source": [
    "# Logistic Regression with L2 or L1 Regularization\n",
    "from sklearn.linear_model import LogisticRegression\n",
    "\n",
    "lr2_10 = LogisticRegression(penalty='l2', C=10.0)  # L2 with C(=1/λ)=10\n",
    "lr2_1 = LogisticRegression(penalty='l2', C=1.0)    # L2 with C(=1/λ)=1\n",
    "lr2_0_1 = LogisticRegression(penalty='l2', C=0.1)  # L2 with C(=1/λ)=0.1\n",
    "lr1_10 = LogisticRegression(penalty='l1', C=10.0, solver='saga', max_iter=1000)  # L1 with C(=1/λ)=10\n",
    "# lr1_10 = LogisticRegression(penalty='l1', C=10.0, solver='saga', multi_class = 'ovr')\n",
    "lr1_1 = LogisticRegression(penalty='l1', C=1.0, solver='saga', max_iter=1000)    # L1 with C(=1/λ)=1\n",
    "lr1_0_1 = LogisticRegression(penalty='l1', C=0.1, solver='saga', max_iter=1000)  # L1 with C(=1/λ)=0.1"
   ]
  },
  {
   "cell_type": "code",
   "execution_count": 11,
   "metadata": {},
   "outputs": [
    {
     "name": "stdout",
     "output_type": "stream",
     "text": [
      "Training accuracy with L2 and λ=0.1: 1.0\n",
      "Test accuracy with L2 and λ=0.1: 0.9814814814814815\n",
      "Training accuracy with L2 and λ=1: 1.0\n",
      "Test accuracy with L2 and λ=1: 0.9814814814814815\n",
      "Training accuracy with L2 and λ=10: 1.0\n",
      "Test accuracy with L2 and λ=10: 1.0\n",
      "Training accuracy with L1 and λ=0.1: 1.0\n",
      "Test accuracy with L1 and λ=0.1: 0.9814814814814815\n",
      "Training accuracy with L1 and λ=1: 1.0\n",
      "Test accuracy with L1 and λ=1: 0.9814814814814815\n",
      "Training accuracy with L1 and λ=10: 0.9838709677419355\n",
      "Test accuracy with L1 and λ=10: 1.0\n"
     ]
    }
   ],
   "source": [
    "# 규제화 방법(L2 or L1)과 규제강도(λ)를 바꿔가며 accuracy score 계산\n",
    "lr2_10.fit(X_train_std, y_train)\n",
    "print('Training accuracy with L2 and λ=0.1:', lr2_10.score(X_train_std, y_train))\n",
    "print('Test accuracy with L2 and λ=0.1:', lr2_10.score(X_test_std, y_test))\n",
    "\n",
    "lr2_1.fit(X_train_std, y_train)  # warning..\n",
    "print('Training accuracy with L2 and λ=1:', lr2_1.score(X_train_std, y_train))\n",
    "print('Test accuracy with L2 and λ=1:', lr2_1.score(X_test_std, y_test))\n",
    "\n",
    "lr2_0_1.fit(X_train_std, y_train)\n",
    "print('Training accuracy with L2 and λ=10:', lr2_0_1.score(X_train_std, y_train))\n",
    "print('Test accuracy with L2 and λ=10:', lr2_0_1.score(X_test_std, y_test))\n",
    "\n",
    "lr1_10.fit(X_train_std, y_train)\n",
    "print('Training accuracy with L1 and λ=0.1:', lr1_10.score(X_train_std, y_train))\n",
    "print('Test accuracy with L1 and λ=0.1:', lr1_10.score(X_test_std, y_test))\n",
    "\n",
    "lr1_1.fit(X_train_std, y_train)\n",
    "print('Training accuracy with L1 and λ=1:', lr1_1.score(X_train_std, y_train))\n",
    "print('Test accuracy with L1 and λ=1:', lr1_1.score(X_test_std, y_test))\n",
    "\n",
    "lr1_0_1.fit(X_train_std, y_train)\n",
    "print('Training accuracy with L1 and λ=10:', lr1_0_1.score(X_train_std, y_train))\n",
    "print('Test accuracy with L1 and λ=10:', lr1_0_1.score(X_test_std, y_test))"
   ]
  },
  {
   "cell_type": "code",
   "execution_count": 12,
   "metadata": {},
   "outputs": [
    {
     "name": "stdout",
     "output_type": "stream",
     "text": [
      "[ 0.64169306  0.83074708 -1.47244014]\n",
      "[ 0.29349893  0.61240686 -0.90590579]\n",
      "[ 0.06966557  0.45754868 -0.52721425]\n",
      "[[ 1.22688919  0.15867552  0.27580037 -1.51434132  0.0864217   0.38507292\n",
      "   0.91269186 -0.26694075  0.11742498  0.18962491  0.08703449  1.04977521\n",
      "   1.35741915]\n",
      " [-1.59719697 -0.43899881 -1.280461    1.22777706 -0.32952624 -0.55542036\n",
      "   0.98907691  0.35680474  0.43845495 -1.20896012  1.19356707  0.10602944\n",
      "  -1.73128074]\n",
      " [ 0.37030777  0.2803233   1.00466063  0.28656426  0.24310454  0.17034743\n",
      "  -1.90176876 -0.08986399 -0.55587993  1.0193352  -1.28060155 -1.15580464\n",
      "   0.37386159]]\n",
      "[[ 0.75361285  0.06105544  0.23129826 -0.89151569  0.0254355   0.29460189\n",
      "   0.56203405 -0.20767898  0.13644792  0.12854884  0.10311919  0.61947322\n",
      "   0.90907528]\n",
      " [-0.98692141 -0.322874   -0.6520325   0.66648352 -0.22963356 -0.20480078\n",
      "   0.4387876   0.19628231  0.24626032 -0.77714941  0.63869702  0.08773225\n",
      "  -1.03332463]\n",
      " [ 0.23330855  0.26181856  0.42073425  0.22503217  0.20419806 -0.08980111\n",
      "  -1.00082165  0.01139667 -0.38270825  0.64860057 -0.74181621 -0.70720547\n",
      "   0.12424934]]\n",
      "[[ 0.41019382 -0.0315165   0.13668863 -0.41128747  0.05375341  0.22363397\n",
      "   0.31673684 -0.15965024  0.11382952  0.0703756   0.11112803  0.30985251\n",
      "   0.51684091]\n",
      " [-0.54259918 -0.20158047 -0.25666521  0.28061616 -0.14836101 -0.040423\n",
      "   0.12468243  0.08276846  0.10104312 -0.44564067  0.27330083  0.09660997\n",
      "  -0.51860426]\n",
      " [ 0.13240536  0.23309697  0.11997658  0.1306713   0.0946076  -0.18321097\n",
      "  -0.44141927  0.07688179 -0.21487263  0.37526507 -0.38442886 -0.40646248\n",
      "   0.00176334]]\n"
     ]
    }
   ],
   "source": [
    "# L2 규제의 규제강도(C=1/λ)를 바꿔가며 계수 추정치 관찰 (절댓값을 줄이면서 0과 비슷하게 하는 기법, 통계에서 p-value와 비슷함)\n",
    "print(lr2_10.intercept_)\n",
    "print(lr2_1.intercept_)\n",
    "print(lr2_0_1.intercept_)\n",
    "\n",
    "print(lr2_10.coef_)\n",
    "print(lr2_1.coef_)\n",
    "print(lr2_0_1.coef_)"
   ]
  },
  {
   "cell_type": "code",
   "execution_count": 11,
   "metadata": {},
   "outputs": [
    {
     "name": "stdout",
     "output_type": "stream",
     "text": [
      "[-2.14035866 -2.65922403 -4.16476189]\n",
      "[-1.11958913 -1.13559733 -2.22622892]\n",
      "[-0.29617765 -0.08175121 -0.78575087]\n",
      "[[ 2.94105456  0.28661411  1.10478325 -3.13661938  0.244986    0.\n",
      "   1.89714188  0.          0.          0.          0.          1.8919487\n",
      "   3.25251407]\n",
      " [-2.86050792 -1.01088098 -2.63913443  1.99728475  0.         -0.94773025\n",
      "   1.78186294  0.72894868  1.12998626 -3.44013092  2.28398555  0.\n",
      "  -5.19649767]\n",
      " [ 0.90803487  0.20038068  1.91121041  0.          0.20378065  0.18872926\n",
      "  -5.50689492 -0.9494814  -0.02848173  2.70832306 -1.49302574 -0.84299314\n",
      "   0.        ]]\n",
      "[[ 1.41320331  0.          0.27838963 -1.36300459  0.          0.\n",
      "   1.27114553  0.          0.          0.          0.          0.7122173\n",
      "   2.22002694]\n",
      " [-1.68928458 -0.37315879 -0.8247154   0.68070422 -0.11987273  0.\n",
      "   0.3959537   0.01144807  0.24951005 -1.42631508  1.05996578  0.\n",
      "  -2.23082137]\n",
      " [ 0.          0.23194873  0.50743267  0.          0.16131275  0.\n",
      "  -2.48984944 -0.11935498  0.          1.65069688 -0.8879895  -0.37586666\n",
      "   0.        ]]\n",
      "[[ 0.26740112  0.          0.         -0.19506386  0.          0.\n",
      "   0.68721818  0.          0.          0.          0.          0.\n",
      "   1.30347596]\n",
      " [-0.8996666   0.          0.          0.          0.          0.\n",
      "   0.          0.          0.         -0.84743703  0.          0.\n",
      "  -0.43541368]\n",
      " [ 0.          0.1032016   0.          0.          0.          0.\n",
      "  -0.73685702  0.          0.          0.59848813 -0.31616716 -0.35285035\n",
      "   0.        ]]\n"
     ]
    }
   ],
   "source": [
    "# L2 규제의 규제강도(C=1/λ)를 바꿔가며 계수 추정치 관찰 (절댓값을 줄이면서 0으로 보내는 기법, 왜곡하는 효과가 있음)\n",
    "print(lr1_10.intercept_)\n",
    "print(lr1_1.intercept_)\n",
    "print(lr1_0_1.intercept_)\n",
    "\n",
    "print(lr1_10.coef_)\n",
    "print(lr1_1.coef_)\n",
    "print(lr1_0_1.coef_)"
   ]
  },
  {
   "cell_type": "code",
   "execution_count": 14,
   "metadata": {},
   "outputs": [
    {
     "name": "stdout",
     "output_type": "stream",
     "text": [
      "Training accuracy with L2 and λ=0.1: 0.9838709677419355\n",
      "Test accuracy with L2 and λ=0.1: 0.9074074074074074\n",
      "Training accuracy with L2 and λ=1: 0.9758064516129032\n",
      "Test accuracy with L2 and λ=1: 0.9259259259259259\n",
      "Training accuracy with L2 and λ=10: 0.9758064516129032\n",
      "Test accuracy with L2 and λ=10: 0.8888888888888888\n",
      "Training accuracy with L1 and λ=0.1: 1.0\n",
      "Test accuracy with L1 and λ=0.1: 0.9259259259259259\n",
      "Training accuracy with L1 and λ=1: 0.9838709677419355\n",
      "Test accuracy with L1 and λ=1: 0.9074074074074074\n",
      "Training accuracy with L1 and λ=10: 0.9354838709677419\n",
      "Test accuracy with L1 and λ=10: 0.8888888888888888\n"
     ]
    }
   ],
   "source": [
    "import warnings\n",
    "warnings.filterwarnings('ignore')\n",
    "\n",
    "lr2_10.fit(X_train, y_train)\n",
    "print('Training accuracy with L2 and λ=0.1:', lr2_10.score(X_train, y_train))\n",
    "print('Test accuracy with L2 and λ=0.1:', lr2_10.score(X_test, y_test))\n",
    "\n",
    "lr2_1.fit(X_train, y_train)  # warning..\n",
    "print('Training accuracy with L2 and λ=1:', lr2_1.score(X_train, y_train))\n",
    "print('Test accuracy with L2 and λ=1:', lr2_1.score(X_test, y_test))\n",
    "\n",
    "lr2_0_1.fit(X_train, y_train)\n",
    "print('Training accuracy with L2 and λ=10:', lr2_0_1.score(X_train, y_train))\n",
    "print('Test accuracy with L2 and λ=10:', lr2_0_1.score(X_test, y_test))\n",
    "\n",
    "lr1_10.fit(X_train, y_train)\n",
    "print('Training accuracy with L1 and λ=0.1:', lr1_10.score(X_train, y_train))\n",
    "print('Test accuracy with L1 and λ=0.1:', lr1_10.score(X_test, y_test))\n",
    "\n",
    "lr1_1.fit(X_train, y_train)\n",
    "print('Training accuracy with L1 and λ=1:', lr1_1.score(X_train, y_train))\n",
    "print('Test accuracy with L1 and λ=1:', lr1_1.score(X_test, y_test))\n",
    "\n",
    "lr1_0_1.fit(X_train, y_train)\n",
    "print('Training accuracy with L1 and λ=10:', lr1_0_1.score(X_train, y_train))\n",
    "print('Test accuracy with L1 and λ=10:', lr1_0_1.score(X_test, y_test))"
   ]
  },
  {
   "cell_type": "code",
   "execution_count": 15,
   "metadata": {},
   "outputs": [
    {
     "name": "stdout",
     "output_type": "stream",
     "text": [
      "[-0.09143283  0.22589921 -0.13446638]\n",
      "[-0.04189651  0.0995453  -0.05764879]\n",
      "[-0.02672903  0.05217164 -0.0254426 ]\n",
      "[[-0.36313918  0.52343764  0.33350011 -0.43963089 -0.07174     0.73305754\n",
      "   1.40092718 -0.11008586  0.51884012  0.20305759 -0.0089799   0.98267424\n",
      "   0.01538663]\n",
      " [ 1.43495376 -1.58748636 -0.20014058  0.40881875 -0.02453074  0.14988068\n",
      "   0.48986777  0.19833982  0.26560535 -2.20119181  0.53313307  0.57652202\n",
      "  -0.01819305]\n",
      " [-1.07181458  1.06404873 -0.13335952  0.03081215  0.09627075 -0.88293822\n",
      "  -1.89079495 -0.08825397 -0.78444547  1.99813422 -0.52415317 -1.55919626\n",
      "   0.00280642]]\n",
      "[[-1.71042952e-01  1.91615570e-01  1.28113689e-01 -3.28200308e-01\n",
      "  -3.08789822e-02  3.10332211e-01  5.97752851e-01 -4.90525052e-02\n",
      "   2.18953782e-01  4.72670445e-02 -3.77180989e-04  4.12548185e-01\n",
      "   1.06589048e-02]\n",
      " [ 5.86790039e-01 -7.21741445e-01 -7.20058149e-02  2.61703845e-01\n",
      "   6.29982864e-04  9.28642240e-02  2.69739466e-01  7.92761746e-02\n",
      "   1.41176899e-01 -1.06516112e+00  2.36463903e-01  3.03827049e-01\n",
      "  -1.06941874e-02]\n",
      " [-4.15747087e-01  5.30125875e-01 -5.61078741e-02  6.64964629e-02\n",
      "   3.02489993e-02 -4.03196435e-01 -8.67492317e-01 -3.02236694e-02\n",
      "  -3.60130681e-01  1.01789407e+00 -2.36086722e-01 -7.16375234e-01\n",
      "   3.52825363e-05]]\n",
      "[[-0.09216892  0.04346366  0.03197035 -0.32315577 -0.02121248  0.12250001\n",
      "   0.23686079 -0.0226252   0.07897879 -0.01557029  0.00227663  0.1556874\n",
      "   0.01092758]\n",
      " [ 0.18406526 -0.30050185 -0.01480477  0.21477401  0.01650895  0.04964116\n",
      "   0.14878954  0.02831805  0.08120032 -0.46107829  0.09558657  0.15029453\n",
      "  -0.00837661]\n",
      " [-0.09189634  0.25703819 -0.01716558  0.10838176  0.00470353 -0.17214117\n",
      "  -0.38565033 -0.00569285 -0.16017911  0.47664859 -0.09786319 -0.30598193\n",
      "  -0.00255097]]\n"
     ]
    }
   ],
   "source": [
    "print(lr2_10.intercept_)\n",
    "print(lr2_1.intercept_)\n",
    "print(lr2_0_1.intercept_)\n",
    "\n",
    "print(lr2_10.coef_)\n",
    "print(lr2_1.coef_)\n",
    "print(lr2_0_1.coef_)"
   ]
  },
  {
   "cell_type": "code",
   "execution_count": 9,
   "metadata": {},
   "outputs": [
    {
     "name": "stdout",
     "output_type": "stream",
     "text": [
      "[0. 0. 0.]\n",
      "[0. 0. 0.]\n",
      "[0. 0. 0.]\n",
      "[[-1.01302850e+00  2.39608807e+00  1.71991521e-01 -1.86127869e+00\n",
      "   8.34950377e-02  0.00000000e+00  7.14119679e+00  0.00000000e+00\n",
      "  -2.97774639e+00 -8.18214103e-01  0.00000000e+00  0.00000000e+00\n",
      "   3.49411930e-02]\n",
      " [ 1.31679390e+00 -2.73038551e+00 -3.38001837e+00  9.41289186e-01\n",
      "   0.00000000e+00 -1.95012089e+00  1.91790955e+00  1.23238533e+01\n",
      "   2.58858839e+00 -3.24670367e+00  4.31646082e+00 -5.15270908e-01\n",
      "  -2.73681581e-02]\n",
      " [-2.78642772e-01  1.40323545e+00  0.00000000e+00  3.31841490e-02\n",
      "   1.17547347e-01  0.00000000e+00 -7.98095839e+00  0.00000000e+00\n",
      "   0.00000000e+00  1.24944131e+00 -2.20232349e+00 -3.76082391e+00\n",
      "  -6.33896232e-04]]\n",
      "[[-2.34793075e-02  8.11723037e-02  0.00000000e+00 -7.05407269e-01\n",
      "  -4.59876204e-02  0.00000000e+00  1.97035783e+00  0.00000000e+00\n",
      "   0.00000000e+00  0.00000000e+00  0.00000000e+00  0.00000000e+00\n",
      "   1.76174386e-02]\n",
      " [ 5.87514555e-01 -1.21890126e+00  0.00000000e+00  4.28854104e-01\n",
      "   2.44013384e-02  0.00000000e+00  5.27866494e-01  0.00000000e+00\n",
      "   1.20970058e-01 -1.70853789e+00  0.00000000e+00  0.00000000e+00\n",
      "  -1.43148923e-02]\n",
      " [-1.76756067e-01  4.52854263e-01  0.00000000e+00  1.66366583e-02\n",
      "   1.78552369e-02  0.00000000e+00 -3.17827470e+00  0.00000000e+00\n",
      "   0.00000000e+00  9.13911761e-01  0.00000000e+00 -1.00770209e+00\n",
      "   4.42623020e-04]]\n",
      "[[ 0.          0.          0.         -0.47505119 -0.03844061  0.\n",
      "   0.          0.          0.          0.          0.          0.\n",
      "   0.01561705]\n",
      " [ 0.         -0.05578404  0.          0.18704578  0.05098921  0.\n",
      "   0.          0.          0.         -0.85684899  0.          0.\n",
      "  -0.00782387]\n",
      " [ 0.          0.          0.          0.         -0.00911855  0.\n",
      "  -1.12960892  0.          0.          0.69050998  0.          0.\n",
      "  -0.00247412]]\n"
     ]
    }
   ],
   "source": [
    "print(lr1_10.intercept_)\n",
    "print(lr1_1.intercept_)\n",
    "print(lr1_0_1.intercept_)\n",
    "\n",
    "print(lr1_10.coef_)\n",
    "print(lr1_1.coef_)\n",
    "print(lr1_0_1.coef_)"
   ]
  }
 ],
 "metadata": {
  "kernelspec": {
   "display_name": "Python 3 (ipykernel)",
   "language": "python",
   "name": "python3"
  },
  "language_info": {
   "codemirror_mode": {
    "name": "ipython",
    "version": 3
   },
   "file_extension": ".py",
   "mimetype": "text/x-python",
   "name": "python",
   "nbconvert_exporter": "python",
   "pygments_lexer": "ipython3",
   "version": "3.8.2"
  }
 },
 "nbformat": 4,
 "nbformat_minor": 2
}
