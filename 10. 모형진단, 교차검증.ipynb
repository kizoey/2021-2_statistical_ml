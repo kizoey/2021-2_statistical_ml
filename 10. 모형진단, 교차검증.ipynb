{
 "cells": [
  {
   "cell_type": "markdown",
   "metadata": {},
   "source": [
    "#### 유방암 데이터\n",
    "- 유방암 환자(M)\n",
    "- 정상인(B)\n",
    "- 2개의 클래스와 30개의 특성변수로 구성된 자료 (특성변수=세포핵의 디지털 이미지 자료)"
   ]
  },
  {
   "cell_type": "code",
   "execution_count": 1,
   "metadata": {},
   "outputs": [
    {
     "data": {
      "text/plain": [
       "(569, 32)"
      ]
     },
     "execution_count": 1,
     "metadata": {},
     "output_type": "execute_result"
    }
   ],
   "source": [
    "# Load breast cancer data\n",
    "import pandas as pd\n",
    "\n",
    "df = pd.read_csv('https://archive.ics.uci.edu/ml/machine-learning-databases'\n",
    "                 '/breast-cancer-wisconsin/wdbc.data', header=None)\n",
    "df.shape"
   ]
  },
  {
   "cell_type": "code",
   "execution_count": 2,
   "metadata": {},
   "outputs": [
    {
     "data": {
      "text/plain": [
       "array([1, 0])"
      ]
     },
     "execution_count": 2,
     "metadata": {},
     "output_type": "execute_result"
    }
   ],
   "source": [
    "# X, y 변수 스케일링\n",
    "from sklearn.preprocessing import LabelEncoder\n",
    "X = df.loc[:, 2:].values  # 30개의 feature를 할당\n",
    "y = df.loc[:, 1].values   # 텍스트 데이터(B, M class)\n",
    "\n",
    "le = LabelEncoder()\n",
    "y = le.fit_transform(y)   # class [B, M]을 class [0, 1]로 전환\n",
    "le.classes_\n",
    "le.transform(['M', 'B'])  # 확인"
   ]
  },
  {
   "cell_type": "code",
   "execution_count": 3,
   "metadata": {},
   "outputs": [
    {
     "name": "stdout",
     "output_type": "stream",
     "text": [
      "0.6274165202108963\n"
     ]
    }
   ],
   "source": [
    "print(1-y.mean())\n",
    "# 학습데이터와 시험데이터에서의 모형의 성능이 최소한 0.63 이상이 되어야 모형의 기능을 할 수 있다.\n",
    "# 63%는 특성변수를 전혀 사용하지 않고 어떤 자료든 관계없이 y를 0으로 무조건 분류하면 63%의 정밀도를 보이기 때문"
   ]
  },
  {
   "cell_type": "code",
   "execution_count": 4,
   "metadata": {},
   "outputs": [],
   "source": [
    "# 전체 data를 training data와 test data로 split (8:2)\n",
    "from sklearn.model_selection import train_test_split\n",
    "X_train, X_test, y_train, y_test = train_test_split(X, y, test_size=0.20,\n",
    "                                                    stratify=y, random_state=1)"
   ]
  },
  {
   "cell_type": "markdown",
   "metadata": {},
   "source": [
    "특성변수가 지나치게 큰 경우에는 PCA/LDA와 같은 차원축소 과정을 거친 후에 분류나 회귀 모형을 거치게 된다.<br>\n",
    "이를 일일이 결과로 받아 적용하는 것은 힘드므로 pipeline을 이용할 수 있다.\n",
    "- PCA 사용시 자료의 측도에 따른 왜곡을 피하기 위해 자료의 표준화가 필요함"
   ]
  },
  {
   "cell_type": "code",
   "execution_count": 6,
   "metadata": {},
   "outputs": [],
   "source": [
    "# Pipeline Streaming: 표준화 → PCA → Logistic Regression\n",
    "from sklearn.preprocessing import StandardScaler\n",
    "from sklearn.decomposition import PCA\n",
    "from sklearn.linear_model import LogisticRegression\n",
    "from sklearn.pipeline import make_pipeline\n",
    "\n",
    "pipe_lr = make_pipeline(StandardScaler(),  # 표준화\n",
    "                        PCA(n_components=4),  # PCA로 차원축소\n",
    "                        LogisticRegression(random_state=1, solver='lbfgs'))  # 적용 순서대로 나열\n",
    "\n",
    "pipe_lr.fit(X_train, y_train)            # 표준화(fit → transform) → PCA(fit → transform) → Logistic Reg fit의 순서로 처리\n",
    "y_train_pred = pipe_lr.predict(X_train)  # 표준화 transform → PCA transform → Logistic Reg prediction 순서로 처리\n",
    "y_test_pred = pipe_lr.predict(X_test)"
   ]
  },
  {
   "cell_type": "markdown",
   "metadata": {},
   "source": [
    "1. pipe_lr.fit(x_train, y_train): <br>\n",
    "표준화 fit -> 표준화 transformation -> PCA fit -> PCA transformation -> Logistic regression fit\n",
    "2. pipe_lr.predict(x_train)/pipe_lr.predict(x_test): <br>\n",
    "표준화 transformation -> PCA transformation -> Logistic regression fit"
   ]
  },
  {
   "cell_type": "code",
   "execution_count": 7,
   "metadata": {},
   "outputs": [
    {
     "name": "stdout",
     "output_type": "stream",
     "text": [
      "0.967032967032967\n",
      "0.956140350877193\n"
     ]
    }
   ],
   "source": [
    "# Accuracy score\n",
    "print(pipe_lr.score(X_train, y_train))  # Training accuracy\n",
    "print(pipe_lr.score(X_test, y_test))    # Test accuracy"
   ]
  },
  {
   "cell_type": "markdown",
   "metadata": {},
   "source": [
    "### K-fold CV"
   ]
  },
  {
   "cell_type": "code",
   "execution_count": 8,
   "metadata": {},
   "outputs": [
    {
     "name": "stdout",
     "output_type": "stream",
     "text": [
      "CV accuracy scores: [0.97826087 0.95652174 0.95652174 0.95652174 0.91304348 0.95555556\n",
      " 0.97777778 0.97777778 1.         0.97777778]\n",
      "CV accuracy: 0.965 +/- 0.022\n"
     ]
    }
   ],
   "source": [
    "# K-fold cross-validation using pipeline\n",
    "from sklearn.model_selection import cross_val_score\n",
    "scores = cross_val_score(estimator=pipe_lr, \n",
    "                         X=X_train, \n",
    "                         y=y_train, \n",
    "                         cv=10)  # Accuracy scores\n",
    "print('CV accuracy scores: %s' % scores)\n",
    "\n",
    "# mean, sd of scores\n",
    "import numpy as np\n",
    "print('CV accuracy: %.3f +/- %.3f' % (np.mean(scores), np.std(scores)))"
   ]
  },
  {
   "cell_type": "markdown",
   "metadata": {},
   "source": [
    "### Bias-Variance trade-off"
   ]
  },
  {
   "cell_type": "code",
   "execution_count": 15,
   "metadata": {},
   "outputs": [
    {
     "data": {
      "image/png": "[encoded data removed]",
      "text/plain": [
       "<Figure size 432x288 with 1 Axes>"
      ]
     },
     "metadata": {
      "needs_background": "light"
     },
     "output_type": "display_data"
    }
   ],
   "source": [
    "# Bias-variance trade-off 그래프로 확인\n",
    "import numpy as np\n",
    "import matplotlib.pyplot as plt\n",
    "from sklearn.model_selection import learning_curve\n",
    "\n",
    "pipe_lr = make_pipeline(StandardScaler(),\n",
    "                        LogisticRegression(penalty='l2', random_state=1, solver='lbfgs'))\n",
    "train_sizes, train_scores, test_scores =\\\n",
    "             learning_curve(estimator=pipe_lr, \n",
    "                            X=X_train, \n",
    "                            y=y_train,\n",
    "                            train_sizes=np.linspace(0.1, 1.0, 10),  # 균등하게 10등분으로 분할\n",
    "                            cv=10)\n",
    "\n",
    "train_mean = np.mean(train_scores, axis=1)\n",
    "train_std = np.std(train_scores, axis=1)\n",
    "test_mean = np.mean(test_scores, axis=1)\n",
    "test_std = np.std(test_scores, axis=1)\n",
    "\n",
    "\n",
    "plt.plot(train_sizes, train_mean, color='orange', marker='o', markersize=5, label='Training accuracy')\n",
    "plt.fill_between(train_sizes, train_mean + train_std, train_mean - train_std, alpha=0.15, color='orange')\n",
    "\n",
    "plt.plot(train_sizes, test_mean, color='green', linestyle='--', marker='s', markersize=5, label='Validation accuracy')\n",
    "plt.fill_between(train_sizes, test_mean + test_std, test_mean - test_std, alpha=0.15, color='green')\n",
    "\n",
    "plt.grid()\n",
    "plt.xlabel('Number of training samples')\n",
    "plt.ylabel('Accuracy')\n",
    "plt.legend(loc='lower right')\n",
    "plt.ylim([0.8, 1.03])\n",
    "plt.show()\n",
    "\n",
    "# 과대/과소적합이 발생하고 있지 않음."
   ]
  },
  {
   "cell_type": "markdown",
   "metadata": {},
   "source": [
    "### GridSearch\n",
    "CV의 목적은 초모수의 결정에 있으므로 GridSearch를 이용해서 최적의 초모수를 찾아볼 수 있다."
   ]
  },
  {
   "cell_type": "code",
   "execution_count": 11,
   "metadata": {},
   "outputs": [
    {
     "name": "stdout",
     "output_type": "stream",
     "text": [
      "0.9846859903381642\n",
      "{'svc__C': 100.0, 'svc__gamma': 0.001, 'svc__kernel': 'rbf'}\n",
      "Best estimator Accuracy: 0.989010989010989\n"
     ]
    },
    {
     "data": {
      "text/plain": [
       "0.9736842105263158"
      ]
     },
     "execution_count": 11,
     "metadata": {},
     "output_type": "execute_result"
    }
   ],
   "source": [
    "# Grid search에 의한 초모수 결정 (SVM)\n",
    "from sklearn.model_selection import GridSearchCV\n",
    "from sklearn.svm import SVC\n",
    "\n",
    "# SVC의 종류와 파라미터 중 가장 높은 값을 Grid Search로 찾기\n",
    "pipe_svc = make_pipeline(StandardScaler(), \n",
    "                         SVC(random_state=1))\n",
    "param_range = [0.0001, 0.001, 0.01, 0.1, 1.0, 10.0, 100.0, 1000.0]\n",
    "param_grid = [{'svc__C': param_range, 'svc__kernel': ['linear']},\n",
    "              {'svc__C': param_range, 'svc__gamma': param_range,  # gamma: variance의 역수, rbf에 필요한 파라미터\n",
    "               'svc__kernel': ['rbf']}]\n",
    "\n",
    "gs = GridSearchCV(estimator=pipe_svc, param_grid=param_grid,\n",
    "                  scoring='accuracy', cv=10)\n",
    "gs = gs.fit(X_train, y_train)\n",
    "print(gs.best_score_)\n",
    "print(gs.best_params_)\n",
    "\n",
    "# Grid search를 통해 찾은 가장 높은 성능의 estimator 출력\n",
    "clf = gs.best_estimator_  # 최적의 모형을 검증데이터를 포함한 전체 학습데이터에 적합해서 모수 재추정\n",
    "clf.fit(X_train, y_train)\n",
    "print(\"Best estimator Accuracy:\", clf.score(X_train,y_train))  # 최종 정밀도=0.974\n",
    "clf.score(X_test, y_test)\n",
    "\n",
    "# 최종적으로 C=100, 커널은 방사형기저함수, 함수 내에서 0.001을 가진 비선형 커널 SVM이 가장 높은 검증 정밀도를 가짐"
   ]
  },
  {
   "cell_type": "markdown",
   "metadata": {},
   "source": [
    "### Nested CV\n",
    ": 5-3 중첩 교차검증 이용\n",
    "- 5-분할 CV=외곽루프 (전체 자료를 5개 분할로 학습데이터+시험데이터 분할)\n",
    "- 3-분할 CV=내부루프 (학습데이터를 3개 분할로 학습데이터+검증데이터 분할)"
   ]
  },
  {
   "cell_type": "markdown",
   "metadata": {},
   "source": [
    "- 내부루프의 목적: 초모수의 결정이므로 GridSearchCV() 사용\n",
    "- 외부루프의 목적: 시험데이터의 성능을 점검하므로 cross_val_score() 사용"
   ]
  },
  {
   "cell_type": "code",
   "execution_count": 12,
   "metadata": {},
   "outputs": [
    {
     "name": "stdout",
     "output_type": "stream",
     "text": [
      "CV accuracy: 0.97893184 +/- 0.007\n"
     ]
    }
   ],
   "source": [
    "# Nested cross-validation을 이용한 초모수 결정\n",
    "gs = GridSearchCV(estimator=pipe_svc, \n",
    "                  param_grid=param_grid,\n",
    "                  scoring='accuracy', \n",
    "                  cv=3)\n",
    "# cross_val_score(): 시험데이터의 loss의 불편추정치 계산\n",
    "scores = cross_val_score(gs, X, y, scoring='accuracy', cv=5)\n",
    "\n",
    "print('CV accuracy: %.8f +/- %.3f' % (np.mean(scores), np.std(scores)))"
   ]
  },
  {
   "cell_type": "markdown",
   "metadata": {},
   "source": [
    "그 결과, SVM 모형이 분류나무모형보다 더 높은 정밀도를 보이므로 더 우수한 분류모형이라고 할 수 있다. (0.976>0.936)"
   ]
  },
  {
   "cell_type": "markdown",
   "metadata": {},
   "source": [
    "### Decision Tree (K-fold CV)\n",
    ": Decision tree classifier을 이용해서 구하는 CV에서 가장 좋은 초모수 GridSearch로 찾기\n",
    "- KFold의 장점 = shuffle=True를 부여해 교차검증을 위한 분할 이전에 자료를 잘 뒤섞을 수 있다."
   ]
  },
  {
   "cell_type": "code",
   "execution_count": 13,
   "metadata": {},
   "outputs": [
    {
     "name": "stdout",
     "output_type": "stream",
     "text": [
      "CV accuracy: 0.944 +/- 0.012\n"
     ]
    }
   ],
   "source": [
    "# Decision tree\n",
    "from sklearn.tree import DecisionTreeClassifier\n",
    "from sklearn.model_selection import KFold\n",
    "\n",
    "inner_cv=KFold(n_splits=3, shuffle=True, random_state=0)\n",
    "outer_cv=KFold(n_splits=5, shuffle=True, random_state=0)\n",
    "gs = GridSearchCV(estimator=DecisionTreeClassifier(random_state=0),\n",
    "                  param_grid=[{'max_depth': [1, 2, 3, 4, 5, 6, 7, None]}],\n",
    "                  scoring='accuracy', cv=inner_cv)\n",
    "\n",
    "scores = cross_val_score(gs, X, y, scoring='accuracy', cv=outer_cv)\n",
    "print('CV accuracy: %.3f +/- %.3f' % (np.mean(scores), np.std(scores)))"
   ]
  },
  {
   "cell_type": "markdown",
   "metadata": {},
   "source": [
    "### Decision Tree (Stratified CV)\n",
    "- Stratified CV: 각 분할의 클래스 비율이 전체 클래스 비율과 동일하도록 하는 층화 k-분할 교차검증 방법"
   ]
  },
  {
   "cell_type": "code",
   "execution_count": 19,
   "metadata": {},
   "outputs": [
    {
     "name": "stdout",
     "output_type": "stream",
     "text": [
      "CV accuracy: 0.912 +/- 0.021\n"
     ]
    }
   ],
   "source": [
    "from sklearn.tree import DecisionTreeClassifier\n",
    "from sklearn.model_selection import StratifiedKFold\n",
    "\n",
    "inner_cv=StratifiedKFold(n_splits=3, shuffle=True, random_state=0)\n",
    "outer_cv=StratifiedKFold(n_splits=5, shuffle=True, random_state=0)\n",
    "gs = GridSearchCV(estimator=DecisionTreeClassifier(random_state=0),\n",
    "                  param_grid=[{'max_depth': [1, 2, 3, 4, 5, 6, 7, None]}],\n",
    "                  scoring='accuracy', cv=inner_cv)\n",
    "\n",
    "scores = cross_val_score(gs, X, y, scoring='accuracy', cv=outer_cv)\n",
    "print('CV accuracy: %.3f +/- %.3f' % (np.mean(scores), np.std(scores)))"
   ]
  },
  {
   "cell_type": "markdown",
   "metadata": {},
   "source": [
    "통계적으로 shuffle한 것이 옳고, 목적변수가 분류인 경우, 층화추출하는 것이 옳기 때문에 성능이 더 낮더라도\n",
    "- shuffle=True를 하는 KFold가 더 우세\n",
    "- 목적변수 분류인 경우 층화추출을 하는 StratifiedKFold이 더 우세"
   ]
  }
 ],
 "metadata": {
  "kernelspec": {
   "display_name": "Python 3 (ipykernel)",
   "language": "python",
   "name": "python3"
  },
  "language_info": {
   "codemirror_mode": {
    "name": "ipython",
    "version": 3
   },
   "file_extension": ".py",
   "mimetype": "text/x-python",
   "name": "python",
   "nbconvert_exporter": "python",
   "pygments_lexer": "ipython3",
   "version": "3.8.2"
  }
 },
 "nbformat": 4,
 "nbformat_minor": 2
}
